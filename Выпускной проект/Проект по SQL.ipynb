{
 "cells": [
  {
   "cell_type": "markdown",
   "metadata": {},
   "source": [
    "# Проект по SQL"
   ]
  },
  {
   "cell_type": "markdown",
   "metadata": {},
   "source": [
    "Моя первая задача как аналитика проанализировать базу данных. В ней — информация о книгах, издательствах, авторах, а также пользовательские обзоры книг. Эти данные помогут сформулировать ценностное предложение для нового продукта."
   ]
  },
  {
   "cell_type": "markdown",
   "metadata": {},
   "source": [
    "# Описание данных "
   ]
  },
  {
   "cell_type": "markdown",
   "metadata": {},
   "source": [
    "**ER-диаграмма**"
   ]
  },
  {
   "cell_type": "markdown",
   "metadata": {},
   "source": [
    "![ER-диаграмма](https://ltdfoto.ru/images/2024/10/20/SNIMOK-EKRANA-2024-10-20-220130.png)"
   ]
  },
  {
   "cell_type": "markdown",
   "metadata": {},
   "source": [
    "**Таблица** books  \n",
    "Содержит данные о книгах:\n",
    "- book_id — идентификатор книги;\n",
    "- author_id — идентификатор автора;\n",
    "- title — название книги;\n",
    "- num_pages — количество страниц;\n",
    "- publication_date — дата публикации книги;\n",
    "- publisher_id — идентификатор издателя.  \n",
    "\n",
    "**Таблица** authors  \n",
    "Содержит данные об авторах:\n",
    "- author_id — идентификатор автора;\n",
    "- author — имя автора.  \n",
    "\n",
    "**Таблица** publishers  \n",
    "Содержит данные об издательствах:\n",
    "- publisher_id — идентификатор издательства;\n",
    "- publisher — название издательства;  \n",
    "\n",
    "**Таблица** ratings  \n",
    "Содержит данные о пользовательских оценках книг:\n",
    "- rating_id — идентификатор оценки;\n",
    "- book_id — идентификатор книги;\n",
    "- username — имя пользователя, оставившего оценку;\n",
    "- rating — оценка книги.  \n",
    "\n",
    "**Таблица** reviews  \n",
    "Содержит данные о пользовательских обзорах на книги:\n",
    "- review_id — идентификатор обзора;\n",
    "- book_id — идентификатор книги;\n",
    "- username — имя пользователя, написавшего обзор;\n",
    "- text — текст обзора."
   ]
  },
  {
   "cell_type": "markdown",
   "metadata": {},
   "source": [
    "# Выполнение заданий"
   ]
  },
  {
   "cell_type": "code",
   "execution_count": 1,
   "metadata": {},
   "outputs": [],
   "source": [
    "import pandas as pd\n",
    "import sqlalchemy as sa"
   ]
  },
  {
   "cell_type": "code",
   "execution_count": 2,
   "metadata": {},
   "outputs": [],
   "source": [
    "db_config = {\n",
    "    'user': 'praktikum_student', # имя пользователя\n",
    "    'pwd': 'Sdf4$2;d-d30pp', # пароль\n",
    "    'host': 'rc1b-wcoijxj3yxfsf3fs.mdb.yandexcloud.net',\n",
    "    'port': 6432, # порт подключения\n",
    "    'db': 'data-analyst-final-project-db' # название базы данных\n",
    "}\n",
    "connection_string = 'postgresql://{user}:{pwd}@{host}:{port}/{db}'.format(**db_config)\n",
    "\n",
    "# сохраняем коннектор\n",
    "engine = sa.create_engine(connection_string, connect_args={'sslmode':'require'})\n",
    "\n",
    "# чтобы выполнить SQL-запрос, пишем функцию с использованием Pandas\n",
    "def get_sql_data(query:str, engine:sa.engine.base.Engine=engine) -> pd.DataFrame:\n",
    "    '''Открываем соединение, получаем данные из sql, закрываем соединение'''\n",
    "    with engine.connect() as con:\n",
    "        return pd.read_sql(sql=sa.text(query), con = con)"
   ]
  },
  {
   "cell_type": "markdown",
   "metadata": {},
   "source": [
    "## Исследуйте таблицы — выведите первые строки, посчитайте количество строк в каждой таблице."
   ]
  },
  {
   "cell_type": "code",
   "execution_count": 3,
   "metadata": {},
   "outputs": [],
   "source": [
    "def display_tables(*tables):\n",
    "    for table in tables:\n",
    "        query = f'''SELECT * \n",
    "                 FROM {table} \n",
    "                 LIMIT 5'''\n",
    "        query_count_rows = f'''SELECT COUNT(*) \n",
    "                             FROM {table}'''\n",
    "        print(f'\\033[1mТаблица {table}\\033[0m')\n",
    "        print('Количество строк в таблице: {}'.format(get_sql_data(query_count_rows).loc[0, 'count']))\n",
    "        display(get_sql_data(query))"
   ]
  },
  {
   "cell_type": "code",
   "execution_count": 4,
   "metadata": {},
   "outputs": [
    {
     "name": "stdout",
     "output_type": "stream",
     "text": [
      "\u001b[1mТаблица books\u001b[0m\n",
      "Количество строк в таблице: 1000\n"
     ]
    },
    {
     "data": {
      "text/html": [
       "<div>\n",
       "<style scoped>\n",
       "    .dataframe tbody tr th:only-of-type {\n",
       "        vertical-align: middle;\n",
       "    }\n",
       "\n",
       "    .dataframe tbody tr th {\n",
       "        vertical-align: top;\n",
       "    }\n",
       "\n",
       "    .dataframe thead th {\n",
       "        text-align: right;\n",
       "    }\n",
       "</style>\n",
       "<table border=\"1\" class=\"dataframe\">\n",
       "  <thead>\n",
       "    <tr style=\"text-align: right;\">\n",
       "      <th></th>\n",
       "      <th>book_id</th>\n",
       "      <th>author_id</th>\n",
       "      <th>title</th>\n",
       "      <th>num_pages</th>\n",
       "      <th>publication_date</th>\n",
       "      <th>publisher_id</th>\n",
       "    </tr>\n",
       "  </thead>\n",
       "  <tbody>\n",
       "    <tr>\n",
       "      <th>0</th>\n",
       "      <td>1</td>\n",
       "      <td>546</td>\n",
       "      <td>'Salem's Lot</td>\n",
       "      <td>594</td>\n",
       "      <td>2005-11-01</td>\n",
       "      <td>93</td>\n",
       "    </tr>\n",
       "    <tr>\n",
       "      <th>1</th>\n",
       "      <td>2</td>\n",
       "      <td>465</td>\n",
       "      <td>1 000 Places to See Before You Die</td>\n",
       "      <td>992</td>\n",
       "      <td>2003-05-22</td>\n",
       "      <td>336</td>\n",
       "    </tr>\n",
       "    <tr>\n",
       "      <th>2</th>\n",
       "      <td>3</td>\n",
       "      <td>407</td>\n",
       "      <td>13 Little Blue Envelopes (Little Blue Envelope...</td>\n",
       "      <td>322</td>\n",
       "      <td>2010-12-21</td>\n",
       "      <td>135</td>\n",
       "    </tr>\n",
       "    <tr>\n",
       "      <th>3</th>\n",
       "      <td>4</td>\n",
       "      <td>82</td>\n",
       "      <td>1491: New Revelations of the Americas Before C...</td>\n",
       "      <td>541</td>\n",
       "      <td>2006-10-10</td>\n",
       "      <td>309</td>\n",
       "    </tr>\n",
       "    <tr>\n",
       "      <th>4</th>\n",
       "      <td>5</td>\n",
       "      <td>125</td>\n",
       "      <td>1776</td>\n",
       "      <td>386</td>\n",
       "      <td>2006-07-04</td>\n",
       "      <td>268</td>\n",
       "    </tr>\n",
       "  </tbody>\n",
       "</table>\n",
       "</div>"
      ],
      "text/plain": [
       "   book_id  author_id                                              title  \\\n",
       "0        1        546                                       'Salem's Lot   \n",
       "1        2        465                 1 000 Places to See Before You Die   \n",
       "2        3        407  13 Little Blue Envelopes (Little Blue Envelope...   \n",
       "3        4         82  1491: New Revelations of the Americas Before C...   \n",
       "4        5        125                                               1776   \n",
       "\n",
       "   num_pages publication_date  publisher_id  \n",
       "0        594       2005-11-01            93  \n",
       "1        992       2003-05-22           336  \n",
       "2        322       2010-12-21           135  \n",
       "3        541       2006-10-10           309  \n",
       "4        386       2006-07-04           268  "
      ]
     },
     "metadata": {},
     "output_type": "display_data"
    },
    {
     "name": "stdout",
     "output_type": "stream",
     "text": [
      "\u001b[1mТаблица authors\u001b[0m\n",
      "Количество строк в таблице: 636\n"
     ]
    },
    {
     "data": {
      "text/html": [
       "<div>\n",
       "<style scoped>\n",
       "    .dataframe tbody tr th:only-of-type {\n",
       "        vertical-align: middle;\n",
       "    }\n",
       "\n",
       "    .dataframe tbody tr th {\n",
       "        vertical-align: top;\n",
       "    }\n",
       "\n",
       "    .dataframe thead th {\n",
       "        text-align: right;\n",
       "    }\n",
       "</style>\n",
       "<table border=\"1\" class=\"dataframe\">\n",
       "  <thead>\n",
       "    <tr style=\"text-align: right;\">\n",
       "      <th></th>\n",
       "      <th>author_id</th>\n",
       "      <th>author</th>\n",
       "    </tr>\n",
       "  </thead>\n",
       "  <tbody>\n",
       "    <tr>\n",
       "      <th>0</th>\n",
       "      <td>1</td>\n",
       "      <td>A.S. Byatt</td>\n",
       "    </tr>\n",
       "    <tr>\n",
       "      <th>1</th>\n",
       "      <td>2</td>\n",
       "      <td>Aesop/Laura Harris/Laura Gibbs</td>\n",
       "    </tr>\n",
       "    <tr>\n",
       "      <th>2</th>\n",
       "      <td>3</td>\n",
       "      <td>Agatha Christie</td>\n",
       "    </tr>\n",
       "    <tr>\n",
       "      <th>3</th>\n",
       "      <td>4</td>\n",
       "      <td>Alan Brennert</td>\n",
       "    </tr>\n",
       "    <tr>\n",
       "      <th>4</th>\n",
       "      <td>5</td>\n",
       "      <td>Alan Moore/David   Lloyd</td>\n",
       "    </tr>\n",
       "  </tbody>\n",
       "</table>\n",
       "</div>"
      ],
      "text/plain": [
       "   author_id                          author\n",
       "0          1                      A.S. Byatt\n",
       "1          2  Aesop/Laura Harris/Laura Gibbs\n",
       "2          3                 Agatha Christie\n",
       "3          4                   Alan Brennert\n",
       "4          5        Alan Moore/David   Lloyd"
      ]
     },
     "metadata": {},
     "output_type": "display_data"
    },
    {
     "name": "stdout",
     "output_type": "stream",
     "text": [
      "\u001b[1mТаблица publishers\u001b[0m\n",
      "Количество строк в таблице: 340\n"
     ]
    },
    {
     "data": {
      "text/html": [
       "<div>\n",
       "<style scoped>\n",
       "    .dataframe tbody tr th:only-of-type {\n",
       "        vertical-align: middle;\n",
       "    }\n",
       "\n",
       "    .dataframe tbody tr th {\n",
       "        vertical-align: top;\n",
       "    }\n",
       "\n",
       "    .dataframe thead th {\n",
       "        text-align: right;\n",
       "    }\n",
       "</style>\n",
       "<table border=\"1\" class=\"dataframe\">\n",
       "  <thead>\n",
       "    <tr style=\"text-align: right;\">\n",
       "      <th></th>\n",
       "      <th>publisher_id</th>\n",
       "      <th>publisher</th>\n",
       "    </tr>\n",
       "  </thead>\n",
       "  <tbody>\n",
       "    <tr>\n",
       "      <th>0</th>\n",
       "      <td>1</td>\n",
       "      <td>Ace</td>\n",
       "    </tr>\n",
       "    <tr>\n",
       "      <th>1</th>\n",
       "      <td>2</td>\n",
       "      <td>Ace Book</td>\n",
       "    </tr>\n",
       "    <tr>\n",
       "      <th>2</th>\n",
       "      <td>3</td>\n",
       "      <td>Ace Books</td>\n",
       "    </tr>\n",
       "    <tr>\n",
       "      <th>3</th>\n",
       "      <td>4</td>\n",
       "      <td>Ace Hardcover</td>\n",
       "    </tr>\n",
       "    <tr>\n",
       "      <th>4</th>\n",
       "      <td>5</td>\n",
       "      <td>Addison Wesley Publishing Company</td>\n",
       "    </tr>\n",
       "  </tbody>\n",
       "</table>\n",
       "</div>"
      ],
      "text/plain": [
       "   publisher_id                          publisher\n",
       "0             1                                Ace\n",
       "1             2                           Ace Book\n",
       "2             3                          Ace Books\n",
       "3             4                      Ace Hardcover\n",
       "4             5  Addison Wesley Publishing Company"
      ]
     },
     "metadata": {},
     "output_type": "display_data"
    },
    {
     "name": "stdout",
     "output_type": "stream",
     "text": [
      "\u001b[1mТаблица ratings\u001b[0m\n",
      "Количество строк в таблице: 6456\n"
     ]
    },
    {
     "data": {
      "text/html": [
       "<div>\n",
       "<style scoped>\n",
       "    .dataframe tbody tr th:only-of-type {\n",
       "        vertical-align: middle;\n",
       "    }\n",
       "\n",
       "    .dataframe tbody tr th {\n",
       "        vertical-align: top;\n",
       "    }\n",
       "\n",
       "    .dataframe thead th {\n",
       "        text-align: right;\n",
       "    }\n",
       "</style>\n",
       "<table border=\"1\" class=\"dataframe\">\n",
       "  <thead>\n",
       "    <tr style=\"text-align: right;\">\n",
       "      <th></th>\n",
       "      <th>rating_id</th>\n",
       "      <th>book_id</th>\n",
       "      <th>username</th>\n",
       "      <th>rating</th>\n",
       "    </tr>\n",
       "  </thead>\n",
       "  <tbody>\n",
       "    <tr>\n",
       "      <th>0</th>\n",
       "      <td>1</td>\n",
       "      <td>1</td>\n",
       "      <td>ryanfranco</td>\n",
       "      <td>4</td>\n",
       "    </tr>\n",
       "    <tr>\n",
       "      <th>1</th>\n",
       "      <td>2</td>\n",
       "      <td>1</td>\n",
       "      <td>grantpatricia</td>\n",
       "      <td>2</td>\n",
       "    </tr>\n",
       "    <tr>\n",
       "      <th>2</th>\n",
       "      <td>3</td>\n",
       "      <td>1</td>\n",
       "      <td>brandtandrea</td>\n",
       "      <td>5</td>\n",
       "    </tr>\n",
       "    <tr>\n",
       "      <th>3</th>\n",
       "      <td>4</td>\n",
       "      <td>2</td>\n",
       "      <td>lorichen</td>\n",
       "      <td>3</td>\n",
       "    </tr>\n",
       "    <tr>\n",
       "      <th>4</th>\n",
       "      <td>5</td>\n",
       "      <td>2</td>\n",
       "      <td>mariokeller</td>\n",
       "      <td>2</td>\n",
       "    </tr>\n",
       "  </tbody>\n",
       "</table>\n",
       "</div>"
      ],
      "text/plain": [
       "   rating_id  book_id       username  rating\n",
       "0          1        1     ryanfranco       4\n",
       "1          2        1  grantpatricia       2\n",
       "2          3        1   brandtandrea       5\n",
       "3          4        2       lorichen       3\n",
       "4          5        2    mariokeller       2"
      ]
     },
     "metadata": {},
     "output_type": "display_data"
    },
    {
     "name": "stdout",
     "output_type": "stream",
     "text": [
      "\u001b[1mТаблица reviews\u001b[0m\n",
      "Количество строк в таблице: 2793\n"
     ]
    },
    {
     "data": {
      "text/html": [
       "<div>\n",
       "<style scoped>\n",
       "    .dataframe tbody tr th:only-of-type {\n",
       "        vertical-align: middle;\n",
       "    }\n",
       "\n",
       "    .dataframe tbody tr th {\n",
       "        vertical-align: top;\n",
       "    }\n",
       "\n",
       "    .dataframe thead th {\n",
       "        text-align: right;\n",
       "    }\n",
       "</style>\n",
       "<table border=\"1\" class=\"dataframe\">\n",
       "  <thead>\n",
       "    <tr style=\"text-align: right;\">\n",
       "      <th></th>\n",
       "      <th>review_id</th>\n",
       "      <th>book_id</th>\n",
       "      <th>username</th>\n",
       "      <th>text</th>\n",
       "    </tr>\n",
       "  </thead>\n",
       "  <tbody>\n",
       "    <tr>\n",
       "      <th>0</th>\n",
       "      <td>1</td>\n",
       "      <td>1</td>\n",
       "      <td>brandtandrea</td>\n",
       "      <td>Mention society tell send professor analysis. ...</td>\n",
       "    </tr>\n",
       "    <tr>\n",
       "      <th>1</th>\n",
       "      <td>2</td>\n",
       "      <td>1</td>\n",
       "      <td>ryanfranco</td>\n",
       "      <td>Foot glass pretty audience hit themselves. Amo...</td>\n",
       "    </tr>\n",
       "    <tr>\n",
       "      <th>2</th>\n",
       "      <td>3</td>\n",
       "      <td>2</td>\n",
       "      <td>lorichen</td>\n",
       "      <td>Listen treat keep worry. Miss husband tax but ...</td>\n",
       "    </tr>\n",
       "    <tr>\n",
       "      <th>3</th>\n",
       "      <td>4</td>\n",
       "      <td>3</td>\n",
       "      <td>johnsonamanda</td>\n",
       "      <td>Finally month interesting blue could nature cu...</td>\n",
       "    </tr>\n",
       "    <tr>\n",
       "      <th>4</th>\n",
       "      <td>5</td>\n",
       "      <td>3</td>\n",
       "      <td>scotttamara</td>\n",
       "      <td>Nation purpose heavy give wait song will. List...</td>\n",
       "    </tr>\n",
       "  </tbody>\n",
       "</table>\n",
       "</div>"
      ],
      "text/plain": [
       "   review_id  book_id       username  \\\n",
       "0          1        1   brandtandrea   \n",
       "1          2        1     ryanfranco   \n",
       "2          3        2       lorichen   \n",
       "3          4        3  johnsonamanda   \n",
       "4          5        3    scotttamara   \n",
       "\n",
       "                                                text  \n",
       "0  Mention society tell send professor analysis. ...  \n",
       "1  Foot glass pretty audience hit themselves. Amo...  \n",
       "2  Listen treat keep worry. Miss husband tax but ...  \n",
       "3  Finally month interesting blue could nature cu...  \n",
       "4  Nation purpose heavy give wait song will. List...  "
      ]
     },
     "metadata": {},
     "output_type": "display_data"
    }
   ],
   "source": [
    "display_tables('books', 'authors', 'publishers', 'ratings', 'reviews')"
   ]
  },
  {
   "cell_type": "markdown",
   "metadata": {},
   "source": [
    "**Вывод:** каждая таблица соответствуют описанию и обозначенной структуре."
   ]
  },
  {
   "cell_type": "markdown",
   "metadata": {},
   "source": [
    "## Посчитайте, сколько книг вышло после 1 января 2000 года"
   ]
  },
  {
   "cell_type": "code",
   "execution_count": 5,
   "metadata": {},
   "outputs": [
    {
     "data": {
      "text/html": [
       "<div>\n",
       "<style scoped>\n",
       "    .dataframe tbody tr th:only-of-type {\n",
       "        vertical-align: middle;\n",
       "    }\n",
       "\n",
       "    .dataframe tbody tr th {\n",
       "        vertical-align: top;\n",
       "    }\n",
       "\n",
       "    .dataframe thead th {\n",
       "        text-align: right;\n",
       "    }\n",
       "</style>\n",
       "<table border=\"1\" class=\"dataframe\">\n",
       "  <thead>\n",
       "    <tr style=\"text-align: right;\">\n",
       "      <th></th>\n",
       "      <th>count</th>\n",
       "    </tr>\n",
       "  </thead>\n",
       "  <tbody>\n",
       "    <tr>\n",
       "      <th>0</th>\n",
       "      <td>819</td>\n",
       "    </tr>\n",
       "  </tbody>\n",
       "</table>\n",
       "</div>"
      ],
      "text/plain": [
       "   count\n",
       "0    819"
      ]
     },
     "execution_count": 5,
     "metadata": {},
     "output_type": "execute_result"
    }
   ],
   "source": [
    "get_sql_data('''SELECT COUNT(*) \\\n",
    "             FROM books \\\n",
    "             WHERE publication_date > '2000-01-01'\n",
    "             ''')"
   ]
  },
  {
   "cell_type": "markdown",
   "metadata": {},
   "source": [
    "**Вывод:** 819 книг вышло после 1 января 2000 года."
   ]
  },
  {
   "cell_type": "markdown",
   "metadata": {},
   "source": [
    "## Для каждой книги посчитайте количество обзоров и среднюю оценку"
   ]
  },
  {
   "cell_type": "code",
   "execution_count": 6,
   "metadata": {},
   "outputs": [
    {
     "data": {
      "text/html": [
       "<div>\n",
       "<style scoped>\n",
       "    .dataframe tbody tr th:only-of-type {\n",
       "        vertical-align: middle;\n",
       "    }\n",
       "\n",
       "    .dataframe tbody tr th {\n",
       "        vertical-align: top;\n",
       "    }\n",
       "\n",
       "    .dataframe thead th {\n",
       "        text-align: right;\n",
       "    }\n",
       "</style>\n",
       "<table border=\"1\" class=\"dataframe\">\n",
       "  <thead>\n",
       "    <tr style=\"text-align: right;\">\n",
       "      <th></th>\n",
       "      <th>book_id</th>\n",
       "      <th>title</th>\n",
       "      <th>amount_reviews</th>\n",
       "      <th>average_rating</th>\n",
       "    </tr>\n",
       "  </thead>\n",
       "  <tbody>\n",
       "    <tr>\n",
       "      <th>0</th>\n",
       "      <td>652</td>\n",
       "      <td>The Body in the Library (Miss Marple  #3)</td>\n",
       "      <td>2.0</td>\n",
       "      <td>4.50</td>\n",
       "    </tr>\n",
       "    <tr>\n",
       "      <th>1</th>\n",
       "      <td>273</td>\n",
       "      <td>Galápagos</td>\n",
       "      <td>2.0</td>\n",
       "      <td>4.50</td>\n",
       "    </tr>\n",
       "    <tr>\n",
       "      <th>2</th>\n",
       "      <td>51</td>\n",
       "      <td>A Tree Grows in Brooklyn</td>\n",
       "      <td>5.0</td>\n",
       "      <td>4.25</td>\n",
       "    </tr>\n",
       "    <tr>\n",
       "      <th>3</th>\n",
       "      <td>951</td>\n",
       "      <td>Undaunted Courage: The Pioneering First Missio...</td>\n",
       "      <td>2.0</td>\n",
       "      <td>4.00</td>\n",
       "    </tr>\n",
       "    <tr>\n",
       "      <th>4</th>\n",
       "      <td>839</td>\n",
       "      <td>The Prophet</td>\n",
       "      <td>4.0</td>\n",
       "      <td>4.29</td>\n",
       "    </tr>\n",
       "    <tr>\n",
       "      <th>...</th>\n",
       "      <td>...</td>\n",
       "      <td>...</td>\n",
       "      <td>...</td>\n",
       "      <td>...</td>\n",
       "    </tr>\n",
       "    <tr>\n",
       "      <th>995</th>\n",
       "      <td>64</td>\n",
       "      <td>Alice in Wonderland</td>\n",
       "      <td>4.0</td>\n",
       "      <td>4.23</td>\n",
       "    </tr>\n",
       "    <tr>\n",
       "      <th>996</th>\n",
       "      <td>55</td>\n",
       "      <td>A Woman of Substance (Emma Harte Saga #1)</td>\n",
       "      <td>2.0</td>\n",
       "      <td>5.00</td>\n",
       "    </tr>\n",
       "    <tr>\n",
       "      <th>997</th>\n",
       "      <td>148</td>\n",
       "      <td>Christine</td>\n",
       "      <td>3.0</td>\n",
       "      <td>3.43</td>\n",
       "    </tr>\n",
       "    <tr>\n",
       "      <th>998</th>\n",
       "      <td>790</td>\n",
       "      <td>The Magicians' Guild (Black Magician Trilogy  #1)</td>\n",
       "      <td>2.0</td>\n",
       "      <td>3.50</td>\n",
       "    </tr>\n",
       "    <tr>\n",
       "      <th>999</th>\n",
       "      <td>828</td>\n",
       "      <td>The Plot Against America</td>\n",
       "      <td>2.0</td>\n",
       "      <td>3.00</td>\n",
       "    </tr>\n",
       "  </tbody>\n",
       "</table>\n",
       "<p>1000 rows × 4 columns</p>\n",
       "</div>"
      ],
      "text/plain": [
       "     book_id                                              title  \\\n",
       "0        652          The Body in the Library (Miss Marple  #3)   \n",
       "1        273                                          Galápagos   \n",
       "2         51                           A Tree Grows in Brooklyn   \n",
       "3        951  Undaunted Courage: The Pioneering First Missio...   \n",
       "4        839                                        The Prophet   \n",
       "..       ...                                                ...   \n",
       "995       64                                Alice in Wonderland   \n",
       "996       55          A Woman of Substance (Emma Harte Saga #1)   \n",
       "997      148                                          Christine   \n",
       "998      790  The Magicians' Guild (Black Magician Trilogy  #1)   \n",
       "999      828                           The Plot Against America   \n",
       "\n",
       "     amount_reviews  average_rating  \n",
       "0               2.0            4.50  \n",
       "1               2.0            4.50  \n",
       "2               5.0            4.25  \n",
       "3               2.0            4.00  \n",
       "4               4.0            4.29  \n",
       "..              ...             ...  \n",
       "995             4.0            4.23  \n",
       "996             2.0            5.00  \n",
       "997             3.0            3.43  \n",
       "998             2.0            3.50  \n",
       "999             2.0            3.00  \n",
       "\n",
       "[1000 rows x 4 columns]"
      ]
     },
     "execution_count": 6,
     "metadata": {},
     "output_type": "execute_result"
    }
   ],
   "source": [
    "get_sql_data('''WITH amount_reviews AS (SELECT book_id,\n",
    "                                               COUNT(review_id) AS amount_reviews\n",
    "                                        FROM reviews\n",
    "                                        GROUP BY book_id),\n",
    "                     average_rating AS (SELECT book_id,\n",
    "                                               ROUND(AVG(rating), 2) AS average_rating\n",
    "                                        FROM ratings\n",
    "                                        GROUP BY book_id)\n",
    "                SELECT b.book_id,\n",
    "                       title,\n",
    "                       amount_reviews,\n",
    "                       average_rating\n",
    "                FROM books AS b\n",
    "                LEFT JOIN amount_reviews AS am_r ON b.book_id = am_r.book_id\n",
    "                LEFT JOIN average_rating AS av_r ON b.book_id = av_r.book_id''')"
   ]
  },
  {
   "cell_type": "markdown",
   "metadata": {},
   "source": [
    "**Вывод:** для каждой книги нашел количество обзоров и среднюю оценку."
   ]
  },
  {
   "cell_type": "markdown",
   "metadata": {},
   "source": [
    "## Определите издательство, которое выпустило наибольшее число книг толще 50 страниц"
   ]
  },
  {
   "cell_type": "code",
   "execution_count": 7,
   "metadata": {},
   "outputs": [
    {
     "data": {
      "text/html": [
       "<div>\n",
       "<style scoped>\n",
       "    .dataframe tbody tr th:only-of-type {\n",
       "        vertical-align: middle;\n",
       "    }\n",
       "\n",
       "    .dataframe tbody tr th {\n",
       "        vertical-align: top;\n",
       "    }\n",
       "\n",
       "    .dataframe thead th {\n",
       "        text-align: right;\n",
       "    }\n",
       "</style>\n",
       "<table border=\"1\" class=\"dataframe\">\n",
       "  <thead>\n",
       "    <tr style=\"text-align: right;\">\n",
       "      <th></th>\n",
       "      <th>publisher_id</th>\n",
       "      <th>publisher</th>\n",
       "      <th>amount_of_books</th>\n",
       "    </tr>\n",
       "  </thead>\n",
       "  <tbody>\n",
       "    <tr>\n",
       "      <th>0</th>\n",
       "      <td>212</td>\n",
       "      <td>Penguin Books</td>\n",
       "      <td>42</td>\n",
       "    </tr>\n",
       "  </tbody>\n",
       "</table>\n",
       "</div>"
      ],
      "text/plain": [
       "   publisher_id      publisher  amount_of_books\n",
       "0           212  Penguin Books               42"
      ]
     },
     "execution_count": 7,
     "metadata": {},
     "output_type": "execute_result"
    }
   ],
   "source": [
    "get_sql_data('''WITH popular_publisher AS (SELECT publisher_id,\n",
    "                                                   COUNT(book_id) AS amount_of_books\n",
    "                                            FROM books \n",
    "                                            WHERE num_pages > 50 \n",
    "                                            GROUP BY publisher_id \n",
    "                                            ORDER BY COUNT(book_id) DESC \n",
    "                                            LIMIT 1)\n",
    "                 SELECT pub.publisher_id,\n",
    "                        publisher,\n",
    "                        amount_of_books\n",
    "                 FROM publishers AS pub\n",
    "                 JOIN popular_publisher AS pop_pub ON pub.publisher_id = pop_pub.publisher_id\n",
    "                 ''')\n",
    "#В CTE формирую идентификатор издателя и количество выпущенных им книг"
   ]
  },
  {
   "cell_type": "markdown",
   "metadata": {},
   "source": [
    "**Вывод:** Penguin Books - издательство, которое выпустило наибольшее число книг толще 50 страниц"
   ]
  },
  {
   "cell_type": "markdown",
   "metadata": {},
   "source": [
    "## Определите автора с самой высокой средней оценкой книг — учитывайте только книги с 50 и более оценками"
   ]
  },
  {
   "cell_type": "code",
   "execution_count": 8,
   "metadata": {},
   "outputs": [
    {
     "data": {
      "text/html": [
       "<div>\n",
       "<style scoped>\n",
       "    .dataframe tbody tr th:only-of-type {\n",
       "        vertical-align: middle;\n",
       "    }\n",
       "\n",
       "    .dataframe tbody tr th {\n",
       "        vertical-align: top;\n",
       "    }\n",
       "\n",
       "    .dataframe thead th {\n",
       "        text-align: right;\n",
       "    }\n",
       "</style>\n",
       "<table border=\"1\" class=\"dataframe\">\n",
       "  <thead>\n",
       "    <tr style=\"text-align: right;\">\n",
       "      <th></th>\n",
       "      <th>author_id</th>\n",
       "      <th>author</th>\n",
       "      <th>avg_rating</th>\n",
       "    </tr>\n",
       "  </thead>\n",
       "  <tbody>\n",
       "    <tr>\n",
       "      <th>0</th>\n",
       "      <td>236</td>\n",
       "      <td>J.K. Rowling/Mary GrandPré</td>\n",
       "      <td>4.29</td>\n",
       "    </tr>\n",
       "  </tbody>\n",
       "</table>\n",
       "</div>"
      ],
      "text/plain": [
       "   author_id                      author  avg_rating\n",
       "0        236  J.K. Rowling/Mary GrandPré        4.29"
      ]
     },
     "execution_count": 8,
     "metadata": {},
     "output_type": "execute_result"
    }
   ],
   "source": [
    "get_sql_data('''WITH best_author AS (SELECT author_id,\n",
    "                                            ROUND(AVG(rating), 2) AS avg_rating\n",
    "                                     FROM books AS b\n",
    "                                     LEFT JOIN ratings AS r ON b.book_id = r.book_id \n",
    "                                     WHERE b.book_id IN (SELECT b.book_id \n",
    "                                                         FROM books AS b \n",
    "                                                         LEFT JOIN ratings AS r ON b.book_id = r.book_id \n",
    "                                                         GROUP BY b.book_id \n",
    "                                                         HAVING COUNT(rating) >= 50) \n",
    "                                     GROUP BY author_id \n",
    "                                     ORDER BY AVG(rating) DESC \n",
    "                                     LIMIT 1)\n",
    "                 SELECT a.author_id,\n",
    "                        author,\n",
    "                        avg_rating\n",
    "                 FROM authors AS a \n",
    "                 JOIN best_author AS ba ON a.author_id = ba.author_id''')\n",
    "        \n",
    "#В первом подзапросе формирую идентификаторы книг по условию. В CTE id автора с самой высокой средней оценкой книг"
   ]
  },
  {
   "cell_type": "markdown",
   "metadata": {},
   "source": [
    "**Вывод:** J.K. Rowling/Mary GrandPré - автор с самой высокой средней оценкой книг."
   ]
  },
  {
   "cell_type": "markdown",
   "metadata": {},
   "source": [
    "## Посчитайте среднее количество обзоров от пользователей, которые поставили больше 48 оценок"
   ]
  },
  {
   "cell_type": "code",
   "execution_count": 9,
   "metadata": {},
   "outputs": [
    {
     "data": {
      "text/html": [
       "<div>\n",
       "<style scoped>\n",
       "    .dataframe tbody tr th:only-of-type {\n",
       "        vertical-align: middle;\n",
       "    }\n",
       "\n",
       "    .dataframe tbody tr th {\n",
       "        vertical-align: top;\n",
       "    }\n",
       "\n",
       "    .dataframe thead th {\n",
       "        text-align: right;\n",
       "    }\n",
       "</style>\n",
       "<table border=\"1\" class=\"dataframe\">\n",
       "  <thead>\n",
       "    <tr style=\"text-align: right;\">\n",
       "      <th></th>\n",
       "      <th>avg</th>\n",
       "    </tr>\n",
       "  </thead>\n",
       "  <tbody>\n",
       "    <tr>\n",
       "      <th>0</th>\n",
       "      <td>24.0</td>\n",
       "    </tr>\n",
       "  </tbody>\n",
       "</table>\n",
       "</div>"
      ],
      "text/plain": [
       "    avg\n",
       "0  24.0"
      ]
     },
     "execution_count": 9,
     "metadata": {},
     "output_type": "execute_result"
    }
   ],
   "source": [
    "get_sql_data('''SELECT AVG(number_of_reviews)\n",
    "              FROM (SELECT COUNT(review_id) AS number_of_reviews\n",
    "                    FROM books AS b\n",
    "                    JOIN reviews AS re ON b.book_id = re.book_id\n",
    "                    WHERE username IN (SELECT username\n",
    "                                          FROM ratings\n",
    "                                          GROUP BY username\n",
    "                                          HAVING COUNT(rating) > 48)\n",
    "                    GROUP BY username) AS table_number_of_reviews''')\n",
    "#В первом подзапросе формирую пользователей, которые поставили больше 48 оценок;\n",
    "#Во втором подзапросе вывожу столбец с числом обзоров в разрезе по пользователям из первого запроса"
   ]
  },
  {
   "cell_type": "markdown",
   "metadata": {},
   "source": [
    "**Вывод:**  Пользователи, которые поставили больше 48 оценок, сделали в среднем 24 обзора."
   ]
  },
  {
   "cell_type": "markdown",
   "metadata": {},
   "source": [
    "# Общий вывод"
   ]
  },
  {
   "cell_type": "markdown",
   "metadata": {},
   "source": [
    "1. Каждая таблица соответствует заданному описанию и обозначенной структуре. После 1 января 2000 года было выпущено 819 книг. Для каждой книги было определено количество обзоров и средняя оценка. Издательство Penguin Books выпустило наибольшее количество книг, а именно 42, объемом более 50 страниц. J.K. Rowling/Mary GrandPré стала автором с самой высокой средней оценкой книг — 4,29. Пользователи, которые поставили более 48 оценок, в среднем написали 24 обзора.\n",
    "2. Так как пользователи, которые ставят более 48 оценок, в среднем пишут 24 обзора, это указывает на высокую вовлеченность.  Рекомендуется:\n",
    "- Разработать программу лояльности для активных рецензентов, например, предоставление им доступа к эксклюзивным материалам или предстоящим книгам для обзора.\n",
    "- Проанализировать, какие темы и жанры наиболее популярны среди тех, кто оставляет большое количество отзывов, и использовать эти данные для разработки новых произведений."
   ]
  }
 ],
 "metadata": {
  "ExecuteTimeLog": [
   {
    "duration": 509,
    "start_time": "2024-10-03T11:28:36.901Z"
   },
   {
    "duration": 10741,
    "start_time": "2024-10-03T11:29:49.694Z"
   },
   {
    "duration": 52,
    "start_time": "2024-10-03T11:30:12.149Z"
   },
   {
    "duration": 12,
    "start_time": "2024-10-03T11:32:10.050Z"
   },
   {
    "duration": 17,
    "start_time": "2024-10-03T11:32:19.837Z"
   },
   {
    "duration": 97,
    "start_time": "2024-10-03T11:32:24.020Z"
   },
   {
    "duration": 9,
    "start_time": "2024-10-03T11:32:50.087Z"
   },
   {
    "duration": 12,
    "start_time": "2024-10-03T11:33:17.428Z"
   },
   {
    "duration": 54,
    "start_time": "2024-10-03T11:33:34.781Z"
   },
   {
    "duration": 12,
    "start_time": "2024-10-03T11:33:42.852Z"
   },
   {
    "duration": 20,
    "start_time": "2024-10-03T11:36:14.365Z"
   },
   {
    "duration": 21,
    "start_time": "2024-10-03T11:36:28.831Z"
   },
   {
    "duration": 20,
    "start_time": "2024-10-03T11:36:41.591Z"
   },
   {
    "duration": 11,
    "start_time": "2024-10-03T11:36:53.080Z"
   },
   {
    "duration": 3,
    "start_time": "2024-10-03T11:38:35.247Z"
   },
   {
    "duration": 10,
    "start_time": "2024-10-03T11:38:54.016Z"
   },
   {
    "duration": 3,
    "start_time": "2024-10-03T11:39:07.309Z"
   },
   {
    "duration": 27,
    "start_time": "2024-10-03T11:39:07.862Z"
   },
   {
    "duration": 3,
    "start_time": "2024-10-03T11:40:23.704Z"
   },
   {
    "duration": 18,
    "start_time": "2024-10-03T11:40:24.326Z"
   },
   {
    "duration": 3,
    "start_time": "2024-10-03T11:40:42.784Z"
   },
   {
    "duration": 18,
    "start_time": "2024-10-03T11:40:43.073Z"
   },
   {
    "duration": 3,
    "start_time": "2024-10-03T11:42:17.197Z"
   },
   {
    "duration": 25,
    "start_time": "2024-10-03T11:42:17.446Z"
   },
   {
    "duration": 3,
    "start_time": "2024-10-03T11:42:29.402Z"
   },
   {
    "duration": 25,
    "start_time": "2024-10-03T11:42:29.833Z"
   },
   {
    "duration": 3,
    "start_time": "2024-10-03T11:42:40.850Z"
   },
   {
    "duration": 26,
    "start_time": "2024-10-03T11:42:41.362Z"
   },
   {
    "duration": 3,
    "start_time": "2024-10-03T11:42:51.920Z"
   },
   {
    "duration": 24,
    "start_time": "2024-10-03T11:42:52.371Z"
   },
   {
    "duration": 4,
    "start_time": "2024-10-03T11:44:58.814Z"
   },
   {
    "duration": 24,
    "start_time": "2024-10-03T11:44:59.073Z"
   },
   {
    "duration": 56,
    "start_time": "2024-10-03T11:45:54.391Z"
   },
   {
    "duration": 4,
    "start_time": "2024-10-03T11:46:09.496Z"
   },
   {
    "duration": 56,
    "start_time": "2024-10-03T11:46:09.832Z"
   },
   {
    "duration": 4,
    "start_time": "2024-10-03T11:46:27.375Z"
   },
   {
    "duration": 54,
    "start_time": "2024-10-03T11:46:28.396Z"
   },
   {
    "duration": 531,
    "start_time": "2024-10-03T11:47:34.169Z"
   },
   {
    "duration": 6756,
    "start_time": "2024-10-03T11:47:34.702Z"
   },
   {
    "duration": 5,
    "start_time": "2024-10-03T11:47:41.460Z"
   },
   {
    "duration": 89,
    "start_time": "2024-10-03T11:47:41.466Z"
   },
   {
    "duration": 3,
    "start_time": "2024-10-03T11:48:54.161Z"
   },
   {
    "duration": 53,
    "start_time": "2024-10-03T11:48:54.592Z"
   },
   {
    "duration": 3,
    "start_time": "2024-10-03T11:49:35.743Z"
   },
   {
    "duration": 59,
    "start_time": "2024-10-03T11:49:36.064Z"
   },
   {
    "duration": 15,
    "start_time": "2024-10-03T11:54:44.872Z"
   },
   {
    "duration": 50,
    "start_time": "2024-10-03T11:55:51.088Z"
   },
   {
    "duration": 89,
    "start_time": "2024-10-03T11:56:04.908Z"
   },
   {
    "duration": 20,
    "start_time": "2024-10-03T11:58:06.418Z"
   },
   {
    "duration": 18,
    "start_time": "2024-10-03T11:58:27.926Z"
   },
   {
    "duration": 18,
    "start_time": "2024-10-03T11:59:37.602Z"
   },
   {
    "duration": 10,
    "start_time": "2024-10-03T11:59:44.965Z"
   },
   {
    "duration": 9,
    "start_time": "2024-10-03T12:00:47.938Z"
   },
   {
    "duration": 35,
    "start_time": "2024-10-03T12:04:04.660Z"
   },
   {
    "duration": 22,
    "start_time": "2024-10-03T12:05:54.836Z"
   },
   {
    "duration": 53,
    "start_time": "2024-10-03T12:07:43.975Z"
   },
   {
    "duration": 57,
    "start_time": "2024-10-03T12:07:48.059Z"
   },
   {
    "duration": 21,
    "start_time": "2024-10-03T12:07:57.775Z"
   },
   {
    "duration": 21,
    "start_time": "2024-10-03T12:08:23.613Z"
   },
   {
    "duration": 32,
    "start_time": "2024-10-03T12:08:35.267Z"
   },
   {
    "duration": 22,
    "start_time": "2024-10-03T12:08:40.247Z"
   },
   {
    "duration": 33,
    "start_time": "2024-10-03T12:08:47.726Z"
   },
   {
    "duration": 14,
    "start_time": "2024-10-03T12:08:52.909Z"
   },
   {
    "duration": 170,
    "start_time": "2024-10-03T12:09:19.159Z"
   },
   {
    "duration": 22,
    "start_time": "2024-10-03T12:11:01.924Z"
   },
   {
    "duration": 21,
    "start_time": "2024-10-03T12:11:16.207Z"
   },
   {
    "duration": 23,
    "start_time": "2024-10-03T12:12:00.160Z"
   },
   {
    "duration": 24,
    "start_time": "2024-10-03T12:13:00.890Z"
   },
   {
    "duration": 24,
    "start_time": "2024-10-03T12:13:24.375Z"
   },
   {
    "duration": 22,
    "start_time": "2024-10-03T12:15:47.355Z"
   },
   {
    "duration": 16,
    "start_time": "2024-10-03T12:16:37.069Z"
   },
   {
    "duration": 5,
    "start_time": "2024-10-03T12:16:45.032Z"
   },
   {
    "duration": 24,
    "start_time": "2024-10-03T12:16:57.580Z"
   },
   {
    "duration": 17,
    "start_time": "2024-10-03T12:17:43.777Z"
   },
   {
    "duration": 24,
    "start_time": "2024-10-03T12:18:37.984Z"
   },
   {
    "duration": 28,
    "start_time": "2024-10-03T12:19:38.304Z"
   },
   {
    "duration": 23,
    "start_time": "2024-10-03T12:19:44.366Z"
   },
   {
    "duration": 23,
    "start_time": "2024-10-03T12:19:52.863Z"
   },
   {
    "duration": 23,
    "start_time": "2024-10-03T12:22:36.738Z"
   },
   {
    "duration": 22,
    "start_time": "2024-10-03T12:26:28.780Z"
   },
   {
    "duration": 11,
    "start_time": "2024-10-03T12:27:48.274Z"
   },
   {
    "duration": 11,
    "start_time": "2024-10-03T12:29:17.720Z"
   },
   {
    "duration": 22,
    "start_time": "2024-10-03T12:29:22.933Z"
   },
   {
    "duration": 13,
    "start_time": "2024-10-03T12:29:34.335Z"
   },
   {
    "duration": 10,
    "start_time": "2024-10-03T12:29:42.391Z"
   },
   {
    "duration": 20,
    "start_time": "2024-10-03T12:29:52.892Z"
   },
   {
    "duration": 10,
    "start_time": "2024-10-03T12:29:57.224Z"
   },
   {
    "duration": 10,
    "start_time": "2024-10-03T12:31:09.476Z"
   },
   {
    "duration": 10,
    "start_time": "2024-10-03T12:31:30.553Z"
   },
   {
    "duration": 20,
    "start_time": "2024-10-03T12:33:41.901Z"
   },
   {
    "duration": 21,
    "start_time": "2024-10-03T12:34:21.945Z"
   },
   {
    "duration": 10,
    "start_time": "2024-10-03T12:36:25.930Z"
   },
   {
    "duration": 6,
    "start_time": "2024-10-03T12:36:44.167Z"
   },
   {
    "duration": 24,
    "start_time": "2024-10-03T12:37:10.494Z"
   },
   {
    "duration": 9,
    "start_time": "2024-10-03T12:37:38.345Z"
   },
   {
    "duration": 8,
    "start_time": "2024-10-03T12:38:02.001Z"
   },
   {
    "duration": 12,
    "start_time": "2024-10-03T12:38:09.200Z"
   },
   {
    "duration": 27,
    "start_time": "2024-10-03T12:39:32.000Z"
   },
   {
    "duration": 24,
    "start_time": "2024-10-03T12:39:48.924Z"
   },
   {
    "duration": 18,
    "start_time": "2024-10-03T12:40:28.219Z"
   },
   {
    "duration": 13,
    "start_time": "2024-10-03T12:40:44.821Z"
   },
   {
    "duration": 9,
    "start_time": "2024-10-03T12:42:06.454Z"
   },
   {
    "duration": 21,
    "start_time": "2024-10-03T12:43:18.135Z"
   },
   {
    "duration": 22,
    "start_time": "2024-10-03T12:43:27.579Z"
   },
   {
    "duration": 22,
    "start_time": "2024-10-03T12:43:38.362Z"
   },
   {
    "duration": 20,
    "start_time": "2024-10-03T12:44:13.420Z"
   },
   {
    "duration": 10,
    "start_time": "2024-10-03T12:45:33.031Z"
   },
   {
    "duration": 21,
    "start_time": "2024-10-03T12:45:53.381Z"
   },
   {
    "duration": 22,
    "start_time": "2024-10-03T12:46:41.646Z"
   },
   {
    "duration": 8,
    "start_time": "2024-10-03T12:51:21.836Z"
   },
   {
    "duration": 9,
    "start_time": "2024-10-03T12:51:26.592Z"
   },
   {
    "duration": 22,
    "start_time": "2024-10-03T12:52:48.272Z"
   },
   {
    "duration": 23,
    "start_time": "2024-10-03T12:53:14.983Z"
   },
   {
    "duration": 13,
    "start_time": "2024-10-03T12:53:48.200Z"
   },
   {
    "duration": 21,
    "start_time": "2024-10-03T12:57:52.837Z"
   },
   {
    "duration": 92,
    "start_time": "2024-10-03T12:58:04.178Z"
   },
   {
    "duration": 70,
    "start_time": "2024-10-03T12:59:59.970Z"
   },
   {
    "duration": 65,
    "start_time": "2024-10-03T13:00:40.432Z"
   },
   {
    "duration": 57,
    "start_time": "2024-10-03T13:00:57.840Z"
   },
   {
    "duration": 55,
    "start_time": "2024-10-03T13:01:09.140Z"
   },
   {
    "duration": 19,
    "start_time": "2024-10-03T13:01:31.472Z"
   },
   {
    "duration": 13,
    "start_time": "2024-10-03T13:01:56.755Z"
   },
   {
    "duration": 15,
    "start_time": "2024-10-03T13:02:20.240Z"
   },
   {
    "duration": 15,
    "start_time": "2024-10-03T13:02:42.996Z"
   },
   {
    "duration": 15,
    "start_time": "2024-10-03T13:06:45.143Z"
   },
   {
    "duration": 13,
    "start_time": "2024-10-03T13:06:54.760Z"
   },
   {
    "duration": 21,
    "start_time": "2024-10-03T13:08:59.798Z"
   },
   {
    "duration": 14,
    "start_time": "2024-10-03T13:09:30.704Z"
   },
   {
    "duration": 55,
    "start_time": "2024-10-03T13:09:34.798Z"
   },
   {
    "duration": 12,
    "start_time": "2024-10-03T13:09:37.641Z"
   },
   {
    "duration": 13,
    "start_time": "2024-10-03T13:09:46.476Z"
   },
   {
    "duration": 12,
    "start_time": "2024-10-03T13:09:55.763Z"
   },
   {
    "duration": 17,
    "start_time": "2024-10-03T13:10:02.680Z"
   },
   {
    "duration": 51,
    "start_time": "2024-10-03T13:11:57.513Z"
   },
   {
    "duration": 65,
    "start_time": "2024-10-03T13:12:09.970Z"
   },
   {
    "duration": 11,
    "start_time": "2024-10-03T13:12:30.663Z"
   },
   {
    "duration": 58,
    "start_time": "2024-10-03T13:12:32.808Z"
   },
   {
    "duration": 9,
    "start_time": "2024-10-03T13:12:34.775Z"
   },
   {
    "duration": 9,
    "start_time": "2024-10-03T13:12:53.665Z"
   },
   {
    "duration": 15,
    "start_time": "2024-10-03T13:13:42.711Z"
   },
   {
    "duration": 24,
    "start_time": "2024-10-03T13:14:50.577Z"
   },
   {
    "duration": 265,
    "start_time": "2024-10-03T13:15:06.180Z"
   },
   {
    "duration": 15,
    "start_time": "2024-10-03T13:16:40.179Z"
   },
   {
    "duration": 16,
    "start_time": "2024-10-03T13:17:09.989Z"
   },
   {
    "duration": 15,
    "start_time": "2024-10-03T13:17:24.950Z"
   },
   {
    "duration": 22,
    "start_time": "2024-10-03T13:17:37.582Z"
   },
   {
    "duration": 15,
    "start_time": "2024-10-03T13:17:40.659Z"
   },
   {
    "duration": 16,
    "start_time": "2024-10-03T13:17:51.477Z"
   },
   {
    "duration": 13,
    "start_time": "2024-10-03T13:17:57.685Z"
   },
   {
    "duration": 57,
    "start_time": "2024-10-03T13:20:44.556Z"
   },
   {
    "duration": 76,
    "start_time": "2024-10-03T13:21:07.241Z"
   },
   {
    "duration": 13,
    "start_time": "2024-10-03T13:21:11.329Z"
   },
   {
    "duration": 15,
    "start_time": "2024-10-03T13:22:22.379Z"
   },
   {
    "duration": 56,
    "start_time": "2024-10-03T13:22:37.797Z"
   },
   {
    "duration": 14,
    "start_time": "2024-10-03T13:22:40.826Z"
   },
   {
    "duration": 15,
    "start_time": "2024-10-03T13:22:47.432Z"
   },
   {
    "duration": 15,
    "start_time": "2024-10-03T13:23:05.621Z"
   },
   {
    "duration": 14,
    "start_time": "2024-10-03T14:00:54.356Z"
   },
   {
    "duration": 22,
    "start_time": "2024-10-03T14:01:52.247Z"
   },
   {
    "duration": 25,
    "start_time": "2024-10-03T14:02:05.899Z"
   },
   {
    "duration": 276,
    "start_time": "2024-10-03T14:04:33.695Z"
   },
   {
    "duration": 30,
    "start_time": "2024-10-03T14:06:49.510Z"
   },
   {
    "duration": 17,
    "start_time": "2024-10-03T14:07:46.683Z"
   },
   {
    "duration": 14,
    "start_time": "2024-10-03T14:08:11.350Z"
   },
   {
    "duration": 23,
    "start_time": "2024-10-03T14:08:40.275Z"
   },
   {
    "duration": 26,
    "start_time": "2024-10-03T14:10:41.578Z"
   },
   {
    "duration": 59,
    "start_time": "2024-10-03T14:11:26.579Z"
   },
   {
    "duration": 13,
    "start_time": "2024-10-03T14:11:31.628Z"
   },
   {
    "duration": 19,
    "start_time": "2024-10-03T14:12:10.829Z"
   },
   {
    "duration": 27,
    "start_time": "2024-10-03T14:17:29.392Z"
   },
   {
    "duration": 27,
    "start_time": "2024-10-03T14:17:42.430Z"
   },
   {
    "duration": 60,
    "start_time": "2024-10-03T14:18:25.019Z"
   },
   {
    "duration": 44,
    "start_time": "2024-10-03T14:19:47.427Z"
   },
   {
    "duration": 12,
    "start_time": "2024-10-03T14:20:14.611Z"
   },
   {
    "duration": 16,
    "start_time": "2024-10-03T14:20:28.205Z"
   },
   {
    "duration": 15,
    "start_time": "2024-10-03T14:21:47.184Z"
   },
   {
    "duration": 14,
    "start_time": "2024-10-03T14:22:41.652Z"
   },
   {
    "duration": 19,
    "start_time": "2024-10-03T14:25:18.928Z"
   },
   {
    "duration": 18,
    "start_time": "2024-10-03T14:25:43.917Z"
   },
   {
    "duration": 19,
    "start_time": "2024-10-03T14:25:58.462Z"
   },
   {
    "duration": 19,
    "start_time": "2024-10-03T14:26:45.859Z"
   },
   {
    "duration": 16,
    "start_time": "2024-10-03T14:27:42.830Z"
   },
   {
    "duration": 24,
    "start_time": "2024-10-03T14:28:09.987Z"
   },
   {
    "duration": 23,
    "start_time": "2024-10-03T14:28:30.920Z"
   },
   {
    "duration": 21,
    "start_time": "2024-10-03T14:29:08.169Z"
   },
   {
    "duration": 16,
    "start_time": "2024-10-03T14:29:25.076Z"
   },
   {
    "duration": 15,
    "start_time": "2024-10-03T14:30:25.471Z"
   },
   {
    "duration": 15,
    "start_time": "2024-10-03T14:33:01.917Z"
   },
   {
    "duration": 575,
    "start_time": "2024-10-03T14:34:29.395Z"
   },
   {
    "duration": 6965,
    "start_time": "2024-10-03T14:34:29.975Z"
   },
   {
    "duration": 4,
    "start_time": "2024-10-03T14:34:36.942Z"
   },
   {
    "duration": 118,
    "start_time": "2024-10-03T14:34:36.947Z"
   },
   {
    "duration": 10,
    "start_time": "2024-10-03T14:34:37.067Z"
   },
   {
    "duration": 24,
    "start_time": "2024-10-03T14:34:37.078Z"
   },
   {
    "duration": 10,
    "start_time": "2024-10-03T14:34:37.104Z"
   },
   {
    "duration": 18,
    "start_time": "2024-10-03T14:34:37.115Z"
   },
   {
    "duration": 14,
    "start_time": "2024-10-03T14:34:37.135Z"
   },
   {
    "duration": 16,
    "start_time": "2024-10-03T14:40:08.634Z"
   },
   {
    "duration": 15,
    "start_time": "2024-10-03T14:40:14.691Z"
   },
   {
    "duration": 111,
    "start_time": "2024-10-03T14:41:25.473Z"
   },
   {
    "duration": 13,
    "start_time": "2024-10-03T14:41:27.776Z"
   },
   {
    "duration": 12,
    "start_time": "2024-10-03T14:41:41.589Z"
   },
   {
    "duration": 59,
    "start_time": "2024-10-03T14:43:14.258Z"
   },
   {
    "duration": 16,
    "start_time": "2024-10-03T14:43:37.062Z"
   },
   {
    "duration": 16,
    "start_time": "2024-10-03T14:46:17.746Z"
   },
   {
    "duration": 14,
    "start_time": "2024-10-03T14:46:42.616Z"
   },
   {
    "duration": 12,
    "start_time": "2024-10-03T14:46:56.093Z"
   },
   {
    "duration": 12,
    "start_time": "2024-10-03T14:47:11.386Z"
   },
   {
    "duration": 85,
    "start_time": "2024-10-03T14:47:36.224Z"
   },
   {
    "duration": 14,
    "start_time": "2024-10-03T14:47:49.428Z"
   },
   {
    "duration": 14,
    "start_time": "2024-10-03T14:48:05.806Z"
   },
   {
    "duration": 16,
    "start_time": "2024-10-03T14:48:32.648Z"
   },
   {
    "duration": 14,
    "start_time": "2024-10-03T14:48:42.843Z"
   },
   {
    "duration": 16,
    "start_time": "2024-10-03T14:50:04.761Z"
   },
   {
    "duration": 12,
    "start_time": "2024-10-03T14:50:33.446Z"
   },
   {
    "duration": 13,
    "start_time": "2024-10-03T14:51:01.165Z"
   },
   {
    "duration": 12,
    "start_time": "2024-10-03T14:51:06.319Z"
   },
   {
    "duration": 12,
    "start_time": "2024-10-03T14:52:24.959Z"
   },
   {
    "duration": 12,
    "start_time": "2024-10-03T14:53:03.067Z"
   },
   {
    "duration": 562,
    "start_time": "2024-10-04T07:01:45.048Z"
   },
   {
    "duration": 7727,
    "start_time": "2024-10-04T07:01:45.612Z"
   },
   {
    "duration": 4,
    "start_time": "2024-10-04T07:01:53.340Z"
   },
   {
    "duration": 662,
    "start_time": "2024-10-04T07:01:53.346Z"
   },
   {
    "duration": 50,
    "start_time": "2024-10-04T07:01:54.010Z"
   },
   {
    "duration": 76,
    "start_time": "2024-10-04T07:01:54.062Z"
   },
   {
    "duration": 91,
    "start_time": "2024-10-04T07:01:54.140Z"
   },
   {
    "duration": 54,
    "start_time": "2024-10-04T07:01:54.233Z"
   },
   {
    "duration": 54,
    "start_time": "2024-10-04T07:01:54.289Z"
   },
   {
    "duration": 50,
    "start_time": "2024-10-04T07:03:10.921Z"
   },
   {
    "duration": 56,
    "start_time": "2024-10-04T07:05:44.889Z"
   },
   {
    "duration": 54,
    "start_time": "2024-10-04T07:06:02.034Z"
   },
   {
    "duration": 59,
    "start_time": "2024-10-04T07:06:09.348Z"
   },
   {
    "duration": 56,
    "start_time": "2024-10-04T07:06:13.918Z"
   },
   {
    "duration": 51,
    "start_time": "2024-10-04T08:34:40.953Z"
   },
   {
    "duration": 570,
    "start_time": "2024-10-04T08:34:47.030Z"
   },
   {
    "duration": 6927,
    "start_time": "2024-10-04T08:34:47.602Z"
   },
   {
    "duration": 4,
    "start_time": "2024-10-04T08:34:54.530Z"
   },
   {
    "duration": 122,
    "start_time": "2024-10-04T08:34:54.536Z"
   },
   {
    "duration": 9,
    "start_time": "2024-10-04T08:34:54.660Z"
   },
   {
    "duration": 26,
    "start_time": "2024-10-04T08:34:54.670Z"
   },
   {
    "duration": 9,
    "start_time": "2024-10-04T08:34:54.697Z"
   },
   {
    "duration": 16,
    "start_time": "2024-10-04T08:34:54.708Z"
   },
   {
    "duration": 44,
    "start_time": "2024-10-04T08:34:54.726Z"
   },
   {
    "duration": 4,
    "start_time": "2024-10-04T08:46:40.225Z"
   },
   {
    "duration": 57,
    "start_time": "2024-10-04T08:46:42.285Z"
   },
   {
    "duration": 10,
    "start_time": "2024-10-04T08:48:16.369Z"
   },
   {
    "duration": 10,
    "start_time": "2024-10-04T08:48:28.015Z"
   },
   {
    "duration": 10,
    "start_time": "2024-10-04T08:49:42.483Z"
   },
   {
    "duration": 10,
    "start_time": "2024-10-04T08:49:59.704Z"
   },
   {
    "duration": 89,
    "start_time": "2024-10-04T08:52:51.062Z"
   },
   {
    "duration": 24,
    "start_time": "2024-10-04T08:53:28.815Z"
   },
   {
    "duration": 12,
    "start_time": "2024-10-04T08:53:57.335Z"
   },
   {
    "duration": 22,
    "start_time": "2024-10-04T08:54:29.685Z"
   },
   {
    "duration": 14,
    "start_time": "2024-10-04T08:54:41.638Z"
   },
   {
    "duration": 23,
    "start_time": "2024-10-04T08:55:05.499Z"
   },
   {
    "duration": 12,
    "start_time": "2024-10-04T08:56:46.660Z"
   },
   {
    "duration": 12,
    "start_time": "2024-10-04T08:58:22.762Z"
   },
   {
    "duration": 11,
    "start_time": "2024-10-04T08:58:39.708Z"
   },
   {
    "duration": 13,
    "start_time": "2024-10-04T08:59:30.018Z"
   },
   {
    "duration": 15,
    "start_time": "2024-10-04T09:00:19.739Z"
   },
   {
    "duration": 14,
    "start_time": "2024-10-04T09:00:39.136Z"
   },
   {
    "duration": 16,
    "start_time": "2024-10-04T09:00:57.716Z"
   },
   {
    "duration": 16,
    "start_time": "2024-10-04T09:01:10.346Z"
   },
   {
    "duration": 23,
    "start_time": "2024-10-04T09:02:17.584Z"
   },
   {
    "duration": 23,
    "start_time": "2024-10-04T09:03:04.101Z"
   },
   {
    "duration": 16,
    "start_time": "2024-10-04T09:03:32.280Z"
   },
   {
    "duration": 16,
    "start_time": "2024-10-04T09:04:28.082Z"
   },
   {
    "duration": 17,
    "start_time": "2024-10-04T09:05:47.314Z"
   },
   {
    "duration": 16,
    "start_time": "2024-10-04T09:06:28.080Z"
   },
   {
    "duration": 25,
    "start_time": "2024-10-04T09:08:21.579Z"
   },
   {
    "duration": 536,
    "start_time": "2024-10-04T09:10:14.145Z"
   },
   {
    "duration": 7993,
    "start_time": "2024-10-04T09:10:14.683Z"
   },
   {
    "duration": 3,
    "start_time": "2024-10-04T09:10:22.678Z"
   },
   {
    "duration": 103,
    "start_time": "2024-10-04T09:10:22.683Z"
   },
   {
    "duration": 9,
    "start_time": "2024-10-04T09:10:22.788Z"
   },
   {
    "duration": 60,
    "start_time": "2024-10-04T09:10:22.798Z"
   },
   {
    "duration": 0,
    "start_time": "2024-10-04T09:10:22.860Z"
   },
   {
    "duration": 0,
    "start_time": "2024-10-04T09:10:22.861Z"
   },
   {
    "duration": 0,
    "start_time": "2024-10-04T09:10:22.862Z"
   },
   {
    "duration": 94,
    "start_time": "2024-10-04T09:11:05.791Z"
   },
   {
    "duration": 15,
    "start_time": "2024-10-04T09:14:59.419Z"
   },
   {
    "duration": 14,
    "start_time": "2024-10-04T09:15:17.344Z"
   },
   {
    "duration": 11,
    "start_time": "2024-10-04T09:15:25.433Z"
   },
   {
    "duration": 23,
    "start_time": "2024-10-04T09:17:31.067Z"
   },
   {
    "duration": 22,
    "start_time": "2024-10-04T09:17:40.936Z"
   },
   {
    "duration": 19,
    "start_time": "2024-10-04T09:17:52.329Z"
   },
   {
    "duration": 12,
    "start_time": "2024-10-04T09:18:45.682Z"
   },
   {
    "duration": 18,
    "start_time": "2024-10-04T09:18:48.906Z"
   },
   {
    "duration": 24,
    "start_time": "2024-10-04T09:20:30.917Z"
   },
   {
    "duration": 34,
    "start_time": "2024-10-04T09:20:41.459Z"
   },
   {
    "duration": 24,
    "start_time": "2024-10-04T09:21:44.602Z"
   },
   {
    "duration": 23,
    "start_time": "2024-10-04T09:21:53.233Z"
   },
   {
    "duration": 24,
    "start_time": "2024-10-04T09:22:15.200Z"
   },
   {
    "duration": 11,
    "start_time": "2024-10-04T09:22:18.116Z"
   },
   {
    "duration": 22,
    "start_time": "2024-10-04T09:22:26.390Z"
   },
   {
    "duration": 13,
    "start_time": "2024-10-04T09:24:06.985Z"
   },
   {
    "duration": 23,
    "start_time": "2024-10-04T09:24:37.936Z"
   },
   {
    "duration": 21,
    "start_time": "2024-10-04T09:25:43.685Z"
   },
   {
    "duration": 22,
    "start_time": "2024-10-04T09:26:12.708Z"
   },
   {
    "duration": 580,
    "start_time": "2024-10-04T09:27:58.301Z"
   },
   {
    "duration": 6882,
    "start_time": "2024-10-04T09:27:58.883Z"
   },
   {
    "duration": 3,
    "start_time": "2024-10-04T09:28:05.769Z"
   },
   {
    "duration": 105,
    "start_time": "2024-10-04T09:28:05.774Z"
   },
   {
    "duration": 9,
    "start_time": "2024-10-04T09:28:05.880Z"
   },
   {
    "duration": 22,
    "start_time": "2024-10-04T09:28:05.890Z"
   },
   {
    "duration": 19,
    "start_time": "2024-10-04T09:28:05.914Z"
   },
   {
    "duration": 14,
    "start_time": "2024-10-04T09:28:05.935Z"
   },
   {
    "duration": 12,
    "start_time": "2024-10-04T09:28:05.951Z"
   },
   {
    "duration": 12,
    "start_time": "2024-10-04T09:28:45.576Z"
   },
   {
    "duration": 547,
    "start_time": "2024-10-04T14:55:21.190Z"
   },
   {
    "duration": 5491,
    "start_time": "2024-10-04T14:55:21.740Z"
   },
   {
    "duration": 4,
    "start_time": "2024-10-04T14:55:27.232Z"
   },
   {
    "duration": 110,
    "start_time": "2024-10-04T14:55:27.237Z"
   },
   {
    "duration": 9,
    "start_time": "2024-10-04T14:55:27.349Z"
   },
   {
    "duration": 24,
    "start_time": "2024-10-04T14:55:27.359Z"
   },
   {
    "duration": 12,
    "start_time": "2024-10-04T14:55:27.384Z"
   },
   {
    "duration": 15,
    "start_time": "2024-10-04T14:55:27.398Z"
   },
   {
    "duration": 13,
    "start_time": "2024-10-04T14:55:27.415Z"
   }
  ],
  "kernelspec": {
   "display_name": "Python 3 (ipykernel)",
   "language": "python",
   "name": "python3"
  },
  "language_info": {
   "codemirror_mode": {
    "name": "ipython",
    "version": 3
   },
   "file_extension": ".py",
   "mimetype": "text/x-python",
   "name": "python",
   "nbconvert_exporter": "python",
   "pygments_lexer": "ipython3",
   "version": "3.12.4"
  },
  "toc": {
   "base_numbering": 1,
   "nav_menu": {
    "height": "144.531px",
    "width": "518.75px"
   },
   "number_sections": true,
   "sideBar": true,
   "skip_h1_title": true,
   "title_cell": "Table of Contents",
   "title_sidebar": "Contents",
   "toc_cell": false,
   "toc_position": {},
   "toc_section_display": true,
   "toc_window_display": false
  }
 },
 "nbformat": 4,
 "nbformat_minor": 4
}
