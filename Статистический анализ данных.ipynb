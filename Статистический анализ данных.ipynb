{
 "cells": [
  {
   "cell_type": "markdown",
   "id": "62fca882",
   "metadata": {},
   "source": [
    "# Проект: Статистический анализ данных"
   ]
  },
  {
   "cell_type": "markdown",
   "id": "8c571ccd",
   "metadata": {},
   "source": [
    "Вы аналитик популярного сервиса аренды самокатов GoFast. Вам передали данные о некоторых пользователях из нескольких городов, а также об их поездках. Проанализируйте данные и проверьте некоторые гипотезы, которые могут помочь бизнесу вырасти."
   ]
  },
  {
   "cell_type": "markdown",
   "id": "b388323d",
   "metadata": {},
   "source": [
    "# Описание данных"
   ]
  },
  {
   "cell_type": "markdown",
   "id": "de40bccd",
   "metadata": {},
   "source": [
    "В основных данных есть информация о пользователях, их поездках и подписках.\n",
    "\n",
    "**Пользователи** — <u>users_go.csv</u>  \n",
    "\n",
    "| Столбец | Значение | \n",
    "|:--------:|:--------------|\n",
    "|  **user_id**  |  уникальный идентификатор пользователя   | \n",
    "|  **name**   |  имя пользователя   |\n",
    "|  **age**   |  возраст  |\n",
    "|  **city**   |  город   |\n",
    "|  **subscription_type**   |  тип подписки (free, ultra)   |"
   ]
  },
  {
   "cell_type": "markdown",
   "id": "e8b9c261",
   "metadata": {},
   "source": [
    "**Поездки** — <u>rides_go.csv</u>  \n",
    "\n",
    "| Столбец | Значение | \n",
    "|:--------:|:-------------------|\n",
    "|  **user_id**  |  уникальный идентификатор пользователя   | \n",
    "|  **distance**   |  расстояние, которое пользователь проехал в текущей сессии (в метрах)   |\n",
    "|  **duration**   |  продолжительность сессии (в минутах) — время с того момента, как пользователь нажал кнопку «Начать поездку» до момента, как он нажал кнопку «Завершить поездку»\n",
    "  |\n",
    "|  **date**   |  дата совершения поездки   |"
   ]
  },
  {
   "cell_type": "markdown",
   "id": "6df1ed1d",
   "metadata": {},
   "source": [
    "**Подписки** — <u>subscriptions_go.csv</u>  \n",
    "\n",
    "| Столбец | Значение | \n",
    "|:--------:|:-------------------|\n",
    "|  **subscription_type**  |  тип подписки   | \n",
    "|  **minute_price**   |  стоимость одной минуты поездки по данной подписке   |\n",
    "|  **start_ride_price**   | стоимость начала поездки  |\n",
    "|  **subscription_fee**   |  стоимость ежемесячного платежа   |"
   ]
  },
  {
   "cell_type": "markdown",
   "id": "9fbe17fb",
   "metadata": {},
   "source": [
    "# План работы"
   ]
  },
  {
   "cell_type": "markdown",
   "id": "2a80749a",
   "metadata": {},
   "source": [
    "**Шаг 1. Загрузка данных  \n",
    "Шаг 2. Предобработка данных  \n",
    "Шаг 3. Исследовательский анализ данных  \n",
    "Шаг 4. Объединение данных  \n",
    "Шаг 5. Подсчёт выручки  \n",
    "Шаг 6. Проверка гипотез**"
   ]
  },
  {
   "cell_type": "code",
   "execution_count": 1,
   "id": "72576667",
   "metadata": {},
   "outputs": [],
   "source": [
    "import pandas as pd\n",
    "import matplotlib.pyplot as plt\n",
    "import numpy as np\n",
    "import scipy.stats as st"
   ]
  },
  {
   "cell_type": "markdown",
   "id": "c42cbe00",
   "metadata": {},
   "source": [
    "### Шаг 1. Загрузка данных"
   ]
  },
  {
   "cell_type": "markdown",
   "id": "ba127ef0",
   "metadata": {},
   "source": [
    "#### "
   ]
  },
  {
   "cell_type": "code",
   "execution_count": 2,
   "id": "eff9f206",
   "metadata": {},
   "outputs": [],
   "source": [
    "users = pd.read_csv('https://code.s3.yandex.net/datasets/users_go.csv')\n",
    "rides = pd.read_csv('https://code.s3.yandex.net/datasets/rides_go.csv')\n",
    "subscriptions = pd.read_csv('https://code.s3.yandex.net/datasets/subscriptions_go.csv')"
   ]
  },
  {
   "cell_type": "markdown",
   "id": "bd87af26",
   "metadata": {},
   "source": [
    "#### "
   ]
  },
  {
   "cell_type": "code",
   "execution_count": 3,
   "id": "c3e5c4de",
   "metadata": {},
   "outputs": [
    {
     "data": {
      "text/html": [
       "<div>\n",
       "<style scoped>\n",
       "    .dataframe tbody tr th:only-of-type {\n",
       "        vertical-align: middle;\n",
       "    }\n",
       "\n",
       "    .dataframe tbody tr th {\n",
       "        vertical-align: top;\n",
       "    }\n",
       "\n",
       "    .dataframe thead th {\n",
       "        text-align: right;\n",
       "    }\n",
       "</style>\n",
       "<table border=\"1\" class=\"dataframe\">\n",
       "  <thead>\n",
       "    <tr style=\"text-align: right;\">\n",
       "      <th></th>\n",
       "      <th>user_id</th>\n",
       "      <th>name</th>\n",
       "      <th>age</th>\n",
       "      <th>city</th>\n",
       "      <th>subscription_type</th>\n",
       "    </tr>\n",
       "  </thead>\n",
       "  <tbody>\n",
       "    <tr>\n",
       "      <th>0</th>\n",
       "      <td>1</td>\n",
       "      <td>Кира</td>\n",
       "      <td>22</td>\n",
       "      <td>Тюмень</td>\n",
       "      <td>ultra</td>\n",
       "    </tr>\n",
       "    <tr>\n",
       "      <th>1</th>\n",
       "      <td>2</td>\n",
       "      <td>Станислав</td>\n",
       "      <td>31</td>\n",
       "      <td>Омск</td>\n",
       "      <td>ultra</td>\n",
       "    </tr>\n",
       "    <tr>\n",
       "      <th>2</th>\n",
       "      <td>3</td>\n",
       "      <td>Алексей</td>\n",
       "      <td>20</td>\n",
       "      <td>Москва</td>\n",
       "      <td>ultra</td>\n",
       "    </tr>\n",
       "    <tr>\n",
       "      <th>3</th>\n",
       "      <td>4</td>\n",
       "      <td>Константин</td>\n",
       "      <td>26</td>\n",
       "      <td>Ростов-на-Дону</td>\n",
       "      <td>ultra</td>\n",
       "    </tr>\n",
       "    <tr>\n",
       "      <th>4</th>\n",
       "      <td>5</td>\n",
       "      <td>Адель</td>\n",
       "      <td>28</td>\n",
       "      <td>Омск</td>\n",
       "      <td>ultra</td>\n",
       "    </tr>\n",
       "    <tr>\n",
       "      <th>5</th>\n",
       "      <td>6</td>\n",
       "      <td>Регина</td>\n",
       "      <td>25</td>\n",
       "      <td>Краснодар</td>\n",
       "      <td>ultra</td>\n",
       "    </tr>\n",
       "    <tr>\n",
       "      <th>6</th>\n",
       "      <td>7</td>\n",
       "      <td>Игорь</td>\n",
       "      <td>23</td>\n",
       "      <td>Омск</td>\n",
       "      <td>ultra</td>\n",
       "    </tr>\n",
       "    <tr>\n",
       "      <th>7</th>\n",
       "      <td>8</td>\n",
       "      <td>Юрий</td>\n",
       "      <td>23</td>\n",
       "      <td>Краснодар</td>\n",
       "      <td>ultra</td>\n",
       "    </tr>\n",
       "    <tr>\n",
       "      <th>8</th>\n",
       "      <td>9</td>\n",
       "      <td>Ян</td>\n",
       "      <td>21</td>\n",
       "      <td>Пятигорск</td>\n",
       "      <td>ultra</td>\n",
       "    </tr>\n",
       "    <tr>\n",
       "      <th>9</th>\n",
       "      <td>10</td>\n",
       "      <td>Валерий</td>\n",
       "      <td>18</td>\n",
       "      <td>Екатеринбург</td>\n",
       "      <td>ultra</td>\n",
       "    </tr>\n",
       "  </tbody>\n",
       "</table>\n",
       "</div>"
      ],
      "text/plain": [
       "   user_id        name  age            city subscription_type\n",
       "0        1        Кира   22          Тюмень             ultra\n",
       "1        2   Станислав   31            Омск             ultra\n",
       "2        3     Алексей   20          Москва             ultra\n",
       "3        4  Константин   26  Ростов-на-Дону             ultra\n",
       "4        5       Адель   28            Омск             ultra\n",
       "5        6      Регина   25       Краснодар             ultra\n",
       "6        7       Игорь   23            Омск             ultra\n",
       "7        8        Юрий   23       Краснодар             ultra\n",
       "8        9          Ян   21       Пятигорск             ultra\n",
       "9       10     Валерий   18    Екатеринбург             ultra"
      ]
     },
     "metadata": {},
     "output_type": "display_data"
    },
    {
     "data": {
      "text/html": [
       "<div>\n",
       "<style scoped>\n",
       "    .dataframe tbody tr th:only-of-type {\n",
       "        vertical-align: middle;\n",
       "    }\n",
       "\n",
       "    .dataframe tbody tr th {\n",
       "        vertical-align: top;\n",
       "    }\n",
       "\n",
       "    .dataframe thead th {\n",
       "        text-align: right;\n",
       "    }\n",
       "</style>\n",
       "<table border=\"1\" class=\"dataframe\">\n",
       "  <thead>\n",
       "    <tr style=\"text-align: right;\">\n",
       "      <th></th>\n",
       "      <th>user_id</th>\n",
       "      <th>distance</th>\n",
       "      <th>duration</th>\n",
       "      <th>date</th>\n",
       "    </tr>\n",
       "  </thead>\n",
       "  <tbody>\n",
       "    <tr>\n",
       "      <th>0</th>\n",
       "      <td>1</td>\n",
       "      <td>4409.919140</td>\n",
       "      <td>25.599769</td>\n",
       "      <td>2021-01-01</td>\n",
       "    </tr>\n",
       "    <tr>\n",
       "      <th>1</th>\n",
       "      <td>1</td>\n",
       "      <td>2617.592153</td>\n",
       "      <td>15.816871</td>\n",
       "      <td>2021-01-18</td>\n",
       "    </tr>\n",
       "    <tr>\n",
       "      <th>2</th>\n",
       "      <td>1</td>\n",
       "      <td>754.159807</td>\n",
       "      <td>6.232113</td>\n",
       "      <td>2021-04-20</td>\n",
       "    </tr>\n",
       "    <tr>\n",
       "      <th>3</th>\n",
       "      <td>1</td>\n",
       "      <td>2694.783254</td>\n",
       "      <td>18.511000</td>\n",
       "      <td>2021-08-11</td>\n",
       "    </tr>\n",
       "    <tr>\n",
       "      <th>4</th>\n",
       "      <td>1</td>\n",
       "      <td>4028.687306</td>\n",
       "      <td>26.265803</td>\n",
       "      <td>2021-08-28</td>\n",
       "    </tr>\n",
       "    <tr>\n",
       "      <th>5</th>\n",
       "      <td>1</td>\n",
       "      <td>2770.890808</td>\n",
       "      <td>16.650138</td>\n",
       "      <td>2021-10-09</td>\n",
       "    </tr>\n",
       "    <tr>\n",
       "      <th>6</th>\n",
       "      <td>1</td>\n",
       "      <td>3039.020292</td>\n",
       "      <td>14.927879</td>\n",
       "      <td>2021-10-19</td>\n",
       "    </tr>\n",
       "    <tr>\n",
       "      <th>7</th>\n",
       "      <td>1</td>\n",
       "      <td>2842.118050</td>\n",
       "      <td>23.117468</td>\n",
       "      <td>2021-11-06</td>\n",
       "    </tr>\n",
       "    <tr>\n",
       "      <th>8</th>\n",
       "      <td>1</td>\n",
       "      <td>3412.690668</td>\n",
       "      <td>15.238072</td>\n",
       "      <td>2021-11-14</td>\n",
       "    </tr>\n",
       "    <tr>\n",
       "      <th>9</th>\n",
       "      <td>1</td>\n",
       "      <td>748.690645</td>\n",
       "      <td>15.041884</td>\n",
       "      <td>2021-11-22</td>\n",
       "    </tr>\n",
       "  </tbody>\n",
       "</table>\n",
       "</div>"
      ],
      "text/plain": [
       "   user_id     distance   duration        date\n",
       "0        1  4409.919140  25.599769  2021-01-01\n",
       "1        1  2617.592153  15.816871  2021-01-18\n",
       "2        1   754.159807   6.232113  2021-04-20\n",
       "3        1  2694.783254  18.511000  2021-08-11\n",
       "4        1  4028.687306  26.265803  2021-08-28\n",
       "5        1  2770.890808  16.650138  2021-10-09\n",
       "6        1  3039.020292  14.927879  2021-10-19\n",
       "7        1  2842.118050  23.117468  2021-11-06\n",
       "8        1  3412.690668  15.238072  2021-11-14\n",
       "9        1   748.690645  15.041884  2021-11-22"
      ]
     },
     "metadata": {},
     "output_type": "display_data"
    },
    {
     "data": {
      "text/html": [
       "<div>\n",
       "<style scoped>\n",
       "    .dataframe tbody tr th:only-of-type {\n",
       "        vertical-align: middle;\n",
       "    }\n",
       "\n",
       "    .dataframe tbody tr th {\n",
       "        vertical-align: top;\n",
       "    }\n",
       "\n",
       "    .dataframe thead th {\n",
       "        text-align: right;\n",
       "    }\n",
       "</style>\n",
       "<table border=\"1\" class=\"dataframe\">\n",
       "  <thead>\n",
       "    <tr style=\"text-align: right;\">\n",
       "      <th></th>\n",
       "      <th>subscription_type</th>\n",
       "      <th>minute_price</th>\n",
       "      <th>start_ride_price</th>\n",
       "      <th>subscription_fee</th>\n",
       "    </tr>\n",
       "  </thead>\n",
       "  <tbody>\n",
       "    <tr>\n",
       "      <th>0</th>\n",
       "      <td>free</td>\n",
       "      <td>8</td>\n",
       "      <td>50</td>\n",
       "      <td>0</td>\n",
       "    </tr>\n",
       "    <tr>\n",
       "      <th>1</th>\n",
       "      <td>ultra</td>\n",
       "      <td>6</td>\n",
       "      <td>0</td>\n",
       "      <td>199</td>\n",
       "    </tr>\n",
       "  </tbody>\n",
       "</table>\n",
       "</div>"
      ],
      "text/plain": [
       "  subscription_type  minute_price  start_ride_price  subscription_fee\n",
       "0              free             8                50                 0\n",
       "1             ultra             6                 0               199"
      ]
     },
     "metadata": {},
     "output_type": "display_data"
    },
    {
     "name": "stdout",
     "output_type": "stream",
     "text": [
      "<class 'pandas.core.frame.DataFrame'>\n",
      "RangeIndex: 1565 entries, 0 to 1564\n",
      "Data columns (total 5 columns):\n",
      " #   Column             Non-Null Count  Dtype \n",
      "---  ------             --------------  ----- \n",
      " 0   user_id            1565 non-null   int64 \n",
      " 1   name               1565 non-null   object\n",
      " 2   age                1565 non-null   int64 \n",
      " 3   city               1565 non-null   object\n",
      " 4   subscription_type  1565 non-null   object\n",
      "dtypes: int64(2), object(3)\n",
      "memory usage: 61.3+ KB\n",
      "\n",
      "<class 'pandas.core.frame.DataFrame'>\n",
      "RangeIndex: 18068 entries, 0 to 18067\n",
      "Data columns (total 4 columns):\n",
      " #   Column    Non-Null Count  Dtype  \n",
      "---  ------    --------------  -----  \n",
      " 0   user_id   18068 non-null  int64  \n",
      " 1   distance  18068 non-null  float64\n",
      " 2   duration  18068 non-null  float64\n",
      " 3   date      18068 non-null  object \n",
      "dtypes: float64(2), int64(1), object(1)\n",
      "memory usage: 564.8+ KB\n",
      "\n",
      "<class 'pandas.core.frame.DataFrame'>\n",
      "RangeIndex: 2 entries, 0 to 1\n",
      "Data columns (total 4 columns):\n",
      " #   Column             Non-Null Count  Dtype \n",
      "---  ------             --------------  ----- \n",
      " 0   subscription_type  2 non-null      object\n",
      " 1   minute_price       2 non-null      int64 \n",
      " 2   start_ride_price   2 non-null      int64 \n",
      " 3   subscription_fee   2 non-null      int64 \n",
      "dtypes: int64(3), object(1)\n",
      "memory usage: 196.0+ bytes\n"
     ]
    }
   ],
   "source": [
    "display(users.head(10), rides.head(10), subscriptions.head(10))\n",
    "users.info()\n",
    "print()\n",
    "rides.info()\n",
    "print()\n",
    "subscriptions.info()"
   ]
  },
  {
   "cell_type": "markdown",
   "id": "e95ebca7",
   "metadata": {},
   "source": [
    "### Шаг 2. Предобработка данных"
   ]
  },
  {
   "cell_type": "markdown",
   "id": "56d7f22d",
   "metadata": {},
   "source": [
    "#### "
   ]
  },
  {
   "cell_type": "code",
   "execution_count": 4,
   "id": "af6d202c",
   "metadata": {},
   "outputs": [],
   "source": [
    "rides['date'] = pd.to_datetime(rides['date'])"
   ]
  },
  {
   "cell_type": "markdown",
   "id": "2cae86fc",
   "metadata": {},
   "source": [
    "#### "
   ]
  },
  {
   "cell_type": "code",
   "execution_count": 5,
   "id": "2f30fe19",
   "metadata": {},
   "outputs": [
    {
     "data": {
      "text/html": [
       "<div>\n",
       "<style scoped>\n",
       "    .dataframe tbody tr th:only-of-type {\n",
       "        vertical-align: middle;\n",
       "    }\n",
       "\n",
       "    .dataframe tbody tr th {\n",
       "        vertical-align: top;\n",
       "    }\n",
       "\n",
       "    .dataframe thead th {\n",
       "        text-align: right;\n",
       "    }\n",
       "</style>\n",
       "<table border=\"1\" class=\"dataframe\">\n",
       "  <thead>\n",
       "    <tr style=\"text-align: right;\">\n",
       "      <th></th>\n",
       "      <th>user_id</th>\n",
       "      <th>distance</th>\n",
       "      <th>duration</th>\n",
       "      <th>date</th>\n",
       "      <th>month</th>\n",
       "    </tr>\n",
       "  </thead>\n",
       "  <tbody>\n",
       "    <tr>\n",
       "      <th>0</th>\n",
       "      <td>1</td>\n",
       "      <td>4409.919140</td>\n",
       "      <td>25.599769</td>\n",
       "      <td>2021-01-01</td>\n",
       "      <td>1</td>\n",
       "    </tr>\n",
       "    <tr>\n",
       "      <th>1</th>\n",
       "      <td>1</td>\n",
       "      <td>2617.592153</td>\n",
       "      <td>15.816871</td>\n",
       "      <td>2021-01-18</td>\n",
       "      <td>1</td>\n",
       "    </tr>\n",
       "    <tr>\n",
       "      <th>2</th>\n",
       "      <td>1</td>\n",
       "      <td>754.159807</td>\n",
       "      <td>6.232113</td>\n",
       "      <td>2021-04-20</td>\n",
       "      <td>4</td>\n",
       "    </tr>\n",
       "    <tr>\n",
       "      <th>3</th>\n",
       "      <td>1</td>\n",
       "      <td>2694.783254</td>\n",
       "      <td>18.511000</td>\n",
       "      <td>2021-08-11</td>\n",
       "      <td>8</td>\n",
       "    </tr>\n",
       "    <tr>\n",
       "      <th>4</th>\n",
       "      <td>1</td>\n",
       "      <td>4028.687306</td>\n",
       "      <td>26.265803</td>\n",
       "      <td>2021-08-28</td>\n",
       "      <td>8</td>\n",
       "    </tr>\n",
       "    <tr>\n",
       "      <th>...</th>\n",
       "      <td>...</td>\n",
       "      <td>...</td>\n",
       "      <td>...</td>\n",
       "      <td>...</td>\n",
       "      <td>...</td>\n",
       "    </tr>\n",
       "    <tr>\n",
       "      <th>18063</th>\n",
       "      <td>1534</td>\n",
       "      <td>3781.098080</td>\n",
       "      <td>19.822962</td>\n",
       "      <td>2021-11-04</td>\n",
       "      <td>11</td>\n",
       "    </tr>\n",
       "    <tr>\n",
       "      <th>18064</th>\n",
       "      <td>1534</td>\n",
       "      <td>2840.423057</td>\n",
       "      <td>21.409799</td>\n",
       "      <td>2021-11-16</td>\n",
       "      <td>11</td>\n",
       "    </tr>\n",
       "    <tr>\n",
       "      <th>18065</th>\n",
       "      <td>1534</td>\n",
       "      <td>3826.185507</td>\n",
       "      <td>18.435051</td>\n",
       "      <td>2021-11-18</td>\n",
       "      <td>11</td>\n",
       "    </tr>\n",
       "    <tr>\n",
       "      <th>18066</th>\n",
       "      <td>1534</td>\n",
       "      <td>2902.308661</td>\n",
       "      <td>16.674362</td>\n",
       "      <td>2021-11-27</td>\n",
       "      <td>11</td>\n",
       "    </tr>\n",
       "    <tr>\n",
       "      <th>18067</th>\n",
       "      <td>1534</td>\n",
       "      <td>2371.711192</td>\n",
       "      <td>15.893917</td>\n",
       "      <td>2021-12-29</td>\n",
       "      <td>12</td>\n",
       "    </tr>\n",
       "  </tbody>\n",
       "</table>\n",
       "<p>18068 rows × 5 columns</p>\n",
       "</div>"
      ],
      "text/plain": [
       "       user_id     distance   duration       date  month\n",
       "0            1  4409.919140  25.599769 2021-01-01      1\n",
       "1            1  2617.592153  15.816871 2021-01-18      1\n",
       "2            1   754.159807   6.232113 2021-04-20      4\n",
       "3            1  2694.783254  18.511000 2021-08-11      8\n",
       "4            1  4028.687306  26.265803 2021-08-28      8\n",
       "...        ...          ...        ...        ...    ...\n",
       "18063     1534  3781.098080  19.822962 2021-11-04     11\n",
       "18064     1534  2840.423057  21.409799 2021-11-16     11\n",
       "18065     1534  3826.185507  18.435051 2021-11-18     11\n",
       "18066     1534  2902.308661  16.674362 2021-11-27     11\n",
       "18067     1534  2371.711192  15.893917 2021-12-29     12\n",
       "\n",
       "[18068 rows x 5 columns]"
      ]
     },
     "execution_count": 5,
     "metadata": {},
     "output_type": "execute_result"
    }
   ],
   "source": [
    "rides['month'] = pd.DatetimeIndex(rides['date']).month\n",
    "rides"
   ]
  },
  {
   "cell_type": "markdown",
   "id": "30db4207",
   "metadata": {},
   "source": [
    "#### "
   ]
  },
  {
   "cell_type": "markdown",
   "id": "9d3fc3f7",
   "metadata": {},
   "source": [
    "Пропущенных значений в датафреймах нет, судя по общей информации о них."
   ]
  },
  {
   "cell_type": "code",
   "execution_count": 6,
   "id": "fe590b0d",
   "metadata": {},
   "outputs": [
    {
     "name": "stdout",
     "output_type": "stream",
     "text": [
      "Число явных дубликатов в таблице пользователи: 31 \n",
      "Число явных дубликатов в таблице с поездками: 0 \n",
      "неповторяющиеся названия городов: ['Тюмень' 'Омск' 'Москва' 'Ростов-на-Дону' 'Краснодар' 'Пятигорск'\n",
      " 'Екатеринбург' 'Сочи']\n"
     ]
    }
   ],
   "source": [
    "print(f'Число явных дубликатов в таблице пользователи: {users.duplicated().sum()}', '\\n'\n",
    "      f'Число явных дубликатов в таблице с поездками: {rides.duplicated().sum()}','\\n'\n",
    "      f'неповторяющиеся названия городов: {users.city.unique()}')"
   ]
  },
  {
   "cell_type": "code",
   "execution_count": 7,
   "id": "9efb5779",
   "metadata": {},
   "outputs": [
    {
     "data": {
      "text/html": [
       "<div>\n",
       "<style scoped>\n",
       "    .dataframe tbody tr th:only-of-type {\n",
       "        vertical-align: middle;\n",
       "    }\n",
       "\n",
       "    .dataframe tbody tr th {\n",
       "        vertical-align: top;\n",
       "    }\n",
       "\n",
       "    .dataframe thead th {\n",
       "        text-align: right;\n",
       "    }\n",
       "</style>\n",
       "<table border=\"1\" class=\"dataframe\">\n",
       "  <thead>\n",
       "    <tr style=\"text-align: right;\">\n",
       "      <th></th>\n",
       "      <th>user_id</th>\n",
       "      <th>name</th>\n",
       "      <th>age</th>\n",
       "      <th>city</th>\n",
       "      <th>subscription_type</th>\n",
       "    </tr>\n",
       "  </thead>\n",
       "  <tbody>\n",
       "    <tr>\n",
       "      <th>0</th>\n",
       "      <td>1</td>\n",
       "      <td>Кира</td>\n",
       "      <td>22</td>\n",
       "      <td>Тюмень</td>\n",
       "      <td>ultra</td>\n",
       "    </tr>\n",
       "    <tr>\n",
       "      <th>1</th>\n",
       "      <td>2</td>\n",
       "      <td>Станислав</td>\n",
       "      <td>31</td>\n",
       "      <td>Омск</td>\n",
       "      <td>ultra</td>\n",
       "    </tr>\n",
       "    <tr>\n",
       "      <th>2</th>\n",
       "      <td>3</td>\n",
       "      <td>Алексей</td>\n",
       "      <td>20</td>\n",
       "      <td>Москва</td>\n",
       "      <td>ultra</td>\n",
       "    </tr>\n",
       "    <tr>\n",
       "      <th>3</th>\n",
       "      <td>4</td>\n",
       "      <td>Константин</td>\n",
       "      <td>26</td>\n",
       "      <td>Ростов-на-Дону</td>\n",
       "      <td>ultra</td>\n",
       "    </tr>\n",
       "    <tr>\n",
       "      <th>4</th>\n",
       "      <td>5</td>\n",
       "      <td>Адель</td>\n",
       "      <td>28</td>\n",
       "      <td>Омск</td>\n",
       "      <td>ultra</td>\n",
       "    </tr>\n",
       "    <tr>\n",
       "      <th>...</th>\n",
       "      <td>...</td>\n",
       "      <td>...</td>\n",
       "      <td>...</td>\n",
       "      <td>...</td>\n",
       "      <td>...</td>\n",
       "    </tr>\n",
       "    <tr>\n",
       "      <th>1529</th>\n",
       "      <td>1530</td>\n",
       "      <td>Ростислав</td>\n",
       "      <td>29</td>\n",
       "      <td>Сочи</td>\n",
       "      <td>free</td>\n",
       "    </tr>\n",
       "    <tr>\n",
       "      <th>1530</th>\n",
       "      <td>1531</td>\n",
       "      <td>Никита</td>\n",
       "      <td>25</td>\n",
       "      <td>Пятигорск</td>\n",
       "      <td>free</td>\n",
       "    </tr>\n",
       "    <tr>\n",
       "      <th>1531</th>\n",
       "      <td>1532</td>\n",
       "      <td>Алексей</td>\n",
       "      <td>26</td>\n",
       "      <td>Тюмень</td>\n",
       "      <td>free</td>\n",
       "    </tr>\n",
       "    <tr>\n",
       "      <th>1532</th>\n",
       "      <td>1533</td>\n",
       "      <td>Степан</td>\n",
       "      <td>22</td>\n",
       "      <td>Краснодар</td>\n",
       "      <td>free</td>\n",
       "    </tr>\n",
       "    <tr>\n",
       "      <th>1533</th>\n",
       "      <td>1534</td>\n",
       "      <td>Альберт</td>\n",
       "      <td>25</td>\n",
       "      <td>Краснодар</td>\n",
       "      <td>free</td>\n",
       "    </tr>\n",
       "  </tbody>\n",
       "</table>\n",
       "<p>1534 rows × 5 columns</p>\n",
       "</div>"
      ],
      "text/plain": [
       "      user_id        name  age            city subscription_type\n",
       "0           1        Кира   22          Тюмень             ultra\n",
       "1           2   Станислав   31            Омск             ultra\n",
       "2           3     Алексей   20          Москва             ultra\n",
       "3           4  Константин   26  Ростов-на-Дону             ultra\n",
       "4           5       Адель   28            Омск             ultra\n",
       "...       ...         ...  ...             ...               ...\n",
       "1529     1530   Ростислав   29            Сочи              free\n",
       "1530     1531      Никита   25       Пятигорск              free\n",
       "1531     1532     Алексей   26          Тюмень              free\n",
       "1532     1533      Степан   22       Краснодар              free\n",
       "1533     1534     Альберт   25       Краснодар              free\n",
       "\n",
       "[1534 rows x 5 columns]"
      ]
     },
     "execution_count": 7,
     "metadata": {},
     "output_type": "execute_result"
    }
   ],
   "source": [
    "users = users.drop_duplicates().reset_index(drop=True)\n",
    "users"
   ]
  },
  {
   "cell_type": "markdown",
   "id": "09c80d04",
   "metadata": {},
   "source": [
    "Число строк в таблице пользователей уменьшилось на 31, как и предполагалось при проверке на явные дубликаты"
   ]
  },
  {
   "cell_type": "markdown",
   "id": "212593c7",
   "metadata": {},
   "source": [
    "### Шаг 3. Исследовательский анализ данных"
   ]
  },
  {
   "cell_type": "markdown",
   "id": "88d432e4",
   "metadata": {},
   "source": [
    "#### Частота встречаемости городов"
   ]
  },
  {
   "cell_type": "code",
   "execution_count": 8,
   "id": "9da7bd54",
   "metadata": {
    "scrolled": true
   },
   "outputs": [
    {
     "data": {
      "image/png": "[encoded data removed]",
      "text/plain": [
       "<Figure size 1000x500 with 1 Axes>"
      ]
     },
     "metadata": {},
     "output_type": "display_data"
    }
   ],
   "source": [
    "(\n",
    "    users['city'].value_counts(ascending=True).to_frame()\n",
    "    .plot(kind = 'barh', grid=True, figsize=(10, 5), legend=False)\n",
    "    .set_title('Частота встречаемости городов' + \"\\n\", fontsize = 25)\n",
    ")\n",
    "plt.ylabel('Название города', fontsize = 15);\n",
    "plt.xlabel('Частота появления', fontsize = 15);"
   ]
  },
  {
   "cell_type": "markdown",
   "id": "ca0b9481",
   "metadata": {},
   "source": [
    "В городе Пятигорск совершено больше всего поездок, а в Москве меньше всего."
   ]
  },
  {
   "cell_type": "markdown",
   "id": "96a85081",
   "metadata": {},
   "source": [
    "#### Соотношение пользователей с подпиской и без подписки"
   ]
  },
  {
   "cell_type": "code",
   "execution_count": 9,
   "id": "5df5e85b",
   "metadata": {},
   "outputs": [
    {
     "data": {
      "image/png": "[encoded data removed]",
      "text/plain": [
       "<Figure size 1000x500 with 1 Axes>"
      ]
     },
     "metadata": {},
     "output_type": "display_data"
    }
   ],
   "source": [
    "(\n",
    "    users['subscription_type'].value_counts(ascending=True).to_frame()\n",
    "    .plot(kind = 'barh', grid=True, figsize=(10, 5), legend=False)\n",
    "    .set_title('Соотношение пользователей с подпиской и без подписки' + \"\\n\", fontsize = 20)\n",
    ")\n",
    "plt.ylabel('Тип подписки', fontsize = 15);\n",
    "plt.xlabel('Частота появления', fontsize = 15);"
   ]
  },
  {
   "cell_type": "code",
   "execution_count": 10,
   "id": "1690b27e",
   "metadata": {},
   "outputs": [
    {
     "name": "stdout",
     "output_type": "stream",
     "text": [
      "Всего пользователей: 1534 \n",
      "Доля пользователей без подписки: 0.54 \n",
      "Доля пользователей с подпиской: 0.46\n"
     ]
    }
   ],
   "source": [
    "share = round(\n",
    "    users.query('subscription_type == \"free\"')\n",
    "    .subscription_type.count() / users.shape[0], 2)\n",
    "print(f'Всего пользователей: {users.shape[0]}',\n",
    "      '\\n'f'Доля пользователей без подписки: {share}', \n",
    "      '\\n'f'Доля пользователей с подпиской: {round(1 - share, 2)}')"
   ]
  },
  {
   "cell_type": "markdown",
   "id": "e17e0260",
   "metadata": {},
   "source": [
    "Число пользователей без подписки больше чем с ней."
   ]
  },
  {
   "cell_type": "markdown",
   "id": "21f7b704",
   "metadata": {},
   "source": [
    "#### Возраст пользователей"
   ]
  },
  {
   "cell_type": "code",
   "execution_count": 11,
   "id": "7a249918",
   "metadata": {},
   "outputs": [
    {
     "data": {
      "image/png": "[encoded data removed]",
      "text/plain": [
       "<Figure size 1000x500 with 1 Axes>"
      ]
     },
     "metadata": {},
     "output_type": "display_data"
    }
   ],
   "source": [
    "(\n",
    "    users['age'].hist(bins=30, figsize=(10, 5))\n",
    "    .set_title('Возраст пользователей' + \"\\n\", fontsize = 20)\n",
    ")\n",
    "plt.xlabel('Возраст', fontsize = 15);\n",
    "plt.ylabel('Частота появления', fontsize = 15);"
   ]
  },
  {
   "cell_type": "markdown",
   "id": "bd7e559c",
   "metadata": {},
   "source": [
    "График выглядит как нормальное распределение. У большего числа пользователей возраст составляет 25 лет."
   ]
  },
  {
   "cell_type": "markdown",
   "id": "361fc7f3",
   "metadata": {},
   "source": [
    "#### Расстояние, которое пользователь преодолел за одну поездку"
   ]
  },
  {
   "cell_type": "code",
   "execution_count": 12,
   "id": "4d6062ca",
   "metadata": {},
   "outputs": [
    {
     "data": {
      "image/png": "[encoded data removed]",
      "text/plain": [
       "<Figure size 1000x500 with 1 Axes>"
      ]
     },
     "metadata": {},
     "output_type": "display_data"
    }
   ],
   "source": [
    "(\n",
    "    rides['distance'].hist(bins=200, figsize=(10, 5))\n",
    "    .set_title('Расстояние, которое пользователь преодолел за одну поездку' + \"\\n\", fontsize = 20)\n",
    ")\n",
    "plt.xlabel('Расстояние', fontsize = 15);\n",
    "plt.ylabel('Частота появления', fontsize = 15);"
   ]
  },
  {
   "cell_type": "markdown",
   "id": "8e5fba8d",
   "metadata": {},
   "source": [
    "Чаще всего клиенты проделывали путь около 3150м за одну поездку. Также присутствует пик в районе значения 500 метров, думаю он связан с тем, что самокат мог был быть неисправен."
   ]
  },
  {
   "cell_type": "markdown",
   "id": "890a7db5",
   "metadata": {},
   "source": [
    "#### Продолжительность поездок"
   ]
  },
  {
   "cell_type": "code",
   "execution_count": 13,
   "id": "1756ba38",
   "metadata": {},
   "outputs": [
    {
     "data": {
      "image/png": "[encoded data removed]",
      "text/plain": [
       "<Figure size 1000x500 with 1 Axes>"
      ]
     },
     "metadata": {},
     "output_type": "display_data"
    },
    {
     "data": {
      "text/plain": [
       "count    18068.000000\n",
       "mean        17.805011\n",
       "std          6.091051\n",
       "min          0.500000\n",
       "25%         13.597563\n",
       "50%         17.678395\n",
       "75%         21.724800\n",
       "max         40.823963\n",
       "Name: duration, dtype: float64"
      ]
     },
     "execution_count": 13,
     "metadata": {},
     "output_type": "execute_result"
    },
    {
     "data": {
      "image/png": "[encoded data removed]",
      "text/plain": [
       "<Figure size 640x480 with 1 Axes>"
      ]
     },
     "metadata": {},
     "output_type": "display_data"
    }
   ],
   "source": [
    "(\n",
    "    rides['duration'].hist(bins=100, figsize=(10, 5))\n",
    "    .set_title('Продолжительность поездок' + \"\\n\", fontsize = 20)\n",
    ")\n",
    "plt.xlabel('Время', fontsize = 15);\n",
    "plt.ylabel('Частота появления', fontsize = 15);\n",
    "plt.show()\n",
    "rides.boxplot(column=['duration']);\n",
    "rides['duration'].describe()"
   ]
  },
  {
   "cell_type": "markdown",
   "id": "ba360302",
   "metadata": {},
   "source": [
    "Обнаружено аномально маленькие значения меньше 1, а также аномально большие значения больше 34. В среднем пользователи ездили на самокатах чаще всего от 15 до 20 минут."
   ]
  },
  {
   "cell_type": "markdown",
   "id": "4ef51331",
   "metadata": {},
   "source": [
    "### Шаг 4. Объединение данных"
   ]
  },
  {
   "cell_type": "markdown",
   "id": "12241505",
   "metadata": {},
   "source": [
    "#### "
   ]
  },
  {
   "cell_type": "code",
   "execution_count": 14,
   "id": "1d9dab7b",
   "metadata": {
    "scrolled": true
   },
   "outputs": [
    {
     "data": {
      "text/plain": [
       "user_id              0\n",
       "name                 0\n",
       "age                  0\n",
       "city                 0\n",
       "subscription_type    0\n",
       "distance             0\n",
       "duration             0\n",
       "date                 0\n",
       "month                0\n",
       "minute_price         0\n",
       "start_ride_price     0\n",
       "subscription_fee     0\n",
       "dtype: int64"
      ]
     },
     "metadata": {},
     "output_type": "display_data"
    },
    {
     "name": "stdout",
     "output_type": "stream",
     "text": [
      "18068 - Размер таблицы не изменился\n"
     ]
    }
   ],
   "source": [
    "all_merged = users.merge(rides).merge(subscriptions)\n",
    "display(all_merged.isna().sum())\n",
    "print(all_merged.shape[0], '- Размер таблицы не изменился')"
   ]
  },
  {
   "cell_type": "markdown",
   "id": "48703ddf",
   "metadata": {},
   "source": [
    "#### "
   ]
  },
  {
   "cell_type": "code",
   "execution_count": 15,
   "id": "46ae1104",
   "metadata": {},
   "outputs": [
    {
     "data": {
      "text/html": [
       "<div>\n",
       "<style scoped>\n",
       "    .dataframe tbody tr th:only-of-type {\n",
       "        vertical-align: middle;\n",
       "    }\n",
       "\n",
       "    .dataframe tbody tr th {\n",
       "        vertical-align: top;\n",
       "    }\n",
       "\n",
       "    .dataframe thead th {\n",
       "        text-align: right;\n",
       "    }\n",
       "</style>\n",
       "<table border=\"1\" class=\"dataframe\">\n",
       "  <thead>\n",
       "    <tr style=\"text-align: right;\">\n",
       "      <th></th>\n",
       "      <th>user_id</th>\n",
       "      <th>name</th>\n",
       "      <th>age</th>\n",
       "      <th>city</th>\n",
       "      <th>subscription_type</th>\n",
       "      <th>distance</th>\n",
       "      <th>duration</th>\n",
       "      <th>date</th>\n",
       "      <th>month</th>\n",
       "      <th>minute_price</th>\n",
       "      <th>start_ride_price</th>\n",
       "      <th>subscription_fee</th>\n",
       "    </tr>\n",
       "  </thead>\n",
       "  <tbody>\n",
       "    <tr>\n",
       "      <th>0</th>\n",
       "      <td>700</td>\n",
       "      <td>Айдар</td>\n",
       "      <td>22</td>\n",
       "      <td>Омск</td>\n",
       "      <td>free</td>\n",
       "      <td>2515.690719</td>\n",
       "      <td>14.944286</td>\n",
       "      <td>2021-01-02</td>\n",
       "      <td>1</td>\n",
       "      <td>8</td>\n",
       "      <td>50</td>\n",
       "      <td>0</td>\n",
       "    </tr>\n",
       "    <tr>\n",
       "      <th>1</th>\n",
       "      <td>700</td>\n",
       "      <td>Айдар</td>\n",
       "      <td>22</td>\n",
       "      <td>Омск</td>\n",
       "      <td>free</td>\n",
       "      <td>846.932642</td>\n",
       "      <td>16.234663</td>\n",
       "      <td>2021-02-01</td>\n",
       "      <td>2</td>\n",
       "      <td>8</td>\n",
       "      <td>50</td>\n",
       "      <td>0</td>\n",
       "    </tr>\n",
       "    <tr>\n",
       "      <th>2</th>\n",
       "      <td>700</td>\n",
       "      <td>Айдар</td>\n",
       "      <td>22</td>\n",
       "      <td>Омск</td>\n",
       "      <td>free</td>\n",
       "      <td>4004.434142</td>\n",
       "      <td>20.016628</td>\n",
       "      <td>2021-02-04</td>\n",
       "      <td>2</td>\n",
       "      <td>8</td>\n",
       "      <td>50</td>\n",
       "      <td>0</td>\n",
       "    </tr>\n",
       "    <tr>\n",
       "      <th>3</th>\n",
       "      <td>700</td>\n",
       "      <td>Айдар</td>\n",
       "      <td>22</td>\n",
       "      <td>Омск</td>\n",
       "      <td>free</td>\n",
       "      <td>1205.911290</td>\n",
       "      <td>9.782872</td>\n",
       "      <td>2021-02-10</td>\n",
       "      <td>2</td>\n",
       "      <td>8</td>\n",
       "      <td>50</td>\n",
       "      <td>0</td>\n",
       "    </tr>\n",
       "    <tr>\n",
       "      <th>4</th>\n",
       "      <td>700</td>\n",
       "      <td>Айдар</td>\n",
       "      <td>22</td>\n",
       "      <td>Омск</td>\n",
       "      <td>free</td>\n",
       "      <td>3047.379435</td>\n",
       "      <td>17.427673</td>\n",
       "      <td>2021-02-14</td>\n",
       "      <td>2</td>\n",
       "      <td>8</td>\n",
       "      <td>50</td>\n",
       "      <td>0</td>\n",
       "    </tr>\n",
       "  </tbody>\n",
       "</table>\n",
       "</div>"
      ],
      "text/plain": [
       "   user_id   name  age  city subscription_type     distance   duration  \\\n",
       "0      700  Айдар   22  Омск              free  2515.690719  14.944286   \n",
       "1      700  Айдар   22  Омск              free   846.932642  16.234663   \n",
       "2      700  Айдар   22  Омск              free  4004.434142  20.016628   \n",
       "3      700  Айдар   22  Омск              free  1205.911290   9.782872   \n",
       "4      700  Айдар   22  Омск              free  3047.379435  17.427673   \n",
       "\n",
       "        date  month  minute_price  start_ride_price  subscription_fee  \n",
       "0 2021-01-02      1             8                50                 0  \n",
       "1 2021-02-01      2             8                50                 0  \n",
       "2 2021-02-04      2             8                50                 0  \n",
       "3 2021-02-10      2             8                50                 0  \n",
       "4 2021-02-14      2             8                50                 0  "
      ]
     },
     "execution_count": 15,
     "metadata": {},
     "output_type": "execute_result"
    }
   ],
   "source": [
    "free = all_merged.query('subscription_type == \"free\"').reset_index(drop=True)\n",
    "free.head()"
   ]
  },
  {
   "cell_type": "code",
   "execution_count": 16,
   "id": "d5d3235b",
   "metadata": {},
   "outputs": [
    {
     "data": {
      "text/html": [
       "<div>\n",
       "<style scoped>\n",
       "    .dataframe tbody tr th:only-of-type {\n",
       "        vertical-align: middle;\n",
       "    }\n",
       "\n",
       "    .dataframe tbody tr th {\n",
       "        vertical-align: top;\n",
       "    }\n",
       "\n",
       "    .dataframe thead th {\n",
       "        text-align: right;\n",
       "    }\n",
       "</style>\n",
       "<table border=\"1\" class=\"dataframe\">\n",
       "  <thead>\n",
       "    <tr style=\"text-align: right;\">\n",
       "      <th></th>\n",
       "      <th>user_id</th>\n",
       "      <th>name</th>\n",
       "      <th>age</th>\n",
       "      <th>city</th>\n",
       "      <th>subscription_type</th>\n",
       "      <th>distance</th>\n",
       "      <th>duration</th>\n",
       "      <th>date</th>\n",
       "      <th>month</th>\n",
       "      <th>minute_price</th>\n",
       "      <th>start_ride_price</th>\n",
       "      <th>subscription_fee</th>\n",
       "    </tr>\n",
       "  </thead>\n",
       "  <tbody>\n",
       "    <tr>\n",
       "      <th>0</th>\n",
       "      <td>1</td>\n",
       "      <td>Кира</td>\n",
       "      <td>22</td>\n",
       "      <td>Тюмень</td>\n",
       "      <td>ultra</td>\n",
       "      <td>4409.919140</td>\n",
       "      <td>25.599769</td>\n",
       "      <td>2021-01-01</td>\n",
       "      <td>1</td>\n",
       "      <td>6</td>\n",
       "      <td>0</td>\n",
       "      <td>199</td>\n",
       "    </tr>\n",
       "    <tr>\n",
       "      <th>1</th>\n",
       "      <td>1</td>\n",
       "      <td>Кира</td>\n",
       "      <td>22</td>\n",
       "      <td>Тюмень</td>\n",
       "      <td>ultra</td>\n",
       "      <td>2617.592153</td>\n",
       "      <td>15.816871</td>\n",
       "      <td>2021-01-18</td>\n",
       "      <td>1</td>\n",
       "      <td>6</td>\n",
       "      <td>0</td>\n",
       "      <td>199</td>\n",
       "    </tr>\n",
       "    <tr>\n",
       "      <th>2</th>\n",
       "      <td>1</td>\n",
       "      <td>Кира</td>\n",
       "      <td>22</td>\n",
       "      <td>Тюмень</td>\n",
       "      <td>ultra</td>\n",
       "      <td>754.159807</td>\n",
       "      <td>6.232113</td>\n",
       "      <td>2021-04-20</td>\n",
       "      <td>4</td>\n",
       "      <td>6</td>\n",
       "      <td>0</td>\n",
       "      <td>199</td>\n",
       "    </tr>\n",
       "    <tr>\n",
       "      <th>3</th>\n",
       "      <td>1</td>\n",
       "      <td>Кира</td>\n",
       "      <td>22</td>\n",
       "      <td>Тюмень</td>\n",
       "      <td>ultra</td>\n",
       "      <td>2694.783254</td>\n",
       "      <td>18.511000</td>\n",
       "      <td>2021-08-11</td>\n",
       "      <td>8</td>\n",
       "      <td>6</td>\n",
       "      <td>0</td>\n",
       "      <td>199</td>\n",
       "    </tr>\n",
       "    <tr>\n",
       "      <th>4</th>\n",
       "      <td>1</td>\n",
       "      <td>Кира</td>\n",
       "      <td>22</td>\n",
       "      <td>Тюмень</td>\n",
       "      <td>ultra</td>\n",
       "      <td>4028.687306</td>\n",
       "      <td>26.265803</td>\n",
       "      <td>2021-08-28</td>\n",
       "      <td>8</td>\n",
       "      <td>6</td>\n",
       "      <td>0</td>\n",
       "      <td>199</td>\n",
       "    </tr>\n",
       "  </tbody>\n",
       "</table>\n",
       "</div>"
      ],
      "text/plain": [
       "   user_id  name  age    city subscription_type     distance   duration  \\\n",
       "0        1  Кира   22  Тюмень             ultra  4409.919140  25.599769   \n",
       "1        1  Кира   22  Тюмень             ultra  2617.592153  15.816871   \n",
       "2        1  Кира   22  Тюмень             ultra   754.159807   6.232113   \n",
       "3        1  Кира   22  Тюмень             ultra  2694.783254  18.511000   \n",
       "4        1  Кира   22  Тюмень             ultra  4028.687306  26.265803   \n",
       "\n",
       "        date  month  minute_price  start_ride_price  subscription_fee  \n",
       "0 2021-01-01      1             6                 0               199  \n",
       "1 2021-01-18      1             6                 0               199  \n",
       "2 2021-04-20      4             6                 0               199  \n",
       "3 2021-08-11      8             6                 0               199  \n",
       "4 2021-08-28      8             6                 0               199  "
      ]
     },
     "execution_count": 16,
     "metadata": {},
     "output_type": "execute_result"
    }
   ],
   "source": [
    "ultra = all_merged.query('subscription_type == \"ultra\"').reset_index(drop=True)\n",
    "ultra.head()"
   ]
  },
  {
   "cell_type": "code",
   "execution_count": 17,
   "id": "f2b61028",
   "metadata": {},
   "outputs": [
    {
     "data": {
      "image/png": "[encoded data removed]",
      "text/plain": [
       "<Figure size 1000x500 with 1 Axes>"
      ]
     },
     "metadata": {},
     "output_type": "display_data"
    }
   ],
   "source": [
    "free['distance'].hist(bins=100, figsize=(10, 5), alpha=0.5)\n",
    "(\n",
    "    ultra['distance'].hist(bins=100, figsize=(10, 5))\n",
    "    .set_title('Расстояние, которое пользователь преодолел за одну поездку' + \"\\n\", fontsize = 20)\n",
    ")\n",
    "plt.xlabel('Расстояния проделанное пользователями', fontsize = 15);\n",
    "plt.ylabel('Частота появления', fontsize = 15);\n",
    "plt.legend(('Без подписки', 'С подпиской'));"
   ]
  },
  {
   "cell_type": "code",
   "execution_count": 18,
   "id": "2d1e88a2",
   "metadata": {},
   "outputs": [
    {
     "data": {
      "image/png": "[encoded data removed]",
      "text/plain": [
       "<Figure size 1000x500 with 1 Axes>"
      ]
     },
     "metadata": {},
     "output_type": "display_data"
    }
   ],
   "source": [
    "free['duration'].hist(bins=100, figsize=(10, 5), alpha=0.5)\n",
    "(\n",
    "    ultra['duration'].hist(bins=100, figsize=(10, 5))\n",
    "    .set_title('Продолжительность поездок' + \"\\n\", fontsize = 20)\n",
    ")\n",
    "plt.xlabel('Время пользования самокатом за сессию', fontsize = 15);\n",
    "plt.ylabel('Частота появления', fontsize = 15);\n",
    "plt.legend(('Без подписки', 'С подпиской'));"
   ]
  },
  {
   "cell_type": "markdown",
   "id": "4bea28e0",
   "metadata": {},
   "source": [
    "Обе категории пользователей использовали самокаты чаще всего от 15 до 20 минут. Оба графика выглядят как нормальное распределение, однако пользователи с подпиской используют самокат дольше 35 минут, чем пользователи без."
   ]
  },
  {
   "cell_type": "markdown",
   "id": "402d620f",
   "metadata": {},
   "source": [
    "### Шаг 5. Подсчёт выручки"
   ]
  },
  {
   "cell_type": "markdown",
   "id": "a32867fe",
   "metadata": {},
   "source": [
    "#### "
   ]
  },
  {
   "cell_type": "code",
   "execution_count": 19,
   "id": "7691e556",
   "metadata": {},
   "outputs": [],
   "source": [
    "all_merged['duration'] = np.ceil(all_merged['duration'])\n",
    "counting = all_merged.pivot_table(index=['user_id', 'month', 'subscription_type'], \n",
    "                                  values=['distance', 'duration'], \n",
    "                                  aggfunc={'distance': 'sum', 'duration':['count', 'sum']}).reset_index()"
   ]
  },
  {
   "cell_type": "markdown",
   "id": "328c3d37",
   "metadata": {},
   "source": [
    "#### "
   ]
  },
  {
   "cell_type": "code",
   "execution_count": 20,
   "id": "ff5b317e",
   "metadata": {},
   "outputs": [],
   "source": [
    "def calculating_profits(row):\n",
    "    subscription_type = row['subscription_type']\n",
    "    if subscription_type == 'ultra':\n",
    "        return 0 * row['number_trips'] + 6 * row['sum_duration'] + 199\n",
    "    else:\n",
    "        return 50 * row['number_trips'] + 8 * row['sum_duration'] + 0"
   ]
  },
  {
   "cell_type": "code",
   "execution_count": 21,
   "id": "bca6bb04",
   "metadata": {},
   "outputs": [
    {
     "name": "stdout",
     "output_type": "stream",
     "text": [
      "Число пропусков в сводной таблице:\n",
      "user_id              0\n",
      "month                0\n",
      "subscription_type    0\n",
      "sum_distance         0\n",
      "number_trips         0\n",
      "sum_duration         0\n",
      "dtype: int64\n"
     ]
    },
    {
     "data": {
      "text/html": [
       "<div>\n",
       "<style scoped>\n",
       "    .dataframe tbody tr th:only-of-type {\n",
       "        vertical-align: middle;\n",
       "    }\n",
       "\n",
       "    .dataframe tbody tr th {\n",
       "        vertical-align: top;\n",
       "    }\n",
       "\n",
       "    .dataframe thead th {\n",
       "        text-align: right;\n",
       "    }\n",
       "</style>\n",
       "<table border=\"1\" class=\"dataframe\">\n",
       "  <thead>\n",
       "    <tr style=\"text-align: right;\">\n",
       "      <th></th>\n",
       "      <th>user_id</th>\n",
       "      <th>month</th>\n",
       "      <th>subscription_type</th>\n",
       "      <th>sum_distance</th>\n",
       "      <th>number_trips</th>\n",
       "      <th>sum_duration</th>\n",
       "      <th>profits</th>\n",
       "    </tr>\n",
       "  </thead>\n",
       "  <tbody>\n",
       "    <tr>\n",
       "      <th>0</th>\n",
       "      <td>1</td>\n",
       "      <td>1</td>\n",
       "      <td>ultra</td>\n",
       "      <td>7027.511294</td>\n",
       "      <td>2</td>\n",
       "      <td>42.0</td>\n",
       "      <td>451.0</td>\n",
       "    </tr>\n",
       "    <tr>\n",
       "      <th>1</th>\n",
       "      <td>1</td>\n",
       "      <td>4</td>\n",
       "      <td>ultra</td>\n",
       "      <td>754.159807</td>\n",
       "      <td>1</td>\n",
       "      <td>7.0</td>\n",
       "      <td>241.0</td>\n",
       "    </tr>\n",
       "    <tr>\n",
       "      <th>2</th>\n",
       "      <td>1</td>\n",
       "      <td>8</td>\n",
       "      <td>ultra</td>\n",
       "      <td>6723.470560</td>\n",
       "      <td>2</td>\n",
       "      <td>46.0</td>\n",
       "      <td>475.0</td>\n",
       "    </tr>\n",
       "    <tr>\n",
       "      <th>3</th>\n",
       "      <td>1</td>\n",
       "      <td>10</td>\n",
       "      <td>ultra</td>\n",
       "      <td>5809.911100</td>\n",
       "      <td>2</td>\n",
       "      <td>32.0</td>\n",
       "      <td>391.0</td>\n",
       "    </tr>\n",
       "    <tr>\n",
       "      <th>4</th>\n",
       "      <td>1</td>\n",
       "      <td>11</td>\n",
       "      <td>ultra</td>\n",
       "      <td>7003.499363</td>\n",
       "      <td>3</td>\n",
       "      <td>56.0</td>\n",
       "      <td>535.0</td>\n",
       "    </tr>\n",
       "    <tr>\n",
       "      <th>...</th>\n",
       "      <td>...</td>\n",
       "      <td>...</td>\n",
       "      <td>...</td>\n",
       "      <td>...</td>\n",
       "      <td>...</td>\n",
       "      <td>...</td>\n",
       "      <td>...</td>\n",
       "    </tr>\n",
       "    <tr>\n",
       "      <th>11326</th>\n",
       "      <td>1534</td>\n",
       "      <td>6</td>\n",
       "      <td>free</td>\n",
       "      <td>3409.468534</td>\n",
       "      <td>2</td>\n",
       "      <td>26.0</td>\n",
       "      <td>308.0</td>\n",
       "    </tr>\n",
       "    <tr>\n",
       "      <th>11327</th>\n",
       "      <td>1534</td>\n",
       "      <td>8</td>\n",
       "      <td>free</td>\n",
       "      <td>7622.453034</td>\n",
       "      <td>2</td>\n",
       "      <td>48.0</td>\n",
       "      <td>484.0</td>\n",
       "    </tr>\n",
       "    <tr>\n",
       "      <th>11328</th>\n",
       "      <td>1534</td>\n",
       "      <td>9</td>\n",
       "      <td>free</td>\n",
       "      <td>4928.173852</td>\n",
       "      <td>1</td>\n",
       "      <td>23.0</td>\n",
       "      <td>234.0</td>\n",
       "    </tr>\n",
       "    <tr>\n",
       "      <th>11329</th>\n",
       "      <td>1534</td>\n",
       "      <td>11</td>\n",
       "      <td>free</td>\n",
       "      <td>13350.015305</td>\n",
       "      <td>4</td>\n",
       "      <td>78.0</td>\n",
       "      <td>824.0</td>\n",
       "    </tr>\n",
       "    <tr>\n",
       "      <th>11330</th>\n",
       "      <td>1534</td>\n",
       "      <td>12</td>\n",
       "      <td>free</td>\n",
       "      <td>2371.711192</td>\n",
       "      <td>1</td>\n",
       "      <td>16.0</td>\n",
       "      <td>178.0</td>\n",
       "    </tr>\n",
       "  </tbody>\n",
       "</table>\n",
       "<p>11331 rows × 7 columns</p>\n",
       "</div>"
      ],
      "text/plain": [
       "       user_id  month subscription_type  sum_distance  number_trips  \\\n",
       "0            1      1             ultra   7027.511294             2   \n",
       "1            1      4             ultra    754.159807             1   \n",
       "2            1      8             ultra   6723.470560             2   \n",
       "3            1     10             ultra   5809.911100             2   \n",
       "4            1     11             ultra   7003.499363             3   \n",
       "...        ...    ...               ...           ...           ...   \n",
       "11326     1534      6              free   3409.468534             2   \n",
       "11327     1534      8              free   7622.453034             2   \n",
       "11328     1534      9              free   4928.173852             1   \n",
       "11329     1534     11              free  13350.015305             4   \n",
       "11330     1534     12              free   2371.711192             1   \n",
       "\n",
       "       sum_duration  profits  \n",
       "0              42.0    451.0  \n",
       "1               7.0    241.0  \n",
       "2              46.0    475.0  \n",
       "3              32.0    391.0  \n",
       "4              56.0    535.0  \n",
       "...             ...      ...  \n",
       "11326          26.0    308.0  \n",
       "11327          48.0    484.0  \n",
       "11328          23.0    234.0  \n",
       "11329          78.0    824.0  \n",
       "11330          16.0    178.0  \n",
       "\n",
       "[11331 rows x 7 columns]"
      ]
     },
     "execution_count": 21,
     "metadata": {},
     "output_type": "execute_result"
    }
   ],
   "source": [
    "counting.columns = ['user_id', 'month', \n",
    "                    'subscription_type', 'sum_distance', \n",
    "                    'number_trips', 'sum_duration']\n",
    "print(f'Число пропусков в сводной таблице:\\n{counting.isna().sum()}')\n",
    "counting['profits'] = counting.apply(calculating_profits, axis=1)\n",
    "counting"
   ]
  },
  {
   "cell_type": "code",
   "execution_count": 22,
   "id": "c1cbc3d4",
   "metadata": {},
   "outputs": [
    {
     "data": {
      "image/png": "[encoded data removed]",
      "text/plain": [
       "<Figure size 1000x500 with 1 Axes>"
      ]
     },
     "metadata": {},
     "output_type": "display_data"
    }
   ],
   "source": [
    "counting.query('subscription_type == \"ultra\"')['profits'].hist(bins=100, figsize=(10, 5));\n",
    "(\n",
    "    counting.query('subscription_type == \"free\"')['profits'].hist(bins=100, figsize=(10, 5), alpha = 0.5)\n",
    "    .set_title('Выручка с пользователей' + \"\\n\", fontsize = 20)\n",
    ")\n",
    "plt.xlabel('Сумма', fontsize = 15);\n",
    "plt.ylabel('Частота появления', fontsize = 15);\n",
    "plt.legend(('С подпиской', 'Без подписки'));"
   ]
  },
  {
   "cell_type": "markdown",
   "id": "90e196c4",
   "metadata": {},
   "source": [
    "Большее количество пользователей без подписки приносят в среднем 200, в свою очередь с ней в районе 300."
   ]
  },
  {
   "cell_type": "markdown",
   "id": "41545ac0",
   "metadata": {},
   "source": [
    "### Шаг 6. Проверка гипотез"
   ]
  },
  {
   "cell_type": "markdown",
   "id": "013bafe0",
   "metadata": {},
   "source": [
    "#### "
   ]
  },
  {
   "cell_type": "markdown",
   "id": "7987906a",
   "metadata": {},
   "source": [
    "Нулевая гипотеза: средние значения продолжительности поездки у групп пользователей с подпиской и без равны.\n",
    "\n",
    "Альтернативная гипотеза: среднее значение продолжительности поездки у группы пользователей с подпиской больше чем без."
   ]
  },
  {
   "cell_type": "code",
   "execution_count": 23,
   "id": "0cea4d25",
   "metadata": {},
   "outputs": [
    {
     "name": "stdout",
     "output_type": "stream",
     "text": [
      "p-value: 1.2804098316645618e-34\n",
      "Отвергаем нулевую гипотезу\n"
     ]
    }
   ],
   "source": [
    "alpha = 0.05\n",
    "results_duration = st.ttest_ind(ultra['duration'], free['duration'], alternative='greater')\n",
    "print(f'p-value: {results_duration.pvalue}')\n",
    "if results_duration.pvalue < alpha:\n",
    "    print('Отвергаем нулевую гипотезу')\n",
    "else:\n",
    "    print('Нет оснований отвергнуть нулевую гипотезу')"
   ]
  },
  {
   "cell_type": "markdown",
   "id": "8bbd5766",
   "metadata": {},
   "source": [
    "Есть основания полагать, что пользователи с подпиской больше проводят времени на поездки."
   ]
  },
  {
   "cell_type": "markdown",
   "id": "b82e2311",
   "metadata": {},
   "source": [
    "#### "
   ]
  },
  {
   "cell_type": "markdown",
   "id": "8c6790e9",
   "metadata": {},
   "source": [
    "Нулевая гипотеза: среднее расстояние пройденное пользователями с подпиской 3130м.\n",
    "\n",
    "Альтернативная гипотеза: среднее расстояние пройденное пользователями с подпиской более 3130м."
   ]
  },
  {
   "cell_type": "code",
   "execution_count": 24,
   "id": "fbb6b8f8",
   "metadata": {},
   "outputs": [
    {
     "name": "stdout",
     "output_type": "stream",
     "text": [
      "p-значение: 0.9195368847849785\n",
      "Нет оснований отвергнуть нулевую гипотезу\n"
     ]
    }
   ],
   "source": [
    "alpha = 0.05\n",
    "value = 3130\n",
    "results_distance = st.ttest_1samp(ultra['distance'], value, alternative='greater')\n",
    "print('p-значение:', results_distance.pvalue)\n",
    "if results_distance.pvalue < alpha:\n",
    "    print('Отвергаем нулевую гипотезу')\n",
    "else:\n",
    "    print('Нет оснований отвергнуть нулевую гипотезу')"
   ]
  },
  {
   "cell_type": "markdown",
   "id": "93324bed",
   "metadata": {},
   "source": [
    "Есть основания полагать, что среднее растояние пройденное на самокатах клиентами с подпиской не привышает оптимального расстояния по износу."
   ]
  },
  {
   "cell_type": "markdown",
   "id": "211c8e99",
   "metadata": {},
   "source": [
    "#### "
   ]
  },
  {
   "cell_type": "markdown",
   "id": "3f6bed47",
   "metadata": {},
   "source": [
    "Нулевая гипотеза: средние значения помесячной выручки у групп пользователей с подпиской и без равны.\n",
    "\n",
    "Альтернативная гипотеза: среднее значение помесячной выручки у группы пользователей с подпиской больше чем без."
   ]
  },
  {
   "cell_type": "code",
   "execution_count": 25,
   "id": "8c209585",
   "metadata": {},
   "outputs": [
    {
     "name": "stdout",
     "output_type": "stream",
     "text": [
      "p-value: 1.8850394384715216e-31\n",
      "Отвергаем нулевую гипотезу\n"
     ]
    }
   ],
   "source": [
    "alpha = 0.05\n",
    "results_profits = st.ttest_ind(counting.query('subscription_type == \"ultra\"')['profits'],\n",
    "                               counting.query('subscription_type == \"free\"')['profits'],\n",
    "                               alternative='greater')\n",
    "print(f'p-value: {results_profits.pvalue}')\n",
    "if results_duration.pvalue < alpha:\n",
    "    print('Отвергаем нулевую гипотезу')\n",
    "else:\n",
    "    print('Нет оснований отвергнуть нулевую гипотезу')"
   ]
  },
  {
   "cell_type": "markdown",
   "id": "aa6522a6",
   "metadata": {},
   "source": [
    "Есть основания полагать, что помесячная выручка от пользователей с подпиской по месяцам выше, чем выручка от пользователей без подписки. "
   ]
  },
  {
   "cell_type": "markdown",
   "id": "4df31cb6",
   "metadata": {},
   "source": [
    "#### "
   ]
  },
  {
   "cell_type": "markdown",
   "id": "280bd99a",
   "metadata": {},
   "source": [
    "Мне бы понадобилось выполнить T-test для парных выборок, проверяя одностороннюю гипотезу, используя метод scipy.stats.ttest_rel()"
   ]
  },
  {
   "cell_type": "markdown",
   "id": "0dad1f64",
   "metadata": {},
   "source": [
    "После проведённого анализа, делаю следующие выоды: в городе Пятигорск чаще всего брали самокаты в аренду, а в Москве реже, количество клиентов сервиса без подписки преобладает над теми, у кого она есть. В большинстве возраст составляет 25 лет, пройденное расстояние на самоктах около 3150 метров, время аренды примерно от 15 до 20 минут. Есть различие между числом пользователей с подпиской, которые используют самокат дольше 35 минут, и без неё вообще нет. Также встречаются немалые значения в пройденном расстоянии на отметке 500 метров, думаю они связаны с тем, что самокат мог был быть неисправен. По большей части пользователи без подписки приносят выручки на 200 единиц, а с ней на 300.  \n",
    "При проверке первой гипотезы, было выявлено то, что многовероятно пользователи с подпиской больше проводят времени на поездки, нежели чем без неё.  \n",
    "При проверке второй гипотезы небезосновтельно выяснилось, что растояние пройденное на самокатах клиентами с подпиской не привышает оптимального расстояния по износу.  \n",
    "После проверки третьей гипотезы о том, будет ли помесячная выручка от пользователей с подпиской по месяцам выше, чем выручка от пользователей без подписки, я выяснил, что нет оснований предполагать обратного, следовательно, пользователи с подпиской являются более выгодными для компании."
   ]
  }
 ],
 "metadata": {
  "ExecuteTimeLog": [
   {
    "duration": 48,
    "start_time": "2024-03-15T19:16:43.037Z"
   },
   {
    "duration": 445,
    "start_time": "2024-03-15T19:16:45.503Z"
   },
   {
    "duration": 199,
    "start_time": "2024-03-15T19:16:46.247Z"
   },
   {
    "duration": 85,
    "start_time": "2024-03-15T19:16:50.024Z"
   },
   {
    "duration": 76,
    "start_time": "2024-03-15T19:16:54.093Z"
   },
   {
    "duration": 76,
    "start_time": "2024-03-15T19:16:58.929Z"
   },
   {
    "duration": 73,
    "start_time": "2024-03-15T19:17:20.524Z"
   },
   {
    "duration": 72,
    "start_time": "2024-03-15T19:17:53.232Z"
   },
   {
    "duration": 71,
    "start_time": "2024-03-15T19:18:07.372Z"
   },
   {
    "duration": 74,
    "start_time": "2024-03-15T19:18:14.023Z"
   },
   {
    "duration": 70,
    "start_time": "2024-03-15T19:18:17.723Z"
   },
   {
    "duration": 77,
    "start_time": "2024-03-15T19:18:20.083Z"
   },
   {
    "duration": 78,
    "start_time": "2024-03-15T19:18:35.215Z"
   },
   {
    "duration": 72,
    "start_time": "2024-03-15T19:18:42.642Z"
   },
   {
    "duration": 72,
    "start_time": "2024-03-15T19:19:03.221Z"
   },
   {
    "duration": 82,
    "start_time": "2024-03-15T19:19:20.818Z"
   },
   {
    "duration": 78,
    "start_time": "2024-03-15T19:19:35.699Z"
   },
   {
    "duration": 82,
    "start_time": "2024-03-15T19:19:55.138Z"
   },
   {
    "duration": 4,
    "start_time": "2024-03-15T19:20:54.917Z"
   },
   {
    "duration": 79,
    "start_time": "2024-03-15T19:20:58.872Z"
   },
   {
    "duration": 80,
    "start_time": "2024-03-15T19:21:15.004Z"
   },
   {
    "duration": 76,
    "start_time": "2024-03-15T19:21:23.435Z"
   },
   {
    "duration": 79,
    "start_time": "2024-03-15T19:21:27.546Z"
   },
   {
    "duration": 77,
    "start_time": "2024-03-15T19:21:40.961Z"
   },
   {
    "duration": 81,
    "start_time": "2024-03-15T19:22:15.571Z"
   },
   {
    "duration": 83,
    "start_time": "2024-03-15T19:22:36.099Z"
   },
   {
    "duration": 74,
    "start_time": "2024-03-15T19:22:40.959Z"
   },
   {
    "duration": 78,
    "start_time": "2024-03-15T19:22:53.415Z"
   },
   {
    "duration": 89,
    "start_time": "2024-03-15T19:23:08.420Z"
   },
   {
    "duration": 87,
    "start_time": "2024-03-15T19:23:20.340Z"
   },
   {
    "duration": 87,
    "start_time": "2024-03-15T19:23:39.607Z"
   },
   {
    "duration": 90,
    "start_time": "2024-03-15T19:23:55.773Z"
   },
   {
    "duration": 81,
    "start_time": "2024-03-15T19:24:03.442Z"
   },
   {
    "duration": 89,
    "start_time": "2024-03-15T19:24:19.639Z"
   },
   {
    "duration": 88,
    "start_time": "2024-03-15T19:24:51.103Z"
   },
   {
    "duration": 88,
    "start_time": "2024-03-15T19:25:05.598Z"
   },
   {
    "duration": 89,
    "start_time": "2024-03-15T19:25:10.400Z"
   },
   {
    "duration": 86,
    "start_time": "2024-03-15T19:25:17.332Z"
   },
   {
    "duration": 95,
    "start_time": "2024-03-15T19:25:29.387Z"
   },
   {
    "duration": 8,
    "start_time": "2024-03-15T19:27:57.970Z"
   },
   {
    "duration": 48,
    "start_time": "2024-03-15T19:28:53.635Z"
   },
   {
    "duration": 16,
    "start_time": "2024-03-15T19:28:58.243Z"
   },
   {
    "duration": 13,
    "start_time": "2024-03-15T19:29:12.326Z"
   },
   {
    "duration": 103,
    "start_time": "2024-03-15T19:29:34.910Z"
   },
   {
    "duration": 14,
    "start_time": "2024-03-15T19:29:35.436Z"
   },
   {
    "duration": 19,
    "start_time": "2024-03-15T19:29:41.067Z"
   },
   {
    "duration": 23,
    "start_time": "2024-03-15T19:29:48.623Z"
   },
   {
    "duration": 98,
    "start_time": "2024-03-15T19:30:00.822Z"
   },
   {
    "duration": 20,
    "start_time": "2024-03-15T19:30:01.233Z"
   },
   {
    "duration": 68,
    "start_time": "2024-03-15T19:33:09.459Z"
   },
   {
    "duration": 71,
    "start_time": "2024-03-15T19:34:00.791Z"
   },
   {
    "duration": 29,
    "start_time": "2024-03-15T19:34:13.269Z"
   },
   {
    "duration": 70,
    "start_time": "2024-03-15T19:35:34.442Z"
   },
   {
    "duration": 2,
    "start_time": "2024-03-15T19:38:07.978Z"
   },
   {
    "duration": 7,
    "start_time": "2024-03-15T19:38:26.395Z"
   },
   {
    "duration": 13,
    "start_time": "2024-03-15T19:38:34.592Z"
   },
   {
    "duration": 2,
    "start_time": "2024-03-15T19:38:34.981Z"
   },
   {
    "duration": 15,
    "start_time": "2024-03-15T19:38:38.792Z"
   },
   {
    "duration": 3,
    "start_time": "2024-03-15T19:39:08.973Z"
   },
   {
    "duration": 8,
    "start_time": "2024-03-15T19:41:51.968Z"
   },
   {
    "duration": 5,
    "start_time": "2024-03-15T19:42:19.545Z"
   },
   {
    "duration": 32,
    "start_time": "2024-03-15T19:43:48.369Z"
   },
   {
    "duration": 11,
    "start_time": "2024-03-15T19:43:57.668Z"
   },
   {
    "duration": 6,
    "start_time": "2024-03-15T19:44:02.661Z"
   },
   {
    "duration": 10,
    "start_time": "2024-03-15T19:44:17.510Z"
   },
   {
    "duration": 10,
    "start_time": "2024-03-15T19:44:30.358Z"
   },
   {
    "duration": 432,
    "start_time": "2024-03-15T19:44:39.682Z"
   },
   {
    "duration": 71,
    "start_time": "2024-03-15T19:44:40.116Z"
   },
   {
    "duration": 32,
    "start_time": "2024-03-15T19:44:40.189Z"
   },
   {
    "duration": 7,
    "start_time": "2024-03-15T19:44:40.223Z"
   },
   {
    "duration": 21,
    "start_time": "2024-03-15T19:44:40.232Z"
   },
   {
    "duration": 9,
    "start_time": "2024-03-15T19:44:40.255Z"
   },
   {
    "duration": 5,
    "start_time": "2024-03-15T19:44:40.265Z"
   },
   {
    "duration": 8,
    "start_time": "2024-03-15T19:45:23.819Z"
   },
   {
    "duration": 79,
    "start_time": "2024-03-15T19:45:27.205Z"
   },
   {
    "duration": 15,
    "start_time": "2024-03-15T19:45:35.468Z"
   },
   {
    "duration": 5,
    "start_time": "2024-03-15T19:45:37.988Z"
   },
   {
    "duration": 10,
    "start_time": "2024-03-15T19:46:24.749Z"
   },
   {
    "duration": 13,
    "start_time": "2024-03-15T19:47:05.632Z"
   },
   {
    "duration": 12,
    "start_time": "2024-03-15T19:47:30.434Z"
   },
   {
    "duration": 10,
    "start_time": "2024-03-15T19:47:39.356Z"
   },
   {
    "duration": 10,
    "start_time": "2024-03-15T19:48:06.397Z"
   },
   {
    "duration": 428,
    "start_time": "2024-03-15T19:48:16.598Z"
   },
   {
    "duration": 70,
    "start_time": "2024-03-15T19:48:17.027Z"
   },
   {
    "duration": 31,
    "start_time": "2024-03-15T19:48:17.099Z"
   },
   {
    "duration": 7,
    "start_time": "2024-03-15T19:48:17.132Z"
   },
   {
    "duration": 45,
    "start_time": "2024-03-15T19:48:17.141Z"
   },
   {
    "duration": 11,
    "start_time": "2024-03-15T19:48:17.187Z"
   },
   {
    "duration": 11,
    "start_time": "2024-03-15T19:48:17.199Z"
   },
   {
    "duration": 10,
    "start_time": "2024-03-15T19:48:48.262Z"
   },
   {
    "duration": 69,
    "start_time": "2024-03-15T19:48:52.660Z"
   },
   {
    "duration": 430,
    "start_time": "2024-03-15T19:49:01.081Z"
   },
   {
    "duration": 72,
    "start_time": "2024-03-15T19:49:01.515Z"
   },
   {
    "duration": 33,
    "start_time": "2024-03-15T19:49:01.588Z"
   },
   {
    "duration": 19,
    "start_time": "2024-03-15T19:49:01.622Z"
   },
   {
    "duration": 68,
    "start_time": "2024-03-15T19:49:01.643Z"
   },
   {
    "duration": 19,
    "start_time": "2024-03-15T19:49:01.713Z"
   },
   {
    "duration": 16,
    "start_time": "2024-03-15T19:49:01.734Z"
   },
   {
    "duration": 12,
    "start_time": "2024-03-15T19:49:09.442Z"
   },
   {
    "duration": 71,
    "start_time": "2024-03-15T19:49:19.658Z"
   },
   {
    "duration": 449,
    "start_time": "2024-03-15T19:49:34.584Z"
   },
   {
    "duration": 70,
    "start_time": "2024-03-15T19:49:35.035Z"
   },
   {
    "duration": 33,
    "start_time": "2024-03-15T19:49:35.107Z"
   },
   {
    "duration": 7,
    "start_time": "2024-03-15T19:49:35.142Z"
   },
   {
    "duration": 22,
    "start_time": "2024-03-15T19:49:35.151Z"
   },
   {
    "duration": 10,
    "start_time": "2024-03-15T19:49:35.175Z"
   },
   {
    "duration": 35,
    "start_time": "2024-03-15T19:49:35.187Z"
   },
   {
    "duration": 16,
    "start_time": "2024-03-15T19:49:58.060Z"
   },
   {
    "duration": 21,
    "start_time": "2024-03-15T19:50:51.912Z"
   },
   {
    "duration": 14,
    "start_time": "2024-03-15T19:51:13.978Z"
   },
   {
    "duration": 367,
    "start_time": "2024-03-15T19:51:18.674Z"
   },
   {
    "duration": 70,
    "start_time": "2024-03-15T19:51:19.043Z"
   },
   {
    "duration": 30,
    "start_time": "2024-03-15T19:51:19.114Z"
   },
   {
    "duration": 7,
    "start_time": "2024-03-15T19:51:19.146Z"
   },
   {
    "duration": 20,
    "start_time": "2024-03-15T19:51:19.154Z"
   },
   {
    "duration": 12,
    "start_time": "2024-03-15T19:51:19.175Z"
   },
   {
    "duration": 17,
    "start_time": "2024-03-15T19:51:19.214Z"
   },
   {
    "duration": 14,
    "start_time": "2024-03-15T19:51:45.610Z"
   },
   {
    "duration": 374,
    "start_time": "2024-03-15T19:51:50.455Z"
   },
   {
    "duration": 69,
    "start_time": "2024-03-15T19:51:50.831Z"
   },
   {
    "duration": 32,
    "start_time": "2024-03-15T19:51:50.901Z"
   },
   {
    "duration": 6,
    "start_time": "2024-03-15T19:51:50.935Z"
   },
   {
    "duration": 24,
    "start_time": "2024-03-15T19:51:50.943Z"
   },
   {
    "duration": 10,
    "start_time": "2024-03-15T19:51:50.968Z"
   },
   {
    "duration": 37,
    "start_time": "2024-03-15T19:51:50.979Z"
   },
   {
    "duration": 46,
    "start_time": "2024-03-16T11:52:17.766Z"
   },
   {
    "duration": 409,
    "start_time": "2024-03-16T11:52:20.810Z"
   },
   {
    "duration": 188,
    "start_time": "2024-03-16T11:52:21.960Z"
   },
   {
    "duration": 24,
    "start_time": "2024-03-16T11:52:22.895Z"
   },
   {
    "duration": 24,
    "start_time": "2024-03-16T11:52:32.616Z"
   },
   {
    "duration": 30,
    "start_time": "2024-03-16T11:52:43.812Z"
   },
   {
    "duration": 20,
    "start_time": "2024-03-16T11:53:27.954Z"
   },
   {
    "duration": 14,
    "start_time": "2024-03-16T11:53:38.102Z"
   },
   {
    "duration": 16,
    "start_time": "2024-03-16T11:53:40.512Z"
   },
   {
    "duration": 11,
    "start_time": "2024-03-16T11:53:41.453Z"
   },
   {
    "duration": 15,
    "start_time": "2024-03-16T11:53:41.874Z"
   },
   {
    "duration": 398,
    "start_time": "2024-03-16T11:53:50.016Z"
   },
   {
    "duration": 66,
    "start_time": "2024-03-16T11:53:50.416Z"
   },
   {
    "duration": 28,
    "start_time": "2024-03-16T11:53:50.483Z"
   },
   {
    "duration": 6,
    "start_time": "2024-03-16T11:53:50.512Z"
   },
   {
    "duration": 18,
    "start_time": "2024-03-16T11:53:50.520Z"
   },
   {
    "duration": 11,
    "start_time": "2024-03-16T11:53:50.539Z"
   },
   {
    "duration": 17,
    "start_time": "2024-03-16T11:53:50.552Z"
   },
   {
    "duration": 738,
    "start_time": "2024-03-16T11:57:10.206Z"
   },
   {
    "duration": 654,
    "start_time": "2024-03-16T11:57:36.622Z"
   },
   {
    "duration": 70,
    "start_time": "2024-03-16T11:57:37.278Z"
   },
   {
    "duration": 30,
    "start_time": "2024-03-16T11:57:37.350Z"
   },
   {
    "duration": 7,
    "start_time": "2024-03-16T11:57:37.381Z"
   },
   {
    "duration": 16,
    "start_time": "2024-03-16T11:57:37.390Z"
   },
   {
    "duration": 21,
    "start_time": "2024-03-16T11:57:37.407Z"
   },
   {
    "duration": 12,
    "start_time": "2024-03-16T11:57:37.430Z"
   },
   {
    "duration": 304,
    "start_time": "2024-03-16T11:57:37.444Z"
   },
   {
    "duration": 138,
    "start_time": "2024-03-16T11:57:50.541Z"
   },
   {
    "duration": 148,
    "start_time": "2024-03-16T11:57:53.914Z"
   },
   {
    "duration": 322,
    "start_time": "2024-03-16T11:57:59.908Z"
   },
   {
    "duration": 177,
    "start_time": "2024-03-16T11:58:03.384Z"
   },
   {
    "duration": 165,
    "start_time": "2024-03-16T11:58:08.241Z"
   },
   {
    "duration": 161,
    "start_time": "2024-03-16T11:58:11.008Z"
   },
   {
    "duration": 253,
    "start_time": "2024-03-16T11:58:15.729Z"
   },
   {
    "duration": 240,
    "start_time": "2024-03-16T12:03:34.730Z"
   },
   {
    "duration": 135,
    "start_time": "2024-03-16T12:03:39.772Z"
   },
   {
    "duration": 167,
    "start_time": "2024-03-16T12:04:40.720Z"
   },
   {
    "duration": 351,
    "start_time": "2024-03-16T12:04:43.540Z"
   },
   {
    "duration": 677,
    "start_time": "2024-03-16T12:06:24.278Z"
   },
   {
    "duration": 219,
    "start_time": "2024-03-16T12:06:28.946Z"
   },
   {
    "duration": 140,
    "start_time": "2024-03-16T12:06:33.058Z"
   },
   {
    "duration": 306,
    "start_time": "2024-03-16T12:06:36.042Z"
   },
   {
    "duration": 101,
    "start_time": "2024-03-16T12:07:02.779Z"
   },
   {
    "duration": 229,
    "start_time": "2024-03-16T12:09:54.355Z"
   },
   {
    "duration": 403,
    "start_time": "2024-03-16T12:10:22.392Z"
   },
   {
    "duration": 727,
    "start_time": "2024-03-16T12:10:26.128Z"
   },
   {
    "duration": 339,
    "start_time": "2024-03-16T12:10:36.324Z"
   },
   {
    "duration": 414,
    "start_time": "2024-03-16T12:10:50.088Z"
   },
   {
    "duration": 2,
    "start_time": "2024-03-16T12:12:09.484Z"
   },
   {
    "duration": 335,
    "start_time": "2024-03-16T12:12:34.544Z"
   },
   {
    "duration": 69,
    "start_time": "2024-03-16T12:13:11.290Z"
   },
   {
    "duration": 441,
    "start_time": "2024-03-16T12:14:54.699Z"
   },
   {
    "duration": 371,
    "start_time": "2024-03-16T12:15:01.901Z"
   },
   {
    "duration": 363,
    "start_time": "2024-03-16T12:15:21.504Z"
   },
   {
    "duration": 232,
    "start_time": "2024-03-16T12:15:27.091Z"
   },
   {
    "duration": 313,
    "start_time": "2024-03-16T12:17:14.063Z"
   },
   {
    "duration": 635,
    "start_time": "2024-03-16T12:17:19.565Z"
   },
   {
    "duration": 67,
    "start_time": "2024-03-16T12:17:20.201Z"
   },
   {
    "duration": 31,
    "start_time": "2024-03-16T12:17:20.270Z"
   },
   {
    "duration": 6,
    "start_time": "2024-03-16T12:17:20.303Z"
   },
   {
    "duration": 19,
    "start_time": "2024-03-16T12:17:20.311Z"
   },
   {
    "duration": 9,
    "start_time": "2024-03-16T12:17:20.332Z"
   },
   {
    "duration": 14,
    "start_time": "2024-03-16T12:17:20.342Z"
   },
   {
    "duration": 288,
    "start_time": "2024-03-16T12:17:20.357Z"
   },
   {
    "duration": 139,
    "start_time": "2024-03-16T12:17:20.647Z"
   },
   {
    "duration": 293,
    "start_time": "2024-03-16T12:17:20.788Z"
   },
   {
    "duration": 346,
    "start_time": "2024-03-16T12:17:21.083Z"
   },
   {
    "duration": 261,
    "start_time": "2024-03-16T12:17:21.430Z"
   },
   {
    "duration": 73,
    "start_time": "2024-03-16T12:59:18.199Z"
   },
   {
    "duration": 11,
    "start_time": "2024-03-16T12:59:29.829Z"
   },
   {
    "duration": 24,
    "start_time": "2024-03-16T12:59:32.649Z"
   },
   {
    "duration": 38,
    "start_time": "2024-03-16T13:00:19.584Z"
   },
   {
    "duration": 30,
    "start_time": "2024-03-16T13:00:57.421Z"
   },
   {
    "duration": 29,
    "start_time": "2024-03-16T13:01:10.984Z"
   },
   {
    "duration": 33,
    "start_time": "2024-03-16T13:02:28.048Z"
   },
   {
    "duration": 23,
    "start_time": "2024-03-16T13:02:39.972Z"
   },
   {
    "duration": 22,
    "start_time": "2024-03-16T13:02:50.681Z"
   },
   {
    "duration": 20,
    "start_time": "2024-03-16T13:03:19.829Z"
   },
   {
    "duration": 29,
    "start_time": "2024-03-16T13:04:43.006Z"
   },
   {
    "duration": 8,
    "start_time": "2024-03-16T13:05:01.172Z"
   },
   {
    "duration": 21,
    "start_time": "2024-03-16T13:05:05.606Z"
   },
   {
    "duration": 23,
    "start_time": "2024-03-16T13:05:45.806Z"
   },
   {
    "duration": 22,
    "start_time": "2024-03-16T13:05:51.616Z"
   },
   {
    "duration": 20,
    "start_time": "2024-03-16T13:06:33.905Z"
   },
   {
    "duration": 15,
    "start_time": "2024-03-16T13:09:29.529Z"
   },
   {
    "duration": 13,
    "start_time": "2024-03-16T13:09:34.093Z"
   },
   {
    "duration": 396,
    "start_time": "2024-03-16T13:12:37.493Z"
   },
   {
    "duration": 253,
    "start_time": "2024-03-16T13:12:41.806Z"
   },
   {
    "duration": 440,
    "start_time": "2024-03-16T13:12:59.104Z"
   },
   {
    "duration": 494,
    "start_time": "2024-03-16T13:13:14.090Z"
   },
   {
    "duration": 469,
    "start_time": "2024-03-16T13:13:28.600Z"
   },
   {
    "duration": 550,
    "start_time": "2024-03-16T13:14:23.025Z"
   },
   {
    "duration": 21,
    "start_time": "2024-03-16T13:21:11.531Z"
   },
   {
    "duration": 30,
    "start_time": "2024-03-16T13:21:14.972Z"
   },
   {
    "duration": 22,
    "start_time": "2024-03-16T13:25:22.929Z"
   },
   {
    "duration": 20,
    "start_time": "2024-03-16T13:25:28.873Z"
   },
   {
    "duration": 13,
    "start_time": "2024-03-16T13:26:09.286Z"
   },
   {
    "duration": 21,
    "start_time": "2024-03-16T13:26:12.650Z"
   },
   {
    "duration": 20,
    "start_time": "2024-03-16T13:26:39.862Z"
   },
   {
    "duration": 28,
    "start_time": "2024-03-16T13:27:58.521Z"
   },
   {
    "duration": 30,
    "start_time": "2024-03-16T13:28:01.822Z"
   },
   {
    "duration": 23,
    "start_time": "2024-03-16T13:28:11.768Z"
   },
   {
    "duration": 29,
    "start_time": "2024-03-16T13:28:27.476Z"
   },
   {
    "duration": 288,
    "start_time": "2024-03-16T13:29:27.546Z"
   },
   {
    "duration": 30,
    "start_time": "2024-03-16T13:29:40.472Z"
   },
   {
    "duration": 30,
    "start_time": "2024-03-16T13:29:57.413Z"
   },
   {
    "duration": 29,
    "start_time": "2024-03-16T13:30:14.035Z"
   },
   {
    "duration": 25,
    "start_time": "2024-03-16T13:30:20.897Z"
   },
   {
    "duration": 25,
    "start_time": "2024-03-16T13:30:28.642Z"
   },
   {
    "duration": 25,
    "start_time": "2024-03-16T13:30:32.972Z"
   },
   {
    "duration": 28,
    "start_time": "2024-03-16T13:30:36.298Z"
   },
   {
    "duration": 26,
    "start_time": "2024-03-16T13:30:39.555Z"
   },
   {
    "duration": 27,
    "start_time": "2024-03-16T13:30:45.654Z"
   },
   {
    "duration": 26,
    "start_time": "2024-03-16T13:34:55.984Z"
   },
   {
    "duration": 27,
    "start_time": "2024-03-16T13:35:04.500Z"
   },
   {
    "duration": 63,
    "start_time": "2024-03-16T13:35:39.089Z"
   },
   {
    "duration": 70,
    "start_time": "2024-03-16T13:35:45.126Z"
   },
   {
    "duration": 28,
    "start_time": "2024-03-16T13:37:26.092Z"
   },
   {
    "duration": 27,
    "start_time": "2024-03-16T13:38:57.035Z"
   },
   {
    "duration": 27,
    "start_time": "2024-03-16T13:39:23.283Z"
   },
   {
    "duration": 653,
    "start_time": "2024-03-16T13:39:38.801Z"
   },
   {
    "duration": 69,
    "start_time": "2024-03-16T13:39:39.456Z"
   },
   {
    "duration": 38,
    "start_time": "2024-03-16T13:39:39.526Z"
   },
   {
    "duration": 7,
    "start_time": "2024-03-16T13:39:39.565Z"
   },
   {
    "duration": 22,
    "start_time": "2024-03-16T13:39:39.574Z"
   },
   {
    "duration": 19,
    "start_time": "2024-03-16T13:39:39.598Z"
   },
   {
    "duration": 15,
    "start_time": "2024-03-16T13:39:39.619Z"
   },
   {
    "duration": 268,
    "start_time": "2024-03-16T13:39:39.636Z"
   },
   {
    "duration": 130,
    "start_time": "2024-03-16T13:39:39.905Z"
   },
   {
    "duration": 302,
    "start_time": "2024-03-16T13:39:40.036Z"
   },
   {
    "duration": 363,
    "start_time": "2024-03-16T13:39:40.340Z"
   },
   {
    "duration": 254,
    "start_time": "2024-03-16T13:39:40.705Z"
   },
   {
    "duration": 22,
    "start_time": "2024-03-16T13:39:40.960Z"
   },
   {
    "duration": 18,
    "start_time": "2024-03-16T13:39:40.984Z"
   },
   {
    "duration": 16,
    "start_time": "2024-03-16T13:39:41.018Z"
   },
   {
    "duration": 513,
    "start_time": "2024-03-16T13:39:41.035Z"
   },
   {
    "duration": 621,
    "start_time": "2024-03-16T13:39:41.549Z"
   },
   {
    "duration": 90,
    "start_time": "2024-03-16T13:39:42.171Z"
   },
   {
    "duration": 29,
    "start_time": "2024-03-16T13:39:49.037Z"
   },
   {
    "duration": 40,
    "start_time": "2024-03-16T13:40:08.732Z"
   },
   {
    "duration": 44,
    "start_time": "2024-03-16T13:40:17.597Z"
   },
   {
    "duration": 50,
    "start_time": "2024-03-16T13:40:37.309Z"
   },
   {
    "duration": 61,
    "start_time": "2024-03-16T13:40:50.257Z"
   },
   {
    "duration": 60,
    "start_time": "2024-03-16T13:41:35.475Z"
   },
   {
    "duration": 37,
    "start_time": "2024-03-16T13:43:15.589Z"
   },
   {
    "duration": 54,
    "start_time": "2024-03-16T13:43:19.591Z"
   },
   {
    "duration": 36,
    "start_time": "2024-03-16T13:43:56.385Z"
   },
   {
    "duration": 34,
    "start_time": "2024-03-16T13:44:09.174Z"
   },
   {
    "duration": 72,
    "start_time": "2024-03-16T13:46:48.703Z"
   },
   {
    "duration": 58,
    "start_time": "2024-03-16T13:46:52.858Z"
   },
   {
    "duration": 69,
    "start_time": "2024-03-16T13:50:19.401Z"
   },
   {
    "duration": 40,
    "start_time": "2024-03-16T13:50:58.228Z"
   },
   {
    "duration": 38,
    "start_time": "2024-03-16T13:51:07.563Z"
   },
   {
    "duration": 40,
    "start_time": "2024-03-16T13:51:14.014Z"
   },
   {
    "duration": 49,
    "start_time": "2024-03-16T15:40:41.206Z"
   },
   {
    "duration": 52,
    "start_time": "2024-03-16T19:22:07.945Z"
   },
   {
    "duration": 882,
    "start_time": "2024-03-16T19:22:14.670Z"
   },
   {
    "duration": 195,
    "start_time": "2024-03-16T19:22:15.554Z"
   },
   {
    "duration": 35,
    "start_time": "2024-03-16T19:22:15.750Z"
   },
   {
    "duration": 8,
    "start_time": "2024-03-16T19:22:15.787Z"
   },
   {
    "duration": 29,
    "start_time": "2024-03-16T19:22:15.796Z"
   },
   {
    "duration": 11,
    "start_time": "2024-03-16T19:22:15.826Z"
   },
   {
    "duration": 15,
    "start_time": "2024-03-16T19:22:15.839Z"
   },
   {
    "duration": 310,
    "start_time": "2024-03-16T19:22:15.856Z"
   },
   {
    "duration": 140,
    "start_time": "2024-03-16T19:22:16.169Z"
   },
   {
    "duration": 339,
    "start_time": "2024-03-16T19:22:16.312Z"
   },
   {
    "duration": 423,
    "start_time": "2024-03-16T19:22:16.654Z"
   },
   {
    "duration": 286,
    "start_time": "2024-03-16T19:22:17.078Z"
   },
   {
    "duration": 31,
    "start_time": "2024-03-16T19:22:17.366Z"
   },
   {
    "duration": 19,
    "start_time": "2024-03-16T19:22:17.399Z"
   },
   {
    "duration": 16,
    "start_time": "2024-03-16T19:22:17.420Z"
   },
   {
    "duration": 573,
    "start_time": "2024-03-16T19:22:17.438Z"
   },
   {
    "duration": 636,
    "start_time": "2024-03-16T19:22:18.013Z"
   },
   {
    "duration": 56,
    "start_time": "2024-03-16T19:22:18.650Z"
   },
   {
    "duration": 47,
    "start_time": "2024-03-16T19:22:54.625Z"
   },
   {
    "duration": 39,
    "start_time": "2024-03-16T19:23:04.384Z"
   },
   {
    "duration": 2,
    "start_time": "2024-03-16T19:23:26.037Z"
   },
   {
    "duration": 39,
    "start_time": "2024-03-16T19:24:48.089Z"
   },
   {
    "duration": 88,
    "start_time": "2024-03-16T19:28:18.080Z"
   },
   {
    "duration": 36,
    "start_time": "2024-03-16T19:33:39.755Z"
   },
   {
    "duration": 24,
    "start_time": "2024-03-16T19:38:33.751Z"
   },
   {
    "duration": 23,
    "start_time": "2024-03-16T19:38:42.025Z"
   },
   {
    "duration": 23,
    "start_time": "2024-03-16T19:38:51.201Z"
   },
   {
    "duration": 25,
    "start_time": "2024-03-16T19:39:02.430Z"
   },
   {
    "duration": 99,
    "start_time": "2024-03-16T19:39:07.514Z"
   },
   {
    "duration": 26,
    "start_time": "2024-03-16T19:39:15.701Z"
   },
   {
    "duration": 26,
    "start_time": "2024-03-16T19:39:19.240Z"
   },
   {
    "duration": 33,
    "start_time": "2024-03-16T19:39:23.591Z"
   },
   {
    "duration": 23,
    "start_time": "2024-03-16T19:39:35.558Z"
   },
   {
    "duration": 33,
    "start_time": "2024-03-16T19:39:40.332Z"
   },
   {
    "duration": 45,
    "start_time": "2024-03-16T19:41:39.566Z"
   },
   {
    "duration": 4,
    "start_time": "2024-03-16T19:47:18.961Z"
   },
   {
    "duration": 174,
    "start_time": "2024-03-16T19:47:48.622Z"
   },
   {
    "duration": 190,
    "start_time": "2024-03-16T19:47:52.186Z"
   },
   {
    "duration": 177,
    "start_time": "2024-03-16T19:48:36.141Z"
   },
   {
    "duration": 184,
    "start_time": "2024-03-16T19:48:39.687Z"
   },
   {
    "duration": 178,
    "start_time": "2024-03-16T19:48:51.024Z"
   },
   {
    "duration": 189,
    "start_time": "2024-03-16T19:48:56.155Z"
   },
   {
    "duration": 173,
    "start_time": "2024-03-16T19:49:05.601Z"
   },
   {
    "duration": 201,
    "start_time": "2024-03-16T19:49:08.481Z"
   },
   {
    "duration": 32,
    "start_time": "2024-03-16T19:50:07.922Z"
   },
   {
    "duration": 3,
    "start_time": "2024-03-16T19:50:09.127Z"
   },
   {
    "duration": 171,
    "start_time": "2024-03-16T19:50:09.578Z"
   },
   {
    "duration": 45,
    "start_time": "2024-03-16T19:50:31.375Z"
   },
   {
    "duration": 445,
    "start_time": "2024-03-16T19:56:43.670Z"
   },
   {
    "duration": 2,
    "start_time": "2024-03-16T19:56:51.543Z"
   },
   {
    "duration": 5,
    "start_time": "2024-03-16T19:59:00.540Z"
   },
   {
    "duration": 7,
    "start_time": "2024-03-16T19:59:14.549Z"
   },
   {
    "duration": 6,
    "start_time": "2024-03-16T20:00:22.093Z"
   },
   {
    "duration": 3,
    "start_time": "2024-03-16T20:08:17.316Z"
   },
   {
    "duration": 7,
    "start_time": "2024-03-16T20:11:25.083Z"
   },
   {
    "duration": 6,
    "start_time": "2024-03-16T20:12:29.091Z"
   },
   {
    "duration": 8,
    "start_time": "2024-03-16T20:13:03.237Z"
   },
   {
    "duration": 5,
    "start_time": "2024-03-16T20:13:18.437Z"
   },
   {
    "duration": 11,
    "start_time": "2024-03-16T20:13:35.114Z"
   },
   {
    "duration": 11,
    "start_time": "2024-03-16T20:13:44.270Z"
   },
   {
    "duration": 10,
    "start_time": "2024-03-16T20:14:32.717Z"
   },
   {
    "duration": 7,
    "start_time": "2024-03-16T20:14:41.371Z"
   },
   {
    "duration": 107,
    "start_time": "2024-03-16T20:18:45.928Z"
   },
   {
    "duration": 6,
    "start_time": "2024-03-16T20:19:37.686Z"
   },
   {
    "duration": 84,
    "start_time": "2024-03-16T20:19:54.274Z"
   },
   {
    "duration": 192,
    "start_time": "2024-03-16T20:26:19.459Z"
   },
   {
    "duration": 2,
    "start_time": "2024-03-16T20:26:38.290Z"
   },
   {
    "duration": 18,
    "start_time": "2024-03-16T20:29:28.302Z"
   },
   {
    "duration": 6,
    "start_time": "2024-03-16T20:31:03.839Z"
   },
   {
    "duration": 6,
    "start_time": "2024-03-16T20:31:06.398Z"
   },
   {
    "duration": 10,
    "start_time": "2024-03-16T20:31:12.746Z"
   },
   {
    "duration": 9,
    "start_time": "2024-03-16T20:31:26.812Z"
   },
   {
    "duration": 13,
    "start_time": "2024-03-16T20:32:02.650Z"
   },
   {
    "duration": 5,
    "start_time": "2024-03-16T20:32:23.499Z"
   },
   {
    "duration": 6,
    "start_time": "2024-03-16T20:32:24.651Z"
   },
   {
    "duration": 71,
    "start_time": "2024-03-16T20:33:02.705Z"
   },
   {
    "duration": 11,
    "start_time": "2024-03-16T20:33:02.983Z"
   },
   {
    "duration": 13,
    "start_time": "2024-03-16T20:33:07.520Z"
   },
   {
    "duration": 1162,
    "start_time": "2024-03-16T21:13:03.677Z"
   },
   {
    "duration": 76,
    "start_time": "2024-03-16T21:13:04.841Z"
   },
   {
    "duration": 31,
    "start_time": "2024-03-16T21:13:04.919Z"
   },
   {
    "duration": 7,
    "start_time": "2024-03-16T21:13:04.952Z"
   },
   {
    "duration": 31,
    "start_time": "2024-03-16T21:13:04.960Z"
   },
   {
    "duration": 9,
    "start_time": "2024-03-16T21:13:04.992Z"
   },
   {
    "duration": 12,
    "start_time": "2024-03-16T21:13:05.003Z"
   },
   {
    "duration": 263,
    "start_time": "2024-03-16T21:13:05.016Z"
   },
   {
    "duration": 141,
    "start_time": "2024-03-16T21:13:05.281Z"
   },
   {
    "duration": 275,
    "start_time": "2024-03-16T21:13:05.425Z"
   },
   {
    "duration": 403,
    "start_time": "2024-03-16T21:13:05.701Z"
   },
   {
    "duration": 317,
    "start_time": "2024-03-16T21:13:06.106Z"
   },
   {
    "duration": 22,
    "start_time": "2024-03-16T21:13:06.424Z"
   },
   {
    "duration": 30,
    "start_time": "2024-03-16T21:13:06.447Z"
   },
   {
    "duration": 15,
    "start_time": "2024-03-16T21:13:06.478Z"
   },
   {
    "duration": 504,
    "start_time": "2024-03-16T21:13:06.494Z"
   },
   {
    "duration": 527,
    "start_time": "2024-03-16T21:13:07.000Z"
   },
   {
    "duration": 52,
    "start_time": "2024-03-16T21:13:07.528Z"
   },
   {
    "duration": 3,
    "start_time": "2024-03-16T21:13:07.582Z"
   },
   {
    "duration": 150,
    "start_time": "2024-03-16T21:13:07.586Z"
   },
   {
    "duration": 115,
    "start_time": "2024-03-16T21:13:07.738Z"
   },
   {
    "duration": 0,
    "start_time": "2024-03-16T21:13:07.854Z"
   },
   {
    "duration": 0,
    "start_time": "2024-03-16T21:13:07.855Z"
   },
   {
    "duration": 6,
    "start_time": "2024-03-16T21:13:17.845Z"
   },
   {
    "duration": 16,
    "start_time": "2024-03-16T21:13:19.167Z"
   },
   {
    "duration": 7,
    "start_time": "2024-03-16T21:25:21.620Z"
   },
   {
    "duration": 5,
    "start_time": "2024-03-16T21:29:45.012Z"
   },
   {
    "duration": 46,
    "start_time": "2024-03-16T22:19:57.368Z"
   },
   {
    "duration": 1366,
    "start_time": "2024-03-16T22:20:04.814Z"
   },
   {
    "duration": 318,
    "start_time": "2024-03-16T22:20:06.183Z"
   },
   {
    "duration": 38,
    "start_time": "2024-03-16T22:20:06.502Z"
   },
   {
    "duration": 9,
    "start_time": "2024-03-16T22:20:06.542Z"
   },
   {
    "duration": 31,
    "start_time": "2024-03-16T22:20:06.554Z"
   },
   {
    "duration": 11,
    "start_time": "2024-03-16T22:20:06.586Z"
   },
   {
    "duration": 21,
    "start_time": "2024-03-16T22:20:06.598Z"
   },
   {
    "duration": 307,
    "start_time": "2024-03-16T22:20:06.621Z"
   },
   {
    "duration": 152,
    "start_time": "2024-03-16T22:20:06.930Z"
   },
   {
    "duration": 296,
    "start_time": "2024-03-16T22:20:07.084Z"
   },
   {
    "duration": 410,
    "start_time": "2024-03-16T22:20:07.382Z"
   },
   {
    "duration": 360,
    "start_time": "2024-03-16T22:20:07.794Z"
   },
   {
    "duration": 32,
    "start_time": "2024-03-16T22:20:08.156Z"
   },
   {
    "duration": 19,
    "start_time": "2024-03-16T22:20:08.190Z"
   },
   {
    "duration": 35,
    "start_time": "2024-03-16T22:20:08.211Z"
   },
   {
    "duration": 617,
    "start_time": "2024-03-16T22:20:08.248Z"
   },
   {
    "duration": 559,
    "start_time": "2024-03-16T22:20:08.867Z"
   },
   {
    "duration": 55,
    "start_time": "2024-03-16T22:20:09.428Z"
   },
   {
    "duration": 3,
    "start_time": "2024-03-16T22:20:09.485Z"
   },
   {
    "duration": 163,
    "start_time": "2024-03-16T22:20:09.490Z"
   },
   {
    "duration": 6,
    "start_time": "2024-03-16T22:20:09.655Z"
   },
   {
    "duration": 19,
    "start_time": "2024-03-16T22:20:09.663Z"
   },
   {
    "duration": 11,
    "start_time": "2024-03-16T22:20:09.684Z"
   },
   {
    "duration": 100,
    "start_time": "2024-03-16T22:59:00.006Z"
   },
   {
    "duration": 24,
    "start_time": "2024-03-16T23:14:43.853Z"
   },
   {
    "duration": 14,
    "start_time": "2024-03-16T23:14:49.936Z"
   },
   {
    "duration": 51,
    "start_time": "2024-03-16T23:15:08.470Z"
   },
   {
    "duration": 8,
    "start_time": "2024-03-16T23:16:13.664Z"
   },
   {
    "duration": 9,
    "start_time": "2024-03-16T23:16:21.716Z"
   },
   {
    "duration": 111,
    "start_time": "2024-03-16T23:16:31.374Z"
   },
   {
    "duration": 181,
    "start_time": "2024-03-16T23:16:37.013Z"
   },
   {
    "duration": 10,
    "start_time": "2024-03-16T23:16:38.801Z"
   },
   {
    "duration": 18,
    "start_time": "2024-03-16T23:16:46.217Z"
   },
   {
    "duration": 22,
    "start_time": "2024-03-16T23:16:54.564Z"
   },
   {
    "duration": 13,
    "start_time": "2024-03-16T23:17:05.986Z"
   },
   {
    "duration": 12,
    "start_time": "2024-03-16T23:17:10.704Z"
   },
   {
    "duration": 11,
    "start_time": "2024-03-16T23:17:15.704Z"
   },
   {
    "duration": 15,
    "start_time": "2024-03-16T23:17:29.801Z"
   },
   {
    "duration": 15,
    "start_time": "2024-03-16T23:17:45.086Z"
   },
   {
    "duration": 9,
    "start_time": "2024-03-16T23:17:53.647Z"
   },
   {
    "duration": 10,
    "start_time": "2024-03-16T23:18:08.845Z"
   },
   {
    "duration": 18,
    "start_time": "2024-03-16T23:18:22.796Z"
   },
   {
    "duration": 10,
    "start_time": "2024-03-16T23:20:32.686Z"
   },
   {
    "duration": 109,
    "start_time": "2024-03-16T23:20:47.177Z"
   },
   {
    "duration": 103,
    "start_time": "2024-03-16T23:20:50.276Z"
   },
   {
    "duration": 13,
    "start_time": "2024-03-16T23:20:56.100Z"
   },
   {
    "duration": 11,
    "start_time": "2024-03-16T23:21:30.401Z"
   },
   {
    "duration": 9,
    "start_time": "2024-03-16T23:22:27.184Z"
   },
   {
    "duration": 11,
    "start_time": "2024-03-16T23:22:38.327Z"
   },
   {
    "duration": 12,
    "start_time": "2024-03-16T23:22:54.571Z"
   },
   {
    "duration": 9,
    "start_time": "2024-03-16T23:23:00.428Z"
   },
   {
    "duration": 12,
    "start_time": "2024-03-16T23:23:03.946Z"
   },
   {
    "duration": 18,
    "start_time": "2024-03-16T23:23:19.034Z"
   },
   {
    "duration": 99,
    "start_time": "2024-03-16T23:23:30.704Z"
   },
   {
    "duration": 13,
    "start_time": "2024-03-16T23:23:36.394Z"
   },
   {
    "duration": 10,
    "start_time": "2024-03-16T23:23:46.861Z"
   },
   {
    "duration": 14,
    "start_time": "2024-03-16T23:24:02.591Z"
   },
   {
    "duration": 12,
    "start_time": "2024-03-16T23:24:10.007Z"
   },
   {
    "duration": 10,
    "start_time": "2024-03-16T23:24:25.511Z"
   },
   {
    "duration": 10,
    "start_time": "2024-03-16T23:24:30.254Z"
   },
   {
    "duration": 9,
    "start_time": "2024-03-16T23:24:54.941Z"
   },
   {
    "duration": 13,
    "start_time": "2024-03-16T23:25:59.924Z"
   },
   {
    "duration": 1197,
    "start_time": "2024-03-16T23:26:04.666Z"
   },
   {
    "duration": 71,
    "start_time": "2024-03-16T23:26:05.865Z"
   },
   {
    "duration": 42,
    "start_time": "2024-03-16T23:26:05.940Z"
   },
   {
    "duration": 10,
    "start_time": "2024-03-16T23:26:05.985Z"
   },
   {
    "duration": 32,
    "start_time": "2024-03-16T23:26:05.997Z"
   },
   {
    "duration": 10,
    "start_time": "2024-03-16T23:26:06.031Z"
   },
   {
    "duration": 13,
    "start_time": "2024-03-16T23:26:06.043Z"
   },
   {
    "duration": 312,
    "start_time": "2024-03-16T23:26:06.057Z"
   },
   {
    "duration": 155,
    "start_time": "2024-03-16T23:26:06.371Z"
   },
   {
    "duration": 304,
    "start_time": "2024-03-16T23:26:06.528Z"
   },
   {
    "duration": 423,
    "start_time": "2024-03-16T23:26:06.834Z"
   },
   {
    "duration": 362,
    "start_time": "2024-03-16T23:26:07.258Z"
   },
   {
    "duration": 23,
    "start_time": "2024-03-16T23:26:07.623Z"
   },
   {
    "duration": 24,
    "start_time": "2024-03-16T23:26:07.648Z"
   },
   {
    "duration": 23,
    "start_time": "2024-03-16T23:26:07.680Z"
   },
   {
    "duration": 528,
    "start_time": "2024-03-16T23:26:07.705Z"
   },
   {
    "duration": 615,
    "start_time": "2024-03-16T23:26:08.235Z"
   },
   {
    "duration": 57,
    "start_time": "2024-03-16T23:26:08.852Z"
   },
   {
    "duration": 3,
    "start_time": "2024-03-16T23:26:08.911Z"
   },
   {
    "duration": 164,
    "start_time": "2024-03-16T23:26:08.915Z"
   },
   {
    "duration": 6,
    "start_time": "2024-03-16T23:26:09.081Z"
   },
   {
    "duration": 7,
    "start_time": "2024-03-16T23:26:09.089Z"
   },
   {
    "duration": 11,
    "start_time": "2024-03-16T23:26:09.098Z"
   },
   {
    "duration": 1185,
    "start_time": "2024-03-16T23:26:38.150Z"
   },
   {
    "duration": 72,
    "start_time": "2024-03-16T23:26:39.337Z"
   },
   {
    "duration": 48,
    "start_time": "2024-03-16T23:26:39.410Z"
   },
   {
    "duration": 11,
    "start_time": "2024-03-16T23:26:39.460Z"
   },
   {
    "duration": 18,
    "start_time": "2024-03-16T23:26:39.479Z"
   },
   {
    "duration": 12,
    "start_time": "2024-03-16T23:26:39.498Z"
   },
   {
    "duration": 12,
    "start_time": "2024-03-16T23:26:39.511Z"
   },
   {
    "duration": 298,
    "start_time": "2024-03-16T23:26:39.525Z"
   },
   {
    "duration": 138,
    "start_time": "2024-03-16T23:26:39.825Z"
   },
   {
    "duration": 286,
    "start_time": "2024-03-16T23:26:39.965Z"
   },
   {
    "duration": 470,
    "start_time": "2024-03-16T23:26:40.253Z"
   },
   {
    "duration": 366,
    "start_time": "2024-03-16T23:26:40.725Z"
   },
   {
    "duration": 26,
    "start_time": "2024-03-16T23:26:41.093Z"
   },
   {
    "duration": 18,
    "start_time": "2024-03-16T23:26:41.121Z"
   },
   {
    "duration": 14,
    "start_time": "2024-03-16T23:26:41.141Z"
   },
   {
    "duration": 605,
    "start_time": "2024-03-16T23:26:41.180Z"
   },
   {
    "duration": 569,
    "start_time": "2024-03-16T23:26:41.787Z"
   },
   {
    "duration": 59,
    "start_time": "2024-03-16T23:26:42.357Z"
   },
   {
    "duration": 4,
    "start_time": "2024-03-16T23:26:42.417Z"
   },
   {
    "duration": 197,
    "start_time": "2024-03-16T23:26:42.423Z"
   },
   {
    "duration": 5,
    "start_time": "2024-03-16T23:26:42.621Z"
   },
   {
    "duration": 9,
    "start_time": "2024-03-16T23:26:42.627Z"
   },
   {
    "duration": 11,
    "start_time": "2024-03-16T23:26:42.638Z"
   },
   {
    "duration": 13,
    "start_time": "2024-03-16T23:27:36.750Z"
   },
   {
    "duration": 106,
    "start_time": "2024-03-16T23:28:41.602Z"
   },
   {
    "duration": 16,
    "start_time": "2024-03-16T23:28:47.148Z"
   },
   {
    "duration": 16,
    "start_time": "2024-03-16T23:30:04.755Z"
   },
   {
    "duration": 21394,
    "start_time": "2024-03-16T23:30:08.698Z"
   },
   {
    "duration": 24850,
    "start_time": "2024-03-16T23:34:15.032Z"
   },
   {
    "duration": 656,
    "start_time": "2024-03-16T23:35:23.421Z"
   },
   {
    "duration": 16,
    "start_time": "2024-03-16T23:35:45.119Z"
   },
   {
    "duration": 22,
    "start_time": "2024-03-16T23:36:13.349Z"
   },
   {
    "duration": 109,
    "start_time": "2024-03-16T23:36:18.209Z"
   },
   {
    "duration": 118,
    "start_time": "2024-03-16T23:37:36.209Z"
   },
   {
    "duration": 14,
    "start_time": "2024-03-16T23:37:45.693Z"
   },
   {
    "duration": 1071,
    "start_time": "2024-03-16T23:37:53.931Z"
   },
   {
    "duration": 68,
    "start_time": "2024-03-16T23:37:55.005Z"
   },
   {
    "duration": 63,
    "start_time": "2024-03-16T23:37:55.075Z"
   },
   {
    "duration": 10,
    "start_time": "2024-03-16T23:37:55.141Z"
   },
   {
    "duration": 37,
    "start_time": "2024-03-16T23:37:55.154Z"
   },
   {
    "duration": 13,
    "start_time": "2024-03-16T23:37:55.193Z"
   },
   {
    "duration": 15,
    "start_time": "2024-03-16T23:37:55.208Z"
   },
   {
    "duration": 137,
    "start_time": "2024-03-16T23:37:55.225Z"
   },
   {
    "duration": 0,
    "start_time": "2024-03-16T23:37:55.363Z"
   },
   {
    "duration": 0,
    "start_time": "2024-03-16T23:37:55.365Z"
   },
   {
    "duration": 0,
    "start_time": "2024-03-16T23:37:55.366Z"
   },
   {
    "duration": 0,
    "start_time": "2024-03-16T23:37:55.367Z"
   },
   {
    "duration": 0,
    "start_time": "2024-03-16T23:37:55.379Z"
   },
   {
    "duration": 0,
    "start_time": "2024-03-16T23:37:55.380Z"
   },
   {
    "duration": 0,
    "start_time": "2024-03-16T23:37:55.382Z"
   },
   {
    "duration": 0,
    "start_time": "2024-03-16T23:37:55.383Z"
   },
   {
    "duration": 0,
    "start_time": "2024-03-16T23:37:55.384Z"
   },
   {
    "duration": 0,
    "start_time": "2024-03-16T23:37:55.385Z"
   },
   {
    "duration": 0,
    "start_time": "2024-03-16T23:37:55.386Z"
   },
   {
    "duration": 0,
    "start_time": "2024-03-16T23:37:55.387Z"
   },
   {
    "duration": 0,
    "start_time": "2024-03-16T23:37:55.388Z"
   },
   {
    "duration": 0,
    "start_time": "2024-03-16T23:37:55.389Z"
   },
   {
    "duration": 0,
    "start_time": "2024-03-16T23:37:55.391Z"
   },
   {
    "duration": 11,
    "start_time": "2024-03-16T23:39:52.898Z"
   },
   {
    "duration": 149,
    "start_time": "2024-03-16T23:40:14.338Z"
   },
   {
    "duration": 4,
    "start_time": "2024-03-16T23:40:20.363Z"
   },
   {
    "duration": 6,
    "start_time": "2024-03-16T23:40:30.041Z"
   },
   {
    "duration": 10,
    "start_time": "2024-03-16T23:40:35.156Z"
   },
   {
    "duration": 7,
    "start_time": "2024-03-16T23:40:39.895Z"
   },
   {
    "duration": 141,
    "start_time": "2024-03-16T23:40:43.988Z"
   },
   {
    "duration": 141,
    "start_time": "2024-03-16T23:41:04.042Z"
   },
   {
    "duration": 11,
    "start_time": "2024-03-16T23:41:13.069Z"
   },
   {
    "duration": 125,
    "start_time": "2024-03-16T23:41:17.451Z"
   },
   {
    "duration": 147,
    "start_time": "2024-03-16T23:41:36.960Z"
   },
   {
    "duration": 142,
    "start_time": "2024-03-16T23:41:49.323Z"
   },
   {
    "duration": 152,
    "start_time": "2024-03-16T23:41:59.989Z"
   },
   {
    "duration": 9,
    "start_time": "2024-03-16T23:42:11.539Z"
   },
   {
    "duration": 7,
    "start_time": "2024-03-16T23:42:18.438Z"
   },
   {
    "duration": 96,
    "start_time": "2024-03-16T23:42:40.146Z"
   },
   {
    "duration": 8,
    "start_time": "2024-03-16T23:42:43.808Z"
   },
   {
    "duration": 159,
    "start_time": "2024-03-16T23:42:58.734Z"
   },
   {
    "duration": 154,
    "start_time": "2024-03-16T23:43:12.669Z"
   },
   {
    "duration": 245,
    "start_time": "2024-03-16T23:43:31.375Z"
   },
   {
    "duration": 143,
    "start_time": "2024-03-16T23:43:36.570Z"
   },
   {
    "duration": 104,
    "start_time": "2024-03-16T23:45:15.711Z"
   },
   {
    "duration": 103,
    "start_time": "2024-03-16T23:45:17.635Z"
   },
   {
    "duration": 106,
    "start_time": "2024-03-16T23:45:23.728Z"
   },
   {
    "duration": 5,
    "start_time": "2024-03-16T23:45:33.437Z"
   },
   {
    "duration": 3,
    "start_time": "2024-03-16T23:45:38.343Z"
   },
   {
    "duration": 4,
    "start_time": "2024-03-16T23:45:45.233Z"
   },
   {
    "duration": 147,
    "start_time": "2024-03-16T23:46:36.703Z"
   },
   {
    "duration": 144,
    "start_time": "2024-03-16T23:46:40.645Z"
   },
   {
    "duration": 139,
    "start_time": "2024-03-16T23:47:07.586Z"
   },
   {
    "duration": 154,
    "start_time": "2024-03-16T23:47:23.774Z"
   },
   {
    "duration": 157,
    "start_time": "2024-03-16T23:47:30.010Z"
   },
   {
    "duration": 151,
    "start_time": "2024-03-16T23:47:35.576Z"
   },
   {
    "duration": 158,
    "start_time": "2024-03-16T23:47:43.737Z"
   },
   {
    "duration": 151,
    "start_time": "2024-03-16T23:47:52.833Z"
   },
   {
    "duration": 140,
    "start_time": "2024-03-16T23:48:24.578Z"
   },
   {
    "duration": 137,
    "start_time": "2024-03-16T23:49:25.008Z"
   },
   {
    "duration": 224,
    "start_time": "2024-03-16T23:49:41.691Z"
   },
   {
    "duration": 139,
    "start_time": "2024-03-16T23:49:50.209Z"
   },
   {
    "duration": 167,
    "start_time": "2024-03-16T23:50:14.736Z"
   },
   {
    "duration": 176,
    "start_time": "2024-03-16T23:50:31.085Z"
   },
   {
    "duration": 1176,
    "start_time": "2024-03-16T23:51:10.404Z"
   },
   {
    "duration": 69,
    "start_time": "2024-03-16T23:51:11.582Z"
   },
   {
    "duration": 43,
    "start_time": "2024-03-16T23:51:11.653Z"
   },
   {
    "duration": 9,
    "start_time": "2024-03-16T23:51:11.697Z"
   },
   {
    "duration": 29,
    "start_time": "2024-03-16T23:51:11.708Z"
   },
   {
    "duration": 11,
    "start_time": "2024-03-16T23:51:11.739Z"
   },
   {
    "duration": 29,
    "start_time": "2024-03-16T23:51:11.751Z"
   },
   {
    "duration": 206,
    "start_time": "2024-03-16T23:51:11.782Z"
   },
   {
    "duration": 192,
    "start_time": "2024-03-16T23:51:11.990Z"
   },
   {
    "duration": 267,
    "start_time": "2024-03-16T23:51:12.184Z"
   },
   {
    "duration": 384,
    "start_time": "2024-03-16T23:51:12.453Z"
   },
   {
    "duration": 266,
    "start_time": "2024-03-16T23:51:12.839Z"
   },
   {
    "duration": 24,
    "start_time": "2024-03-16T23:51:13.107Z"
   },
   {
    "duration": 19,
    "start_time": "2024-03-16T23:51:13.135Z"
   },
   {
    "duration": 36,
    "start_time": "2024-03-16T23:51:13.156Z"
   },
   {
    "duration": 633,
    "start_time": "2024-03-16T23:51:13.194Z"
   },
   {
    "duration": 531,
    "start_time": "2024-03-16T23:51:13.829Z"
   },
   {
    "duration": 56,
    "start_time": "2024-03-16T23:51:14.362Z"
   },
   {
    "duration": 3,
    "start_time": "2024-03-16T23:51:14.420Z"
   },
   {
    "duration": 158,
    "start_time": "2024-03-16T23:51:14.425Z"
   },
   {
    "duration": 6,
    "start_time": "2024-03-16T23:51:14.584Z"
   },
   {
    "duration": 6,
    "start_time": "2024-03-16T23:51:14.592Z"
   },
   {
    "duration": 14,
    "start_time": "2024-03-16T23:51:14.600Z"
   },
   {
    "duration": 103,
    "start_time": "2024-03-16T23:54:21.660Z"
   },
   {
    "duration": 13,
    "start_time": "2024-03-16T23:54:42.736Z"
   },
   {
    "duration": 6,
    "start_time": "2024-03-16T23:55:01.517Z"
   },
   {
    "duration": 5,
    "start_time": "2024-03-16T23:55:07.347Z"
   },
   {
    "duration": 7,
    "start_time": "2024-03-16T23:55:44.809Z"
   },
   {
    "duration": 108,
    "start_time": "2024-03-16T23:55:56.174Z"
   },
   {
    "duration": 98,
    "start_time": "2024-03-16T23:56:46.876Z"
   },
   {
    "duration": 7,
    "start_time": "2024-03-16T23:56:49.838Z"
   },
   {
    "duration": 95,
    "start_time": "2024-03-16T23:57:08.534Z"
   },
   {
    "duration": 115,
    "start_time": "2024-03-16T23:57:53.321Z"
   },
   {
    "duration": 5,
    "start_time": "2024-03-16T23:57:56.780Z"
   },
   {
    "duration": 6,
    "start_time": "2024-03-16T23:58:07.496Z"
   },
   {
    "duration": 6,
    "start_time": "2024-03-16T23:58:31.356Z"
   },
   {
    "duration": 7,
    "start_time": "2024-03-16T23:58:37.053Z"
   },
   {
    "duration": 10,
    "start_time": "2024-03-16T23:58:42.101Z"
   },
   {
    "duration": 8,
    "start_time": "2024-03-16T23:59:04.794Z"
   },
   {
    "duration": 6,
    "start_time": "2024-03-16T23:59:20.139Z"
   },
   {
    "duration": 6,
    "start_time": "2024-03-16T23:59:45.582Z"
   },
   {
    "duration": 9,
    "start_time": "2024-03-16T23:59:59.050Z"
   },
   {
    "duration": 7,
    "start_time": "2024-03-17T00:00:07.728Z"
   },
   {
    "duration": 7,
    "start_time": "2024-03-17T00:00:14.640Z"
   },
   {
    "duration": 100,
    "start_time": "2024-03-17T00:01:26.818Z"
   },
   {
    "duration": 107,
    "start_time": "2024-03-17T00:01:35.415Z"
   },
   {
    "duration": 9,
    "start_time": "2024-03-17T00:01:52.543Z"
   },
   {
    "duration": 7,
    "start_time": "2024-03-17T00:02:01.765Z"
   },
   {
    "duration": 291,
    "start_time": "2024-03-17T00:03:01.855Z"
   },
   {
    "duration": 848,
    "start_time": "2024-03-17T00:03:06.999Z"
   },
   {
    "duration": 213,
    "start_time": "2024-03-17T00:03:08.974Z"
   },
   {
    "duration": 201,
    "start_time": "2024-03-17T00:03:13.314Z"
   },
   {
    "duration": 185,
    "start_time": "2024-03-17T00:03:16.545Z"
   },
   {
    "duration": 185,
    "start_time": "2024-03-17T00:03:19.743Z"
   },
   {
    "duration": 495,
    "start_time": "2024-03-17T00:04:12.269Z"
   },
   {
    "duration": 415,
    "start_time": "2024-03-17T00:04:20.710Z"
   },
   {
    "duration": 374,
    "start_time": "2024-03-17T00:04:27.199Z"
   },
   {
    "duration": 408,
    "start_time": "2024-03-17T00:06:41.429Z"
   },
   {
    "duration": 484,
    "start_time": "2024-03-17T00:07:05.806Z"
   },
   {
    "duration": 391,
    "start_time": "2024-03-17T00:07:19.937Z"
   },
   {
    "duration": 384,
    "start_time": "2024-03-17T00:07:26.821Z"
   },
   {
    "duration": 21,
    "start_time": "2024-03-17T00:09:16.326Z"
   },
   {
    "duration": 22,
    "start_time": "2024-03-17T00:09:33.111Z"
   },
   {
    "duration": 25,
    "start_time": "2024-03-17T00:10:14.950Z"
   },
   {
    "duration": 23,
    "start_time": "2024-03-17T00:10:34.265Z"
   },
   {
    "duration": 30,
    "start_time": "2024-03-17T00:10:38.490Z"
   },
   {
    "duration": 371,
    "start_time": "2024-03-17T00:10:54.768Z"
   },
   {
    "duration": 502,
    "start_time": "2024-03-17T00:11:17.906Z"
   },
   {
    "duration": 443,
    "start_time": "2024-03-17T00:11:53.964Z"
   },
   {
    "duration": 489,
    "start_time": "2024-03-17T00:12:00.487Z"
   },
   {
    "duration": 454,
    "start_time": "2024-03-17T00:12:27.577Z"
   },
   {
    "duration": 491,
    "start_time": "2024-03-17T00:12:31.980Z"
   },
   {
    "duration": 371,
    "start_time": "2024-03-17T00:13:18.164Z"
   },
   {
    "duration": 375,
    "start_time": "2024-03-17T00:13:34.339Z"
   },
   {
    "duration": 540,
    "start_time": "2024-03-17T00:13:41.921Z"
   },
   {
    "duration": 1367,
    "start_time": "2024-03-17T10:38:54.259Z"
   },
   {
    "duration": 295,
    "start_time": "2024-03-17T10:38:55.628Z"
   },
   {
    "duration": 45,
    "start_time": "2024-03-17T10:38:55.925Z"
   },
   {
    "duration": 7,
    "start_time": "2024-03-17T10:38:55.972Z"
   },
   {
    "duration": 16,
    "start_time": "2024-03-17T10:38:55.981Z"
   },
   {
    "duration": 10,
    "start_time": "2024-03-17T10:38:55.999Z"
   },
   {
    "duration": 14,
    "start_time": "2024-03-17T10:38:56.011Z"
   },
   {
    "duration": 188,
    "start_time": "2024-03-17T10:38:56.027Z"
   },
   {
    "duration": 159,
    "start_time": "2024-03-17T10:38:56.217Z"
   },
   {
    "duration": 12,
    "start_time": "2024-03-17T10:38:56.380Z"
   },
   {
    "duration": 196,
    "start_time": "2024-03-17T10:38:56.393Z"
   },
   {
    "duration": 441,
    "start_time": "2024-03-17T10:38:56.590Z"
   },
   {
    "duration": 294,
    "start_time": "2024-03-17T10:38:57.032Z"
   },
   {
    "duration": 24,
    "start_time": "2024-03-17T10:38:57.327Z"
   },
   {
    "duration": 19,
    "start_time": "2024-03-17T10:38:57.352Z"
   },
   {
    "duration": 15,
    "start_time": "2024-03-17T10:38:57.388Z"
   },
   {
    "duration": 485,
    "start_time": "2024-03-17T10:38:57.405Z"
   },
   {
    "duration": 545,
    "start_time": "2024-03-17T10:38:57.892Z"
   },
   {
    "duration": 52,
    "start_time": "2024-03-17T10:38:58.438Z"
   },
   {
    "duration": 3,
    "start_time": "2024-03-17T10:38:58.491Z"
   },
   {
    "duration": 156,
    "start_time": "2024-03-17T10:38:58.495Z"
   },
   {
    "duration": 5,
    "start_time": "2024-03-17T10:38:58.652Z"
   },
   {
    "duration": 9,
    "start_time": "2024-03-17T10:38:58.659Z"
   },
   {
    "duration": 23,
    "start_time": "2024-03-17T10:38:58.670Z"
   },
   {
    "duration": 442,
    "start_time": "2024-03-17T10:39:27.008Z"
   },
   {
    "duration": 493,
    "start_time": "2024-03-17T10:39:39.662Z"
   },
   {
    "duration": 447,
    "start_time": "2024-03-17T10:40:00.039Z"
   },
   {
    "duration": 264,
    "start_time": "2024-03-17T10:45:58.509Z"
   },
   {
    "duration": 393,
    "start_time": "2024-03-17T10:46:55.440Z"
   },
   {
    "duration": 487,
    "start_time": "2024-03-17T10:47:04.865Z"
   },
   {
    "duration": 383,
    "start_time": "2024-03-17T10:47:09.390Z"
   },
   {
    "duration": 444,
    "start_time": "2024-03-17T10:47:43.843Z"
   },
   {
    "duration": 395,
    "start_time": "2024-03-17T10:48:10.892Z"
   },
   {
    "duration": 488,
    "start_time": "2024-03-17T10:48:16.188Z"
   },
   {
    "duration": 521,
    "start_time": "2024-03-17T10:50:47.992Z"
   },
   {
    "duration": 130,
    "start_time": "2024-03-17T10:56:49.176Z"
   },
   {
    "duration": 43,
    "start_time": "2024-03-17T10:57:19.537Z"
   },
   {
    "duration": 41,
    "start_time": "2024-03-17T10:57:37.465Z"
   },
   {
    "duration": 4,
    "start_time": "2024-03-17T10:58:43.472Z"
   },
   {
    "duration": 94,
    "start_time": "2024-03-17T10:58:48.873Z"
   },
   {
    "duration": 17,
    "start_time": "2024-03-17T10:58:54.198Z"
   },
   {
    "duration": 16,
    "start_time": "2024-03-17T11:00:05.285Z"
   },
   {
    "duration": 1117,
    "start_time": "2024-03-17T11:00:23.128Z"
   },
   {
    "duration": 71,
    "start_time": "2024-03-17T11:00:24.247Z"
   },
   {
    "duration": 45,
    "start_time": "2024-03-17T11:00:24.320Z"
   },
   {
    "duration": 8,
    "start_time": "2024-03-17T11:00:24.366Z"
   },
   {
    "duration": 25,
    "start_time": "2024-03-17T11:00:24.376Z"
   },
   {
    "duration": 12,
    "start_time": "2024-03-17T11:00:24.402Z"
   },
   {
    "duration": 20,
    "start_time": "2024-03-17T11:00:24.416Z"
   },
   {
    "duration": 220,
    "start_time": "2024-03-17T11:00:24.437Z"
   },
   {
    "duration": 155,
    "start_time": "2024-03-17T11:00:24.659Z"
   },
   {
    "duration": 7,
    "start_time": "2024-03-17T11:00:24.816Z"
   },
   {
    "duration": 199,
    "start_time": "2024-03-17T11:00:24.825Z"
   },
   {
    "duration": 410,
    "start_time": "2024-03-17T11:00:25.026Z"
   },
   {
    "duration": 420,
    "start_time": "2024-03-17T11:00:25.438Z"
   },
   {
    "duration": 37,
    "start_time": "2024-03-17T11:00:25.862Z"
   },
   {
    "duration": 18,
    "start_time": "2024-03-17T11:00:25.900Z"
   },
   {
    "duration": 15,
    "start_time": "2024-03-17T11:00:25.919Z"
   },
   {
    "duration": 506,
    "start_time": "2024-03-17T11:00:25.935Z"
   },
   {
    "duration": 547,
    "start_time": "2024-03-17T11:00:26.442Z"
   },
   {
    "duration": 41,
    "start_time": "2024-03-17T11:00:26.991Z"
   },
   {
    "duration": 3,
    "start_time": "2024-03-17T11:00:27.034Z"
   },
   {
    "duration": 163,
    "start_time": "2024-03-17T11:00:27.039Z"
   },
   {
    "duration": 5,
    "start_time": "2024-03-17T11:00:27.204Z"
   },
   {
    "duration": 34,
    "start_time": "2024-03-17T11:00:27.210Z"
   },
   {
    "duration": 26,
    "start_time": "2024-03-17T11:00:27.246Z"
   },
   {
    "duration": 486,
    "start_time": "2024-03-17T11:01:29.559Z"
   },
   {
    "duration": 406,
    "start_time": "2024-03-17T11:01:47.565Z"
   },
   {
    "duration": 7,
    "start_time": "2024-03-17T11:01:52.691Z"
   },
   {
    "duration": 1174,
    "start_time": "2024-03-17T11:02:06.079Z"
   },
   {
    "duration": 70,
    "start_time": "2024-03-17T11:02:07.255Z"
   },
   {
    "duration": 41,
    "start_time": "2024-03-17T11:02:07.327Z"
   },
   {
    "duration": 20,
    "start_time": "2024-03-17T11:02:07.370Z"
   },
   {
    "duration": 27,
    "start_time": "2024-03-17T11:02:07.392Z"
   },
   {
    "duration": 29,
    "start_time": "2024-03-17T11:02:07.421Z"
   },
   {
    "duration": 17,
    "start_time": "2024-03-17T11:02:07.452Z"
   },
   {
    "duration": 183,
    "start_time": "2024-03-17T11:02:07.470Z"
   },
   {
    "duration": 145,
    "start_time": "2024-03-17T11:02:07.654Z"
   },
   {
    "duration": 8,
    "start_time": "2024-03-17T11:02:07.801Z"
   },
   {
    "duration": 201,
    "start_time": "2024-03-17T11:02:07.811Z"
   },
   {
    "duration": 407,
    "start_time": "2024-03-17T11:02:08.013Z"
   },
   {
    "duration": 422,
    "start_time": "2024-03-17T11:02:08.421Z"
   },
   {
    "duration": 25,
    "start_time": "2024-03-17T11:02:08.845Z"
   },
   {
    "duration": 30,
    "start_time": "2024-03-17T11:02:08.872Z"
   },
   {
    "duration": 15,
    "start_time": "2024-03-17T11:02:08.903Z"
   },
   {
    "duration": 504,
    "start_time": "2024-03-17T11:02:08.919Z"
   },
   {
    "duration": 538,
    "start_time": "2024-03-17T11:02:09.424Z"
   },
   {
    "duration": 52,
    "start_time": "2024-03-17T11:02:09.964Z"
   },
   {
    "duration": 3,
    "start_time": "2024-03-17T11:02:10.017Z"
   },
   {
    "duration": 167,
    "start_time": "2024-03-17T11:02:10.022Z"
   },
   {
    "duration": 5,
    "start_time": "2024-03-17T11:02:10.190Z"
   },
   {
    "duration": 4,
    "start_time": "2024-03-17T11:02:10.197Z"
   },
   {
    "duration": 10,
    "start_time": "2024-03-17T11:02:10.203Z"
   },
   {
    "duration": 481,
    "start_time": "2024-03-17T11:02:25.410Z"
   },
   {
    "duration": 1174,
    "start_time": "2024-03-17T11:02:30.877Z"
   },
   {
    "duration": 71,
    "start_time": "2024-03-17T11:02:32.053Z"
   },
   {
    "duration": 41,
    "start_time": "2024-03-17T11:02:32.126Z"
   },
   {
    "duration": 7,
    "start_time": "2024-03-17T11:02:32.169Z"
   },
   {
    "duration": 19,
    "start_time": "2024-03-17T11:02:32.179Z"
   },
   {
    "duration": 12,
    "start_time": "2024-03-17T11:02:32.200Z"
   },
   {
    "duration": 17,
    "start_time": "2024-03-17T11:02:32.213Z"
   },
   {
    "duration": 190,
    "start_time": "2024-03-17T11:02:32.232Z"
   },
   {
    "duration": 159,
    "start_time": "2024-03-17T11:02:32.424Z"
   },
   {
    "duration": 8,
    "start_time": "2024-03-17T11:02:32.588Z"
   },
   {
    "duration": 193,
    "start_time": "2024-03-17T11:02:32.598Z"
   },
   {
    "duration": 429,
    "start_time": "2024-03-17T11:02:32.793Z"
   },
   {
    "duration": 421,
    "start_time": "2024-03-17T11:02:33.224Z"
   },
   {
    "duration": 24,
    "start_time": "2024-03-17T11:02:33.648Z"
   },
   {
    "duration": 30,
    "start_time": "2024-03-17T11:02:33.674Z"
   },
   {
    "duration": 16,
    "start_time": "2024-03-17T11:02:33.706Z"
   },
   {
    "duration": 511,
    "start_time": "2024-03-17T11:02:33.723Z"
   },
   {
    "duration": 580,
    "start_time": "2024-03-17T11:02:34.236Z"
   },
   {
    "duration": 43,
    "start_time": "2024-03-17T11:02:34.818Z"
   },
   {
    "duration": 4,
    "start_time": "2024-03-17T11:02:34.863Z"
   },
   {
    "duration": 174,
    "start_time": "2024-03-17T11:02:34.869Z"
   },
   {
    "duration": 6,
    "start_time": "2024-03-17T11:02:35.045Z"
   },
   {
    "duration": 22,
    "start_time": "2024-03-17T11:02:35.053Z"
   },
   {
    "duration": 33,
    "start_time": "2024-03-17T11:02:35.076Z"
   },
   {
    "duration": 477,
    "start_time": "2024-03-17T11:03:11.421Z"
   },
   {
    "duration": 1167,
    "start_time": "2024-03-17T11:03:17.576Z"
   },
   {
    "duration": 72,
    "start_time": "2024-03-17T11:03:18.744Z"
   },
   {
    "duration": 42,
    "start_time": "2024-03-17T11:03:18.818Z"
   },
   {
    "duration": 7,
    "start_time": "2024-03-17T11:03:18.862Z"
   },
   {
    "duration": 22,
    "start_time": "2024-03-17T11:03:18.871Z"
   },
   {
    "duration": 9,
    "start_time": "2024-03-17T11:03:18.895Z"
   },
   {
    "duration": 13,
    "start_time": "2024-03-17T11:03:18.905Z"
   },
   {
    "duration": 189,
    "start_time": "2024-03-17T11:03:18.919Z"
   },
   {
    "duration": 151,
    "start_time": "2024-03-17T11:03:19.110Z"
   },
   {
    "duration": 13,
    "start_time": "2024-03-17T11:03:19.262Z"
   },
   {
    "duration": 201,
    "start_time": "2024-03-17T11:03:19.276Z"
   },
   {
    "duration": 407,
    "start_time": "2024-03-17T11:03:19.486Z"
   },
   {
    "duration": 418,
    "start_time": "2024-03-17T11:03:19.895Z"
   },
   {
    "duration": 23,
    "start_time": "2024-03-17T11:03:20.316Z"
   },
   {
    "duration": 20,
    "start_time": "2024-03-17T11:03:20.340Z"
   },
   {
    "duration": 39,
    "start_time": "2024-03-17T11:03:20.361Z"
   },
   {
    "duration": 503,
    "start_time": "2024-03-17T11:03:20.402Z"
   },
   {
    "duration": 525,
    "start_time": "2024-03-17T11:03:20.907Z"
   },
   {
    "duration": 40,
    "start_time": "2024-03-17T11:03:21.434Z"
   },
   {
    "duration": 11,
    "start_time": "2024-03-17T11:03:21.476Z"
   },
   {
    "duration": 162,
    "start_time": "2024-03-17T11:03:21.489Z"
   },
   {
    "duration": 6,
    "start_time": "2024-03-17T11:03:21.653Z"
   },
   {
    "duration": 7,
    "start_time": "2024-03-17T11:03:21.660Z"
   },
   {
    "duration": 24,
    "start_time": "2024-03-17T11:03:21.669Z"
   },
   {
    "duration": 467,
    "start_time": "2024-03-17T11:03:37.730Z"
   },
   {
    "duration": 19,
    "start_time": "2024-03-17T11:03:50.541Z"
   },
   {
    "duration": 22,
    "start_time": "2024-03-17T11:03:57.177Z"
   },
   {
    "duration": 18,
    "start_time": "2024-03-17T11:04:03.342Z"
   },
   {
    "duration": 1170,
    "start_time": "2024-03-17T11:04:18.981Z"
   },
   {
    "duration": 71,
    "start_time": "2024-03-17T11:04:20.153Z"
   },
   {
    "duration": 42,
    "start_time": "2024-03-17T11:04:20.226Z"
   },
   {
    "duration": 7,
    "start_time": "2024-03-17T11:04:20.270Z"
   },
   {
    "duration": 27,
    "start_time": "2024-03-17T11:04:20.279Z"
   },
   {
    "duration": 10,
    "start_time": "2024-03-17T11:04:20.307Z"
   },
   {
    "duration": 13,
    "start_time": "2024-03-17T11:04:20.318Z"
   },
   {
    "duration": 187,
    "start_time": "2024-03-17T11:04:20.332Z"
   },
   {
    "duration": 155,
    "start_time": "2024-03-17T11:04:20.521Z"
   },
   {
    "duration": 11,
    "start_time": "2024-03-17T11:04:20.679Z"
   },
   {
    "duration": 204,
    "start_time": "2024-03-17T11:04:20.691Z"
   },
   {
    "duration": 405,
    "start_time": "2024-03-17T11:04:20.897Z"
   },
   {
    "duration": 397,
    "start_time": "2024-03-17T11:04:21.304Z"
   },
   {
    "duration": 22,
    "start_time": "2024-03-17T11:04:21.703Z"
   },
   {
    "duration": 17,
    "start_time": "2024-03-17T11:04:21.727Z"
   },
   {
    "duration": 14,
    "start_time": "2024-03-17T11:04:21.746Z"
   },
   {
    "duration": 525,
    "start_time": "2024-03-17T11:04:21.761Z"
   },
   {
    "duration": 510,
    "start_time": "2024-03-17T11:04:22.287Z"
   },
   {
    "duration": 41,
    "start_time": "2024-03-17T11:04:22.799Z"
   },
   {
    "duration": 3,
    "start_time": "2024-03-17T11:04:22.841Z"
   },
   {
    "duration": 171,
    "start_time": "2024-03-17T11:04:22.846Z"
   },
   {
    "duration": 5,
    "start_time": "2024-03-17T11:04:23.019Z"
   },
   {
    "duration": 5,
    "start_time": "2024-03-17T11:04:23.025Z"
   },
   {
    "duration": 10,
    "start_time": "2024-03-17T11:04:23.031Z"
   },
   {
    "duration": 146,
    "start_time": "2024-03-17T11:06:05.725Z"
   },
   {
    "duration": 258,
    "start_time": "2024-03-17T11:06:19.793Z"
   },
   {
    "duration": 194,
    "start_time": "2024-03-17T11:06:25.389Z"
   },
   {
    "duration": 330,
    "start_time": "2024-03-17T11:06:29.592Z"
   },
   {
    "duration": 264,
    "start_time": "2024-03-17T11:07:17.322Z"
   },
   {
    "duration": 393,
    "start_time": "2024-03-17T12:16:10.140Z"
   },
   {
    "duration": 102,
    "start_time": "2024-03-17T12:16:25.474Z"
   },
   {
    "duration": 402,
    "start_time": "2024-03-17T12:17:04.581Z"
   },
   {
    "duration": 338,
    "start_time": "2024-03-17T12:17:19.216Z"
   },
   {
    "duration": 386,
    "start_time": "2024-03-17T12:17:37.241Z"
   },
   {
    "duration": 390,
    "start_time": "2024-03-17T12:19:30.518Z"
   },
   {
    "duration": 525,
    "start_time": "2024-03-17T12:19:42.658Z"
   },
   {
    "duration": 468,
    "start_time": "2024-03-17T12:21:37.336Z"
   },
   {
    "duration": 399,
    "start_time": "2024-03-17T12:21:48.478Z"
   },
   {
    "duration": 376,
    "start_time": "2024-03-17T12:21:53.407Z"
   },
   {
    "duration": 480,
    "start_time": "2024-03-17T12:21:58.021Z"
   },
   {
    "duration": 441,
    "start_time": "2024-03-17T12:22:24.272Z"
   },
   {
    "duration": 5,
    "start_time": "2024-03-17T12:29:28.049Z"
   },
   {
    "duration": 11,
    "start_time": "2024-03-17T12:46:00.444Z"
   },
   {
    "duration": 8,
    "start_time": "2024-03-17T12:46:14.086Z"
   },
   {
    "duration": 9,
    "start_time": "2024-03-17T12:46:26.956Z"
   },
   {
    "duration": 10,
    "start_time": "2024-03-17T12:46:32.635Z"
   },
   {
    "duration": 6,
    "start_time": "2024-03-17T12:46:45.818Z"
   },
   {
    "duration": 307,
    "start_time": "2024-03-17T12:46:58.932Z"
   },
   {
    "duration": 379,
    "start_time": "2024-03-17T12:47:08.504Z"
   },
   {
    "duration": 281,
    "start_time": "2024-03-17T12:47:28.311Z"
   },
   {
    "duration": 501,
    "start_time": "2024-03-17T12:47:31.846Z"
   },
   {
    "duration": 421,
    "start_time": "2024-03-17T12:47:45.033Z"
   },
   {
    "duration": 98,
    "start_time": "2024-03-17T12:48:06.735Z"
   },
   {
    "duration": 9,
    "start_time": "2024-03-17T12:48:12.596Z"
   },
   {
    "duration": 10,
    "start_time": "2024-03-17T12:52:04.466Z"
   },
   {
    "duration": 100,
    "start_time": "2024-03-17T12:53:55.617Z"
   },
   {
    "duration": 50,
    "start_time": "2024-03-17T15:38:07.024Z"
   },
   {
    "duration": 1234,
    "start_time": "2024-03-17T15:38:17.211Z"
   },
   {
    "duration": 278,
    "start_time": "2024-03-17T15:38:18.447Z"
   },
   {
    "duration": 42,
    "start_time": "2024-03-17T15:38:18.727Z"
   },
   {
    "duration": 6,
    "start_time": "2024-03-17T15:38:18.771Z"
   },
   {
    "duration": 16,
    "start_time": "2024-03-17T15:38:18.779Z"
   },
   {
    "duration": 9,
    "start_time": "2024-03-17T15:38:18.796Z"
   },
   {
    "duration": 13,
    "start_time": "2024-03-17T15:38:18.806Z"
   },
   {
    "duration": 196,
    "start_time": "2024-03-17T15:38:18.821Z"
   },
   {
    "duration": 146,
    "start_time": "2024-03-17T15:38:19.019Z"
   },
   {
    "duration": 14,
    "start_time": "2024-03-17T15:38:19.167Z"
   },
   {
    "duration": 173,
    "start_time": "2024-03-17T15:38:19.182Z"
   },
   {
    "duration": 410,
    "start_time": "2024-03-17T15:38:19.356Z"
   },
   {
    "duration": 392,
    "start_time": "2024-03-17T15:38:19.768Z"
   },
   {
    "duration": 32,
    "start_time": "2024-03-17T15:38:20.161Z"
   },
   {
    "duration": 17,
    "start_time": "2024-03-17T15:38:20.194Z"
   },
   {
    "duration": 14,
    "start_time": "2024-03-17T15:38:20.212Z"
   },
   {
    "duration": 471,
    "start_time": "2024-03-17T15:38:20.227Z"
   },
   {
    "duration": 516,
    "start_time": "2024-03-17T15:38:20.700Z"
   },
   {
    "duration": 40,
    "start_time": "2024-03-17T15:38:21.217Z"
   },
   {
    "duration": 3,
    "start_time": "2024-03-17T15:38:21.258Z"
   },
   {
    "duration": 159,
    "start_time": "2024-03-17T15:38:21.263Z"
   },
   {
    "duration": 390,
    "start_time": "2024-03-17T15:38:21.423Z"
   },
   {
    "duration": 5,
    "start_time": "2024-03-17T15:38:21.814Z"
   },
   {
    "duration": 4,
    "start_time": "2024-03-17T15:38:21.821Z"
   },
   {
    "duration": 12,
    "start_time": "2024-03-17T15:38:21.826Z"
   },
   {
    "duration": 8,
    "start_time": "2024-03-17T15:38:35.792Z"
   },
   {
    "duration": 7,
    "start_time": "2024-03-17T15:38:45.934Z"
   },
   {
    "duration": 1191,
    "start_time": "2024-03-17T16:07:56.671Z"
   },
   {
    "duration": 70,
    "start_time": "2024-03-17T16:07:57.864Z"
   },
   {
    "duration": 45,
    "start_time": "2024-03-17T16:07:57.935Z"
   },
   {
    "duration": 7,
    "start_time": "2024-03-17T16:07:57.982Z"
   },
   {
    "duration": 17,
    "start_time": "2024-03-17T16:07:57.991Z"
   },
   {
    "duration": 10,
    "start_time": "2024-03-17T16:07:58.010Z"
   },
   {
    "duration": 20,
    "start_time": "2024-03-17T16:07:58.021Z"
   },
   {
    "duration": 191,
    "start_time": "2024-03-17T16:07:58.043Z"
   },
   {
    "duration": 152,
    "start_time": "2024-03-17T16:07:58.235Z"
   },
   {
    "duration": 7,
    "start_time": "2024-03-17T16:07:58.390Z"
   },
   {
    "duration": 201,
    "start_time": "2024-03-17T16:07:58.398Z"
   },
   {
    "duration": 435,
    "start_time": "2024-03-17T16:07:58.601Z"
   },
   {
    "duration": 407,
    "start_time": "2024-03-17T16:07:59.037Z"
   },
   {
    "duration": 25,
    "start_time": "2024-03-17T16:07:59.445Z"
   },
   {
    "duration": 32,
    "start_time": "2024-03-17T16:07:59.471Z"
   },
   {
    "duration": 25,
    "start_time": "2024-03-17T16:07:59.505Z"
   },
   {
    "duration": 478,
    "start_time": "2024-03-17T16:07:59.531Z"
   },
   {
    "duration": 576,
    "start_time": "2024-03-17T16:08:00.011Z"
   },
   {
    "duration": 103,
    "start_time": "2024-03-17T16:08:00.589Z"
   },
   {
    "duration": 0,
    "start_time": "2024-03-17T16:08:00.694Z"
   },
   {
    "duration": 0,
    "start_time": "2024-03-17T16:08:00.695Z"
   },
   {
    "duration": 0,
    "start_time": "2024-03-17T16:08:00.696Z"
   },
   {
    "duration": 0,
    "start_time": "2024-03-17T16:08:00.697Z"
   },
   {
    "duration": 0,
    "start_time": "2024-03-17T16:08:00.698Z"
   },
   {
    "duration": 0,
    "start_time": "2024-03-17T16:08:00.699Z"
   },
   {
    "duration": 43,
    "start_time": "2024-03-17T16:08:25.393Z"
   },
   {
    "duration": 3,
    "start_time": "2024-03-17T16:08:39.642Z"
   },
   {
    "duration": 151,
    "start_time": "2024-03-17T16:08:40.209Z"
   },
   {
    "duration": 431,
    "start_time": "2024-03-17T16:08:43.814Z"
   },
   {
    "duration": 547,
    "start_time": "2024-03-17T16:09:58.766Z"
   },
   {
    "duration": 489,
    "start_time": "2024-03-17T16:10:03.678Z"
   },
   {
    "duration": 473,
    "start_time": "2024-03-17T16:11:03.596Z"
   },
   {
    "duration": 499,
    "start_time": "2024-03-17T16:11:14.138Z"
   },
   {
    "duration": 96,
    "start_time": "2024-03-17T16:11:22.085Z"
   },
   {
    "duration": 97,
    "start_time": "2024-03-17T16:11:26.629Z"
   },
   {
    "duration": 564,
    "start_time": "2024-03-17T16:11:28.936Z"
   },
   {
    "duration": 469,
    "start_time": "2024-03-17T16:12:09.671Z"
   },
   {
    "duration": 478,
    "start_time": "2024-03-17T16:12:20.830Z"
   },
   {
    "duration": 570,
    "start_time": "2024-03-17T16:12:40.295Z"
   },
   {
    "duration": 472,
    "start_time": "2024-03-17T16:13:58.659Z"
   },
   {
    "duration": 98,
    "start_time": "2024-03-17T16:14:16.853Z"
   },
   {
    "duration": 468,
    "start_time": "2024-03-17T16:14:20.870Z"
   },
   {
    "duration": 500,
    "start_time": "2024-03-17T16:14:40.659Z"
   },
   {
    "duration": 580,
    "start_time": "2024-03-17T16:14:55.067Z"
   },
   {
    "duration": 483,
    "start_time": "2024-03-17T16:15:22.020Z"
   },
   {
    "duration": 505,
    "start_time": "2024-03-17T16:32:59.252Z"
   },
   {
    "duration": 491,
    "start_time": "2024-03-17T16:34:03.133Z"
   },
   {
    "duration": 95,
    "start_time": "2024-03-17T16:35:00.835Z"
   },
   {
    "duration": 600,
    "start_time": "2024-03-17T16:35:08.987Z"
   },
   {
    "duration": 480,
    "start_time": "2024-03-17T16:35:28.144Z"
   },
   {
    "duration": 1098,
    "start_time": "2024-03-17T16:35:39.156Z"
   },
   {
    "duration": 71,
    "start_time": "2024-03-17T16:35:40.256Z"
   },
   {
    "duration": 43,
    "start_time": "2024-03-17T16:35:40.328Z"
   },
   {
    "duration": 7,
    "start_time": "2024-03-17T16:35:40.372Z"
   },
   {
    "duration": 18,
    "start_time": "2024-03-17T16:35:40.381Z"
   },
   {
    "duration": 9,
    "start_time": "2024-03-17T16:35:40.400Z"
   },
   {
    "duration": 14,
    "start_time": "2024-03-17T16:35:40.410Z"
   },
   {
    "duration": 189,
    "start_time": "2024-03-17T16:35:40.425Z"
   },
   {
    "duration": 158,
    "start_time": "2024-03-17T16:35:40.615Z"
   },
   {
    "duration": 13,
    "start_time": "2024-03-17T16:35:40.775Z"
   },
   {
    "duration": 197,
    "start_time": "2024-03-17T16:35:40.790Z"
   },
   {
    "duration": 423,
    "start_time": "2024-03-17T16:35:40.989Z"
   },
   {
    "duration": 412,
    "start_time": "2024-03-17T16:35:41.413Z"
   },
   {
    "duration": 24,
    "start_time": "2024-03-17T16:35:41.827Z"
   },
   {
    "duration": 19,
    "start_time": "2024-03-17T16:35:41.853Z"
   },
   {
    "duration": 24,
    "start_time": "2024-03-17T16:35:41.888Z"
   },
   {
    "duration": 564,
    "start_time": "2024-03-17T16:35:41.913Z"
   },
   {
    "duration": 486,
    "start_time": "2024-03-17T16:35:42.479Z"
   },
   {
    "duration": 54,
    "start_time": "2024-03-17T16:35:42.968Z"
   },
   {
    "duration": 3,
    "start_time": "2024-03-17T16:35:43.024Z"
   },
   {
    "duration": 184,
    "start_time": "2024-03-17T16:35:43.029Z"
   },
   {
    "duration": 490,
    "start_time": "2024-03-17T16:35:43.215Z"
   },
   {
    "duration": 6,
    "start_time": "2024-03-17T16:35:43.706Z"
   },
   {
    "duration": 13,
    "start_time": "2024-03-17T16:35:43.714Z"
   },
   {
    "duration": 35,
    "start_time": "2024-03-17T16:35:43.728Z"
   },
   {
    "duration": 1160,
    "start_time": "2024-03-17T17:00:46.068Z"
   },
   {
    "duration": 67,
    "start_time": "2024-03-17T17:00:47.230Z"
   },
   {
    "duration": 42,
    "start_time": "2024-03-17T17:00:47.299Z"
   },
   {
    "duration": 7,
    "start_time": "2024-03-17T17:00:47.343Z"
   },
   {
    "duration": 16,
    "start_time": "2024-03-17T17:00:47.351Z"
   },
   {
    "duration": 10,
    "start_time": "2024-03-17T17:00:47.380Z"
   },
   {
    "duration": 13,
    "start_time": "2024-03-17T17:00:47.391Z"
   },
   {
    "duration": 195,
    "start_time": "2024-03-17T17:00:47.405Z"
   },
   {
    "duration": 150,
    "start_time": "2024-03-17T17:00:47.601Z"
   },
   {
    "duration": 7,
    "start_time": "2024-03-17T17:00:47.754Z"
   },
   {
    "duration": 190,
    "start_time": "2024-03-17T17:00:47.762Z"
   },
   {
    "duration": 419,
    "start_time": "2024-03-17T17:00:47.954Z"
   },
   {
    "duration": 415,
    "start_time": "2024-03-17T17:00:48.380Z"
   },
   {
    "duration": 25,
    "start_time": "2024-03-17T17:00:48.797Z"
   },
   {
    "duration": 18,
    "start_time": "2024-03-17T17:00:48.824Z"
   },
   {
    "duration": 40,
    "start_time": "2024-03-17T17:00:48.844Z"
   },
   {
    "duration": 553,
    "start_time": "2024-03-17T17:00:48.886Z"
   },
   {
    "duration": 490,
    "start_time": "2024-03-17T17:00:49.441Z"
   },
   {
    "duration": 51,
    "start_time": "2024-03-17T17:00:49.932Z"
   },
   {
    "duration": 4,
    "start_time": "2024-03-17T17:00:49.984Z"
   },
   {
    "duration": 156,
    "start_time": "2024-03-17T17:00:49.989Z"
   },
   {
    "duration": 460,
    "start_time": "2024-03-17T17:00:50.146Z"
   },
   {
    "duration": 4,
    "start_time": "2024-03-17T17:00:50.608Z"
   },
   {
    "duration": 27,
    "start_time": "2024-03-17T17:00:50.614Z"
   },
   {
    "duration": 25,
    "start_time": "2024-03-17T17:00:50.643Z"
   },
   {
    "duration": 53,
    "start_time": "2024-03-19T21:44:08.810Z"
   },
   {
    "duration": 1131,
    "start_time": "2024-03-19T21:44:16.898Z"
   },
   {
    "duration": 294,
    "start_time": "2024-03-19T21:44:18.031Z"
   },
   {
    "duration": 43,
    "start_time": "2024-03-19T21:44:18.327Z"
   },
   {
    "duration": 7,
    "start_time": "2024-03-19T21:44:18.372Z"
   },
   {
    "duration": 31,
    "start_time": "2024-03-19T21:44:18.380Z"
   },
   {
    "duration": 10,
    "start_time": "2024-03-19T21:44:18.412Z"
   },
   {
    "duration": 13,
    "start_time": "2024-03-19T21:44:18.423Z"
   },
   {
    "duration": 190,
    "start_time": "2024-03-19T21:44:18.437Z"
   },
   {
    "duration": 160,
    "start_time": "2024-03-19T21:44:18.629Z"
   },
   {
    "duration": 8,
    "start_time": "2024-03-19T21:44:18.792Z"
   },
   {
    "duration": 204,
    "start_time": "2024-03-19T21:44:18.801Z"
   },
   {
    "duration": 408,
    "start_time": "2024-03-19T21:44:19.008Z"
   },
   {
    "duration": 398,
    "start_time": "2024-03-19T21:44:19.417Z"
   },
   {
    "duration": 22,
    "start_time": "2024-03-19T21:44:19.817Z"
   },
   {
    "duration": 34,
    "start_time": "2024-03-19T21:44:19.841Z"
   },
   {
    "duration": 15,
    "start_time": "2024-03-19T21:44:19.877Z"
   },
   {
    "duration": 602,
    "start_time": "2024-03-19T21:44:19.893Z"
   },
   {
    "duration": 478,
    "start_time": "2024-03-19T21:44:20.496Z"
   },
   {
    "duration": 41,
    "start_time": "2024-03-19T21:44:20.976Z"
   },
   {
    "duration": 3,
    "start_time": "2024-03-19T21:44:21.019Z"
   },
   {
    "duration": 171,
    "start_time": "2024-03-19T21:44:21.023Z"
   },
   {
    "duration": 503,
    "start_time": "2024-03-19T21:44:21.196Z"
   },
   {
    "duration": 5,
    "start_time": "2024-03-19T21:44:21.700Z"
   },
   {
    "duration": 6,
    "start_time": "2024-03-19T21:44:21.707Z"
   },
   {
    "duration": 9,
    "start_time": "2024-03-19T21:44:21.714Z"
   },
   {
    "duration": 30,
    "start_time": "2024-03-19T21:44:40.554Z"
   },
   {
    "duration": 1047,
    "start_time": "2024-09-26T14:11:06.319Z"
   },
   {
    "duration": 377,
    "start_time": "2024-09-26T14:11:07.368Z"
   },
   {
    "duration": 41,
    "start_time": "2024-09-26T14:11:07.749Z"
   },
   {
    "duration": 7,
    "start_time": "2024-09-26T14:11:07.791Z"
   },
   {
    "duration": 28,
    "start_time": "2024-09-26T14:11:07.800Z"
   },
   {
    "duration": 8,
    "start_time": "2024-09-26T14:11:07.830Z"
   },
   {
    "duration": 12,
    "start_time": "2024-09-26T14:11:07.840Z"
   },
   {
    "duration": 176,
    "start_time": "2024-09-26T14:11:07.854Z"
   },
   {
    "duration": 147,
    "start_time": "2024-09-26T14:11:08.034Z"
   },
   {
    "duration": 8,
    "start_time": "2024-09-26T14:11:08.183Z"
   },
   {
    "duration": 196,
    "start_time": "2024-09-26T14:11:08.193Z"
   },
   {
    "duration": 387,
    "start_time": "2024-09-26T14:11:08.391Z"
   },
   {
    "duration": 396,
    "start_time": "2024-09-26T14:11:08.781Z"
   },
   {
    "duration": 36,
    "start_time": "2024-09-26T14:11:09.179Z"
   },
   {
    "duration": 17,
    "start_time": "2024-09-26T14:11:09.217Z"
   },
   {
    "duration": 14,
    "start_time": "2024-09-26T14:11:09.235Z"
   },
   {
    "duration": 542,
    "start_time": "2024-09-26T14:11:09.250Z"
   },
   {
    "duration": 467,
    "start_time": "2024-09-26T14:11:09.794Z"
   },
   {
    "duration": 29,
    "start_time": "2024-09-26T14:11:10.263Z"
   },
   {
    "duration": 15,
    "start_time": "2024-09-26T14:11:10.294Z"
   },
   {
    "duration": 145,
    "start_time": "2024-09-26T14:11:10.310Z"
   },
   {
    "duration": 443,
    "start_time": "2024-09-26T14:11:10.456Z"
   },
   {
    "duration": 9,
    "start_time": "2024-09-26T14:11:10.901Z"
   },
   {
    "duration": 7,
    "start_time": "2024-09-26T14:11:10.912Z"
   },
   {
    "duration": 9,
    "start_time": "2024-09-26T14:11:10.920Z"
   },
   {
    "duration": 21,
    "start_time": "2024-09-26T14:11:19.690Z"
   },
   {
    "duration": 16,
    "start_time": "2024-09-26T14:12:13.661Z"
   },
   {
    "duration": 20,
    "start_time": "2024-09-26T14:12:18.194Z"
   },
   {
    "duration": 15,
    "start_time": "2024-09-26T14:12:21.422Z"
   }
  ],
  "kernelspec": {
   "display_name": "Python 3 (ipykernel)",
   "language": "python",
   "name": "python3"
  },
  "language_info": {
   "codemirror_mode": {
    "name": "ipython",
    "version": 3
   },
   "file_extension": ".py",
   "mimetype": "text/x-python",
   "name": "python",
   "nbconvert_exporter": "python",
   "pygments_lexer": "ipython3",
   "version": "3.12.4"
  },
  "toc": {
   "base_numbering": 1,
   "nav_menu": {
    "height": "100.99px",
    "width": "297.118px"
   },
   "number_sections": true,
   "sideBar": true,
   "skip_h1_title": true,
   "title_cell": "Table of Contents",
   "title_sidebar": "Contents",
   "toc_cell": false,
   "toc_position": {},
   "toc_section_display": true,
   "toc_window_display": false
  }
 },
 "nbformat": 4,
 "nbformat_minor": 5
}
