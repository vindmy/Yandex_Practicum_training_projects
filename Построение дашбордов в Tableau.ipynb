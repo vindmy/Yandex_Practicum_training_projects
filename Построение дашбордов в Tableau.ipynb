{
 "cells": [
  {
   "cell_type": "markdown",
   "id": "cd7f8534",
   "metadata": {},
   "source": [
    "Презентация: <https://public.tableau.com/views/Tableau_17265115371810/Tableau?:language=en-US&:sid=&:redirect=auth&:display_count=n&:origin=viz_share_link> "
   ]
  },
  {
   "cell_type": "markdown",
   "id": "46d09878",
   "metadata": {},
   "source": [
    "Файл проекта: <https://disk.yandex.ru/d/it3CHdYilx0tQg>"
   ]
  }
 ],
 "metadata": {
  "kernelspec": {
   "display_name": "Python 3 (ipykernel)",
   "language": "python",
   "name": "python3"
  },
  "language_info": {
   "codemirror_mode": {
    "name": "ipython",
    "version": 3
   },
   "file_extension": ".py",
   "mimetype": "text/x-python",
   "name": "python",
   "nbconvert_exporter": "python",
   "pygments_lexer": "ipython3",
   "version": "3.12.4"
  },
  "toc": {
   "base_numbering": 1,
   "nav_menu": {},
   "number_sections": true,
   "sideBar": true,
   "skip_h1_title": true,
   "title_cell": "Table of Contents",
   "title_sidebar": "Contents",
   "toc_cell": false,
   "toc_position": {},
   "toc_section_display": true,
   "toc_window_display": false
  }
 },
 "nbformat": 4,
 "nbformat_minor": 5
}
