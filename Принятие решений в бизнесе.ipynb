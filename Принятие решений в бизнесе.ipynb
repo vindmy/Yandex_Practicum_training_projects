{
 "cells": [
  {
   "cell_type": "markdown",
   "metadata": {},
   "source": [
    "# Проект: Принятие решений в бизнесе"
   ]
  },
  {
   "cell_type": "markdown",
   "metadata": {},
   "source": [
    "Я, в роли аналитика крупного интернет-магазина, подготовил список гипотез для увеличения выручки совместно с отделом маркетинга. Необходимо приоритизировать гипотезы,запустить A/B тест, а также проанализировать результаты."
   ]
  },
  {
   "cell_type": "markdown",
   "metadata": {},
   "source": [
    "# Описание данных"
   ]
  },
  {
   "cell_type": "markdown",
   "metadata": {},
   "source": [
    "**Данные для первой части**  \n",
    "Структура hypothesis.csv:  \n",
    "- Hypothesis — краткое описание гипотезы;\n",
    "- Reach — охват пользователей по 10-балльной шкале;\n",
    "- Impact — влияние на пользователей по 10-балльной шкале;\n",
    "- Confidence — уверенность в гипотезе по 10-балльной шкале;\n",
    "- Efforts — затраты ресурсов на проверку гипотезы по 10-балльной шкале. Чем больше значение Efforts, тем дороже проверка гипотезы.  \n",
    "\n",
    "**Данные для второй части**  \n",
    "Структура orders.csv:\n",
    "- transactionId — идентификатор заказа;\n",
    "- visitorId — идентификатор пользователя, совершившего заказ;\n",
    "- date — дата, когда был совершён заказ;\n",
    "- revenue — выручка заказа;\n",
    "- group — группа A/B-теста, в которую попал заказ.  \n",
    "\n",
    "Структура visitors.csv:  \n",
    "- date — дата;\n",
    "- group — группа A/B-теста;\n",
    "- visitors — количество пользователей в указанную дату в указанной группе A/B-теста"
   ]
  },
  {
   "cell_type": "markdown",
   "metadata": {},
   "source": [
    "# План работы\n",
    "**Часть 1. Приоритизирование гипотез  \n",
    "Часть 2. Анализирование A/B-теста** "
   ]
  },
  {
   "cell_type": "code",
   "execution_count": 2,
   "metadata": {},
   "outputs": [],
   "source": [
    "import pandas as pd\n",
    "import numpy as np\n",
    "import matplotlib.pyplot as plt\n",
    "import datetime as dt\n",
    "import scipy.stats as stats"
   ]
  },
  {
   "cell_type": "markdown",
   "metadata": {},
   "source": [
    "### Приоритизация гипотез"
   ]
  },
  {
   "cell_type": "code",
   "execution_count": 3,
   "metadata": {},
   "outputs": [
    {
     "data": {
      "text/html": [
       "<div>\n",
       "<style scoped>\n",
       "    .dataframe tbody tr th:only-of-type {\n",
       "        vertical-align: middle;\n",
       "    }\n",
       "\n",
       "    .dataframe tbody tr th {\n",
       "        vertical-align: top;\n",
       "    }\n",
       "\n",
       "    .dataframe thead th {\n",
       "        text-align: right;\n",
       "    }\n",
       "</style>\n",
       "<table border=\"1\" class=\"dataframe\">\n",
       "  <thead>\n",
       "    <tr style=\"text-align: right;\">\n",
       "      <th></th>\n",
       "      <th>hypothesis</th>\n",
       "      <th>reach</th>\n",
       "      <th>impact</th>\n",
       "      <th>confidence</th>\n",
       "      <th>efforts</th>\n",
       "    </tr>\n",
       "  </thead>\n",
       "  <tbody>\n",
       "    <tr>\n",
       "      <th>0</th>\n",
       "      <td>Добавить два новых канала привлечения трафика, что позволит привлекать на 30% больше пользователей</td>\n",
       "      <td>3</td>\n",
       "      <td>10</td>\n",
       "      <td>8</td>\n",
       "      <td>6</td>\n",
       "    </tr>\n",
       "    <tr>\n",
       "      <th>1</th>\n",
       "      <td>Запустить собственную службу доставки, что сократит срок доставки заказов</td>\n",
       "      <td>2</td>\n",
       "      <td>5</td>\n",
       "      <td>4</td>\n",
       "      <td>10</td>\n",
       "    </tr>\n",
       "    <tr>\n",
       "      <th>2</th>\n",
       "      <td>Добавить блоки рекомендаций товаров на сайт интернет магазина, чтобы повысить конверсию и средний чек заказа</td>\n",
       "      <td>8</td>\n",
       "      <td>3</td>\n",
       "      <td>7</td>\n",
       "      <td>3</td>\n",
       "    </tr>\n",
       "    <tr>\n",
       "      <th>3</th>\n",
       "      <td>Изменить структура категорий, что увеличит конверсию, т.к. пользователи быстрее найдут нужный товар</td>\n",
       "      <td>8</td>\n",
       "      <td>3</td>\n",
       "      <td>3</td>\n",
       "      <td>8</td>\n",
       "    </tr>\n",
       "    <tr>\n",
       "      <th>4</th>\n",
       "      <td>Изменить цвет фона главной страницы, чтобы увеличить вовлеченность пользователей</td>\n",
       "      <td>3</td>\n",
       "      <td>1</td>\n",
       "      <td>1</td>\n",
       "      <td>1</td>\n",
       "    </tr>\n",
       "    <tr>\n",
       "      <th>5</th>\n",
       "      <td>Добавить страницу отзывов клиентов о магазине, что позволит увеличить количество заказов</td>\n",
       "      <td>3</td>\n",
       "      <td>2</td>\n",
       "      <td>2</td>\n",
       "      <td>3</td>\n",
       "    </tr>\n",
       "    <tr>\n",
       "      <th>6</th>\n",
       "      <td>Показать на главной странице баннеры с актуальными акциями и распродажами, чтобы увеличить конверсию</td>\n",
       "      <td>5</td>\n",
       "      <td>3</td>\n",
       "      <td>8</td>\n",
       "      <td>3</td>\n",
       "    </tr>\n",
       "    <tr>\n",
       "      <th>7</th>\n",
       "      <td>Добавить форму подписки на все основные страницы, чтобы собрать базу клиентов для email-рассылок</td>\n",
       "      <td>10</td>\n",
       "      <td>7</td>\n",
       "      <td>8</td>\n",
       "      <td>5</td>\n",
       "    </tr>\n",
       "    <tr>\n",
       "      <th>8</th>\n",
       "      <td>Запустить акцию, дающую скидку на товар в день рождения</td>\n",
       "      <td>1</td>\n",
       "      <td>9</td>\n",
       "      <td>9</td>\n",
       "      <td>5</td>\n",
       "    </tr>\n",
       "  </tbody>\n",
       "</table>\n",
       "</div>"
      ],
      "text/plain": [
       "                                                                                                     hypothesis  \\\n",
       "0  Добавить два новых канала привлечения трафика, что позволит привлекать на 30% больше пользователей             \n",
       "1  Запустить собственную службу доставки, что сократит срок доставки заказов                                      \n",
       "2  Добавить блоки рекомендаций товаров на сайт интернет магазина, чтобы повысить конверсию и средний чек заказа   \n",
       "3  Изменить структура категорий, что увеличит конверсию, т.к. пользователи быстрее найдут нужный товар            \n",
       "4  Изменить цвет фона главной страницы, чтобы увеличить вовлеченность пользователей                               \n",
       "5  Добавить страницу отзывов клиентов о магазине, что позволит увеличить количество заказов                       \n",
       "6  Показать на главной странице баннеры с актуальными акциями и распродажами, чтобы увеличить конверсию           \n",
       "7  Добавить форму подписки на все основные страницы, чтобы собрать базу клиентов для email-рассылок               \n",
       "8  Запустить акцию, дающую скидку на товар в день рождения                                                        \n",
       "\n",
       "   reach  impact  confidence  efforts  \n",
       "0  3      10      8           6        \n",
       "1  2      5       4           10       \n",
       "2  8      3       7           3        \n",
       "3  8      3       3           8        \n",
       "4  3      1       1           1        \n",
       "5  3      2       2           3        \n",
       "6  5      3       8           3        \n",
       "7  10     7       8           5        \n",
       "8  1      9       9           5        "
      ]
     },
     "metadata": {},
     "output_type": "display_data"
    }
   ],
   "source": [
    "pd.options.display.max_colwidth = 1\n",
    "hypothesis = pd.read_csv('https://code.s3.yandex.net/datasets/hypothesis.csv')\n",
    "hypothesis.columns = hypothesis.columns.str.lower()\n",
    "display(hypothesis)"
   ]
  },
  {
   "cell_type": "markdown",
   "metadata": {},
   "source": [
    "#### Применение фреймворка ICE для приоритизации гипотез"
   ]
  },
  {
   "cell_type": "code",
   "execution_count": 25,
   "metadata": {},
   "outputs": [
    {
     "data": {
      "text/html": [
       "<div>\n",
       "<style scoped>\n",
       "    .dataframe tbody tr th:only-of-type {\n",
       "        vertical-align: middle;\n",
       "    }\n",
       "\n",
       "    .dataframe tbody tr th {\n",
       "        vertical-align: top;\n",
       "    }\n",
       "\n",
       "    .dataframe thead th {\n",
       "        text-align: right;\n",
       "    }\n",
       "</style>\n",
       "<table border=\"1\" class=\"dataframe\">\n",
       "  <thead>\n",
       "    <tr style=\"text-align: right;\">\n",
       "      <th></th>\n",
       "      <th>hypothesis</th>\n",
       "      <th>ICE</th>\n",
       "    </tr>\n",
       "  </thead>\n",
       "  <tbody>\n",
       "    <tr>\n",
       "      <th>8</th>\n",
       "      <td>Запустить акцию, дающую скидку на товар в день рождения</td>\n",
       "      <td>16.200</td>\n",
       "    </tr>\n",
       "    <tr>\n",
       "      <th>0</th>\n",
       "      <td>Добавить два новых канала привлечения трафика, что позволит привлекать на 30% больше пользователей</td>\n",
       "      <td>13.333</td>\n",
       "    </tr>\n",
       "    <tr>\n",
       "      <th>7</th>\n",
       "      <td>Добавить форму подписки на все основные страницы, чтобы собрать базу клиентов для email-рассылок</td>\n",
       "      <td>11.200</td>\n",
       "    </tr>\n",
       "    <tr>\n",
       "      <th>6</th>\n",
       "      <td>Показать на главной странице баннеры с актуальными акциями и распродажами, чтобы увеличить конверсию</td>\n",
       "      <td>8.000</td>\n",
       "    </tr>\n",
       "    <tr>\n",
       "      <th>2</th>\n",
       "      <td>Добавить блоки рекомендаций товаров на сайт интернет магазина, чтобы повысить конверсию и средний чек заказа</td>\n",
       "      <td>7.000</td>\n",
       "    </tr>\n",
       "    <tr>\n",
       "      <th>1</th>\n",
       "      <td>Запустить собственную службу доставки, что сократит срок доставки заказов</td>\n",
       "      <td>2.000</td>\n",
       "    </tr>\n",
       "    <tr>\n",
       "      <th>5</th>\n",
       "      <td>Добавить страницу отзывов клиентов о магазине, что позволит увеличить количество заказов</td>\n",
       "      <td>1.333</td>\n",
       "    </tr>\n",
       "    <tr>\n",
       "      <th>3</th>\n",
       "      <td>Изменить структура категорий, что увеличит конверсию, т.к. пользователи быстрее найдут нужный товар</td>\n",
       "      <td>1.125</td>\n",
       "    </tr>\n",
       "    <tr>\n",
       "      <th>4</th>\n",
       "      <td>Изменить цвет фона главной страницы, чтобы увеличить вовлеченность пользователей</td>\n",
       "      <td>1.000</td>\n",
       "    </tr>\n",
       "  </tbody>\n",
       "</table>\n",
       "</div>"
      ],
      "text/plain": [
       "                                                                                                     hypothesis  \\\n",
       "8  Запустить акцию, дающую скидку на товар в день рождения                                                        \n",
       "0  Добавить два новых канала привлечения трафика, что позволит привлекать на 30% больше пользователей             \n",
       "7  Добавить форму подписки на все основные страницы, чтобы собрать базу клиентов для email-рассылок               \n",
       "6  Показать на главной странице баннеры с актуальными акциями и распродажами, чтобы увеличить конверсию           \n",
       "2  Добавить блоки рекомендаций товаров на сайт интернет магазина, чтобы повысить конверсию и средний чек заказа   \n",
       "1  Запустить собственную службу доставки, что сократит срок доставки заказов                                      \n",
       "5  Добавить страницу отзывов клиентов о магазине, что позволит увеличить количество заказов                       \n",
       "3  Изменить структура категорий, что увеличит конверсию, т.к. пользователи быстрее найдут нужный товар            \n",
       "4  Изменить цвет фона главной страницы, чтобы увеличить вовлеченность пользователей                               \n",
       "\n",
       "      ICE  \n",
       "8  16.200  \n",
       "0  13.333  \n",
       "7  11.200  \n",
       "6  8.000   \n",
       "2  7.000   \n",
       "1  2.000   \n",
       "5  1.333   \n",
       "3  1.125   \n",
       "4  1.000   "
      ]
     },
     "metadata": {},
     "output_type": "display_data"
    }
   ],
   "source": [
    "hypothesis['ICE'] = round(hypothesis.impact * hypothesis.confidence / hypothesis.efforts, 3)\n",
    "display(hypothesis[['hypothesis', 'ICE']].sort_values('ICE', ascending=False))"
   ]
  },
  {
   "cell_type": "markdown",
   "metadata": {},
   "source": [
    "#### Применение фреймворк RICE для приоритизации гипотез"
   ]
  },
  {
   "cell_type": "code",
   "execution_count": 26,
   "metadata": {},
   "outputs": [
    {
     "data": {
      "text/html": [
       "<div>\n",
       "<style scoped>\n",
       "    .dataframe tbody tr th:only-of-type {\n",
       "        vertical-align: middle;\n",
       "    }\n",
       "\n",
       "    .dataframe tbody tr th {\n",
       "        vertical-align: top;\n",
       "    }\n",
       "\n",
       "    .dataframe thead th {\n",
       "        text-align: right;\n",
       "    }\n",
       "</style>\n",
       "<table border=\"1\" class=\"dataframe\">\n",
       "  <thead>\n",
       "    <tr style=\"text-align: right;\">\n",
       "      <th></th>\n",
       "      <th>hypothesis</th>\n",
       "      <th>RICE</th>\n",
       "    </tr>\n",
       "  </thead>\n",
       "  <tbody>\n",
       "    <tr>\n",
       "      <th>7</th>\n",
       "      <td>Добавить форму подписки на все основные страницы, чтобы собрать базу клиентов для email-рассылок</td>\n",
       "      <td>112.0</td>\n",
       "    </tr>\n",
       "    <tr>\n",
       "      <th>2</th>\n",
       "      <td>Добавить блоки рекомендаций товаров на сайт интернет магазина, чтобы повысить конверсию и средний чек заказа</td>\n",
       "      <td>56.0</td>\n",
       "    </tr>\n",
       "    <tr>\n",
       "      <th>0</th>\n",
       "      <td>Добавить два новых канала привлечения трафика, что позволит привлекать на 30% больше пользователей</td>\n",
       "      <td>40.0</td>\n",
       "    </tr>\n",
       "    <tr>\n",
       "      <th>6</th>\n",
       "      <td>Показать на главной странице баннеры с актуальными акциями и распродажами, чтобы увеличить конверсию</td>\n",
       "      <td>40.0</td>\n",
       "    </tr>\n",
       "    <tr>\n",
       "      <th>8</th>\n",
       "      <td>Запустить акцию, дающую скидку на товар в день рождения</td>\n",
       "      <td>16.2</td>\n",
       "    </tr>\n",
       "    <tr>\n",
       "      <th>3</th>\n",
       "      <td>Изменить структура категорий, что увеличит конверсию, т.к. пользователи быстрее найдут нужный товар</td>\n",
       "      <td>9.0</td>\n",
       "    </tr>\n",
       "    <tr>\n",
       "      <th>1</th>\n",
       "      <td>Запустить собственную службу доставки, что сократит срок доставки заказов</td>\n",
       "      <td>4.0</td>\n",
       "    </tr>\n",
       "    <tr>\n",
       "      <th>5</th>\n",
       "      <td>Добавить страницу отзывов клиентов о магазине, что позволит увеличить количество заказов</td>\n",
       "      <td>4.0</td>\n",
       "    </tr>\n",
       "    <tr>\n",
       "      <th>4</th>\n",
       "      <td>Изменить цвет фона главной страницы, чтобы увеличить вовлеченность пользователей</td>\n",
       "      <td>3.0</td>\n",
       "    </tr>\n",
       "  </tbody>\n",
       "</table>\n",
       "</div>"
      ],
      "text/plain": [
       "                                                                                                     hypothesis  \\\n",
       "7  Добавить форму подписки на все основные страницы, чтобы собрать базу клиентов для email-рассылок               \n",
       "2  Добавить блоки рекомендаций товаров на сайт интернет магазина, чтобы повысить конверсию и средний чек заказа   \n",
       "0  Добавить два новых канала привлечения трафика, что позволит привлекать на 30% больше пользователей             \n",
       "6  Показать на главной странице баннеры с актуальными акциями и распродажами, чтобы увеличить конверсию           \n",
       "8  Запустить акцию, дающую скидку на товар в день рождения                                                        \n",
       "3  Изменить структура категорий, что увеличит конверсию, т.к. пользователи быстрее найдут нужный товар            \n",
       "1  Запустить собственную службу доставки, что сократит срок доставки заказов                                      \n",
       "5  Добавить страницу отзывов клиентов о магазине, что позволит увеличить количество заказов                       \n",
       "4  Изменить цвет фона главной страницы, чтобы увеличить вовлеченность пользователей                               \n",
       "\n",
       "    RICE  \n",
       "7  112.0  \n",
       "2  56.0   \n",
       "0  40.0   \n",
       "6  40.0   \n",
       "8  16.2   \n",
       "3  9.0    \n",
       "1  4.0    \n",
       "5  4.0    \n",
       "4  3.0    "
      ]
     },
     "metadata": {},
     "output_type": "display_data"
    }
   ],
   "source": [
    "hypothesis['RICE'] = (hypothesis.reach * hypothesis.impact * hypothesis.confidence / hypothesis.efforts)\n",
    "display(hypothesis[['hypothesis', 'RICE']].sort_values('RICE', ascending=False))"
   ]
  },
  {
   "cell_type": "markdown",
   "metadata": {},
   "source": [
    "**Вывод:** при использовании фреймворка ICE топ-3 составляли гипотезы под индексом 8, 0, 7. В свою очередь у RICE это 7, 2, 0. Гипотезы изменили своё положение из-за компонента Reach(охват). Так, например, у гипотезы 7 он составляет оценку 10, а У 8 всего 1. Следовательно, положение в таблицах меняется по причине того, на какое число людей желаемое внесение изменений полвияет."
   ]
  },
  {
   "cell_type": "markdown",
   "metadata": {},
   "source": [
    "### Анализ A/B тест"
   ]
  },
  {
   "cell_type": "markdown",
   "metadata": {},
   "source": [
    "#### Чтение и запись данных в переменные"
   ]
  },
  {
   "cell_type": "code",
   "execution_count": 4,
   "metadata": {},
   "outputs": [],
   "source": [
    "def info_frames(*frames):\n",
    "    for frame in frames:\n",
    "        frame.info()\n",
    "        print()\n",
    "        print('\\033[1m' + 'Количество дубликатов в таблице:' + '\\033[0m', frame.duplicated().sum())\n",
    "        print()       "
   ]
  },
  {
   "cell_type": "code",
   "execution_count": 5,
   "metadata": {},
   "outputs": [
    {
     "name": "stdout",
     "output_type": "stream",
     "text": [
      "<class 'pandas.core.frame.DataFrame'>\n",
      "RangeIndex: 1197 entries, 0 to 1196\n",
      "Data columns (total 5 columns):\n",
      " #   Column          Non-Null Count  Dtype \n",
      "---  ------          --------------  ----- \n",
      " 0   transaction_id  1197 non-null   int64 \n",
      " 1   visitor_id      1197 non-null   int64 \n",
      " 2   date            1197 non-null   object\n",
      " 3   revenue         1197 non-null   int64 \n",
      " 4   group           1197 non-null   object\n",
      "dtypes: int64(3), object(2)\n",
      "memory usage: 46.9+ KB\n",
      "\n",
      "\u001b[1mКоличество дубликатов в таблице:\u001b[0m 0\n",
      "\n",
      "<class 'pandas.core.frame.DataFrame'>\n",
      "RangeIndex: 62 entries, 0 to 61\n",
      "Data columns (total 3 columns):\n",
      " #   Column    Non-Null Count  Dtype \n",
      "---  ------    --------------  ----- \n",
      " 0   date      62 non-null     object\n",
      " 1   group     62 non-null     object\n",
      " 2   visitors  62 non-null     int64 \n",
      "dtypes: int64(1), object(2)\n",
      "memory usage: 1.6+ KB\n",
      "\n",
      "\u001b[1mКоличество дубликатов в таблице:\u001b[0m 0\n",
      "\n"
     ]
    },
    {
     "data": {
      "text/html": [
       "<div>\n",
       "<style scoped>\n",
       "    .dataframe tbody tr th:only-of-type {\n",
       "        vertical-align: middle;\n",
       "    }\n",
       "\n",
       "    .dataframe tbody tr th {\n",
       "        vertical-align: top;\n",
       "    }\n",
       "\n",
       "    .dataframe thead th {\n",
       "        text-align: right;\n",
       "    }\n",
       "</style>\n",
       "<table border=\"1\" class=\"dataframe\">\n",
       "  <thead>\n",
       "    <tr style=\"text-align: right;\">\n",
       "      <th></th>\n",
       "      <th>transaction_id</th>\n",
       "      <th>visitor_id</th>\n",
       "      <th>date</th>\n",
       "      <th>revenue</th>\n",
       "      <th>group</th>\n",
       "    </tr>\n",
       "  </thead>\n",
       "  <tbody>\n",
       "    <tr>\n",
       "      <th>0</th>\n",
       "      <td>3667963787</td>\n",
       "      <td>3312258926</td>\n",
       "      <td>2019-08-15</td>\n",
       "      <td>1650</td>\n",
       "      <td>B</td>\n",
       "    </tr>\n",
       "    <tr>\n",
       "      <th>1</th>\n",
       "      <td>2804400009</td>\n",
       "      <td>3642806036</td>\n",
       "      <td>2019-08-15</td>\n",
       "      <td>730</td>\n",
       "      <td>B</td>\n",
       "    </tr>\n",
       "    <tr>\n",
       "      <th>2</th>\n",
       "      <td>2961555356</td>\n",
       "      <td>4069496402</td>\n",
       "      <td>2019-08-15</td>\n",
       "      <td>400</td>\n",
       "      <td>A</td>\n",
       "    </tr>\n",
       "    <tr>\n",
       "      <th>3</th>\n",
       "      <td>3797467345</td>\n",
       "      <td>1196621759</td>\n",
       "      <td>2019-08-15</td>\n",
       "      <td>9759</td>\n",
       "      <td>B</td>\n",
       "    </tr>\n",
       "    <tr>\n",
       "      <th>4</th>\n",
       "      <td>2282983706</td>\n",
       "      <td>2322279887</td>\n",
       "      <td>2019-08-15</td>\n",
       "      <td>2308</td>\n",
       "      <td>B</td>\n",
       "    </tr>\n",
       "  </tbody>\n",
       "</table>\n",
       "</div>"
      ],
      "text/plain": [
       "   transaction_id  visitor_id        date  revenue group\n",
       "0  3667963787      3312258926  2019-08-15  1650     B   \n",
       "1  2804400009      3642806036  2019-08-15  730      B   \n",
       "2  2961555356      4069496402  2019-08-15  400      A   \n",
       "3  3797467345      1196621759  2019-08-15  9759     B   \n",
       "4  2282983706      2322279887  2019-08-15  2308     B   "
      ]
     },
     "metadata": {},
     "output_type": "display_data"
    },
    {
     "data": {
      "text/html": [
       "<div>\n",
       "<style scoped>\n",
       "    .dataframe tbody tr th:only-of-type {\n",
       "        vertical-align: middle;\n",
       "    }\n",
       "\n",
       "    .dataframe tbody tr th {\n",
       "        vertical-align: top;\n",
       "    }\n",
       "\n",
       "    .dataframe thead th {\n",
       "        text-align: right;\n",
       "    }\n",
       "</style>\n",
       "<table border=\"1\" class=\"dataframe\">\n",
       "  <thead>\n",
       "    <tr style=\"text-align: right;\">\n",
       "      <th></th>\n",
       "      <th>date</th>\n",
       "      <th>group</th>\n",
       "      <th>visitors</th>\n",
       "    </tr>\n",
       "  </thead>\n",
       "  <tbody>\n",
       "    <tr>\n",
       "      <th>0</th>\n",
       "      <td>2019-08-01</td>\n",
       "      <td>A</td>\n",
       "      <td>719</td>\n",
       "    </tr>\n",
       "    <tr>\n",
       "      <th>1</th>\n",
       "      <td>2019-08-02</td>\n",
       "      <td>A</td>\n",
       "      <td>619</td>\n",
       "    </tr>\n",
       "    <tr>\n",
       "      <th>2</th>\n",
       "      <td>2019-08-03</td>\n",
       "      <td>A</td>\n",
       "      <td>507</td>\n",
       "    </tr>\n",
       "    <tr>\n",
       "      <th>3</th>\n",
       "      <td>2019-08-04</td>\n",
       "      <td>A</td>\n",
       "      <td>717</td>\n",
       "    </tr>\n",
       "    <tr>\n",
       "      <th>4</th>\n",
       "      <td>2019-08-05</td>\n",
       "      <td>A</td>\n",
       "      <td>756</td>\n",
       "    </tr>\n",
       "  </tbody>\n",
       "</table>\n",
       "</div>"
      ],
      "text/plain": [
       "         date group  visitors\n",
       "0  2019-08-01  A     719     \n",
       "1  2019-08-02  A     619     \n",
       "2  2019-08-03  A     507     \n",
       "3  2019-08-04  A     717     \n",
       "4  2019-08-05  A     756     "
      ]
     },
     "metadata": {},
     "output_type": "display_data"
    }
   ],
   "source": [
    "orders = pd.read_csv('https://code.s3.yandex.net/datasets/orders.csv')\n",
    "visitors = pd.read_csv('https://code.s3.yandex.net/datasets/visitors.csv')\n",
    "orders.columns = orders.columns.str.lower().str.replace('id', '_id')\n",
    "info_frames(orders, visitors)\n",
    "display(orders.head(5), visitors.head(5))"
   ]
  },
  {
   "cell_type": "code",
   "execution_count": 29,
   "metadata": {},
   "outputs": [
    {
     "name": "stdout",
     "output_type": "stream",
     "text": [
      "Число пользователей, оказавшихся одновременно в двух группах: 58\n",
      "Доля повторяющихся пользователей от всех: 5.3%\n"
     ]
    }
   ],
   "source": [
    "print('Число пользователей, оказавшихся одновременно в двух группах: {}'.format(\n",
    "    orders.query('group == \"A\"')[['visitor_id', 'group']].drop_duplicates().merge(\n",
    "    orders.query('group == \"B\"')[['visitor_id', 'group']].drop_duplicates(), on='visitor_id').shape[0]))\n",
    "print('Доля повторяющихся пользователей от всех: {}%'.format(round(orders\n",
    "    .query('group == \"A\"')[['visitor_id', 'group']].drop_duplicates()\n",
    "    .merge(orders.query('group == \"B\"')[['visitor_id', 'group']]\n",
    "    .drop_duplicates(), on='visitor_id').shape[0] / orders[['visitor_id', 'group']].drop_duplicates().shape[0], 3) * 100))"
   ]
  },
  {
   "cell_type": "markdown",
   "metadata": {},
   "source": [
    "**Вывод:** пропуски и дубликаты в таблицах отсутствуют. В двух группах оказалось 58 покупателя. Оставлю этих пользователей, так как они составляют незначительную долю."
   ]
  },
  {
   "cell_type": "markdown",
   "metadata": {},
   "source": [
    "#### Создание таблицы данных с накоплением"
   ]
  },
  {
   "cell_type": "code",
   "execution_count": 30,
   "metadata": {},
   "outputs": [
    {
     "data": {
      "text/html": [
       "<div>\n",
       "<style scoped>\n",
       "    .dataframe tbody tr th:only-of-type {\n",
       "        vertical-align: middle;\n",
       "    }\n",
       "\n",
       "    .dataframe tbody tr th {\n",
       "        vertical-align: top;\n",
       "    }\n",
       "\n",
       "    .dataframe thead th {\n",
       "        text-align: right;\n",
       "    }\n",
       "</style>\n",
       "<table border=\"1\" class=\"dataframe\">\n",
       "  <thead>\n",
       "    <tr style=\"text-align: right;\">\n",
       "      <th></th>\n",
       "      <th>date</th>\n",
       "      <th>group</th>\n",
       "      <th>orders</th>\n",
       "      <th>buyers</th>\n",
       "      <th>revenue</th>\n",
       "      <th>visitors</th>\n",
       "    </tr>\n",
       "  </thead>\n",
       "  <tbody>\n",
       "    <tr>\n",
       "      <th>0</th>\n",
       "      <td>2019-08-01</td>\n",
       "      <td>A</td>\n",
       "      <td>24</td>\n",
       "      <td>20</td>\n",
       "      <td>148579</td>\n",
       "      <td>719</td>\n",
       "    </tr>\n",
       "    <tr>\n",
       "      <th>1</th>\n",
       "      <td>2019-08-01</td>\n",
       "      <td>B</td>\n",
       "      <td>21</td>\n",
       "      <td>20</td>\n",
       "      <td>101217</td>\n",
       "      <td>713</td>\n",
       "    </tr>\n",
       "    <tr>\n",
       "      <th>2</th>\n",
       "      <td>2019-08-02</td>\n",
       "      <td>A</td>\n",
       "      <td>44</td>\n",
       "      <td>38</td>\n",
       "      <td>242401</td>\n",
       "      <td>1338</td>\n",
       "    </tr>\n",
       "    <tr>\n",
       "      <th>3</th>\n",
       "      <td>2019-08-02</td>\n",
       "      <td>B</td>\n",
       "      <td>45</td>\n",
       "      <td>43</td>\n",
       "      <td>266748</td>\n",
       "      <td>1294</td>\n",
       "    </tr>\n",
       "    <tr>\n",
       "      <th>4</th>\n",
       "      <td>2019-08-03</td>\n",
       "      <td>A</td>\n",
       "      <td>68</td>\n",
       "      <td>62</td>\n",
       "      <td>354874</td>\n",
       "      <td>1845</td>\n",
       "    </tr>\n",
       "  </tbody>\n",
       "</table>\n",
       "</div>"
      ],
      "text/plain": [
       "         date group  orders  buyers  revenue  visitors\n",
       "0  2019-08-01  A     24      20      148579   719     \n",
       "1  2019-08-01  B     21      20      101217   713     \n",
       "2  2019-08-02  A     44      38      242401   1338    \n",
       "3  2019-08-02  B     45      43      266748   1294    \n",
       "4  2019-08-03  A     68      62      354874   1845    "
      ]
     },
     "metadata": {},
     "output_type": "display_data"
    }
   ],
   "source": [
    "dates_groups = orders[['date', 'group']].drop_duplicates()\n",
    "agregated_orders = dates_groups.apply(\n",
    "    lambda x: orders[np.logical_and(orders['date'] <= x['date'], orders['group'] == x['group'])].agg(\n",
    "        {\n",
    "            'date' : 'max',\n",
    "            'group' : 'max',\n",
    "            'transaction_id' : pd.Series.nunique,\n",
    "            'visitor_id' : pd.Series.nunique,\n",
    "            'revenue' : 'sum'\n",
    "        }), axis = 1).sort_values(by = ['date', 'group'])\n",
    "\n",
    "agregated_visitors = dates_groups.apply(\n",
    "    lambda x: visitors[np.logical_and(visitors['date'] <= x['date'], visitors['group'] == x['group'])].agg(\n",
    "        {\n",
    "            'date' : 'max',\n",
    "            'group' : 'max',\n",
    "            'visitors' : 'sum'\n",
    "        }), axis = 1).sort_values(by = ['date', 'group'])\n",
    "data_cumulative = agregated_orders.merge(agregated_visitors, left_on=['date', 'group'], right_on=['date', 'group'])\n",
    "data_cumulative.columns = ['date', 'group', 'orders', 'buyers', 'revenue', 'visitors']\n",
    "display(data_cumulative.head(5))"
   ]
  },
  {
   "cell_type": "markdown",
   "metadata": {},
   "source": [
    "#### Построение графика кумулятивной выручки по группам"
   ]
  },
  {
   "cell_type": "code",
   "execution_count": 31,
   "metadata": {},
   "outputs": [
    {
     "data": {
      "image/png": "[encoded data removed]",
      "text/plain": [
       "<Figure size 1080x360 with 1 Axes>"
      ]
     },
     "metadata": {
      "needs_background": "light"
     },
     "output_type": "display_data"
    }
   ],
   "source": [
    "data_cumulative_a = data_cumulative[data_cumulative.group == 'A'][['date', 'revenue', 'orders']]\n",
    "data_cumulative_b = data_cumulative[data_cumulative.group == 'B'][['date', 'revenue', 'orders']]\n",
    "plt.figure(figsize=(15, 5));\n",
    "plt.plot(data_cumulative_a['date'], data_cumulative_a['revenue'], label='A');\n",
    "plt.plot(data_cumulative_b['date'], data_cumulative_b['revenue'], label='B');\n",
    "plt.title('График кумулятивной выручки по группам')\n",
    "plt.xlabel('Дата');\n",
    "plt.ylabel('Кумулятивная выручка');\n",
    "plt.xticks(rotation=45)\n",
    "plt.legend();"
   ]
  },
  {
   "cell_type": "markdown",
   "metadata": {},
   "source": [
    "**Вывод:** В течение всего теста выручка увеличивается. График группы A растет равномерно и приносит стабильной меньше выручки. Что касается графика группы B, то в его росте наблюдаются скачки. Вероятнее всего этому способствуют либо появления дорогих заказов в выборке, либо увеличение числа заказов."
   ]
  },
  {
   "cell_type": "markdown",
   "metadata": {},
   "source": [
    "#### Построение графика кумулятивного среднего чека по группам"
   ]
  },
  {
   "cell_type": "code",
   "execution_count": 32,
   "metadata": {},
   "outputs": [
    {
     "data": {
      "image/png": "[encoded data removed]",
      "text/plain": [
       "<Figure size 1080x360 with 1 Axes>"
      ]
     },
     "metadata": {
      "needs_background": "light"
     },
     "output_type": "display_data"
    }
   ],
   "source": [
    "plt.figure(figsize=(15, 5));\n",
    "plt.plot(data_cumulative_a['date'], data_cumulative_a['revenue'] / data_cumulative_a['orders'], label = 'A');\n",
    "plt.plot(data_cumulative_b['date'], data_cumulative_b['revenue'] / data_cumulative_b['orders'], label = 'B');\n",
    "plt.title('График кумулятивного среднего чека по группам')\n",
    "plt.xlabel('Дата');\n",
    "plt.ylabel('Средний чек');\n",
    "plt.xticks(rotation=45)\n",
    "plt.legend();"
   ]
  },
  {
   "cell_type": "markdown",
   "metadata": {},
   "source": [
    "**Вывод:** Также продолжает колебаться кумулятивное значение среднего чека по группам. Возможно требуется дополнительный анализ выбросов, которые могут искажать результаты."
   ]
  },
  {
   "cell_type": "markdown",
   "metadata": {},
   "source": [
    "#### Построение графика относительного изменения кумулятивного среднего чека группы B к группе A"
   ]
  },
  {
   "cell_type": "code",
   "execution_count": 33,
   "metadata": {},
   "outputs": [
    {
     "data": {
      "image/png": "[encoded data removed]",
      "text/plain": [
       "<Figure size 1080x360 with 1 Axes>"
      ]
     },
     "metadata": {
      "needs_background": "light"
     },
     "output_type": "display_data"
    }
   ],
   "source": [
    "data_cumulative_merged = data_cumulative_a.merge(\n",
    "    data_cumulative_b, left_on='date', right_on='date', how='left', suffixes=['A', 'B']\n",
    ")\n",
    "plt.figure(figsize=(15, 5));\n",
    "plt.plot(\n",
    "    data_cumulative_merged['date'], \n",
    "    (data_cumulative_merged['revenueB']/data_cumulative_merged['ordersB'])/\n",
    "    (data_cumulative_merged['revenueA']/data_cumulative_merged['ordersA'])-1\n",
    ");\n",
    "plt.title('График относительного изменения кумулятивного среднего чека группы B к группе A')\n",
    "plt.xlabel('Дата');\n",
    "plt.ylabel('Относительное различие');\n",
    "plt.xticks(rotation=45)\n",
    "plt.axhline(y=0, color='black', linestyle='--');"
   ]
  },
  {
   "cell_type": "markdown",
   "metadata": {},
   "source": [
    "**Вывод:** Результаты теста сильно и внезапно изменялись в определенные даты, что, вероятно, указывает на наличие аномальных заказов в эти периоды."
   ]
  },
  {
   "cell_type": "markdown",
   "metadata": {},
   "source": [
    "#### Построение графика кумулятивного среднего количества заказов на посетителя по группам"
   ]
  },
  {
   "cell_type": "code",
   "execution_count": 34,
   "metadata": {},
   "outputs": [
    {
     "data": {
      "image/png": "[encoded data removed]",
      "text/plain": [
       "<Figure size 1080x360 with 1 Axes>"
      ]
     },
     "metadata": {
      "needs_background": "light"
     },
     "output_type": "display_data"
    }
   ],
   "source": [
    "data_cumulative['conversion'] = data_cumulative['orders'] / data_cumulative['visitors']\n",
    "new_data_cumulative_a = data_cumulative[data_cumulative.group == 'A']\n",
    "new_data_cumulative_b = data_cumulative[data_cumulative.group == 'B']\n",
    "plt.figure(figsize=(15, 5));\n",
    "plt.plot(new_data_cumulative_a['date'], new_data_cumulative_a['conversion'], label = 'A');\n",
    "plt.plot(new_data_cumulative_b['date'], new_data_cumulative_b['conversion'], label = 'B');\n",
    "plt.title('График  кумулятивного среднего количества заказов на посетителя по группам')\n",
    "plt.xlabel('Дата');\n",
    "plt.ylabel('Среднее количсетво заказов на поситителя');\n",
    "plt.xticks(rotation=45)\n",
    "plt.legend();\n",
    "plt.axis([\"2019-08-01\", '2019-08-31', 0.025, 0.04]);"
   ]
  },
  {
   "cell_type": "markdown",
   "metadata": {},
   "source": [
    "**Вывод:** В начале теста пользователели из группы B делали в среднем примерно меньше заказов, а после определённой даты ситуация изменилась. График сегмента B cтабилизировался и закрепился примерно на одном уровне, превышающем значение сегмента A. Различия в начале и в конце составляют около 2 и 4 процентов."
   ]
  },
  {
   "cell_type": "markdown",
   "metadata": {},
   "source": [
    "#### Построение графика относительного изменения кумулятивного среднего количества заказов на посетителя группы B к группе A. "
   ]
  },
  {
   "cell_type": "code",
   "execution_count": 35,
   "metadata": {},
   "outputs": [
    {
     "data": {
      "image/png": "[encoded data removed]",
      "text/plain": [
       "<Figure size 1080x360 with 1 Axes>"
      ]
     },
     "metadata": {
      "needs_background": "light"
     },
     "output_type": "display_data"
    }
   ],
   "source": [
    "cumulative_conversions_merged = new_data_cumulative_a[['date', 'conversion']].merge(\n",
    "    new_data_cumulative_b[['date', 'conversion']], left_on='date', \n",
    "    right_on='date', how='left', suffixes=['A', 'B'])\n",
    "plt.figure(figsize=(15, 5));\n",
    "plt.plot(cumulative_conversions_merged['date'], \n",
    "         cumulative_conversions_merged['conversionB'] / cumulative_conversions_merged['conversionA'] - 1)\n",
    "plt.xticks(rotation=45)\n",
    "plt.title('График  относительного изменения кумулятивного среднего количества заказов на посетителя группы B к группе A');\n",
    "plt.xlabel('Дата');\n",
    "plt.ylabel('Относительное изменение');\n",
    "plt.axhline(y=0, color='black', linestyle='--');\n",
    "plt.axhline(y=0.15, color='grey', linestyle='--');\n",
    "plt.axis([\"2019-08-01\", '2019-08-31', -0.2, 0.3]);"
   ]
  },
  {
   "cell_type": "markdown",
   "metadata": {},
   "source": [
    "**Вывод:** С начала сегмент B незначительно проигрывал сегменту A, затем вышел вперёд. Группа B лидирует по метрике становясь лучше или же фиксируясь в районе 15% прироста. "
   ]
  },
  {
   "cell_type": "markdown",
   "metadata": {},
   "source": [
    "#### Построение точечного графика количества заказов по пользователям"
   ]
  },
  {
   "cell_type": "code",
   "execution_count": 36,
   "metadata": {},
   "outputs": [
    {
     "data": {
      "image/png": "[encoded data removed]",
      "text/plain": [
       "<Figure size 1080x360 with 1 Axes>"
      ]
     },
     "metadata": {
      "needs_background": "light"
     },
     "output_type": "display_data"
    }
   ],
   "source": [
    "order_by_user = orders.groupby('visitor_id', as_index=False).agg({'transaction_id': 'nunique'})\n",
    "order_by_user.columns = ['visitor_id', 'orders']\n",
    "x_values = pd.Series(range(0, len(order_by_user)))\n",
    "plt.figure(figsize=(15, 5));\n",
    "plt.scatter(x_values, order_by_user.orders);\n",
    "plt.title('Точечный график количества заказов по пользователям');\n",
    "plt.xlabel('Пользователи');\n",
    "plt.ylabel('Число заказов');"
   ]
  },
  {
   "cell_type": "markdown",
   "metadata": {},
   "source": [
    "**Вывод:** Достаточно много покупателей с числом заказов от 2 и более. Точная доля этих данных не определена — неясно, следует ли считать их аномалиями."
   ]
  },
  {
   "cell_type": "markdown",
   "metadata": {},
   "source": [
    "#### Подсчёт 95-й и 99-й перцентилей количества заказов на пользователя"
   ]
  },
  {
   "cell_type": "code",
   "execution_count": 37,
   "metadata": {},
   "outputs": [
    {
     "name": "stdout",
     "output_type": "stream",
     "text": [
      "Не более 5% процентов пользователей делали больше чем 2 заказа\n",
      "Не более 1% процента пользователей делали больше чем 4 заказа\n"
     ]
    }
   ],
   "source": [
    "print(f'Не более 5% процентов пользователей делали больше чем {int(np.percentile(order_by_user.orders, [95])[0])} заказа')\n",
    "print(f'Не более 1% процента пользователей делали больше чем {int(np.percentile(order_by_user.orders, [99])[0])} заказа')"
   ]
  },
  {
   "cell_type": "markdown",
   "metadata": {},
   "source": [
    "**Вывод:** Целесообразно установить верхний предел числа заказов на уровне 2 заказов на одного пользователя и исключить аномальных покупателей на основе этого критерия."
   ]
  },
  {
   "cell_type": "markdown",
   "metadata": {},
   "source": [
    "#### Построение точечного графика стоимостей заказов"
   ]
  },
  {
   "cell_type": "code",
   "execution_count": 38,
   "metadata": {},
   "outputs": [
    {
     "data": {
      "image/png": "[encoded data removed]",
      "text/plain": [
       "<Figure size 1080x360 with 1 Axes>"
      ]
     },
     "metadata": {
      "needs_background": "light"
     },
     "output_type": "display_data"
    }
   ],
   "source": [
    "x_values = pd.Series(range(0, len(orders)))\n",
    "plt.figure(figsize=(15, 5));\n",
    "plt.title('Точечный график стоимостей заказов');\n",
    "plt.scatter(x_values, orders.revenue); "
   ]
  },
  {
   "cell_type": "markdown",
   "metadata": {},
   "source": [
    "На графике расположены 2 слишком аномальных значения, из за чего не удаётся оценить количество заказов. Ограничу ось y."
   ]
  },
  {
   "cell_type": "code",
   "execution_count": 39,
   "metadata": {},
   "outputs": [
    {
     "data": {
      "image/png": "[encoded data removed]",
      "text/plain": [
       "<Figure size 1080x360 with 1 Axes>"
      ]
     },
     "metadata": {
      "needs_background": "light"
     },
     "output_type": "display_data"
    }
   ],
   "source": [
    "x_values = pd.Series(range(0, len(orders)))\n",
    "plt.figure(figsize=(15, 5));\n",
    "plt.title('Точечный график стоимостей заказов');\n",
    "plt.scatter(x_values, orders.revenue); \n",
    "plt.axis([0, len(orders), 0, 125000]);"
   ]
  },
  {
   "cell_type": "markdown",
   "metadata": {},
   "source": [
    "**Вывод:** Присутствуют какая то часть дорогих заказов. На основании графика можно установить порог для аномальных заказов в диапазоне от 20 000 до 40 000 рублей."
   ]
  },
  {
   "cell_type": "markdown",
   "metadata": {},
   "source": [
    "#### Подсчёт 95-й и 99-й перцентилей стоимости заказов"
   ]
  },
  {
   "cell_type": "code",
   "execution_count": 40,
   "metadata": {},
   "outputs": [
    {
     "name": "stdout",
     "output_type": "stream",
     "text": [
      "Не более 5% процентов пользователей делали заказ больше чем 28000 рублей\n",
      "Не более 1% процента пользователей делали заказ больше чем 58233 рублей\n"
     ]
    }
   ],
   "source": [
    "print(f'Не более 5% процентов пользователей делали заказ больше чем {int(np.percentile(orders.revenue, [95])[0])} рублей')\n",
    "print(f'Не более 1% процента пользователей делали заказ больше чем {int(np.percentile(orders.revenue, [99])[0])} рублей')"
   ]
  },
  {
   "cell_type": "markdown",
   "metadata": {},
   "source": [
    "**Вывод:** Целесообразно установить верхний предел стоимости заказа на уровне 28000 рублей и исключить аномальные заказы на основе этого критерия."
   ]
  },
  {
   "cell_type": "markdown",
   "metadata": {},
   "source": [
    "#### Подсчёт статистической значимости различий в среднем количестве заказов на посетителя между группами по «сырым» данным"
   ]
  },
  {
   "cell_type": "markdown",
   "metadata": {},
   "source": [
    "**H0:** различий в среднем количестве заказов между группами нет.  \n",
    "**H1:** различия в среднем между группами есть.  \n",
    "Уровень статистической значимости alpha = 0.05  \n",
    "Критерий проверки гипотез: U-критерий Манна — Уитни."
   ]
  },
  {
   "cell_type": "code",
   "execution_count": 41,
   "metadata": {},
   "outputs": [
    {
     "name": "stdout",
     "output_type": "stream",
     "text": [
      "p-value: 0.01679\n",
      "Относительное различие в среднем между группами: 0.138\n"
     ]
    }
   ],
   "source": [
    "visitors_daily_a = visitors[visitors['group'] == 'A'][['date', 'visitors']]\n",
    "visitors_daily_a.columns = ['date', 'visitors_per_date_a']\n",
    "\n",
    "visitors_cummulative_a = visitors_daily_a.apply(\n",
    "    lambda x: visitors_daily_a[visitors_daily_a['date'] <= x['date']].agg(\n",
    "        {'date': 'max', 'visitors_per_date_a': 'sum'}\n",
    "    ),\n",
    "    axis=1,\n",
    ")\n",
    "visitors_cummulative_a.columns = ['date', 'visitors_cummulative_a']\n",
    "\n",
    "visitors_daily_b = visitors[visitors['group'] == 'B'][['date', 'visitors']]\n",
    "visitors_daily_b.columns = ['date', 'visitors_per_date_b']\n",
    "\n",
    "visitors_cummulative_b = visitors_daily_b.apply(\n",
    "    lambda x: visitors_daily_b[visitors_daily_b['date'] <= x['date']].agg(\n",
    "        {'date': 'max', 'visitors_per_date_b': 'sum'}\n",
    "    ),\n",
    "    axis=1,\n",
    ")\n",
    "visitors_cummulative_b.columns = ['date', 'visitors_cummulative_b']\n",
    "\n",
    "orders_daily_a = (\n",
    "    orders[orders['group'] == 'A'][['date', 'transaction_id', 'visitor_id', 'revenue']]\n",
    "    .groupby('date', as_index=False)\n",
    "    .agg({'transaction_id': pd.Series.nunique, 'revenue': 'sum'})\n",
    ")\n",
    "orders_daily_a.columns = ['date', 'orders_per_date_a', 'revenue_per_date_a']\n",
    "\n",
    "orders_cummulative_a = orders_daily_a.apply(\n",
    "    lambda x: orders_daily_a[orders_daily_a['date'] <= x['date']].agg(\n",
    "        {'date': 'max', 'orders_per_date_a': 'sum', 'revenue_per_date_a': 'sum'}\n",
    "    ),\n",
    "    axis=1,\n",
    ").sort_values(by=['date'])\n",
    "orders_cummulative_a.columns = [\n",
    "    'date',\n",
    "    'orders_cummulative_a',\n",
    "    'revenue_cummulative_a',\n",
    "]\n",
    "\n",
    "orders_daily_b = (\n",
    "    orders[orders['group'] == 'B'][['date', 'transaction_id', 'visitor_id', 'revenue']]\n",
    "    .groupby('date', as_index=False)\n",
    "    .agg({'transaction_id': pd.Series.nunique, 'revenue': 'sum'})\n",
    ")\n",
    "orders_daily_b.columns = ['date', 'orders_per_date_B', 'revenue_per_date_b']\n",
    "\n",
    "orders_cummulative_b = orders_daily_b.apply(\n",
    "    lambda x: orders_daily_b[orders_daily_b['date'] <= x['date']].agg(\n",
    "        {'date': 'max', 'orders_per_date_B': 'sum', 'revenue_per_date_b': 'sum'}\n",
    "    ),\n",
    "    axis=1,\n",
    ").sort_values(by=['date'])\n",
    "orders_cummulative_b.columns = [\n",
    "    'date',\n",
    "    'orders_cummulative_b',\n",
    "    'revenue_cummulative_b',\n",
    "]\n",
    "\n",
    "data = (\n",
    "    orders_daily_a.merge(\n",
    "        orders_daily_b, left_on='date', right_on='date', how='left'\n",
    "    )\n",
    "    .merge(orders_cummulative_a, left_on='date', right_on='date', how='left')\n",
    "    .merge(orders_cummulative_b, left_on='date', right_on='date', how='left')\n",
    "    .merge(visitors_daily_a, left_on='date', right_on='date', how='left')\n",
    "    .merge(visitors_daily_b, left_on='date', right_on='date', how='left')\n",
    "    .merge(visitors_cummulative_a, left_on='date', right_on='date', how='left')\n",
    "    .merge(visitors_cummulative_b, left_on='date', right_on='date', how='left')\n",
    ")\n",
    "\n",
    "orders_by_users_a = (\n",
    "    orders[orders['group'] == 'A']\n",
    "    .groupby('visitor_id', as_index=False)\n",
    "    .agg({'transaction_id' : pd.Series.nunique})\n",
    ")\n",
    "orders_by_users_a.columns = ['visitor_id', 'orders']\n",
    "\n",
    "orders_by_users_b = (\n",
    "    orders[orders['group'] == 'B']\n",
    "    .groupby('visitor_id', as_index=False)\n",
    "    .agg({'transaction_id' : pd.Series.nunique})\n",
    ")\n",
    "orders_by_users_b.columns = ['visitor_id', 'orders']\n",
    "\n",
    "sample_a = pd.concat([orders_by_users_a['orders'],pd.Series(\n",
    "    0, index=np.arange(data['visitors_per_date_a'].sum() - len(orders_by_users_a['orders'])), name='orders')],axis=0)\n",
    "\n",
    "sample_b = pd.concat([orders_by_users_b['orders'],pd.Series(\n",
    "    0, index=np.arange(data['visitors_per_date_b'].sum() - len(orders_by_users_b['orders'])), name='orders')],axis=0)\n",
    "\n",
    "print(\"p-value: {0:.5f}\".format(stats.mannwhitneyu(sample_a, sample_b)[1]))\n",
    "\n",
    "print(\"Относительное различие в среднем между группами: {0:.3f}\".format(sample_b.mean() / sample_a.mean() - 1))"
   ]
  },
  {
   "cell_type": "markdown",
   "metadata": {},
   "source": [
    "**Вывод:** P-value значительно меньше 0.05, поэтому нулевую гипотезу отвергаем. Анализ исходных данных показывает, что среднее количество заказов между группами отличается статистически значимо. Относительный прирост среднего количества заказов в группе B по сравнению с группой A составляет 13.8%."
   ]
  },
  {
   "cell_type": "markdown",
   "metadata": {},
   "source": [
    "#### Подсчёт статистической значимости различий в среднем чеке заказа между группами по «сырым» данным"
   ]
  },
  {
   "cell_type": "markdown",
   "metadata": {},
   "source": [
    "**H0:** различий в среднем чеке между группами нет.  \n",
    "**H1:** различия в среднем чеке между группами есть.  \n",
    "Уровень статистической значимости alpha = 0.05  \n",
    "Критерий проверки гипотез: U-критерий Манна — Уитни."
   ]
  },
  {
   "cell_type": "code",
   "execution_count": 42,
   "metadata": {},
   "outputs": [
    {
     "name": "stdout",
     "output_type": "stream",
     "text": [
      "p-value: 0.729\n",
      "Относительные различия в среднем чеке между группами: 0.259\n"
     ]
    }
   ],
   "source": [
    "print('p-value: {0:.3f}'.format(\n",
    "    stats.mannwhitneyu(orders[orders['group']=='A']['revenue'], orders[orders['group']=='B']['revenue'])[1]))\n",
    "print('Относительные различия в среднем чеке между группами: {0:.3f}'.format(\n",
    "    orders[orders['group']=='B']['revenue'].mean()/orders[orders['group']=='A']['revenue'].mean()-1))"
   ]
  },
  {
   "cell_type": "markdown",
   "metadata": {},
   "source": [
    "**Вывод:** P-value значительно превышает 0.05. Это означает, что нет оснований отвергать нулевую гипотезу и утверждать, что существуют различия в среднем чеке. Кроме того, разница в среднем чеке между сегментами составляет 25.9%"
   ]
  },
  {
   "cell_type": "markdown",
   "metadata": {},
   "source": [
    "#### Подсчёт статистической значимости различий в среднем количестве заказов на посетителя между группами по «очищенным» данным"
   ]
  },
  {
   "cell_type": "markdown",
   "metadata": {},
   "source": [
    "Считаем аномальными пользователей, которые сделали 4 и более заказов или оформили заказ на сумму свыше 30 000 рублей. Таким образом, мы исключим 1% пользователей с наибольшим количеством заказов и от 1% до 5% пользователей с самыми дорогими заказами."
   ]
  },
  {
   "cell_type": "code",
   "execution_count": 43,
   "metadata": {},
   "outputs": [
    {
     "name": "stdout",
     "output_type": "stream",
     "text": [
      "p-value: 0.01832\n",
      "Относительное различие в среднем между группами: 0.148\n"
     ]
    }
   ],
   "source": [
    "users_with_many_orders = pd.concat(\n",
    "    [\n",
    "        orders_by_users_a[orders_by_users_a['orders'] > 3]['visitor_id'],\n",
    "        orders_by_users_b[orders_by_users_b['orders'] > 3]['visitor_id'],\n",
    "    ],\n",
    "    axis=0,\n",
    ")\n",
    "users_with_expensive_orders = orders[orders['revenue'] > 30000]['visitor_id']\n",
    "a_b_normal_users = (\n",
    "    pd.concat([users_with_many_orders, users_with_expensive_orders], axis=0)\n",
    "    .drop_duplicates()\n",
    "    .sort_values()\n",
    ")\n",
    "\n",
    "sample_a_filtered = pd.concat(\n",
    "    [\n",
    "        orders_by_users_a[\n",
    "            np.logical_not(orders_by_users_a['visitor_id'].isin(a_b_normal_users))\n",
    "        ]['orders'],\n",
    "        pd.Series(\n",
    "            0,\n",
    "            index=np.arange(\n",
    "                data['visitors_per_date_a'].sum() - len(orders_by_users_a['orders'])\n",
    "            ),\n",
    "            name='orders',\n",
    "        ),\n",
    "    ],\n",
    "    axis=0,\n",
    ")\n",
    "\n",
    "sample_b_filtered = pd.concat(\n",
    "    [\n",
    "        orders_by_users_b[\n",
    "            np.logical_not(orders_by_users_b['visitor_id'].isin(a_b_normal_users))\n",
    "        ]['orders'],\n",
    "        pd.Series(\n",
    "            0,\n",
    "            index=np.arange(\n",
    "                data['visitors_per_date_b'].sum() - len(orders_by_users_b['orders'])\n",
    "            ),\n",
    "            name='orders',\n",
    "        ),\n",
    "    ],\n",
    "    axis=0,\n",
    ")\n",
    "\n",
    "print('p-value: {0:.5f}'.format(stats.mannwhitneyu(sample_a_filtered, sample_b_filtered)[1]))\n",
    "print('Относительное различие в среднем между группами: {0:.3f}'.format(sample_b_filtered.mean()/sample_a_filtered.mean()-1))"
   ]
  },
  {
   "cell_type": "markdown",
   "metadata": {},
   "source": [
    "**Вывод:** Как и в случае с необработанными данными, статистическая значимость достигнута. Сегмент B значительно превосходит сегмент A."
   ]
  },
  {
   "cell_type": "markdown",
   "metadata": {},
   "source": [
    "#### Подсчёт статистической значимости различий в среднем чеке заказа между группами по «очищенным» данным"
   ]
  },
  {
   "cell_type": "code",
   "execution_count": 44,
   "metadata": {},
   "outputs": [
    {
     "name": "stdout",
     "output_type": "stream",
     "text": [
      "p-value: 0.958\n",
      "Относительный прирост среднего чека: -0.020\n"
     ]
    }
   ],
   "source": [
    "print(\n",
    "    'p-value: {0:.3f}'.format(\n",
    "        stats.mannwhitneyu(\n",
    "            orders[\n",
    "                np.logical_and(\n",
    "                    orders['group'] == 'A',\n",
    "                    np.logical_not(orders['visitor_id'].isin(a_b_normal_users)),\n",
    "                )\n",
    "            ]['revenue'],\n",
    "            orders[\n",
    "                np.logical_and(\n",
    "                    orders['group'] == 'B',\n",
    "                    np.logical_not(orders['visitor_id'].isin(a_b_normal_users)),\n",
    "                )\n",
    "            ]['revenue'],\n",
    "        )[1]\n",
    "    )\n",
    ")\n",
    "\n",
    "print(\n",
    "    \"Относительный прирост среднего чека: {0:.3f}\".format(\n",
    "        orders[\n",
    "            np.logical_and(\n",
    "                orders['group'] == 'B',\n",
    "                np.logical_not(orders['visitor_id'].isin(a_b_normal_users)),\n",
    "            )\n",
    "        ]['revenue'].mean()\n",
    "        / orders[\n",
    "            np.logical_and(\n",
    "                orders['group'] == 'A',\n",
    "                np.logical_not(orders['visitor_id'].isin(a_b_normal_users)),\n",
    "            )\n",
    "        ]['revenue'].mean()\n",
    "        - 1\n",
    "    )\n",
    ")"
   ]
  },
  {
   "cell_type": "markdown",
   "metadata": {},
   "source": [
    "**Вывод:** P-value увеличился, но и разница между сегментами значительно сократилась с превосходства группы B в 25.9% до 2% снижения относительно группы A."
   ]
  },
  {
   "cell_type": "markdown",
   "metadata": {},
   "source": [
    "### Результаты проекта"
   ]
  },
  {
   "cell_type": "markdown",
   "metadata": {},
   "source": [
    "- При применении фреймворка RICE ранжирование гипотез изменилось по сравнению с фреймворком ICE. Это произошло из-за компонента Reach (охват). Например, у гипотезы 7 охват оценивается в 10, тогда как у гипотезы 8 — всего в 1. Таким образом, изменение положения гипотез в таблицах обусловлено тем, на сколько людей повлияют предполагаемые изменения.  \n",
    "- В результате, существуют статистически значимые различия в среднем количестве заказов между группами как в необработанных данных, так и в данных после удаления аномалий. Отсутствует статистически значимое различие в среднем чеке между группами как в необработанных данных, так и в данных после удаления аномалий. График, показывающий относительную разницу в кумулятивном среднем количестве заказов между группами, указывает на то, что результаты группы B стабильно превосходят результаты группы A. График относительного различия кумулятивного среднего чека показывает, что результаты группы B нестабильны по сравнению с группой A. Как раз после отсечения аномальных значений в среднем чеке заказов, выяснилось что различия между сегментами незначительны. На основании выявленных данных, тест необходимо завершить и признать, что группа B одержала победу над группой A."
   ]
  }
 ],
 "metadata": {
  "ExecuteTimeLog": [
   {
    "duration": 415,
    "start_time": "2024-07-13T21:26:48.273Z"
   },
   {
    "duration": 69,
    "start_time": "2024-07-13T21:34:08.343Z"
   },
   {
    "duration": 43,
    "start_time": "2024-07-13T21:34:12.207Z"
   },
   {
    "duration": 32,
    "start_time": "2024-07-13T21:34:50.688Z"
   },
   {
    "duration": 5,
    "start_time": "2024-07-13T21:36:03.882Z"
   },
   {
    "duration": 6,
    "start_time": "2024-07-13T21:36:09.648Z"
   },
   {
    "duration": 6,
    "start_time": "2024-07-13T21:36:25.626Z"
   },
   {
    "duration": 71,
    "start_time": "2024-07-13T21:37:11.319Z"
   },
   {
    "duration": 532,
    "start_time": "2024-07-13T21:37:48.660Z"
   },
   {
    "duration": 8,
    "start_time": "2024-07-13T21:38:46.465Z"
   },
   {
    "duration": 9,
    "start_time": "2024-07-13T21:38:54.394Z"
   },
   {
    "duration": 14,
    "start_time": "2024-07-13T21:40:02.315Z"
   },
   {
    "duration": 6,
    "start_time": "2024-07-13T21:40:17.630Z"
   },
   {
    "duration": 10,
    "start_time": "2024-07-13T21:40:45.129Z"
   },
   {
    "duration": 10,
    "start_time": "2024-07-13T21:40:56.258Z"
   },
   {
    "duration": 3,
    "start_time": "2024-07-13T21:42:28.450Z"
   },
   {
    "duration": 11,
    "start_time": "2024-07-13T21:44:00.611Z"
   },
   {
    "duration": 60,
    "start_time": "2024-07-13T21:45:15.597Z"
   },
   {
    "duration": 33,
    "start_time": "2024-07-13T22:27:35.237Z"
   },
   {
    "duration": 36,
    "start_time": "2024-07-13T22:27:56.131Z"
   },
   {
    "duration": 31,
    "start_time": "2024-07-13T22:28:14.873Z"
   },
   {
    "duration": 167,
    "start_time": "2024-07-13T22:42:02.071Z"
   },
   {
    "duration": 76,
    "start_time": "2024-07-13T22:42:10.367Z"
   },
   {
    "duration": 72,
    "start_time": "2024-07-13T22:42:33.832Z"
   },
   {
    "duration": 65,
    "start_time": "2024-07-13T22:54:40.144Z"
   },
   {
    "duration": 62,
    "start_time": "2024-07-13T22:55:09.378Z"
   },
   {
    "duration": 80,
    "start_time": "2024-07-13T22:56:01.452Z"
   },
   {
    "duration": 60,
    "start_time": "2024-07-13T22:56:10.124Z"
   },
   {
    "duration": 22,
    "start_time": "2024-07-13T22:56:50.615Z"
   },
   {
    "duration": 3,
    "start_time": "2024-07-13T22:57:06.526Z"
   },
   {
    "duration": 169,
    "start_time": "2024-07-13T22:57:09.334Z"
   },
   {
    "duration": 184,
    "start_time": "2024-07-13T22:57:13.576Z"
   },
   {
    "duration": 194,
    "start_time": "2024-07-13T22:57:22.307Z"
   },
   {
    "duration": 263,
    "start_time": "2024-07-13T22:58:42.882Z"
   },
   {
    "duration": 275,
    "start_time": "2024-07-13T22:59:15.115Z"
   },
   {
    "duration": 86,
    "start_time": "2024-07-13T23:00:41.062Z"
   },
   {
    "duration": 76,
    "start_time": "2024-07-13T23:00:48.909Z"
   },
   {
    "duration": 75,
    "start_time": "2024-07-13T23:01:08.597Z"
   },
   {
    "duration": 97,
    "start_time": "2024-07-13T23:01:16.165Z"
   },
   {
    "duration": 157,
    "start_time": "2024-07-13T23:01:29.998Z"
   },
   {
    "duration": 64,
    "start_time": "2024-07-13T23:01:33.207Z"
   },
   {
    "duration": 307,
    "start_time": "2024-07-13T23:01:38.299Z"
   },
   {
    "duration": 268,
    "start_time": "2024-07-13T23:01:51.159Z"
   },
   {
    "duration": 249,
    "start_time": "2024-07-13T23:03:17.112Z"
   },
   {
    "duration": 268,
    "start_time": "2024-07-13T23:03:47.815Z"
   },
   {
    "duration": 259,
    "start_time": "2024-07-13T23:03:52.962Z"
   },
   {
    "duration": 261,
    "start_time": "2024-07-13T23:04:13.487Z"
   },
   {
    "duration": 349,
    "start_time": "2024-07-13T23:04:31.151Z"
   },
   {
    "duration": 92,
    "start_time": "2024-07-13T23:07:30.784Z"
   },
   {
    "duration": 93,
    "start_time": "2024-07-13T23:08:03.084Z"
   },
   {
    "duration": 141,
    "start_time": "2024-07-13T23:08:40.813Z"
   },
   {
    "duration": 232,
    "start_time": "2024-07-13T23:09:02.341Z"
   },
   {
    "duration": 232,
    "start_time": "2024-07-13T23:09:28.951Z"
   },
   {
    "duration": 256,
    "start_time": "2024-07-13T23:10:02.053Z"
   },
   {
    "duration": 271,
    "start_time": "2024-07-13T23:10:10.828Z"
   },
   {
    "duration": 258,
    "start_time": "2024-07-13T23:11:09.156Z"
   },
   {
    "duration": 258,
    "start_time": "2024-07-13T23:11:14.199Z"
   },
   {
    "duration": 242,
    "start_time": "2024-07-13T23:11:16.883Z"
   },
   {
    "duration": 290,
    "start_time": "2024-07-13T23:11:29.809Z"
   },
   {
    "duration": 256,
    "start_time": "2024-07-13T23:12:25.127Z"
   },
   {
    "duration": 270,
    "start_time": "2024-07-13T23:13:41.757Z"
   },
   {
    "duration": 1109,
    "start_time": "2024-07-13T23:15:43.222Z"
   },
   {
    "duration": 9,
    "start_time": "2024-07-13T23:16:35.677Z"
   },
   {
    "duration": 268,
    "start_time": "2024-07-13T23:16:52.766Z"
   },
   {
    "duration": 312,
    "start_time": "2024-07-13T23:16:55.524Z"
   },
   {
    "duration": 273,
    "start_time": "2024-07-13T23:17:08.343Z"
   },
   {
    "duration": 40,
    "start_time": "2024-07-14T14:13:44.896Z"
   },
   {
    "duration": 703,
    "start_time": "2024-07-14T14:13:52.015Z"
   },
   {
    "duration": 75,
    "start_time": "2024-07-14T14:13:52.720Z"
   },
   {
    "duration": 9,
    "start_time": "2024-07-14T14:13:52.796Z"
   },
   {
    "duration": 8,
    "start_time": "2024-07-14T14:13:52.807Z"
   },
   {
    "duration": 158,
    "start_time": "2024-07-14T14:13:52.816Z"
   },
   {
    "duration": 233,
    "start_time": "2024-07-14T14:13:52.975Z"
   },
   {
    "duration": 241,
    "start_time": "2024-07-14T14:13:53.209Z"
   },
   {
    "duration": 224,
    "start_time": "2024-07-14T14:13:53.451Z"
   },
   {
    "duration": 225,
    "start_time": "2024-07-14T14:16:07.686Z"
   },
   {
    "duration": 215,
    "start_time": "2024-07-14T14:16:10.556Z"
   },
   {
    "duration": 253,
    "start_time": "2024-07-14T14:17:28.551Z"
   },
   {
    "duration": 212,
    "start_time": "2024-07-14T14:34:48.850Z"
   },
   {
    "duration": 28,
    "start_time": "2024-07-14T14:44:21.870Z"
   },
   {
    "duration": 8,
    "start_time": "2024-07-14T14:44:42.004Z"
   },
   {
    "duration": 9,
    "start_time": "2024-07-14T14:44:58.033Z"
   },
   {
    "duration": 64,
    "start_time": "2024-07-14T14:45:49.398Z"
   },
   {
    "duration": 64,
    "start_time": "2024-07-14T14:45:59.872Z"
   },
   {
    "duration": 515,
    "start_time": "2024-07-14T14:46:17.263Z"
   },
   {
    "duration": 32,
    "start_time": "2024-07-14T14:46:17.779Z"
   },
   {
    "duration": 8,
    "start_time": "2024-07-14T14:46:17.812Z"
   },
   {
    "duration": 10,
    "start_time": "2024-07-14T14:46:17.821Z"
   },
   {
    "duration": 63,
    "start_time": "2024-07-14T14:46:17.832Z"
   },
   {
    "duration": 74,
    "start_time": "2024-07-14T14:46:17.896Z"
   },
   {
    "duration": 0,
    "start_time": "2024-07-14T14:46:17.972Z"
   },
   {
    "duration": 0,
    "start_time": "2024-07-14T14:46:17.973Z"
   },
   {
    "duration": 219,
    "start_time": "2024-07-14T14:46:48.827Z"
   },
   {
    "duration": 226,
    "start_time": "2024-07-14T14:46:55.292Z"
   },
   {
    "duration": 227,
    "start_time": "2024-07-14T14:46:58.072Z"
   },
   {
    "duration": 78,
    "start_time": "2024-07-14T15:06:40.998Z"
   },
   {
    "duration": 68,
    "start_time": "2024-07-14T15:06:55.123Z"
   },
   {
    "duration": 5,
    "start_time": "2024-07-14T15:07:02.388Z"
   },
   {
    "duration": 5,
    "start_time": "2024-07-14T15:07:09.662Z"
   },
   {
    "duration": 5,
    "start_time": "2024-07-14T15:07:13.569Z"
   },
   {
    "duration": 65,
    "start_time": "2024-07-14T15:07:16.190Z"
   },
   {
    "duration": 5,
    "start_time": "2024-07-14T15:07:20.169Z"
   },
   {
    "duration": 11,
    "start_time": "2024-07-14T15:07:34.140Z"
   },
   {
    "duration": 9,
    "start_time": "2024-07-14T15:08:31.574Z"
   },
   {
    "duration": 178,
    "start_time": "2024-07-14T15:09:52.386Z"
   },
   {
    "duration": 299,
    "start_time": "2024-07-14T15:10:16.317Z"
   },
   {
    "duration": 370,
    "start_time": "2024-07-14T15:10:31.670Z"
   },
   {
    "duration": 299,
    "start_time": "2024-07-14T15:11:33.963Z"
   },
   {
    "duration": 295,
    "start_time": "2024-07-14T15:12:29.659Z"
   },
   {
    "duration": 222,
    "start_time": "2024-07-14T15:12:48.086Z"
   },
   {
    "duration": 223,
    "start_time": "2024-07-14T15:13:15.384Z"
   },
   {
    "duration": 3,
    "start_time": "2024-07-14T15:21:07.142Z"
   },
   {
    "duration": 3,
    "start_time": "2024-07-14T15:24:45.659Z"
   },
   {
    "duration": 4,
    "start_time": "2024-07-14T15:26:13.903Z"
   },
   {
    "duration": 4,
    "start_time": "2024-07-14T15:26:54.687Z"
   },
   {
    "duration": 3,
    "start_time": "2024-07-14T15:27:23.492Z"
   },
   {
    "duration": 4,
    "start_time": "2024-07-14T15:27:39.146Z"
   },
   {
    "duration": 225,
    "start_time": "2024-07-14T15:27:51.211Z"
   },
   {
    "duration": 3,
    "start_time": "2024-07-14T15:29:48.626Z"
   },
   {
    "duration": 114,
    "start_time": "2024-07-14T15:30:05.592Z"
   },
   {
    "duration": 207,
    "start_time": "2024-07-14T15:30:18.291Z"
   },
   {
    "duration": 4,
    "start_time": "2024-07-14T15:30:40.972Z"
   },
   {
    "duration": 185,
    "start_time": "2024-07-14T15:30:50.705Z"
   },
   {
    "duration": 197,
    "start_time": "2024-07-14T15:31:32.250Z"
   },
   {
    "duration": 210,
    "start_time": "2024-07-14T15:31:36.318Z"
   },
   {
    "duration": 234,
    "start_time": "2024-07-14T15:31:55.169Z"
   },
   {
    "duration": 214,
    "start_time": "2024-07-14T15:32:41.072Z"
   },
   {
    "duration": 224,
    "start_time": "2024-07-14T15:32:52.361Z"
   },
   {
    "duration": 241,
    "start_time": "2024-07-14T16:56:52.910Z"
   },
   {
    "duration": 255,
    "start_time": "2024-07-14T16:56:56.998Z"
   },
   {
    "duration": 112,
    "start_time": "2024-07-14T16:57:26.241Z"
   },
   {
    "duration": 233,
    "start_time": "2024-07-14T16:57:43.862Z"
   },
   {
    "duration": 7,
    "start_time": "2024-07-14T17:02:32.409Z"
   },
   {
    "duration": 306,
    "start_time": "2024-07-14T17:03:43.688Z"
   },
   {
    "duration": 292,
    "start_time": "2024-07-14T17:03:53.748Z"
   },
   {
    "duration": 315,
    "start_time": "2024-07-14T17:04:02.346Z"
   },
   {
    "duration": 309,
    "start_time": "2024-07-14T17:04:49.244Z"
   },
   {
    "duration": 423,
    "start_time": "2024-07-14T17:06:01.174Z"
   },
   {
    "duration": 412,
    "start_time": "2024-07-14T17:06:56.572Z"
   },
   {
    "duration": 354,
    "start_time": "2024-07-14T17:07:04.341Z"
   },
   {
    "duration": 369,
    "start_time": "2024-07-14T17:10:06.571Z"
   },
   {
    "duration": 5,
    "start_time": "2024-07-14T22:55:48.278Z"
   },
   {
    "duration": 9,
    "start_time": "2024-07-14T22:55:51.252Z"
   },
   {
    "duration": 9,
    "start_time": "2024-07-14T22:55:58.736Z"
   },
   {
    "duration": 9,
    "start_time": "2024-07-14T22:56:11.188Z"
   },
   {
    "duration": 10,
    "start_time": "2024-07-14T22:56:29.455Z"
   },
   {
    "duration": 96,
    "start_time": "2024-07-14T22:58:21.073Z"
   },
   {
    "duration": 99,
    "start_time": "2024-07-14T22:59:18.347Z"
   },
   {
    "duration": 110,
    "start_time": "2024-07-14T23:00:00.175Z"
   },
   {
    "duration": 106,
    "start_time": "2024-07-14T23:00:13.722Z"
   },
   {
    "duration": 3,
    "start_time": "2024-07-14T23:06:44.045Z"
   },
   {
    "duration": 3,
    "start_time": "2024-07-14T23:08:37.789Z"
   },
   {
    "duration": 81,
    "start_time": "2024-07-14T23:10:27.646Z"
   },
   {
    "duration": 56,
    "start_time": "2024-07-14T23:10:35.071Z"
   },
   {
    "duration": 4,
    "start_time": "2024-07-14T23:10:44.927Z"
   },
   {
    "duration": 3,
    "start_time": "2024-07-14T23:10:55.565Z"
   },
   {
    "duration": 3,
    "start_time": "2024-07-14T23:11:05.478Z"
   },
   {
    "duration": 3,
    "start_time": "2024-07-14T23:11:46.925Z"
   },
   {
    "duration": 3,
    "start_time": "2024-07-14T23:11:53.847Z"
   },
   {
    "duration": 8,
    "start_time": "2024-07-14T23:12:15.270Z"
   },
   {
    "duration": 4,
    "start_time": "2024-07-14T23:12:23.452Z"
   },
   {
    "duration": 123,
    "start_time": "2024-07-14T23:18:27.970Z"
   },
   {
    "duration": 92,
    "start_time": "2024-07-14T23:18:53.950Z"
   },
   {
    "duration": 82,
    "start_time": "2024-07-14T23:22:18.424Z"
   },
   {
    "duration": 148,
    "start_time": "2024-07-14T23:22:30.440Z"
   },
   {
    "duration": 142,
    "start_time": "2024-07-14T23:22:58.526Z"
   },
   {
    "duration": 143,
    "start_time": "2024-07-14T23:23:08.016Z"
   },
   {
    "duration": 144,
    "start_time": "2024-07-14T23:25:08.735Z"
   },
   {
    "duration": 138,
    "start_time": "2024-07-14T23:25:42.320Z"
   },
   {
    "duration": 162,
    "start_time": "2024-07-14T23:26:55.963Z"
   },
   {
    "duration": 146,
    "start_time": "2024-07-14T23:27:00.855Z"
   },
   {
    "duration": 93,
    "start_time": "2024-07-14T23:28:27.367Z"
   },
   {
    "duration": 116,
    "start_time": "2024-07-14T23:28:36.402Z"
   },
   {
    "duration": 110,
    "start_time": "2024-07-14T23:29:30.653Z"
   },
   {
    "duration": 112,
    "start_time": "2024-07-14T23:29:41.301Z"
   },
   {
    "duration": 158,
    "start_time": "2024-07-14T23:29:46.032Z"
   },
   {
    "duration": 107,
    "start_time": "2024-07-14T23:29:51.587Z"
   },
   {
    "duration": 116,
    "start_time": "2024-07-14T23:29:56.109Z"
   },
   {
    "duration": 111,
    "start_time": "2024-07-14T23:30:06.546Z"
   },
   {
    "duration": 116,
    "start_time": "2024-07-14T23:30:28.721Z"
   },
   {
    "duration": 11,
    "start_time": "2024-07-14T23:31:19.906Z"
   },
   {
    "duration": 211,
    "start_time": "2024-07-14T23:35:37.647Z"
   },
   {
    "duration": 166,
    "start_time": "2024-07-14T23:35:44.088Z"
   },
   {
    "duration": 164,
    "start_time": "2024-07-14T23:35:53.383Z"
   },
   {
    "duration": 170,
    "start_time": "2024-07-14T23:36:00.613Z"
   },
   {
    "duration": 223,
    "start_time": "2024-07-14T23:36:09.559Z"
   },
   {
    "duration": 143,
    "start_time": "2024-07-14T23:36:43.357Z"
   },
   {
    "duration": 177,
    "start_time": "2024-07-14T23:36:54.130Z"
   },
   {
    "duration": 95,
    "start_time": "2024-07-14T23:37:10.590Z"
   },
   {
    "duration": 94,
    "start_time": "2024-07-14T23:39:06.214Z"
   },
   {
    "duration": 90,
    "start_time": "2024-07-14T23:39:12.903Z"
   },
   {
    "duration": 87,
    "start_time": "2024-07-14T23:39:25.153Z"
   },
   {
    "duration": 89,
    "start_time": "2024-07-14T23:39:30.247Z"
   },
   {
    "duration": 92,
    "start_time": "2024-07-14T23:39:33.824Z"
   },
   {
    "duration": 102,
    "start_time": "2024-07-14T23:39:36.942Z"
   },
   {
    "duration": 95,
    "start_time": "2024-07-14T23:39:40.641Z"
   },
   {
    "duration": 4,
    "start_time": "2024-07-14T23:39:55.719Z"
   },
   {
    "duration": 155,
    "start_time": "2024-07-14T23:40:19.486Z"
   },
   {
    "duration": 109,
    "start_time": "2024-07-14T23:40:29.247Z"
   },
   {
    "duration": 120,
    "start_time": "2024-07-14T23:40:32.096Z"
   },
   {
    "duration": 116,
    "start_time": "2024-07-14T23:40:59.480Z"
   },
   {
    "duration": 110,
    "start_time": "2024-07-14T23:41:12.065Z"
   },
   {
    "duration": 3,
    "start_time": "2024-07-14T23:45:31.555Z"
   },
   {
    "duration": 4,
    "start_time": "2024-07-14T23:46:34.601Z"
   },
   {
    "duration": 4,
    "start_time": "2024-07-14T23:46:51.998Z"
   },
   {
    "duration": 48,
    "start_time": "2024-07-15T13:17:48.190Z"
   },
   {
    "duration": 798,
    "start_time": "2024-07-15T13:17:55.336Z"
   },
   {
    "duration": 104,
    "start_time": "2024-07-15T13:17:56.137Z"
   },
   {
    "duration": 12,
    "start_time": "2024-07-15T13:17:56.242Z"
   },
   {
    "duration": 16,
    "start_time": "2024-07-15T13:17:56.255Z"
   },
   {
    "duration": 185,
    "start_time": "2024-07-15T13:17:56.273Z"
   },
   {
    "duration": 297,
    "start_time": "2024-07-15T13:17:56.459Z"
   },
   {
    "duration": 307,
    "start_time": "2024-07-15T13:17:56.757Z"
   },
   {
    "duration": 285,
    "start_time": "2024-07-15T13:17:57.066Z"
   },
   {
    "duration": 474,
    "start_time": "2024-07-15T13:17:57.352Z"
   },
   {
    "duration": 365,
    "start_time": "2024-07-15T13:17:57.827Z"
   },
   {
    "duration": 379,
    "start_time": "2024-07-15T13:17:58.193Z"
   },
   {
    "duration": 142,
    "start_time": "2024-07-15T13:17:58.573Z"
   },
   {
    "duration": 5,
    "start_time": "2024-07-15T13:17:58.716Z"
   },
   {
    "duration": 156,
    "start_time": "2024-07-15T13:17:58.723Z"
   },
   {
    "duration": 145,
    "start_time": "2024-07-15T13:17:58.884Z"
   },
   {
    "duration": 5,
    "start_time": "2024-07-15T13:17:59.032Z"
   },
   {
    "duration": 148,
    "start_time": "2024-07-15T13:17:59.039Z"
   },
   {
    "duration": 0,
    "start_time": "2024-07-15T13:17:59.189Z"
   },
   {
    "duration": 13,
    "start_time": "2024-07-15T13:18:01.166Z"
   },
   {
    "duration": 58,
    "start_time": "2024-07-15T13:22:45.408Z"
   },
   {
    "duration": 161,
    "start_time": "2024-07-15T13:23:01.944Z"
   },
   {
    "duration": 202,
    "start_time": "2024-07-15T13:23:20.013Z"
   },
   {
    "duration": 321,
    "start_time": "2024-07-15T13:25:58.030Z"
   },
   {
    "duration": 324,
    "start_time": "2024-07-15T13:28:06.971Z"
   },
   {
    "duration": 345,
    "start_time": "2024-07-15T13:28:15.499Z"
   },
   {
    "duration": 327,
    "start_time": "2024-07-15T13:28:35.851Z"
   },
   {
    "duration": 495,
    "start_time": "2024-07-15T13:28:53.790Z"
   },
   {
    "duration": 339,
    "start_time": "2024-07-15T13:28:59.461Z"
   },
   {
    "duration": 5,
    "start_time": "2024-07-15T13:29:34.582Z"
   },
   {
    "duration": 5,
    "start_time": "2024-07-15T13:29:38.500Z"
   },
   {
    "duration": 35,
    "start_time": "2024-07-15T13:29:56.165Z"
   },
   {
    "duration": 4,
    "start_time": "2024-07-15T13:30:03.907Z"
   },
   {
    "duration": 353,
    "start_time": "2024-07-15T13:31:24.579Z"
   },
   {
    "duration": 338,
    "start_time": "2024-07-15T13:31:34.449Z"
   },
   {
    "duration": 344,
    "start_time": "2024-07-15T13:31:48.672Z"
   },
   {
    "duration": 357,
    "start_time": "2024-07-15T13:31:55.713Z"
   },
   {
    "duration": 11,
    "start_time": "2024-07-15T13:41:20.633Z"
   },
   {
    "duration": 11,
    "start_time": "2024-07-15T13:42:58.619Z"
   },
   {
    "duration": 1013,
    "start_time": "2024-07-15T13:57:01.987Z"
   },
   {
    "duration": 13,
    "start_time": "2024-07-15T13:57:14.518Z"
   },
   {
    "duration": 8,
    "start_time": "2024-07-15T13:57:20.740Z"
   },
   {
    "duration": 17,
    "start_time": "2024-07-15T14:00:04.110Z"
   },
   {
    "duration": 37,
    "start_time": "2024-07-15T14:00:22.104Z"
   },
   {
    "duration": 36,
    "start_time": "2024-07-15T14:02:48.537Z"
   },
   {
    "duration": 14,
    "start_time": "2024-07-15T14:43:09.001Z"
   },
   {
    "duration": 13,
    "start_time": "2024-07-15T14:46:09.996Z"
   },
   {
    "duration": 13,
    "start_time": "2024-07-15T14:46:14.312Z"
   },
   {
    "duration": 1085,
    "start_time": "2024-07-15T17:42:38.633Z"
   },
   {
    "duration": 82,
    "start_time": "2024-07-15T17:42:39.720Z"
   },
   {
    "duration": 13,
    "start_time": "2024-07-15T17:42:39.804Z"
   },
   {
    "duration": 31,
    "start_time": "2024-07-15T17:42:39.819Z"
   },
   {
    "duration": 170,
    "start_time": "2024-07-15T17:42:39.853Z"
   },
   {
    "duration": 262,
    "start_time": "2024-07-15T17:42:40.024Z"
   },
   {
    "duration": 304,
    "start_time": "2024-07-15T17:42:40.287Z"
   },
   {
    "duration": 290,
    "start_time": "2024-07-15T17:42:40.592Z"
   },
   {
    "duration": 392,
    "start_time": "2024-07-15T17:42:40.884Z"
   },
   {
    "duration": 287,
    "start_time": "2024-07-15T17:42:41.278Z"
   },
   {
    "duration": 394,
    "start_time": "2024-07-15T17:42:41.566Z"
   },
   {
    "duration": 130,
    "start_time": "2024-07-15T17:42:41.962Z"
   },
   {
    "duration": 5,
    "start_time": "2024-07-15T17:42:42.093Z"
   },
   {
    "duration": 143,
    "start_time": "2024-07-15T17:42:42.100Z"
   },
   {
    "duration": 141,
    "start_time": "2024-07-15T17:42:42.244Z"
   },
   {
    "duration": 4,
    "start_time": "2024-07-15T17:42:42.386Z"
   },
   {
    "duration": 412,
    "start_time": "2024-07-15T17:42:42.392Z"
   },
   {
    "duration": 0,
    "start_time": "2024-07-15T17:42:42.806Z"
   },
   {
    "duration": 0,
    "start_time": "2024-07-15T17:42:42.807Z"
   },
   {
    "duration": 0,
    "start_time": "2024-07-15T17:42:42.808Z"
   },
   {
    "duration": 1076,
    "start_time": "2024-07-15T17:49:19.433Z"
   },
   {
    "duration": 35,
    "start_time": "2024-07-15T17:49:20.511Z"
   },
   {
    "duration": 10,
    "start_time": "2024-07-15T17:49:20.547Z"
   },
   {
    "duration": 10,
    "start_time": "2024-07-15T17:49:20.558Z"
   },
   {
    "duration": 59,
    "start_time": "2024-07-15T17:49:20.570Z"
   },
   {
    "duration": 264,
    "start_time": "2024-07-15T17:49:20.630Z"
   },
   {
    "duration": 292,
    "start_time": "2024-07-15T17:49:20.896Z"
   },
   {
    "duration": 301,
    "start_time": "2024-07-15T17:49:21.190Z"
   },
   {
    "duration": 376,
    "start_time": "2024-07-15T17:49:21.493Z"
   },
   {
    "duration": 299,
    "start_time": "2024-07-15T17:49:21.870Z"
   },
   {
    "duration": 364,
    "start_time": "2024-07-15T17:49:22.171Z"
   },
   {
    "duration": 138,
    "start_time": "2024-07-15T17:49:22.537Z"
   },
   {
    "duration": 5,
    "start_time": "2024-07-15T17:49:22.676Z"
   },
   {
    "duration": 149,
    "start_time": "2024-07-15T17:49:22.683Z"
   },
   {
    "duration": 143,
    "start_time": "2024-07-15T17:49:22.833Z"
   },
   {
    "duration": 5,
    "start_time": "2024-07-15T17:49:22.977Z"
   },
   {
    "duration": 434,
    "start_time": "2024-07-15T17:49:22.983Z"
   },
   {
    "duration": 0,
    "start_time": "2024-07-15T17:49:23.419Z"
   },
   {
    "duration": 0,
    "start_time": "2024-07-15T17:49:23.420Z"
   },
   {
    "duration": 0,
    "start_time": "2024-07-15T17:49:23.421Z"
   },
   {
    "duration": 1016,
    "start_time": "2024-07-15T17:50:08.188Z"
   },
   {
    "duration": 36,
    "start_time": "2024-07-15T17:50:09.206Z"
   },
   {
    "duration": 10,
    "start_time": "2024-07-15T17:50:09.244Z"
   },
   {
    "duration": 14,
    "start_time": "2024-07-15T17:50:09.255Z"
   },
   {
    "duration": 61,
    "start_time": "2024-07-15T17:50:09.271Z"
   },
   {
    "duration": 281,
    "start_time": "2024-07-15T17:50:09.333Z"
   },
   {
    "duration": 307,
    "start_time": "2024-07-15T17:50:09.616Z"
   },
   {
    "duration": 281,
    "start_time": "2024-07-15T17:50:09.925Z"
   },
   {
    "duration": 346,
    "start_time": "2024-07-15T17:50:10.208Z"
   },
   {
    "duration": 316,
    "start_time": "2024-07-15T17:50:10.560Z"
   },
   {
    "duration": 378,
    "start_time": "2024-07-15T17:50:10.877Z"
   },
   {
    "duration": 127,
    "start_time": "2024-07-15T17:50:11.260Z"
   },
   {
    "duration": 5,
    "start_time": "2024-07-15T17:50:11.388Z"
   },
   {
    "duration": 139,
    "start_time": "2024-07-15T17:50:11.395Z"
   },
   {
    "duration": 131,
    "start_time": "2024-07-15T17:50:11.536Z"
   },
   {
    "duration": 4,
    "start_time": "2024-07-15T17:50:11.669Z"
   },
   {
    "duration": 406,
    "start_time": "2024-07-15T17:50:11.675Z"
   },
   {
    "duration": 0,
    "start_time": "2024-07-15T17:50:12.082Z"
   },
   {
    "duration": 0,
    "start_time": "2024-07-15T17:50:12.083Z"
   },
   {
    "duration": 0,
    "start_time": "2024-07-15T17:50:12.084Z"
   },
   {
    "duration": 329,
    "start_time": "2024-07-15T18:47:43.677Z"
   },
   {
    "duration": 1108,
    "start_time": "2024-07-15T18:48:00.250Z"
   },
   {
    "duration": 42,
    "start_time": "2024-07-15T18:48:01.360Z"
   },
   {
    "duration": 12,
    "start_time": "2024-07-15T18:48:01.403Z"
   },
   {
    "duration": 32,
    "start_time": "2024-07-15T18:48:01.417Z"
   },
   {
    "duration": 121,
    "start_time": "2024-07-15T18:48:01.452Z"
   },
   {
    "duration": 282,
    "start_time": "2024-07-15T18:48:01.575Z"
   },
   {
    "duration": 321,
    "start_time": "2024-07-15T18:48:01.859Z"
   },
   {
    "duration": 305,
    "start_time": "2024-07-15T18:48:02.185Z"
   },
   {
    "duration": 411,
    "start_time": "2024-07-15T18:48:02.491Z"
   },
   {
    "duration": 332,
    "start_time": "2024-07-15T18:48:02.904Z"
   },
   {
    "duration": 387,
    "start_time": "2024-07-15T18:48:03.237Z"
   },
   {
    "duration": 152,
    "start_time": "2024-07-15T18:48:03.625Z"
   },
   {
    "duration": 9,
    "start_time": "2024-07-15T18:48:03.779Z"
   },
   {
    "duration": 158,
    "start_time": "2024-07-15T18:48:03.790Z"
   },
   {
    "duration": 167,
    "start_time": "2024-07-15T18:48:03.950Z"
   },
   {
    "duration": 7,
    "start_time": "2024-07-15T18:48:04.119Z"
   },
   {
    "duration": 366,
    "start_time": "2024-07-15T18:48:04.128Z"
   },
   {
    "duration": 10,
    "start_time": "2024-07-15T18:48:04.495Z"
   },
   {
    "duration": 35,
    "start_time": "2024-07-15T18:48:04.506Z"
   },
   {
    "duration": 13,
    "start_time": "2024-07-15T18:48:04.542Z"
   },
   {
    "duration": 35,
    "start_time": "2024-07-15T19:32:45.956Z"
   },
   {
    "duration": 10,
    "start_time": "2024-07-15T19:33:16.507Z"
   },
   {
    "duration": 3,
    "start_time": "2024-07-15T19:36:15.394Z"
   },
   {
    "duration": 156,
    "start_time": "2024-07-15T19:36:34.071Z"
   },
   {
    "duration": 92,
    "start_time": "2024-07-15T19:36:39.379Z"
   },
   {
    "duration": 12,
    "start_time": "2024-07-15T19:41:18.323Z"
   },
   {
    "duration": 5,
    "start_time": "2024-07-15T19:41:29.680Z"
   },
   {
    "duration": 220,
    "start_time": "2024-07-15T19:42:10.719Z"
   },
   {
    "duration": 16,
    "start_time": "2024-07-15T19:42:34.541Z"
   },
   {
    "duration": 23,
    "start_time": "2024-07-15T19:42:38.275Z"
   },
   {
    "duration": 12,
    "start_time": "2024-07-15T19:42:44.535Z"
   },
   {
    "duration": 7,
    "start_time": "2024-07-15T19:42:57.637Z"
   },
   {
    "duration": 12,
    "start_time": "2024-07-15T19:43:33.265Z"
   },
   {
    "duration": 6,
    "start_time": "2024-07-15T19:44:03.758Z"
   },
   {
    "duration": 12,
    "start_time": "2024-07-15T19:44:59.003Z"
   },
   {
    "duration": 831,
    "start_time": "2024-07-15T19:45:27.874Z"
   },
   {
    "duration": 10,
    "start_time": "2024-07-15T19:45:36.400Z"
   },
   {
    "duration": 15,
    "start_time": "2024-07-15T19:45:50.452Z"
   },
   {
    "duration": 12,
    "start_time": "2024-07-15T19:48:40.132Z"
   },
   {
    "duration": 16,
    "start_time": "2024-07-15T19:48:43.270Z"
   },
   {
    "duration": 12,
    "start_time": "2024-07-15T19:50:00.639Z"
   },
   {
    "duration": 15,
    "start_time": "2024-07-15T19:50:23.650Z"
   },
   {
    "duration": 17,
    "start_time": "2024-07-15T19:50:53.055Z"
   },
   {
    "duration": 9,
    "start_time": "2024-07-15T19:51:27.993Z"
   },
   {
    "duration": 12,
    "start_time": "2024-07-15T19:51:40.236Z"
   },
   {
    "duration": 10,
    "start_time": "2024-07-15T19:51:44.035Z"
   },
   {
    "duration": 58,
    "start_time": "2024-07-15T19:53:23.954Z"
   },
   {
    "duration": 10,
    "start_time": "2024-07-15T19:53:30.225Z"
   },
   {
    "duration": 306,
    "start_time": "2024-07-15T19:55:10.952Z"
   },
   {
    "duration": 336,
    "start_time": "2024-07-15T19:55:34.264Z"
   },
   {
    "duration": 4,
    "start_time": "2024-07-15T19:56:20.215Z"
   },
   {
    "duration": 342,
    "start_time": "2024-07-15T19:56:30.478Z"
   },
   {
    "duration": 101,
    "start_time": "2024-07-15T19:56:57.314Z"
   },
   {
    "duration": 313,
    "start_time": "2024-07-15T19:57:03.101Z"
   },
   {
    "duration": 979,
    "start_time": "2024-07-15T19:57:20.132Z"
   },
   {
    "duration": 40,
    "start_time": "2024-07-15T19:57:21.113Z"
   },
   {
    "duration": 10,
    "start_time": "2024-07-15T19:57:21.155Z"
   },
   {
    "duration": 13,
    "start_time": "2024-07-15T19:57:21.167Z"
   },
   {
    "duration": 19,
    "start_time": "2024-07-15T19:57:21.181Z"
   },
   {
    "duration": 100,
    "start_time": "2024-07-15T19:57:21.201Z"
   },
   {
    "duration": 10,
    "start_time": "2024-07-15T19:57:21.303Z"
   },
   {
    "duration": 258,
    "start_time": "2024-07-15T19:57:21.314Z"
   },
   {
    "duration": 273,
    "start_time": "2024-07-15T19:57:21.573Z"
   },
   {
    "duration": 265,
    "start_time": "2024-07-15T19:57:21.848Z"
   },
   {
    "duration": 363,
    "start_time": "2024-07-15T19:57:22.114Z"
   },
   {
    "duration": 291,
    "start_time": "2024-07-15T19:57:22.478Z"
   },
   {
    "duration": 366,
    "start_time": "2024-07-15T19:57:22.770Z"
   },
   {
    "duration": 120,
    "start_time": "2024-07-15T19:57:23.137Z"
   },
   {
    "duration": 4,
    "start_time": "2024-07-15T19:57:23.259Z"
   },
   {
    "duration": 139,
    "start_time": "2024-07-15T19:57:23.264Z"
   },
   {
    "duration": 128,
    "start_time": "2024-07-15T19:57:23.404Z"
   },
   {
    "duration": 4,
    "start_time": "2024-07-15T19:57:23.534Z"
   },
   {
    "duration": 317,
    "start_time": "2024-07-15T19:57:23.540Z"
   },
   {
    "duration": 8,
    "start_time": "2024-07-15T19:57:23.858Z"
   },
   {
    "duration": 40,
    "start_time": "2024-07-15T19:57:23.868Z"
   },
   {
    "duration": 12,
    "start_time": "2024-07-15T19:57:23.909Z"
   },
   {
    "duration": 326,
    "start_time": "2024-07-15T20:00:53.632Z"
   },
   {
    "duration": 256,
    "start_time": "2024-07-15T20:01:06.842Z"
   },
   {
    "duration": 341,
    "start_time": "2024-07-15T20:01:19.317Z"
   },
   {
    "duration": 82,
    "start_time": "2024-07-15T20:02:31.730Z"
   },
   {
    "duration": 252,
    "start_time": "2024-07-15T20:03:37.180Z"
   },
   {
    "duration": 265,
    "start_time": "2024-07-15T20:03:41.087Z"
   },
   {
    "duration": 62,
    "start_time": "2024-07-15T20:04:27.955Z"
   },
   {
    "duration": 266,
    "start_time": "2024-07-15T20:04:54.784Z"
   },
   {
    "duration": 383,
    "start_time": "2024-07-15T20:05:03.431Z"
   },
   {
    "duration": 124,
    "start_time": "2024-07-15T20:05:39.281Z"
   },
   {
    "duration": 120,
    "start_time": "2024-07-15T20:05:43.194Z"
   },
   {
    "duration": 127,
    "start_time": "2024-07-15T20:06:23.688Z"
   },
   {
    "duration": 133,
    "start_time": "2024-07-15T20:06:36.268Z"
   },
   {
    "duration": 187,
    "start_time": "2024-07-15T20:06:41.677Z"
   },
   {
    "duration": 974,
    "start_time": "2024-07-15T20:09:54.343Z"
   },
   {
    "duration": 40,
    "start_time": "2024-07-15T20:09:55.319Z"
   },
   {
    "duration": 11,
    "start_time": "2024-07-15T20:09:55.360Z"
   },
   {
    "duration": 9,
    "start_time": "2024-07-15T20:09:55.373Z"
   },
   {
    "duration": 3,
    "start_time": "2024-07-15T20:09:55.383Z"
   },
   {
    "duration": 81,
    "start_time": "2024-07-15T20:09:55.388Z"
   },
   {
    "duration": 10,
    "start_time": "2024-07-15T20:09:55.470Z"
   },
   {
    "duration": 260,
    "start_time": "2024-07-15T20:09:55.482Z"
   },
   {
    "duration": 297,
    "start_time": "2024-07-15T20:09:55.744Z"
   },
   {
    "duration": 268,
    "start_time": "2024-07-15T20:09:56.043Z"
   },
   {
    "duration": 347,
    "start_time": "2024-07-15T20:09:56.312Z"
   },
   {
    "duration": 281,
    "start_time": "2024-07-15T20:09:56.660Z"
   },
   {
    "duration": 379,
    "start_time": "2024-07-15T20:09:56.942Z"
   },
   {
    "duration": 133,
    "start_time": "2024-07-15T20:09:57.323Z"
   },
   {
    "duration": 4,
    "start_time": "2024-07-15T20:09:57.457Z"
   },
   {
    "duration": 141,
    "start_time": "2024-07-15T20:09:57.463Z"
   },
   {
    "duration": 137,
    "start_time": "2024-07-15T20:09:57.606Z"
   },
   {
    "duration": 5,
    "start_time": "2024-07-15T20:09:57.744Z"
   },
   {
    "duration": 321,
    "start_time": "2024-07-15T20:09:57.750Z"
   },
   {
    "duration": 13,
    "start_time": "2024-07-15T20:09:58.073Z"
   },
   {
    "duration": 74,
    "start_time": "2024-07-15T20:09:58.088Z"
   },
   {
    "duration": 11,
    "start_time": "2024-07-15T20:09:58.164Z"
   },
   {
    "duration": 1010,
    "start_time": "2024-07-16T15:24:18.514Z"
   },
   {
    "duration": 105,
    "start_time": "2024-07-16T15:24:19.526Z"
   },
   {
    "duration": 10,
    "start_time": "2024-07-16T15:24:19.632Z"
   },
   {
    "duration": 19,
    "start_time": "2024-07-16T15:24:19.644Z"
   },
   {
    "duration": 35,
    "start_time": "2024-07-16T15:24:19.664Z"
   },
   {
    "duration": 211,
    "start_time": "2024-07-16T15:24:19.701Z"
   },
   {
    "duration": 10,
    "start_time": "2024-07-16T15:24:19.913Z"
   },
   {
    "duration": 271,
    "start_time": "2024-07-16T15:24:19.925Z"
   },
   {
    "duration": 293,
    "start_time": "2024-07-16T15:24:20.198Z"
   },
   {
    "duration": 286,
    "start_time": "2024-07-16T15:24:20.493Z"
   },
   {
    "duration": 362,
    "start_time": "2024-07-16T15:24:20.784Z"
   },
   {
    "duration": 296,
    "start_time": "2024-07-16T15:24:21.147Z"
   },
   {
    "duration": 389,
    "start_time": "2024-07-16T15:24:21.444Z"
   },
   {
    "duration": 138,
    "start_time": "2024-07-16T15:24:21.834Z"
   },
   {
    "duration": 11,
    "start_time": "2024-07-16T15:24:21.974Z"
   },
   {
    "duration": 146,
    "start_time": "2024-07-16T15:24:21.986Z"
   },
   {
    "duration": 153,
    "start_time": "2024-07-16T15:24:22.134Z"
   },
   {
    "duration": 4,
    "start_time": "2024-07-16T15:24:22.288Z"
   },
   {
    "duration": 320,
    "start_time": "2024-07-16T15:24:22.294Z"
   },
   {
    "duration": 9,
    "start_time": "2024-07-16T15:24:22.615Z"
   },
   {
    "duration": 30,
    "start_time": "2024-07-16T15:24:22.625Z"
   },
   {
    "duration": 32,
    "start_time": "2024-07-16T15:24:22.657Z"
   },
   {
    "duration": 1004,
    "start_time": "2024-07-16T15:45:33.426Z"
   },
   {
    "duration": 41,
    "start_time": "2024-07-16T15:45:34.432Z"
   },
   {
    "duration": 11,
    "start_time": "2024-07-16T15:45:34.474Z"
   },
   {
    "duration": 10,
    "start_time": "2024-07-16T15:45:34.486Z"
   },
   {
    "duration": 13,
    "start_time": "2024-07-16T15:45:34.498Z"
   },
   {
    "duration": 102,
    "start_time": "2024-07-16T15:45:34.512Z"
   },
   {
    "duration": 11,
    "start_time": "2024-07-16T15:45:34.616Z"
   },
   {
    "duration": 271,
    "start_time": "2024-07-16T15:45:34.628Z"
   },
   {
    "duration": 297,
    "start_time": "2024-07-16T15:45:34.901Z"
   },
   {
    "duration": 273,
    "start_time": "2024-07-16T15:45:35.199Z"
   },
   {
    "duration": 419,
    "start_time": "2024-07-16T15:45:35.473Z"
   },
   {
    "duration": 308,
    "start_time": "2024-07-16T15:45:35.894Z"
   },
   {
    "duration": 359,
    "start_time": "2024-07-16T15:45:36.204Z"
   },
   {
    "duration": 141,
    "start_time": "2024-07-16T15:45:36.566Z"
   },
   {
    "duration": 4,
    "start_time": "2024-07-16T15:45:36.709Z"
   },
   {
    "duration": 153,
    "start_time": "2024-07-16T15:45:36.715Z"
   },
   {
    "duration": 150,
    "start_time": "2024-07-16T15:45:36.870Z"
   },
   {
    "duration": 5,
    "start_time": "2024-07-16T15:45:37.022Z"
   },
   {
    "duration": 349,
    "start_time": "2024-07-16T15:45:37.029Z"
   },
   {
    "duration": 13,
    "start_time": "2024-07-16T15:45:37.379Z"
   },
   {
    "duration": 36,
    "start_time": "2024-07-16T15:45:37.393Z"
   },
   {
    "duration": 21,
    "start_time": "2024-07-16T15:45:37.431Z"
   },
   {
    "duration": 961,
    "start_time": "2024-07-16T15:46:07.548Z"
   },
   {
    "duration": 41,
    "start_time": "2024-07-16T15:46:08.510Z"
   },
   {
    "duration": 10,
    "start_time": "2024-07-16T15:46:08.552Z"
   },
   {
    "duration": 9,
    "start_time": "2024-07-16T15:46:08.564Z"
   },
   {
    "duration": 6,
    "start_time": "2024-07-16T15:46:08.574Z"
   },
   {
    "duration": 97,
    "start_time": "2024-07-16T15:46:08.581Z"
   },
   {
    "duration": 12,
    "start_time": "2024-07-16T15:46:08.679Z"
   },
   {
    "duration": 269,
    "start_time": "2024-07-16T15:46:08.692Z"
   },
   {
    "duration": 298,
    "start_time": "2024-07-16T15:46:08.962Z"
   },
   {
    "duration": 282,
    "start_time": "2024-07-16T15:46:09.262Z"
   },
   {
    "duration": 399,
    "start_time": "2024-07-16T15:46:09.545Z"
   },
   {
    "duration": 298,
    "start_time": "2024-07-16T15:46:09.945Z"
   },
   {
    "duration": 386,
    "start_time": "2024-07-16T15:46:10.245Z"
   },
   {
    "duration": 155,
    "start_time": "2024-07-16T15:46:10.632Z"
   },
   {
    "duration": 4,
    "start_time": "2024-07-16T15:46:10.788Z"
   },
   {
    "duration": 140,
    "start_time": "2024-07-16T15:46:10.793Z"
   },
   {
    "duration": 139,
    "start_time": "2024-07-16T15:46:10.935Z"
   },
   {
    "duration": 11,
    "start_time": "2024-07-16T15:46:11.075Z"
   },
   {
    "duration": 323,
    "start_time": "2024-07-16T15:46:11.088Z"
   },
   {
    "duration": 11,
    "start_time": "2024-07-16T15:46:11.412Z"
   },
   {
    "duration": 32,
    "start_time": "2024-07-16T15:46:11.424Z"
   },
   {
    "duration": 34,
    "start_time": "2024-07-16T15:46:11.458Z"
   },
   {
    "duration": 43,
    "start_time": "2024-07-16T15:59:24.379Z"
   },
   {
    "duration": 1216,
    "start_time": "2024-07-16T15:59:28.999Z"
   },
   {
    "duration": 82,
    "start_time": "2024-07-16T15:59:30.216Z"
   },
   {
    "duration": 11,
    "start_time": "2024-07-16T15:59:30.299Z"
   },
   {
    "duration": 37,
    "start_time": "2024-07-16T15:59:30.311Z"
   },
   {
    "duration": 59,
    "start_time": "2024-07-16T15:59:30.350Z"
   },
   {
    "duration": 216,
    "start_time": "2024-07-16T15:59:30.411Z"
   },
   {
    "duration": 11,
    "start_time": "2024-07-16T15:59:30.628Z"
   },
   {
    "duration": 61,
    "start_time": "2024-07-16T15:59:30.640Z"
   },
   {
    "duration": 264,
    "start_time": "2024-07-16T15:59:30.702Z"
   },
   {
    "duration": 299,
    "start_time": "2024-07-16T15:59:30.968Z"
   },
   {
    "duration": 249,
    "start_time": "2024-07-16T15:59:31.269Z"
   },
   {
    "duration": 378,
    "start_time": "2024-07-16T15:59:31.519Z"
   },
   {
    "duration": 269,
    "start_time": "2024-07-16T15:59:31.898Z"
   },
   {
    "duration": 396,
    "start_time": "2024-07-16T15:59:32.169Z"
   },
   {
    "duration": 150,
    "start_time": "2024-07-16T15:59:32.567Z"
   },
   {
    "duration": 4,
    "start_time": "2024-07-16T15:59:32.718Z"
   },
   {
    "duration": 144,
    "start_time": "2024-07-16T15:59:32.724Z"
   },
   {
    "duration": 150,
    "start_time": "2024-07-16T15:59:32.870Z"
   },
   {
    "duration": 4,
    "start_time": "2024-07-16T15:59:33.022Z"
   },
   {
    "duration": 299,
    "start_time": "2024-07-16T15:59:33.027Z"
   },
   {
    "duration": 9,
    "start_time": "2024-07-16T15:59:33.328Z"
   },
   {
    "duration": 54,
    "start_time": "2024-07-16T15:59:33.338Z"
   },
   {
    "duration": 12,
    "start_time": "2024-07-16T15:59:33.393Z"
   },
   {
    "duration": 8,
    "start_time": "2024-07-16T15:59:51.521Z"
   },
   {
    "duration": 7,
    "start_time": "2024-07-16T15:59:58.777Z"
   },
   {
    "duration": 97,
    "start_time": "2024-07-16T16:00:08.225Z"
   },
   {
    "duration": 6,
    "start_time": "2024-07-16T16:00:15.578Z"
   },
   {
    "duration": 10,
    "start_time": "2024-07-16T16:00:29.828Z"
   },
   {
    "duration": 11,
    "start_time": "2024-07-16T16:00:40.274Z"
   },
   {
    "duration": 9,
    "start_time": "2024-07-16T16:00:46.465Z"
   },
   {
    "duration": 14,
    "start_time": "2024-07-16T16:00:49.585Z"
   },
   {
    "duration": 11,
    "start_time": "2024-07-16T16:01:02.830Z"
   },
   {
    "duration": 13,
    "start_time": "2024-07-16T16:02:00.251Z"
   },
   {
    "duration": 63,
    "start_time": "2024-07-16T16:02:19.859Z"
   },
   {
    "duration": 18,
    "start_time": "2024-07-16T16:02:23.669Z"
   },
   {
    "duration": 16,
    "start_time": "2024-07-16T16:02:38.681Z"
   },
   {
    "duration": 19,
    "start_time": "2024-07-16T16:02:41.368Z"
   },
   {
    "duration": 14,
    "start_time": "2024-07-16T16:03:16.062Z"
   },
   {
    "duration": 4,
    "start_time": "2024-07-16T16:03:53.593Z"
   },
   {
    "duration": 63,
    "start_time": "2024-07-16T16:04:16.091Z"
   },
   {
    "duration": 3,
    "start_time": "2024-07-16T16:04:23.250Z"
   },
   {
    "duration": 4,
    "start_time": "2024-07-16T16:04:26.695Z"
   },
   {
    "duration": 63,
    "start_time": "2024-07-16T16:04:57.583Z"
   },
   {
    "duration": 19,
    "start_time": "2024-07-16T16:05:06.424Z"
   },
   {
    "duration": 20,
    "start_time": "2024-07-16T16:05:13.550Z"
   },
   {
    "duration": 66,
    "start_time": "2024-07-16T16:06:49.441Z"
   },
   {
    "duration": 64,
    "start_time": "2024-07-16T16:07:03.318Z"
   },
   {
    "duration": 55,
    "start_time": "2024-07-16T16:07:10.510Z"
   },
   {
    "duration": 89,
    "start_time": "2024-07-16T16:08:16.673Z"
   },
   {
    "duration": 55,
    "start_time": "2024-07-16T16:08:21.109Z"
   },
   {
    "duration": 68,
    "start_time": "2024-07-16T16:08:34.194Z"
   },
   {
    "duration": 421,
    "start_time": "2024-07-16T16:08:45.225Z"
   },
   {
    "duration": 18,
    "start_time": "2024-07-16T16:09:14.263Z"
   },
   {
    "duration": 20,
    "start_time": "2024-07-16T16:09:22.373Z"
   },
   {
    "duration": 73,
    "start_time": "2024-07-16T16:10:18.890Z"
   },
   {
    "duration": 68,
    "start_time": "2024-07-16T16:10:56.477Z"
   },
   {
    "duration": 20,
    "start_time": "2024-07-16T16:11:14.986Z"
   },
   {
    "duration": 19,
    "start_time": "2024-07-16T16:11:27.526Z"
   },
   {
    "duration": 19,
    "start_time": "2024-07-16T16:11:51.482Z"
   },
   {
    "duration": 19,
    "start_time": "2024-07-16T16:12:04.948Z"
   },
   {
    "duration": 19,
    "start_time": "2024-07-16T16:12:13.888Z"
   },
   {
    "duration": 67,
    "start_time": "2024-07-16T16:12:34.847Z"
   },
   {
    "duration": 21,
    "start_time": "2024-07-16T16:12:42.666Z"
   },
   {
    "duration": 20,
    "start_time": "2024-07-16T16:12:54.118Z"
   },
   {
    "duration": 20,
    "start_time": "2024-07-16T16:13:11.721Z"
   },
   {
    "duration": 23,
    "start_time": "2024-07-16T16:13:18.928Z"
   },
   {
    "duration": 25,
    "start_time": "2024-07-16T16:13:29.954Z"
   },
   {
    "duration": 21,
    "start_time": "2024-07-16T16:14:03.234Z"
   },
   {
    "duration": 20,
    "start_time": "2024-07-16T16:14:14.427Z"
   },
   {
    "duration": 20,
    "start_time": "2024-07-16T16:14:18.080Z"
   },
   {
    "duration": 19,
    "start_time": "2024-07-16T16:14:24.005Z"
   },
   {
    "duration": 20,
    "start_time": "2024-07-16T16:14:26.617Z"
   },
   {
    "duration": 19,
    "start_time": "2024-07-16T16:14:41.341Z"
   },
   {
    "duration": 20,
    "start_time": "2024-07-16T16:14:51.916Z"
   },
   {
    "duration": 20,
    "start_time": "2024-07-16T16:15:00.835Z"
   },
   {
    "duration": 21,
    "start_time": "2024-07-16T16:16:39.362Z"
   },
   {
    "duration": 1035,
    "start_time": "2024-07-16T17:35:58.188Z"
   },
   {
    "duration": 38,
    "start_time": "2024-07-16T17:35:59.225Z"
   },
   {
    "duration": 10,
    "start_time": "2024-07-16T17:35:59.265Z"
   },
   {
    "duration": 9,
    "start_time": "2024-07-16T17:35:59.276Z"
   },
   {
    "duration": 5,
    "start_time": "2024-07-16T17:35:59.287Z"
   },
   {
    "duration": 81,
    "start_time": "2024-07-16T17:35:59.293Z"
   },
   {
    "duration": 23,
    "start_time": "2024-07-16T17:35:59.376Z"
   },
   {
    "duration": 268,
    "start_time": "2024-07-16T17:35:59.400Z"
   },
   {
    "duration": 289,
    "start_time": "2024-07-16T17:35:59.669Z"
   },
   {
    "duration": 275,
    "start_time": "2024-07-16T17:35:59.961Z"
   },
   {
    "duration": 397,
    "start_time": "2024-07-16T17:36:00.238Z"
   },
   {
    "duration": 301,
    "start_time": "2024-07-16T17:36:00.637Z"
   },
   {
    "duration": 390,
    "start_time": "2024-07-16T17:36:00.939Z"
   },
   {
    "duration": 134,
    "start_time": "2024-07-16T17:36:01.330Z"
   },
   {
    "duration": 5,
    "start_time": "2024-07-16T17:36:01.465Z"
   },
   {
    "duration": 205,
    "start_time": "2024-07-16T17:36:01.471Z"
   },
   {
    "duration": 150,
    "start_time": "2024-07-16T17:36:01.678Z"
   },
   {
    "duration": 6,
    "start_time": "2024-07-16T17:36:01.829Z"
   },
   {
    "duration": 333,
    "start_time": "2024-07-16T17:36:01.837Z"
   },
   {
    "duration": 17,
    "start_time": "2024-07-16T17:36:02.172Z"
   },
   {
    "duration": 34,
    "start_time": "2024-07-16T17:36:02.190Z"
   },
   {
    "duration": 12,
    "start_time": "2024-07-16T17:36:02.225Z"
   },
   {
    "duration": 2,
    "start_time": "2024-07-18T23:12:41.855Z"
   },
   {
    "duration": 33,
    "start_time": "2024-07-18T23:12:41.858Z"
   },
   {
    "duration": 9,
    "start_time": "2024-07-18T23:12:41.901Z"
   },
   {
    "duration": 56,
    "start_time": "2024-07-18T23:12:41.911Z"
   },
   {
    "duration": 8,
    "start_time": "2024-07-18T23:12:41.968Z"
   },
   {
    "duration": 82,
    "start_time": "2024-07-18T23:12:41.979Z"
   },
   {
    "duration": 23,
    "start_time": "2024-07-18T23:12:42.062Z"
   },
   {
    "duration": 239,
    "start_time": "2024-07-18T23:12:42.086Z"
   },
   {
    "duration": 301,
    "start_time": "2024-07-18T23:12:42.327Z"
   },
   {
    "duration": 237,
    "start_time": "2024-07-18T23:12:42.630Z"
   },
   {
    "duration": 370,
    "start_time": "2024-07-18T23:12:42.868Z"
   },
   {
    "duration": 258,
    "start_time": "2024-07-18T23:12:43.239Z"
   },
   {
    "duration": 343,
    "start_time": "2024-07-18T23:12:43.499Z"
   },
   {
    "duration": 142,
    "start_time": "2024-07-18T23:12:43.843Z"
   },
   {
    "duration": 4,
    "start_time": "2024-07-18T23:12:43.986Z"
   },
   {
    "duration": 134,
    "start_time": "2024-07-18T23:12:43.991Z"
   },
   {
    "duration": 129,
    "start_time": "2024-07-18T23:12:44.126Z"
   },
   {
    "duration": 4,
    "start_time": "2024-07-18T23:12:44.257Z"
   },
   {
    "duration": 292,
    "start_time": "2024-07-18T23:12:44.263Z"
   },
   {
    "duration": 8,
    "start_time": "2024-07-18T23:12:44.556Z"
   },
   {
    "duration": 38,
    "start_time": "2024-07-18T23:12:44.565Z"
   },
   {
    "duration": 13,
    "start_time": "2024-07-18T23:12:44.605Z"
   },
   {
    "duration": 5,
    "start_time": "2024-07-18T23:12:54.177Z"
   },
   {
    "duration": 5,
    "start_time": "2024-07-18T23:13:10.139Z"
   },
   {
    "duration": 3,
    "start_time": "2024-07-18T23:13:17.475Z"
   },
   {
    "duration": 4,
    "start_time": "2024-07-18T23:13:21.894Z"
   }
  ],
  "kernelspec": {
   "display_name": "Python 3 (ipykernel)",
   "language": "python",
   "name": "python3"
  },
  "language_info": {
   "codemirror_mode": {
    "name": "ipython",
    "version": 3
   },
   "file_extension": ".py",
   "mimetype": "text/x-python",
   "name": "python",
   "nbconvert_exporter": "python",
   "pygments_lexer": "ipython3",
   "version": "3.12.4"
  },
  "toc": {
   "base_numbering": 1,
   "nav_menu": {
    "height": "269.983px",
    "width": "813.993px"
   },
   "number_sections": true,
   "sideBar": true,
   "skip_h1_title": true,
   "title_cell": "Table of Contents",
   "title_sidebar": "Contents",
   "toc_cell": false,
   "toc_position": {},
   "toc_section_display": true,
   "toc_window_display": false
  }
 },
 "nbformat": 4,
 "nbformat_minor": 4
}
