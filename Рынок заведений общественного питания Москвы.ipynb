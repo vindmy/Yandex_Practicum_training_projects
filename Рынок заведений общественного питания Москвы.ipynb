{
 "cells": [
  {
   "cell_type": "markdown",
   "metadata": {},
   "source": [
    "# Проект: Рынок заведений общественного питания Москвы"
   ]
  },
  {
   "cell_type": "markdown",
   "metadata": {},
   "source": [
    "Инвесторы из фонда «Shut Up and Take My Money» решили расширить свои горизонты и открыть заведение в Москве. Мне, в роли аналитика, нужно подготовить исследование рынка Москвы, найти интересные особенности и презентовать полученные результаты, которые в будущем помогут в выборе подходящего заказчику места."
   ]
  },
  {
   "cell_type": "markdown",
   "metadata": {},
   "source": [
    "# Описание данных"
   ]
  },
  {
   "cell_type": "markdown",
   "metadata": {},
   "source": [
    "Файл moscow_places.csv:\n",
    "- name — название заведения;  \n",
    "- address — адрес заведения;\n",
    "- category — категория заведения, например «кафе», «пиццерия» или «кофейня»;\n",
    "- hours — информация о днях и часах работы;\n",
    "- lat — широта географической точки, в которой находится заведение;\n",
    "- lng — долгота географической точки, в которой находится заведение;\n",
    "- rating — рейтинг заведения по оценкам пользователей в Яндекс Картах (высшая оценка — 5.0);\n",
    "- price — категория цен в заведении, например «средние», «ниже среднего», «выше среднего» и так далее;\n",
    "- avg_bill — строка, которая хранит среднюю стоимость заказа в виде диапазона, например:  \n",
    "    1. «Средний счёт: 1000–1500 ₽»;\n",
    "    2. «Цена чашки капучино: 130–220 ₽»;\n",
    "    3. «Цена бокала пива: 400–600 ₽».\n",
    "    и так далее;\n",
    "- middle_avg_bill — число с оценкой среднего чека, которое указано только для значений из столбца avg_bill, начинающихся с подстроки «Средний счёт»:\n",
    "    1. Если в строке указан ценовой диапазон из двух значений, в столбец войдёт медиана этих двух значений.\n",
    "    2. Если в строке указано одно число — цена без диапазона, то в столбец войдёт это число.\n",
    "    3. Если значения нет или оно не начинается с подстроки «Средний счёт», то в столбец ничего не войдёт.\n",
    "- middle_coffee_cup — число с оценкой одной чашки капучино, которое указано только для значений из столбца avg_bill, начинающихся с подстроки «Цена одной чашки капучино»:\n",
    "    1. Если в строке указан ценовой диапазон из двух значений, в столбец войдёт медиана этих двух значений.\n",
    "    2. Если в строке указано одно число — цена без диапазона, то в столбец войдёт это число.\n",
    "    3. Если значения нет или оно не начинается с подстроки «Цена одной чашки капучино», то в столбец ничего не войдёт.\n",
    "- chain — число, выраженное 0 или 1, которое показывает, является ли заведение сетевым (для маленьких сетей могут встречаться ошибки):\n",
    "    1. 0 — заведение не является сетевым\n",
    "    2. 1 — заведение является сетевым\n",
    "- district — административный район, в котором находится заведение, например Центральный административный округ;\n",
    "- seats — количество посадочных мест."
   ]
  },
  {
   "cell_type": "markdown",
   "metadata": {},
   "source": [
    "# План работы"
   ]
  },
  {
   "cell_type": "markdown",
   "metadata": {},
   "source": [
    "**Шаг 1. Загрузка данных и изучение общей информации   \n",
    "Шаг 2. Выполнение предобработки данных  \n",
    "Шаг 3. Анализирование данных  \n",
    "Шаг 4. Детализирование исследования: открытие кофейни  \n",
    "Шаг 5. Подготовление презентации** "
   ]
  },
  {
   "cell_type": "markdown",
   "metadata": {},
   "source": [
    "1. [Общая информация о данных](#start)\n",
    "2. [Предобработка данных](#2)\n",
    "3. [Анализ данных](#3)\n",
    "    * [Визуализация количества объектов общественного питания по категориям](#4)\n",
    "    * [Визуализация количества посадочных мест в местах по категориям](#5)\n",
    "    * [Изображение соотношение сетевых и несетевых заведений в датасете](#6)\n",
    "    * [Иллюстрация сетевых заведений](#7)\n",
    "    * [Визуализация топ-15 популярных сетей в Москве](#8)\n",
    "    * [Изображение общего количества заведений и количества заведений каждой категории по районам](#9)\n",
    "    * [Визуализирование распределения средних рейтингов по категориям заведений](#10)\n",
    "    * [Построение фонофой картограммы среднего рейтинга заведений по районам](#11)\n",
    "    * [Отображение всех заведений датасета на карте с помощью кластеров](#12)\n",
    "    * [Пятнадцать улиц с наибольшим количеством заведений](#13)\n",
    "    * [Нахождение улиц, на которых находится только один объект общепита](#14)\n",
    "    * [Построение хороплета с медианной оценкой среднего чека](#15)\n",
    "    * [Иллюстрация других взаимосвязей](#16)\n",
    "4. [Детализированное исследование: открытие кофейни](#17)"
   ]
  },
  {
   "cell_type": "code",
   "execution_count": 1,
   "metadata": {},
   "outputs": [
    {
     "ename": "ModuleNotFoundError",
     "evalue": "No module named 'folium'",
     "output_type": "error",
     "traceback": [
      "\u001b[1;31m---------------------------------------------------------------------------\u001b[0m",
      "\u001b[1;31mModuleNotFoundError\u001b[0m                       Traceback (most recent call last)",
      "Cell \u001b[1;32mIn[1], line 5\u001b[0m\n\u001b[0;32m      3\u001b[0m \u001b[38;5;28;01mimport\u001b[39;00m \u001b[38;5;21;01mmatplotlib\u001b[39;00m\u001b[38;5;21;01m.\u001b[39;00m\u001b[38;5;21;01mpyplot\u001b[39;00m \u001b[38;5;28;01mas\u001b[39;00m \u001b[38;5;21;01mplt\u001b[39;00m\n\u001b[0;32m      4\u001b[0m \u001b[38;5;28;01mimport\u001b[39;00m \u001b[38;5;21;01mplotly\u001b[39;00m\u001b[38;5;21;01m.\u001b[39;00m\u001b[38;5;21;01mexpress\u001b[39;00m \u001b[38;5;28;01mas\u001b[39;00m \u001b[38;5;21;01mpx\u001b[39;00m\n\u001b[1;32m----> 5\u001b[0m \u001b[38;5;28;01mfrom\u001b[39;00m \u001b[38;5;21;01mfolium\u001b[39;00m \u001b[38;5;28;01mimport\u001b[39;00m Map, Marker, Choropleth\n\u001b[0;32m      6\u001b[0m \u001b[38;5;28;01mfrom\u001b[39;00m \u001b[38;5;21;01mfolium\u001b[39;00m\u001b[38;5;21;01m.\u001b[39;00m\u001b[38;5;21;01mplugins\u001b[39;00m \u001b[38;5;28;01mimport\u001b[39;00m MarkerCluster\n\u001b[0;32m      7\u001b[0m \u001b[38;5;28;01mfrom\u001b[39;00m \u001b[38;5;21;01mdatetime\u001b[39;00m \u001b[38;5;28;01mimport\u001b[39;00m datetime, timedelta\n",
      "\u001b[1;31mModuleNotFoundError\u001b[0m: No module named 'folium'"
     ]
    }
   ],
   "source": [
    "import pandas as pd\n",
    "import seaborn as sns\n",
    "import matplotlib.pyplot as plt\n",
    "import plotly.express as px\n",
    "from folium import Map, Marker, Choropleth\n",
    "from folium.plugins import MarkerCluster\n",
    "from datetime import datetime, timedelta\n",
    "from plotly import graph_objects as go"
   ]
  },
  {
   "cell_type": "markdown",
   "metadata": {},
   "source": [
    "### Общая информация о данных\n",
    "<a id=\"start\"></a> "
   ]
  },
  {
   "cell_type": "code",
   "execution_count": null,
   "metadata": {},
   "outputs": [],
   "source": [
    "data = pd.read_csv('https://code.s3.yandex.net/datasets/moscow_places.csv')\n",
    "display(data.info())"
   ]
  },
  {
   "cell_type": "markdown",
   "metadata": {},
   "source": [
    "**Вывод:** в датасете представлено 8406 заведений. Столбцы отображают особенности каждого ресторана, оформлены в змеином стиле с прописной буквы. В них хранятся данные в строковом и числовых форматах. "
   ]
  },
  {
   "cell_type": "markdown",
   "metadata": {},
   "source": [
    "### Предобработка данных\n",
    "<a id=\"2\"></a> "
   ]
  },
  {
   "cell_type": "code",
   "execution_count": null,
   "metadata": {},
   "outputs": [],
   "source": [
    "def info_duplicates(*dataframes):\n",
    "    for df in dataframes:\n",
    "        df.info()\n",
    "        print()\n",
    "        print('\\033[1m' + 'Количество дубликатов в таблице:' + '\\033[0m', df.duplicated().sum())\n",
    "        print()       "
   ]
  },
  {
   "cell_type": "code",
   "execution_count": null,
   "metadata": {},
   "outputs": [],
   "source": [
    "info_duplicates(data)\n",
    "print('\\033[1m' + \n",
    "      f'Доля пропущенных значений от общего числа в столбце hours: {round(data.hours.isna().sum() / data.shape[0] * 100, 2)}%'\n",
    "      + '\\033[0m')"
   ]
  },
  {
   "cell_type": "code",
   "execution_count": null,
   "metadata": {},
   "outputs": [],
   "source": [
    "def make_street_from_adress(cell):\n",
    "    cell = cell.replace('Москва,', '').strip().split(',')\n",
    "    return cell[0]"
   ]
  },
  {
   "cell_type": "code",
   "execution_count": null,
   "metadata": {},
   "outputs": [],
   "source": [
    "data = data.dropna(subset = ['hours']) \n",
    "data['street'] = data.address.apply(make_street_from_adress)\n",
    "data['is_24_7'] = data.hours.str.contains(r'\\ежедневно,круглосуточно')\n",
    "data[['price', 'avg_bill']] = data[['price', 'avg_bill']].fillna('неизвестно')\n",
    "data[['seats']] = data[['seats']].fillna(0)\n",
    "display(data.tail(), data.info())"
   ]
  },
  {
   "cell_type": "code",
   "execution_count": null,
   "metadata": {},
   "outputs": [],
   "source": [
    "print('\\033[1m' + 'При поиске неявных дубликатов по ключевым параметрам, их число составило:' + '\\033[1m', \n",
    "      data.duplicated(subset=['name', 'category', 'address']).sum())\n",
    "print('Если привести столбец названий в нижний регистр, то обнаружится такое число дубликатов:', data.name.str.lower().duplicated().sum())"
   ]
  },
  {
   "cell_type": "markdown",
   "metadata": {},
   "source": [
    "**Вывод:** в данных дубликатов нет. Пропуски встречаются в столбцах hours, price, avg_bill, middle_avg_bill, middle_coffee_cup и seats. Что касается столбца hours, то его доля пропущенных значений допустима для удаления.  Так как пропущенных значений слишком много, поставил на их место заглушки. Создал столбец с названиями улиц, и ещё один с обозначением, что заведение работает ежедневно и круглосуточно. Для поиска неявных дубликатов необходимо определить ключевые параметры. Я выбрал название, категорию и адрес. По такому подмножеству неявных дубликатов не было выявлено. При переводе в нижний регистр названий заведений и подсчёте дубликатов, их окажется 2651, что не удивительно, в наборе данных представлены сетевые заведения, которые имеют одинаковые названия."
   ]
  },
  {
   "cell_type": "markdown",
   "metadata": {},
   "source": [
    "### Анализ данных\n",
    "<a id=\"3\"></a> "
   ]
  },
  {
   "cell_type": "markdown",
   "metadata": {},
   "source": [
    "#### Визуализация количества объектов общественного питания по категориям\n",
    "<a id=\"4\"></a> "
   ]
  },
  {
   "cell_type": "code",
   "execution_count": null,
   "metadata": {},
   "outputs": [],
   "source": [
    "plt.figure(figsize=(15, 5));\n",
    "sns.set_palette('flare', 8)\n",
    "sns.barplot(x='index', y='category', data= data.category.value_counts().reset_index())\n",
    "plt.xlabel('Название заведения', fontsize = 12);\n",
    "plt.ylabel('Число встречаемости', fontsize = 12);\n",
    "plt.xticks(rotation=45, fontsize = 15);\n",
    "plt.title('Распределение заведений по категориям', fontsize = 20);"
   ]
  },
  {
   "cell_type": "markdown",
   "metadata": {},
   "source": [
    "**Вывод:** топ-3 категорий по числу заведений таковы: кафе, рестораны, кофейни."
   ]
  },
  {
   "cell_type": "markdown",
   "metadata": {},
   "source": [
    "####  Визуализация количества посадочных мест в местах по категориям\n",
    "<a id=\"5\"></a> "
   ]
  },
  {
   "cell_type": "code",
   "execution_count": null,
   "metadata": {},
   "outputs": [],
   "source": [
    "plt.figure(figsize=(15, 5));\n",
    "sns.barplot(x='category', y='seats', data=data.groupby('category').seats.median().reset_index().sort_values(by = 'seats'));\n",
    "plt.xlabel('Название заведения', fontsize = 12);\n",
    "plt.ylabel('Количество мест', fontsize = 12);\n",
    "plt.xticks(rotation=45, fontsize = 15);\n",
    "plt.title('Распределение заведений по количеству мест по категориям', fontsize = 20);"
   ]
  },
  {
   "cell_type": "markdown",
   "metadata": {},
   "source": [
    "**Вывод:** большего всего посадочных мест находится в ресторанах, пиццериях и барах с пабами. Меньше всего в кафе и столовых. "
   ]
  },
  {
   "cell_type": "markdown",
   "metadata": {},
   "source": [
    "#### Изображение соотношения сетевых и не сетевых заведений в датасете\n",
    "<a id=\"6\"></a> "
   ]
  },
  {
   "cell_type": "code",
   "execution_count": null,
   "metadata": {},
   "outputs": [],
   "source": [
    "chain = ['Не сетевые', 'Сетевые']\n",
    "values = data.chain.value_counts().values\n",
    "fig_pie = go.Figure(data=[go.Pie(labels=chain, values=values)])\n",
    "fig_pie.show() "
   ]
  },
  {
   "cell_type": "markdown",
   "metadata": {},
   "source": [
    "**Вывод:** больше несетевых заведений."
   ]
  },
  {
   "cell_type": "markdown",
   "metadata": {},
   "source": [
    "#### Иллюстрация сетевых заведений\n",
    "<a id=\"7\"></a> "
   ]
  },
  {
   "cell_type": "code",
   "execution_count": null,
   "metadata": {},
   "outputs": [],
   "source": [
    "plt.figure(figsize=(15, 5));\n",
    "sns.set_palette('crest', 8)\n",
    "sns.barplot(x='index', y='category', data=data.query('chain == 1').category.value_counts().reset_index())\n",
    "plt.xlabel('Название заведения', fontsize = 12);\n",
    "plt.ylabel('Число встречаемости', fontsize = 12);\n",
    "plt.xticks(rotation=45, fontsize = 15);\n",
    "plt.title('Распределение сетевых заведений', fontsize = 20);"
   ]
  },
  {
   "cell_type": "markdown",
   "metadata": {},
   "source": [
    "**Вывод:** чаще всего сетевыми являются кофейни, рестораны и кафе."
   ]
  },
  {
   "cell_type": "markdown",
   "metadata": {},
   "source": [
    "#### Визуализация топ-15 популярных сетей в Москве\n",
    "<a id=\"8\"></a> "
   ]
  },
  {
   "cell_type": "code",
   "execution_count": null,
   "metadata": {},
   "outputs": [],
   "source": [
    "plt.figure(figsize=(20, 10));\n",
    "sns.set_palette('rocket', 15)\n",
    "sns.barplot(x='name', y='index', data=data.loc[data.chain == 1].name.value_counts().head(15).reset_index())\n",
    "plt.xlabel('Число встречаемости', fontsize = 12);\n",
    "plt.ylabel('Название заведения', fontsize = 12);\n",
    "plt.yticks(fontsize = 15);\n",
    "plt.title('Топ-15 популярных сетей в Москве', fontsize = 20);"
   ]
  },
  {
   "cell_type": "markdown",
   "metadata": {},
   "source": [
    "**Вывод:** мне знакомы большинство из этих сетей. В каждой из сетей не менее 20 заведений. Они относятся к следующим категориям заведений: булочная, пиццерия, кофейня, кафе, ресторан, быстрое питание, столовая, бар,паб."
   ]
  },
  {
   "cell_type": "markdown",
   "metadata": {},
   "source": [
    "#### Изображение общего количества заведений и количества заведений каждой категории по районам\n",
    "<a id=\"9\"></a> "
   ]
  },
  {
   "cell_type": "code",
   "execution_count": null,
   "metadata": {},
   "outputs": [],
   "source": [
    "print('Такие административные районы Москвы присутствуют в датасете: {}'.format(data.district.unique()))"
   ]
  },
  {
   "cell_type": "code",
   "execution_count": null,
   "metadata": {},
   "outputs": [],
   "source": [
    "districts_categories = data.groupby(['district', 'category']).agg({'name': 'count'}).reset_index()\n",
    "districts_categories.loc[72] = ['Oбщее количество заведений', 'Все', data.shape[0]]\n",
    "fig = px.bar(districts_categories,  x='name', y='district', color='category'\n",
    "             , title='Общее количество заведений и количество заведений каждой категории по районам')\n",
    "fig.update_layout(xaxis_title=\"Количество заведений\",\n",
    "                  yaxis_title=\"Административный район\")\n",
    "fig.show()"
   ]
  },
  {
   "cell_type": "markdown",
   "metadata": {},
   "source": [
    "#### Визуализирование распределения средних рейтингов по категориям заведений\n",
    "<a id=\"10\"></a> "
   ]
  },
  {
   "cell_type": "code",
   "execution_count": null,
   "metadata": {},
   "outputs": [],
   "source": [
    "mean_rating = data.groupby('category').rating.mean().reset_index()\n",
    "mean_rating.rating = round(mean_rating.rating, 3)\n",
    "plt.figure(figsize=(15, 5));\n",
    "sns.barplot(x='category', y='rating', data=mean_rating)\n",
    "plt.xlabel('Название заведения', fontsize = 12);\n",
    "plt.ylabel('Средний рейтинг', fontsize = 12);\n",
    "plt.yticks(fontsize = 15);\n",
    "plt.title('Распределение средних рейтингов по категориям', fontsize = 20);"
   ]
  },
  {
   "cell_type": "markdown",
   "metadata": {},
   "source": [
    "**Вывод:** усреднённые рейтинги в разных типах общепита различаются слабо."
   ]
  },
  {
   "cell_type": "markdown",
   "metadata": {},
   "source": [
    "#### Построение фонофой картограммы среднего рейтинга заведений по районам\n",
    "<a id=\"11\"></a> "
   ]
  },
  {
   "cell_type": "code",
   "execution_count": null,
   "metadata": {},
   "outputs": [],
   "source": [
    "rating_df = data.groupby('district').rating.mean()\n",
    "moscow_lat, moscow_lng = 55.751244, 37.618423\n",
    "m_choropleth_rating = Map(location=[moscow_lat, moscow_lng], zoom_start=10, tiles=\"Cartodb Positron\")\n",
    "Choropleth(\n",
    "    geo_data = '/datasets/admin_level_geomap.geojson',\n",
    "    data = rating_df,\n",
    "    columns = ['district', 'rating'],\n",
    "    key_on = 'feature.name',\n",
    "    fill_color = 'YlOrRd',\n",
    "    fill_opacity = 0.8,\n",
    "    legend_name = 'Средний рейтинг заведений по районам'\n",
    ").add_to(m_choropleth_rating)\n",
    "m_choropleth_rating"
   ]
  },
  {
   "cell_type": "markdown",
   "metadata": {},
   "source": [
    "#### Отображение всех заведений датасета на карте с помощью кластеров\n",
    "<a id=\"12\"></a> "
   ]
  },
  {
   "cell_type": "code",
   "execution_count": null,
   "metadata": {},
   "outputs": [],
   "source": [
    "m_clusters = Map(location=[moscow_lat, moscow_lng], zoom_start=10, tiles=\"Cartodb Positron\")\n",
    "marker_cluster = MarkerCluster().add_to(m_clusters)"
   ]
  },
  {
   "cell_type": "code",
   "execution_count": null,
   "metadata": {},
   "outputs": [],
   "source": [
    "def create_clusters(row):\n",
    "    Marker(\n",
    "        [row['lat'], row['lng']],\n",
    "        popup = f\"{row['name']} {row['rating']}\",\n",
    "    ).add_to(marker_cluster)"
   ]
  },
  {
   "cell_type": "code",
   "execution_count": null,
   "metadata": {
    "scrolled": true
   },
   "outputs": [],
   "source": [
    "data.apply(create_clusters, axis=1)\n",
    "m_clusters"
   ]
  },
  {
   "cell_type": "markdown",
   "metadata": {},
   "source": [
    "#### Пятнадцать улиц с наибольшим количеством заведений\n",
    "<a id=\"13\"></a> "
   ]
  },
  {
   "cell_type": "code",
   "execution_count": null,
   "metadata": {},
   "outputs": [],
   "source": [
    "steet_amount = data.street.value_counts().reset_index().head(15)\n",
    "steet_amount.columns = ['Название улицы', 'Количество заведений']\n",
    "print('\\033[1m' + 'Топ-15 улиц по количеству заведений:' + '\\033[1m')\n",
    "display(steet_amount)"
   ]
  },
  {
   "cell_type": "code",
   "execution_count": null,
   "metadata": {},
   "outputs": [],
   "source": [
    "streets_categories = (\n",
    "    data.query(\"street.isin(@steet_amount['Название улицы'])\")\n",
    "    .groupby(['street', 'category'])\n",
    "    .agg({'name': 'count'}).reset_index()\n",
    ")\n",
    "fig_1 = px.bar(streets_categories,  x='name', y='street', color='category'\n",
    "             , title='Распределение количества заведений и их категорий по этим улицам')\n",
    "fig_1.update_layout(xaxis_title=\"Количество заведений\",\n",
    "                    yaxis_title=\"Название улицы\")\n",
    "fig_1.show()"
   ]
  },
  {
   "cell_type": "markdown",
   "metadata": {},
   "source": [
    "#### Нахождение улиц, на которых находится только один объект общепита\n",
    "<a id=\"14\"></a> "
   ]
  },
  {
   "cell_type": "code",
   "execution_count": null,
   "metadata": {},
   "outputs": [],
   "source": [
    "one_catering = data.street.value_counts().reset_index().query('street == 1')\n",
    "one_catering.columns = ['Название улицы', 'Число заведений']\n",
    "display(one_catering)\n",
    "print('\\033[1mЧисло улиц с одним заведением: {}\\033[1m'.format(one_catering.shape[0]))\n",
    "print()\n",
    "print('Единичные заведения по категориям:')\n",
    "display(data.query('index.isin(@one_catering.index)').category.value_counts())"
   ]
  },
  {
   "cell_type": "markdown",
   "metadata": {},
   "source": [
    "**Вывод:** Количество улиц, на которых расположено одно заведение - 471. По категориям они распределяются также как и самые популярные во всем датасете."
   ]
  },
  {
   "cell_type": "markdown",
   "metadata": {},
   "source": [
    "#### Построение хороплета с медианной оценкой среднего чека\n",
    "<a id=\"15\"></a> "
   ]
  },
  {
   "cell_type": "code",
   "execution_count": null,
   "metadata": {},
   "outputs": [],
   "source": [
    "district_middle_avg_bill = data.groupby('district').middle_avg_bill.median()\n",
    "m_choropleth_middle_avg_bill = Map(location=[moscow_lat, moscow_lng], zoom_start=10, tiles=\"Cartodb Positron\")\n",
    "Choropleth(\n",
    "    geo_data = '/datasets/admin_level_geomap.geojson',\n",
    "    data = district_middle_avg_bill,\n",
    "    columns = ['district', 'middle_avg_bill'],\n",
    "    key_on = 'feature.name',\n",
    "    fill_color = 'YlOrRd',\n",
    "    fill_opacity = 0.8,\n",
    "    legend_name = 'Медианая оценка среднего чека'\n",
    ").add_to(m_choropleth_middle_avg_bill)\n",
    "m_choropleth_middle_avg_bill"
   ]
  },
  {
   "cell_type": "markdown",
   "metadata": {},
   "source": [
    "**Вывод:** в среднем цены по районам начинаются от 450 до 1000 рублей. Чем западнее расположен район, тем выше цены."
   ]
  },
  {
   "cell_type": "markdown",
   "metadata": {},
   "source": [
    "#### Иллюстрация других взаимосвязей\n",
    "<a id=\"16\"></a> "
   ]
  },
  {
   "cell_type": "code",
   "execution_count": null,
   "metadata": {},
   "outputs": [],
   "source": [
    "def only_hours(cell):\n",
    "    def interval_to_number(time):\n",
    "        start_time_str, end_time_str = time.split('–')\n",
    "        start_time = datetime.strptime(start_time_str, '%H:%M')\n",
    "        end_time = datetime.strptime(end_time_str, '%H:%M')\n",
    "        if end_time < start_time:\n",
    "            end_time += timedelta(days=1)\n",
    "        duration = end_time - start_time\n",
    "        time = round(duration.total_seconds() / 3600)\n",
    "        return time\n",
    "    try:\n",
    "        if 'круглосуточно' in cell:\n",
    "            cell = 24\n",
    "            return cell\n",
    "        else:\n",
    "            trans_table = {ord(',') : None, ord('-') : None}\n",
    "            cell = ''.join(i for i in cell if not i.isalpha()).translate(trans_table).strip().replace(' ', '')\n",
    "            if ';' not in cell:\n",
    "                return interval_to_number(cell)\n",
    "            else:\n",
    "                cell = cell.split(';')\n",
    "                median_hour = 0\n",
    "                for interval in cell:\n",
    "                    median_hour += interval_to_number(interval)\n",
    "                cell = round(median_hour / len(cell))\n",
    "                return cell\n",
    "    except:\n",
    "        cell = None\n",
    "        return cell\n",
    "#создал функцию, которая из дней недели и интервалов времени преобразует в число часов работы заведений.\n",
    "#есть недоработки: не учтены часы перерыва, столбцы со строкой \"круглосуточно\" переделаны в 24, даже там где не все дни недели\n",
    "#заведение работает полные сутки. Есть незначительные потери, но думаю суть часов работы заведений отражает в полной мере.\n",
    "#также в строках, где 2 или 3 варианта времени работы по разным дням, вычеслено среднее значение."
   ]
  },
  {
   "cell_type": "code",
   "execution_count": null,
   "metadata": {},
   "outputs": [],
   "source": [
    "data['only_hours'] = data.hours.apply(only_hours)\n",
    "print('\\033[1m' + 'Потеряно строк после обработки:' + '\\033[1m', data.query('only_hours.isna()').shape[0])"
   ]
  },
  {
   "cell_type": "code",
   "execution_count": null,
   "metadata": {},
   "outputs": [],
   "source": [
    "district_hours = data.groupby(['district', 'only_hours']).agg({'name': 'count'}).reset_index()\n",
    "fig_2 = px.bar(district_hours,  x='name', y='district', color='only_hours', \n",
    "               title='Распределение числа заведений по часам работы и по районам')\n",
    "fig_2.update_layout(xaxis_title=\"Количество заведений\",\n",
    "                    yaxis_title=\"Название района\")\n",
    "fig_2.show()"
   ]
  },
  {
   "cell_type": "code",
   "execution_count": null,
   "metadata": {},
   "outputs": [],
   "source": [
    "category_hours = data.groupby(['category', 'only_hours']).agg({'name': 'count'}).reset_index()\n",
    "fig_3 = px.bar(category_hours,  x='name', y='category', color='only_hours', \n",
    "               title='Распределение числа заведений и их часам работы по категориям')\n",
    "fig_3.update_layout(xaxis_title=\"Количество заведений\",\n",
    "                    yaxis_title=\"Категория\")\n",
    "fig_3.show()"
   ]
  },
  {
   "cell_type": "markdown",
   "metadata": {},
   "source": [
    "**Вывод:** во всех районах и во всех категориях оказались, как ни странно, круглосуточные магазины. По всем районам чаще всего заведения работают по 12 часов. Примерно такое же положение обстоит и в разбивке по категориям, кроме столовых, они зачастую работают по 8 часов."
   ]
  },
  {
   "cell_type": "code",
   "execution_count": null,
   "metadata": {},
   "outputs": [],
   "source": [
    "print(f'Обозначу за плохой рейтинг: {data.rating.quantile(0.25)} и меньше, что составляет от всех рейтингов 25%')"
   ]
  },
  {
   "cell_type": "code",
   "execution_count": null,
   "metadata": {},
   "outputs": [],
   "source": [
    "low_ratings = data.query('rating <= 4.1').groupby(['category', 'rating']).middle_avg_bill.mean().reset_index()\n",
    "fig_4 = px.bar(low_ratings,  x='middle_avg_bill', y='category', color='rating', \n",
    "               title='Распределение усреднённых чеков и их рейтингов по категориям')\n",
    "fig_4.update_layout(xaxis_title=\"Усреднённый чек\",\n",
    "                    yaxis_title=\"Категория\")\n",
    "fig_4.show()"
   ]
  },
  {
   "cell_type": "markdown",
   "metadata": {},
   "source": [
    "**Вывод:** самые низкие рейтинги относятся к заведениям кафе и быстрого питания. В общем по всем категориям нет зависимости между низким рейтингом и средним чеком. Встречаются как высокие средние чеки с низким рейтингом, так и высокие рейтинги с небольшим чеком."
   ]
  },
  {
   "cell_type": "markdown",
   "metadata": {},
   "source": [
    "**Общий вывод блока:** Топ-3 категории по количеству заведений включают кафе, рестораны и кофейни. Наибольшее количество посадочных мест наблюдается в ресторанах, кафе и кофейнях, а наименьшее — в булочных и столовых. В датасете представлено больше несетевых заведений, а сетевыми чаще всего являются кофейни, рестораны и кафе. Мне известны большинство из этих сетей, в каждой из которых насчитывается не менее 20 заведений. Они принадлежат следующим категориям: булочная, пиццерия, кофейня, кафе, ресторан, фастфуд, столовая, бар и паб. Усредненные рейтинги для различных типов общепита почти не отличаются. Количество улиц с одним заведением составляет 471, и распределение по категориям совпадает с самыми популярными в датасете. В среднем цены по районам варьируются от 450 до 1000 рублей: чем дальше на запад расположен район, тем выше цены. В каждом районе и в каждой категории, неожиданно, присутствуют круглосуточные магазины. В большинстве районов заведения, как правило, работают по 12 часов. Аналогичная ситуация наблюдается и среди категорий, за исключением столовых, которые чаще всего функционируют в течение 8 часов. Наименьшие рейтинги принадлежат заведениям кафетериев и быстрого питания. В целом, между низким рейтингом и средним чеком среди всех категорий нет явной связи. Можно встретить как высокие средние чеки при низком рейтинге, так и высокие рейтинги при скромном чеке."
   ]
  },
  {
   "cell_type": "markdown",
   "metadata": {},
   "source": [
    "### Детализированное исследование: открытие кофейни\n",
    "<a id=\"17\"></a> "
   ]
  },
  {
   "cell_type": "code",
   "execution_count": null,
   "metadata": {},
   "outputs": [],
   "source": [
    "print('\\033[1m' + f'В датасете представлено {data.loc[data.category == \"кофейня\"].shape[0]} кофеен' + '\\033[1m')\n",
    "print()\n",
    "print('\\033[1m' + 'Больше всего кофеен в этих районах:' + '\\033[1m')\n",
    "display(\n",
    "    data.loc[data.category == \"кофейня\"]\n",
    "    .groupby('district').category.count()\n",
    "    .reset_index().sort_values('category', ascending=False).head(3)\n",
    ")"
   ]
  },
  {
   "cell_type": "code",
   "execution_count": null,
   "metadata": {},
   "outputs": [],
   "source": [
    "amount_coffee_houses = data.loc[data.category == \"кофейня\"].groupby('district').category.count()\n",
    "m_choropleth_coffee = Map(location=[moscow_lat, moscow_lng], zoom_start=10, tiles=\"Cartodb Positron\")\n",
    "Choropleth(\n",
    "    geo_data = '/datasets/admin_level_geomap.geojson',\n",
    "    data = amount_coffee_houses,\n",
    "    columns = ['district', 'category'],\n",
    "    key_on = 'feature.name',\n",
    "    fill_color = 'YlOrRd',\n",
    "    fill_opacity = 0.8,\n",
    "    legend_name = 'Количество кофеен по районам'\n",
    ").add_to(m_choropleth_coffee)\n",
    "m_choropleth_coffee"
   ]
  },
  {
   "cell_type": "code",
   "execution_count": null,
   "metadata": {
    "scrolled": true
   },
   "outputs": [],
   "source": [
    "print(\n",
    "    '\\033[1m'+'Кофеен, работающих круглосуточно:'+'\\033[1m', \n",
    "    data.loc[data.category == \"кофейня\"].hours.str.contains(r'\\круглосуточно').sum())"
   ]
  },
  {
   "cell_type": "code",
   "execution_count": null,
   "metadata": {},
   "outputs": [],
   "source": [
    "rating_coffee_house = data.loc[data.category == \"кофейня\"].groupby(['district', 'rating']).name.count().reset_index()\n",
    "fig_5 = px.bar(rating_coffee_house,  x='name', y='district', color='rating', \n",
    "               title='Распределение количества кофеен и их рейтингов по районам')\n",
    "fig_5.update_layout(xaxis_title=\"Количество кофеен\",\n",
    "                    yaxis_title=\"Район\")\n",
    "fig_5.show()"
   ]
  },
  {
   "cell_type": "code",
   "execution_count": null,
   "metadata": {},
   "outputs": [],
   "source": [
    "rating_coffee_cup = data.loc[data.category == \"кофейня\"].groupby(['rating']).middle_coffee_cup.mean().reset_index()\n",
    "fig_6 = px.bar(rating_coffee_cup,  x='rating', y='middle_coffee_cup', \n",
    "               title='Распределение усреднённых стоимостей чашек капучино по рейтингу')\n",
    "fig_6.update_layout(xaxis_title=\"Рейтинг\",\n",
    "                    yaxis_title=\"Средняя стоимость чашки капучино\")\n",
    "fig_6.show()\n",
    "district_coffee_cup = data.loc[data.category == \"кофейня\"].groupby(['district']).middle_coffee_cup.mean().reset_index()\n",
    "fig_7 = px.bar(district_coffee_cup,  x='middle_coffee_cup', y='district', \n",
    "               title='Распределение усреднённых стоимостей чашек капучино по районам')\n",
    "fig_7.update_layout(xaxis_title=\"Стоимость чашки капучино\",\n",
    "                    yaxis_title=\"Название района\")\n",
    "fig_7.show()"
   ]
  },
  {
   "cell_type": "markdown",
   "metadata": {},
   "source": [
    "**Вывод:** в наборе данных представлено 1398 кофеен. Около трети из них располагается в Центральном административном округе. Выявлено 76 кофейнь, работающих круглосуточно. Рейтинги у кофеен варьируются от 2 до 5, хотя ниже 4 встречается нечасто; большинство оценок высокие. Стоит ориентироваться на стоимость чашки капучино от 150 до 200 рублей, так как самые высокие рейтинги получают заведения с таким ценовым диапазоном. Также в разбивке по районам средней стоимости чашки, встречаются значения, представленные выше. На мой взгляд, при открытии кофейни я бы не рассматривал Центральный административный округ из-за большой концентрации этих заведений и, соответственно, высокой конкуренции. Стоит обратить внимание на Северо-Западный административный округ, где небольшое число заведений и преимущественно высокие оценки."
   ]
  },
  {
   "cell_type": "markdown",
   "metadata": {},
   "source": [
    "Презентация: <https://disk.yandex.ru/i/CYJgSt6_iCIo4A>"
   ]
  }
 ],
 "metadata": {
  "ExecuteTimeLog": [
   {
    "duration": 75,
    "start_time": "2024-09-03T15:51:34.193Z"
   },
   {
    "duration": 61,
    "start_time": "2024-09-03T15:57:58.030Z"
   },
   {
    "duration": 412,
    "start_time": "2024-09-03T15:58:52.079Z"
   },
   {
    "duration": 265,
    "start_time": "2024-09-03T15:59:40.718Z"
   },
   {
    "duration": 91,
    "start_time": "2024-09-03T15:59:43.511Z"
   },
   {
    "duration": 49,
    "start_time": "2024-09-03T19:09:42.612Z"
   },
   {
    "duration": 391,
    "start_time": "2024-09-03T19:09:48.625Z"
   },
   {
    "duration": 307,
    "start_time": "2024-09-03T19:09:49.018Z"
   },
   {
    "duration": 88,
    "start_time": "2024-09-03T19:11:16.665Z"
   },
   {
    "duration": 3,
    "start_time": "2024-09-03T19:18:19.346Z"
   },
   {
    "duration": 29,
    "start_time": "2024-09-03T19:18:25.571Z"
   },
   {
    "duration": 2,
    "start_time": "2024-09-03T19:19:19.704Z"
   },
   {
    "duration": 21,
    "start_time": "2024-09-03T19:19:20.948Z"
   },
   {
    "duration": 21,
    "start_time": "2024-09-03T19:19:48.658Z"
   },
   {
    "duration": 61,
    "start_time": "2024-09-03T19:26:33.457Z"
   },
   {
    "duration": 8,
    "start_time": "2024-09-03T19:26:41.019Z"
   },
   {
    "duration": 23,
    "start_time": "2024-09-03T19:26:42.469Z"
   },
   {
    "duration": 18,
    "start_time": "2024-09-03T19:27:15.201Z"
   },
   {
    "duration": 23,
    "start_time": "2024-09-03T19:27:16.029Z"
   },
   {
    "duration": 17,
    "start_time": "2024-09-03T19:27:27.372Z"
   },
   {
    "duration": 24,
    "start_time": "2024-09-03T19:27:29.094Z"
   },
   {
    "duration": 9,
    "start_time": "2024-09-03T19:27:55.217Z"
   },
   {
    "duration": 23,
    "start_time": "2024-09-03T19:28:29.509Z"
   },
   {
    "duration": 10,
    "start_time": "2024-09-03T19:29:27.695Z"
   },
   {
    "duration": 10,
    "start_time": "2024-09-03T19:30:22.948Z"
   },
   {
    "duration": 10,
    "start_time": "2024-09-03T19:30:58.349Z"
   },
   {
    "duration": 8,
    "start_time": "2024-09-03T19:31:13.165Z"
   },
   {
    "duration": 3,
    "start_time": "2024-09-03T19:31:34.645Z"
   },
   {
    "duration": 5,
    "start_time": "2024-09-03T19:31:37.075Z"
   },
   {
    "duration": 14,
    "start_time": "2024-09-03T19:31:46.872Z"
   },
   {
    "duration": 5,
    "start_time": "2024-09-03T19:31:47.807Z"
   },
   {
    "duration": 4,
    "start_time": "2024-09-03T19:32:00.262Z"
   },
   {
    "duration": 4,
    "start_time": "2024-09-03T19:32:09.102Z"
   },
   {
    "duration": 18,
    "start_time": "2024-09-03T19:32:16.441Z"
   },
   {
    "duration": 24,
    "start_time": "2024-09-03T19:34:09.771Z"
   },
   {
    "duration": 12,
    "start_time": "2024-09-03T19:34:48.500Z"
   },
   {
    "duration": 10,
    "start_time": "2024-09-03T19:34:57.960Z"
   },
   {
    "duration": 8,
    "start_time": "2024-09-03T19:36:08.025Z"
   },
   {
    "duration": 13,
    "start_time": "2024-09-03T19:36:15.460Z"
   },
   {
    "duration": 9,
    "start_time": "2024-09-03T19:36:23.451Z"
   },
   {
    "duration": 17,
    "start_time": "2024-09-03T19:37:02.294Z"
   },
   {
    "duration": 15,
    "start_time": "2024-09-03T19:37:28.230Z"
   },
   {
    "duration": 9,
    "start_time": "2024-09-03T19:37:56.973Z"
   },
   {
    "duration": 14,
    "start_time": "2024-09-03T19:39:22.373Z"
   },
   {
    "duration": 12,
    "start_time": "2024-09-03T19:39:37.496Z"
   },
   {
    "duration": 53,
    "start_time": "2024-09-03T19:39:46.008Z"
   },
   {
    "duration": 8,
    "start_time": "2024-09-03T19:39:49.202Z"
   },
   {
    "duration": 5,
    "start_time": "2024-09-03T19:40:23.796Z"
   },
   {
    "duration": 6,
    "start_time": "2024-09-03T19:40:33.492Z"
   },
   {
    "duration": 6,
    "start_time": "2024-09-03T19:40:36.512Z"
   },
   {
    "duration": 12,
    "start_time": "2024-09-03T19:42:34.071Z"
   },
   {
    "duration": 9,
    "start_time": "2024-09-03T19:42:39.324Z"
   },
   {
    "duration": 13,
    "start_time": "2024-09-03T19:43:07.243Z"
   },
   {
    "duration": 10,
    "start_time": "2024-09-03T19:46:38.023Z"
   },
   {
    "duration": 34,
    "start_time": "2024-09-03T19:46:39.272Z"
   },
   {
    "duration": 33,
    "start_time": "2024-09-03T19:48:05.778Z"
   },
   {
    "duration": 36,
    "start_time": "2024-09-03T19:48:25.787Z"
   },
   {
    "duration": 37,
    "start_time": "2024-09-03T20:03:51.665Z"
   },
   {
    "duration": 22,
    "start_time": "2024-09-03T20:03:57.969Z"
   },
   {
    "duration": 28,
    "start_time": "2024-09-03T20:04:09.274Z"
   },
   {
    "duration": 24,
    "start_time": "2024-09-03T20:04:19.339Z"
   },
   {
    "duration": 23,
    "start_time": "2024-09-03T20:04:39.152Z"
   },
   {
    "duration": 22,
    "start_time": "2024-09-03T20:04:45.467Z"
   },
   {
    "duration": 27,
    "start_time": "2024-09-03T20:05:33.263Z"
   },
   {
    "duration": 23,
    "start_time": "2024-09-03T20:05:57.995Z"
   },
   {
    "duration": 29,
    "start_time": "2024-09-03T20:06:04.439Z"
   },
   {
    "duration": 37,
    "start_time": "2024-09-03T20:06:19.061Z"
   },
   {
    "duration": 36,
    "start_time": "2024-09-03T20:07:57.450Z"
   },
   {
    "duration": 31,
    "start_time": "2024-09-03T20:08:12.149Z"
   },
   {
    "duration": 23,
    "start_time": "2024-09-03T20:08:15.838Z"
   },
   {
    "duration": 45,
    "start_time": "2024-09-03T20:08:26.817Z"
   },
   {
    "duration": 342,
    "start_time": "2024-09-03T20:08:54.479Z"
   },
   {
    "duration": 82,
    "start_time": "2024-09-03T20:08:54.823Z"
   },
   {
    "duration": 3,
    "start_time": "2024-09-03T20:08:54.907Z"
   },
   {
    "duration": 40,
    "start_time": "2024-09-03T20:08:54.911Z"
   },
   {
    "duration": 38,
    "start_time": "2024-09-03T20:08:54.953Z"
   },
   {
    "duration": 62,
    "start_time": "2024-09-03T20:14:09.900Z"
   },
   {
    "duration": 43,
    "start_time": "2024-09-03T20:14:36.391Z"
   },
   {
    "duration": 16,
    "start_time": "2024-09-03T20:14:52.632Z"
   },
   {
    "duration": 35,
    "start_time": "2024-09-03T20:16:07.371Z"
   },
   {
    "duration": 12,
    "start_time": "2024-09-03T20:16:09.721Z"
   },
   {
    "duration": 330,
    "start_time": "2024-09-03T20:16:16.880Z"
   },
   {
    "duration": 83,
    "start_time": "2024-09-03T20:16:17.212Z"
   },
   {
    "duration": 3,
    "start_time": "2024-09-03T20:16:17.296Z"
   },
   {
    "duration": 34,
    "start_time": "2024-09-03T20:16:17.300Z"
   },
   {
    "duration": 38,
    "start_time": "2024-09-03T20:16:17.336Z"
   },
   {
    "duration": 11,
    "start_time": "2024-09-03T20:16:17.376Z"
   },
   {
    "duration": 39,
    "start_time": "2024-09-03T20:17:49.090Z"
   },
   {
    "duration": 13,
    "start_time": "2024-09-03T20:18:04.001Z"
   },
   {
    "duration": 36,
    "start_time": "2024-09-03T20:18:50.483Z"
   },
   {
    "duration": 12,
    "start_time": "2024-09-03T20:18:52.988Z"
   },
   {
    "duration": 49,
    "start_time": "2024-09-03T20:19:10.618Z"
   },
   {
    "duration": 58,
    "start_time": "2024-09-03T20:19:19.802Z"
   },
   {
    "duration": 45,
    "start_time": "2024-09-03T20:19:23.821Z"
   },
   {
    "duration": 47,
    "start_time": "2024-09-04T16:19:34.161Z"
   },
   {
    "duration": 453,
    "start_time": "2024-09-04T16:19:41.073Z"
   },
   {
    "duration": 288,
    "start_time": "2024-09-04T16:19:41.529Z"
   },
   {
    "duration": 4,
    "start_time": "2024-09-04T16:19:41.819Z"
   },
   {
    "duration": 29,
    "start_time": "2024-09-04T16:19:41.825Z"
   },
   {
    "duration": 86,
    "start_time": "2024-09-04T16:19:41.857Z"
   },
   {
    "duration": 82,
    "start_time": "2024-09-04T16:19:41.945Z"
   },
   {
    "duration": 6,
    "start_time": "2024-09-04T16:20:04.313Z"
   },
   {
    "duration": 9,
    "start_time": "2024-09-04T16:20:12.607Z"
   },
   {
    "duration": 19,
    "start_time": "2024-09-04T16:21:26.297Z"
   },
   {
    "duration": 14,
    "start_time": "2024-09-04T16:21:34.378Z"
   },
   {
    "duration": 13,
    "start_time": "2024-09-04T16:21:44.803Z"
   },
   {
    "duration": 6,
    "start_time": "2024-09-04T16:32:04.934Z"
   },
   {
    "duration": 10,
    "start_time": "2024-09-04T16:32:17.696Z"
   },
   {
    "duration": 944,
    "start_time": "2024-09-04T16:33:46.591Z"
   },
   {
    "duration": 184,
    "start_time": "2024-09-04T16:35:32.197Z"
   },
   {
    "duration": 3,
    "start_time": "2024-09-04T16:38:24.710Z"
   },
   {
    "duration": 174,
    "start_time": "2024-09-04T16:39:48.882Z"
   },
   {
    "duration": 196,
    "start_time": "2024-09-04T16:40:28.806Z"
   },
   {
    "duration": 159,
    "start_time": "2024-09-04T16:40:37.328Z"
   },
   {
    "duration": 156,
    "start_time": "2024-09-04T16:40:43.436Z"
   },
   {
    "duration": 176,
    "start_time": "2024-09-04T16:43:29.123Z"
   },
   {
    "duration": 166,
    "start_time": "2024-09-04T16:43:46.091Z"
   },
   {
    "duration": 228,
    "start_time": "2024-09-04T16:44:06.033Z"
   },
   {
    "duration": 154,
    "start_time": "2024-09-04T16:44:10.614Z"
   },
   {
    "duration": 156,
    "start_time": "2024-09-04T16:44:43.012Z"
   },
   {
    "duration": 278,
    "start_time": "2024-09-04T16:45:05.130Z"
   },
   {
    "duration": 177,
    "start_time": "2024-09-04T16:45:18.014Z"
   },
   {
    "duration": 179,
    "start_time": "2024-09-04T16:47:39.284Z"
   },
   {
    "duration": 176,
    "start_time": "2024-09-04T16:47:46.709Z"
   },
   {
    "duration": 186,
    "start_time": "2024-09-04T16:48:41.116Z"
   },
   {
    "duration": 190,
    "start_time": "2024-09-04T16:48:53.773Z"
   },
   {
    "duration": 187,
    "start_time": "2024-09-04T16:48:56.514Z"
   },
   {
    "duration": 201,
    "start_time": "2024-09-04T16:49:36.876Z"
   },
   {
    "duration": 276,
    "start_time": "2024-09-04T16:49:41.537Z"
   },
   {
    "duration": 167,
    "start_time": "2024-09-04T16:49:51.314Z"
   },
   {
    "duration": 181,
    "start_time": "2024-09-04T16:49:55.069Z"
   },
   {
    "duration": 196,
    "start_time": "2024-09-04T16:50:35.902Z"
   },
   {
    "duration": 192,
    "start_time": "2024-09-04T16:50:43.545Z"
   },
   {
    "duration": 204,
    "start_time": "2024-09-04T16:50:49.150Z"
   },
   {
    "duration": 204,
    "start_time": "2024-09-04T16:51:42.329Z"
   },
   {
    "duration": 1057,
    "start_time": "2024-09-04T16:53:09.612Z"
   },
   {
    "duration": 197,
    "start_time": "2024-09-04T16:54:21.582Z"
   },
   {
    "duration": 5,
    "start_time": "2024-09-04T16:55:27.045Z"
   },
   {
    "duration": 4,
    "start_time": "2024-09-04T16:55:38.237Z"
   },
   {
    "duration": 14,
    "start_time": "2024-09-04T16:56:20.527Z"
   },
   {
    "duration": 191,
    "start_time": "2024-09-04T16:56:27.011Z"
   },
   {
    "duration": 195,
    "start_time": "2024-09-04T16:56:39.983Z"
   },
   {
    "duration": 299,
    "start_time": "2024-09-04T16:56:59.969Z"
   },
   {
    "duration": 200,
    "start_time": "2024-09-04T16:57:08.298Z"
   },
   {
    "duration": 198,
    "start_time": "2024-09-04T16:57:46.626Z"
   },
   {
    "duration": 193,
    "start_time": "2024-09-04T16:58:33.388Z"
   },
   {
    "duration": 200,
    "start_time": "2024-09-04T16:58:40.723Z"
   },
   {
    "duration": 85,
    "start_time": "2024-09-04T16:59:09.590Z"
   },
   {
    "duration": 83,
    "start_time": "2024-09-04T16:59:19.634Z"
   },
   {
    "duration": 83,
    "start_time": "2024-09-04T16:59:29.834Z"
   },
   {
    "duration": 186,
    "start_time": "2024-09-04T17:00:36.098Z"
   },
   {
    "duration": 189,
    "start_time": "2024-09-04T17:00:44.212Z"
   },
   {
    "duration": 191,
    "start_time": "2024-09-04T17:00:55.909Z"
   },
   {
    "duration": 284,
    "start_time": "2024-09-04T17:00:59.929Z"
   },
   {
    "duration": 203,
    "start_time": "2024-09-04T17:01:11.385Z"
   },
   {
    "duration": 205,
    "start_time": "2024-09-04T17:01:19.184Z"
   },
   {
    "duration": 87,
    "start_time": "2024-09-04T17:01:25.644Z"
   },
   {
    "duration": 186,
    "start_time": "2024-09-04T17:02:24.651Z"
   },
   {
    "duration": 194,
    "start_time": "2024-09-04T17:02:31.866Z"
   },
   {
    "duration": 185,
    "start_time": "2024-09-04T17:02:53.404Z"
   },
   {
    "duration": 15,
    "start_time": "2024-09-04T17:03:00.867Z"
   },
   {
    "duration": 213,
    "start_time": "2024-09-04T17:03:13.541Z"
   },
   {
    "duration": 4,
    "start_time": "2024-09-04T17:03:17.390Z"
   },
   {
    "duration": 3,
    "start_time": "2024-09-04T17:03:25.531Z"
   },
   {
    "duration": 10,
    "start_time": "2024-09-04T17:03:35.701Z"
   },
   {
    "duration": 50,
    "start_time": "2024-09-04T17:03:53.341Z"
   },
   {
    "duration": 190,
    "start_time": "2024-09-04T17:04:07.039Z"
   },
   {
    "duration": 188,
    "start_time": "2024-09-04T17:04:10.575Z"
   },
   {
    "duration": 284,
    "start_time": "2024-09-04T17:04:15.230Z"
   },
   {
    "duration": 191,
    "start_time": "2024-09-04T17:04:19.891Z"
   },
   {
    "duration": 195,
    "start_time": "2024-09-04T17:04:22.612Z"
   },
   {
    "duration": 186,
    "start_time": "2024-09-04T17:04:25.970Z"
   },
   {
    "duration": 187,
    "start_time": "2024-09-04T17:04:28.903Z"
   },
   {
    "duration": 195,
    "start_time": "2024-09-04T17:04:47.056Z"
   },
   {
    "duration": 195,
    "start_time": "2024-09-04T17:04:53.227Z"
   },
   {
    "duration": 193,
    "start_time": "2024-09-04T17:04:56.525Z"
   },
   {
    "duration": 197,
    "start_time": "2024-09-04T17:04:59.274Z"
   },
   {
    "duration": 173,
    "start_time": "2024-09-04T17:05:29.926Z"
   },
   {
    "duration": 184,
    "start_time": "2024-09-04T17:05:39.265Z"
   },
   {
    "duration": 71,
    "start_time": "2024-09-04T17:05:54.529Z"
   },
   {
    "duration": 287,
    "start_time": "2024-09-04T17:06:00.191Z"
   },
   {
    "duration": 9,
    "start_time": "2024-09-04T17:19:54.823Z"
   },
   {
    "duration": 4,
    "start_time": "2024-09-04T17:20:09.566Z"
   },
   {
    "duration": 1190,
    "start_time": "2024-09-04T17:20:32.278Z"
   },
   {
    "duration": 86,
    "start_time": "2024-09-04T17:20:33.470Z"
   },
   {
    "duration": 3,
    "start_time": "2024-09-04T17:20:33.557Z"
   },
   {
    "duration": 53,
    "start_time": "2024-09-04T17:20:33.562Z"
   },
   {
    "duration": 63,
    "start_time": "2024-09-04T17:20:33.617Z"
   },
   {
    "duration": 242,
    "start_time": "2024-09-04T17:20:33.681Z"
   },
   {
    "duration": 5,
    "start_time": "2024-09-04T17:20:33.925Z"
   },
   {
    "duration": 59,
    "start_time": "2024-09-04T17:21:02.025Z"
   },
   {
    "duration": 1145,
    "start_time": "2024-09-04T17:21:07.621Z"
   },
   {
    "duration": 95,
    "start_time": "2024-09-04T17:21:08.768Z"
   },
   {
    "duration": 3,
    "start_time": "2024-09-04T17:21:08.864Z"
   },
   {
    "duration": 34,
    "start_time": "2024-09-04T17:21:08.869Z"
   },
   {
    "duration": 57,
    "start_time": "2024-09-04T17:21:08.905Z"
   },
   {
    "duration": 234,
    "start_time": "2024-09-04T17:21:08.964Z"
   },
   {
    "duration": 9,
    "start_time": "2024-09-04T17:21:09.200Z"
   },
   {
    "duration": 102,
    "start_time": "2024-09-04T17:21:20.872Z"
   },
   {
    "duration": 6,
    "start_time": "2024-09-04T17:21:24.511Z"
   },
   {
    "duration": 205,
    "start_time": "2024-09-04T22:28:53.863Z"
   },
   {
    "duration": 213,
    "start_time": "2024-09-04T22:29:03.754Z"
   },
   {
    "duration": 201,
    "start_time": "2024-09-04T22:29:12.614Z"
   },
   {
    "duration": 10,
    "start_time": "2024-09-04T22:30:17.048Z"
   },
   {
    "duration": 7,
    "start_time": "2024-09-04T22:30:23.175Z"
   },
   {
    "duration": 6,
    "start_time": "2024-09-04T22:30:35.822Z"
   },
   {
    "duration": 53,
    "start_time": "2024-09-04T22:32:00.471Z"
   },
   {
    "duration": 58,
    "start_time": "2024-09-04T22:33:09.064Z"
   },
   {
    "duration": 56,
    "start_time": "2024-09-04T22:33:12.543Z"
   },
   {
    "duration": 56,
    "start_time": "2024-09-04T22:33:16.305Z"
   },
   {
    "duration": 1186,
    "start_time": "2024-09-04T22:33:22.170Z"
   },
   {
    "duration": 83,
    "start_time": "2024-09-04T22:33:23.358Z"
   },
   {
    "duration": 3,
    "start_time": "2024-09-04T22:33:23.442Z"
   },
   {
    "duration": 28,
    "start_time": "2024-09-04T22:33:23.447Z"
   },
   {
    "duration": 75,
    "start_time": "2024-09-04T22:33:23.477Z"
   },
   {
    "duration": 229,
    "start_time": "2024-09-04T22:33:23.554Z"
   },
   {
    "duration": 15,
    "start_time": "2024-09-04T22:33:23.785Z"
   },
   {
    "duration": 6,
    "start_time": "2024-09-04T22:33:38.605Z"
   },
   {
    "duration": 200,
    "start_time": "2024-09-04T22:36:35.000Z"
   },
   {
    "duration": 303,
    "start_time": "2024-09-04T22:37:28.906Z"
   },
   {
    "duration": 206,
    "start_time": "2024-09-04T22:38:11.230Z"
   },
   {
    "duration": 63,
    "start_time": "2024-09-04T22:38:25.433Z"
   },
   {
    "duration": 199,
    "start_time": "2024-09-04T22:38:28.628Z"
   },
   {
    "duration": 271,
    "start_time": "2024-09-04T22:38:48.361Z"
   },
   {
    "duration": 38,
    "start_time": "2024-09-04T22:39:31.722Z"
   },
   {
    "duration": 1200,
    "start_time": "2024-09-04T22:39:38.063Z"
   },
   {
    "duration": 86,
    "start_time": "2024-09-04T22:39:39.265Z"
   },
   {
    "duration": 3,
    "start_time": "2024-09-04T22:39:39.353Z"
   },
   {
    "duration": 29,
    "start_time": "2024-09-04T22:39:39.357Z"
   },
   {
    "duration": 135,
    "start_time": "2024-09-04T22:39:39.397Z"
   },
   {
    "duration": 0,
    "start_time": "2024-09-04T22:39:39.533Z"
   },
   {
    "duration": 0,
    "start_time": "2024-09-04T22:39:39.534Z"
   },
   {
    "duration": 57,
    "start_time": "2024-09-04T22:39:47.952Z"
   },
   {
    "duration": 216,
    "start_time": "2024-09-04T22:39:50.683Z"
   },
   {
    "duration": 238,
    "start_time": "2024-09-04T22:39:51.367Z"
   },
   {
    "duration": 4,
    "start_time": "2024-09-04T22:40:09.256Z"
   },
   {
    "duration": 7,
    "start_time": "2024-09-04T22:40:16.029Z"
   },
   {
    "duration": 562,
    "start_time": "2024-09-04T22:41:47.698Z"
   },
   {
    "duration": 637,
    "start_time": "2024-09-04T22:42:37.546Z"
   },
   {
    "duration": 145,
    "start_time": "2024-09-04T22:42:55.032Z"
   },
   {
    "duration": 701,
    "start_time": "2024-09-04T22:43:14.396Z"
   },
   {
    "duration": 569,
    "start_time": "2024-09-04T22:43:23.605Z"
   },
   {
    "duration": 250,
    "start_time": "2024-09-04T22:43:38.557Z"
   },
   {
    "duration": 145,
    "start_time": "2024-09-04T22:43:45.535Z"
   },
   {
    "duration": 270,
    "start_time": "2024-09-04T22:47:38.304Z"
   },
   {
    "duration": 274,
    "start_time": "2024-09-04T22:47:50.738Z"
   },
   {
    "duration": 239,
    "start_time": "2024-09-04T22:48:51.120Z"
   },
   {
    "duration": 199,
    "start_time": "2024-09-04T22:52:41.236Z"
   },
   {
    "duration": 245,
    "start_time": "2024-09-04T22:52:59.931Z"
   },
   {
    "duration": 198,
    "start_time": "2024-09-04T22:53:44.963Z"
   },
   {
    "duration": 23,
    "start_time": "2024-09-04T22:55:16.528Z"
   },
   {
    "duration": 18,
    "start_time": "2024-09-04T22:56:12.830Z"
   },
   {
    "duration": 12,
    "start_time": "2024-09-04T22:57:01.030Z"
   },
   {
    "duration": 9,
    "start_time": "2024-09-04T22:57:11.586Z"
   },
   {
    "duration": 127,
    "start_time": "2024-09-04T22:58:20.712Z"
   },
   {
    "duration": 18,
    "start_time": "2024-09-04T23:00:30.310Z"
   },
   {
    "duration": 9,
    "start_time": "2024-09-04T23:00:42.075Z"
   },
   {
    "duration": 130,
    "start_time": "2024-09-04T23:00:55.259Z"
   },
   {
    "duration": 132,
    "start_time": "2024-09-04T23:01:34.184Z"
   },
   {
    "duration": 134,
    "start_time": "2024-09-04T23:01:41.791Z"
   },
   {
    "duration": 248,
    "start_time": "2024-09-04T23:03:49.788Z"
   },
   {
    "duration": 60,
    "start_time": "2024-09-04T23:04:07.355Z"
   },
   {
    "duration": 53,
    "start_time": "2024-09-04T23:04:44.178Z"
   },
   {
    "duration": 1160,
    "start_time": "2024-09-04T23:04:50.810Z"
   },
   {
    "duration": 86,
    "start_time": "2024-09-04T23:04:51.972Z"
   },
   {
    "duration": 3,
    "start_time": "2024-09-04T23:04:52.060Z"
   },
   {
    "duration": 44,
    "start_time": "2024-09-04T23:04:52.064Z"
   },
   {
    "duration": 61,
    "start_time": "2024-09-04T23:04:52.110Z"
   },
   {
    "duration": 239,
    "start_time": "2024-09-04T23:04:52.173Z"
   },
   {
    "duration": 273,
    "start_time": "2024-09-04T23:04:52.414Z"
   },
   {
    "duration": 140,
    "start_time": "2024-09-04T23:04:52.688Z"
   },
   {
    "duration": 12,
    "start_time": "2024-09-04T23:05:59.279Z"
   },
   {
    "duration": 197,
    "start_time": "2024-09-04T23:06:49.493Z"
   },
   {
    "duration": 200,
    "start_time": "2024-09-04T23:07:49.855Z"
   },
   {
    "duration": 192,
    "start_time": "2024-09-04T23:08:21.031Z"
   },
   {
    "duration": 199,
    "start_time": "2024-09-04T23:08:56.265Z"
   },
   {
    "duration": 221,
    "start_time": "2024-09-04T23:09:18.324Z"
   },
   {
    "duration": 200,
    "start_time": "2024-09-04T23:09:31.107Z"
   },
   {
    "duration": 49,
    "start_time": "2024-09-05T18:29:17.827Z"
   },
   {
    "duration": 1376,
    "start_time": "2024-09-05T18:29:23.078Z"
   },
   {
    "duration": 301,
    "start_time": "2024-09-05T18:29:24.456Z"
   },
   {
    "duration": 4,
    "start_time": "2024-09-05T18:29:24.759Z"
   },
   {
    "duration": 37,
    "start_time": "2024-09-05T18:29:24.765Z"
   },
   {
    "duration": 60,
    "start_time": "2024-09-05T18:29:24.805Z"
   },
   {
    "duration": 242,
    "start_time": "2024-09-05T18:29:24.867Z"
   },
   {
    "duration": 331,
    "start_time": "2024-09-05T18:29:25.111Z"
   },
   {
    "duration": 148,
    "start_time": "2024-09-05T18:29:25.445Z"
   },
   {
    "duration": 223,
    "start_time": "2024-09-05T18:29:25.595Z"
   },
   {
    "duration": 26,
    "start_time": "2024-09-05T18:29:25.820Z"
   },
   {
    "duration": 8,
    "start_time": "2024-09-05T18:30:49.429Z"
   },
   {
    "duration": 8,
    "start_time": "2024-09-05T18:31:04.955Z"
   },
   {
    "duration": 7,
    "start_time": "2024-09-05T18:31:14.951Z"
   },
   {
    "duration": 8,
    "start_time": "2024-09-05T18:31:18.109Z"
   },
   {
    "duration": 106,
    "start_time": "2024-09-05T18:31:47.024Z"
   },
   {
    "duration": 7,
    "start_time": "2024-09-05T18:31:53.988Z"
   },
   {
    "duration": 8,
    "start_time": "2024-09-05T18:32:00.774Z"
   },
   {
    "duration": 15,
    "start_time": "2024-09-05T18:32:10.125Z"
   },
   {
    "duration": 11,
    "start_time": "2024-09-05T18:32:18.383Z"
   },
   {
    "duration": 22,
    "start_time": "2024-09-05T18:35:00.142Z"
   },
   {
    "duration": 254,
    "start_time": "2024-09-05T18:35:22.502Z"
   },
   {
    "duration": 261,
    "start_time": "2024-09-05T18:35:49.671Z"
   },
   {
    "duration": 322,
    "start_time": "2024-09-05T18:36:03.048Z"
   },
   {
    "duration": 313,
    "start_time": "2024-09-05T18:36:36.050Z"
   },
   {
    "duration": 386,
    "start_time": "2024-09-05T18:36:47.250Z"
   },
   {
    "duration": 301,
    "start_time": "2024-09-05T18:37:49.737Z"
   },
   {
    "duration": 304,
    "start_time": "2024-09-05T18:38:39.715Z"
   },
   {
    "duration": 7,
    "start_time": "2024-09-05T18:42:37.003Z"
   },
   {
    "duration": 8,
    "start_time": "2024-09-05T18:43:46.920Z"
   },
   {
    "duration": 16,
    "start_time": "2024-09-05T18:43:56.413Z"
   },
   {
    "duration": 10,
    "start_time": "2024-09-05T18:44:16.079Z"
   },
   {
    "duration": 11,
    "start_time": "2024-09-05T18:44:32.781Z"
   },
   {
    "duration": 14,
    "start_time": "2024-09-05T18:48:23.374Z"
   },
   {
    "duration": 14,
    "start_time": "2024-09-05T18:48:57.801Z"
   },
   {
    "duration": 11,
    "start_time": "2024-09-05T18:49:21.223Z"
   },
   {
    "duration": 10,
    "start_time": "2024-09-05T18:51:30.944Z"
   },
   {
    "duration": 10,
    "start_time": "2024-09-05T18:51:43.101Z"
   },
   {
    "duration": 10,
    "start_time": "2024-09-05T18:53:50.480Z"
   },
   {
    "duration": 13,
    "start_time": "2024-09-05T18:53:59.668Z"
   },
   {
    "duration": 10,
    "start_time": "2024-09-05T18:54:02.970Z"
   },
   {
    "duration": 9,
    "start_time": "2024-09-05T18:55:17.861Z"
   },
   {
    "duration": 50,
    "start_time": "2024-09-05T18:57:34.369Z"
   },
   {
    "duration": 60,
    "start_time": "2024-09-05T18:57:47.210Z"
   },
   {
    "duration": 9,
    "start_time": "2024-09-05T18:57:56.818Z"
   },
   {
    "duration": 8,
    "start_time": "2024-09-05T18:58:13.505Z"
   },
   {
    "duration": 13,
    "start_time": "2024-09-05T18:59:07.425Z"
   },
   {
    "duration": 9,
    "start_time": "2024-09-05T18:59:16.798Z"
   },
   {
    "duration": 10,
    "start_time": "2024-09-05T18:59:23.465Z"
   },
   {
    "duration": 10,
    "start_time": "2024-09-05T18:59:30.998Z"
   },
   {
    "duration": 10,
    "start_time": "2024-09-05T19:02:39.424Z"
   },
   {
    "duration": 11,
    "start_time": "2024-09-05T19:02:48.247Z"
   },
   {
    "duration": 11,
    "start_time": "2024-09-05T19:03:00.588Z"
   },
   {
    "duration": 13,
    "start_time": "2024-09-05T19:03:43.436Z"
   },
   {
    "duration": 14,
    "start_time": "2024-09-05T19:04:11.745Z"
   },
   {
    "duration": 58,
    "start_time": "2024-09-05T19:04:27.227Z"
   },
   {
    "duration": 14,
    "start_time": "2024-09-05T19:04:36.738Z"
   },
   {
    "duration": 7,
    "start_time": "2024-09-05T19:05:52.826Z"
   },
   {
    "duration": 6,
    "start_time": "2024-09-05T19:06:38.177Z"
   },
   {
    "duration": 15,
    "start_time": "2024-09-05T19:09:19.402Z"
   },
   {
    "duration": 17,
    "start_time": "2024-09-05T19:13:51.153Z"
   },
   {
    "duration": 59,
    "start_time": "2024-09-05T19:13:59.962Z"
   },
   {
    "duration": 15,
    "start_time": "2024-09-05T19:14:02.042Z"
   },
   {
    "duration": 14,
    "start_time": "2024-09-05T19:14:07.319Z"
   },
   {
    "duration": 16,
    "start_time": "2024-09-05T19:14:14.029Z"
   },
   {
    "duration": 509,
    "start_time": "2024-09-05T19:15:03.865Z"
   },
   {
    "duration": 551,
    "start_time": "2024-09-05T19:15:24.570Z"
   },
   {
    "duration": 611,
    "start_time": "2024-09-05T19:15:54.064Z"
   },
   {
    "duration": 574,
    "start_time": "2024-09-05T19:16:13.599Z"
   },
   {
    "duration": 11,
    "start_time": "2024-09-05T19:17:14.533Z"
   },
   {
    "duration": 568,
    "start_time": "2024-09-05T19:17:29.391Z"
   },
   {
    "duration": 92,
    "start_time": "2024-09-05T19:18:00.092Z"
   },
   {
    "duration": 507,
    "start_time": "2024-09-05T19:18:57.178Z"
   },
   {
    "duration": 78,
    "start_time": "2024-09-05T19:20:25.858Z"
   },
   {
    "duration": 79,
    "start_time": "2024-09-05T19:20:45.776Z"
   },
   {
    "duration": 67,
    "start_time": "2024-09-05T19:21:03.601Z"
   },
   {
    "duration": 86,
    "start_time": "2024-09-05T19:21:06.311Z"
   },
   {
    "duration": 85,
    "start_time": "2024-09-05T19:24:42.903Z"
   },
   {
    "duration": 12,
    "start_time": "2024-09-05T19:24:51.292Z"
   },
   {
    "duration": 70,
    "start_time": "2024-09-05T19:25:10.140Z"
   },
   {
    "duration": 19,
    "start_time": "2024-09-05T19:25:19.921Z"
   },
   {
    "duration": 797,
    "start_time": "2024-09-05T19:25:27.176Z"
   },
   {
    "duration": 9,
    "start_time": "2024-09-05T19:25:35.439Z"
   },
   {
    "duration": 23,
    "start_time": "2024-09-05T19:25:42.842Z"
   },
   {
    "duration": 6,
    "start_time": "2024-09-05T19:25:49.612Z"
   },
   {
    "duration": 16,
    "start_time": "2024-09-05T19:25:53.201Z"
   },
   {
    "duration": 18,
    "start_time": "2024-09-05T19:26:36.681Z"
   },
   {
    "duration": 88,
    "start_time": "2024-09-05T19:26:43.799Z"
   },
   {
    "duration": 81,
    "start_time": "2024-09-05T19:26:58.411Z"
   },
   {
    "duration": 93,
    "start_time": "2024-09-05T19:28:28.290Z"
   },
   {
    "duration": 196,
    "start_time": "2024-09-05T19:30:33.813Z"
   },
   {
    "duration": 185,
    "start_time": "2024-09-05T19:30:51.852Z"
   },
   {
    "duration": 295,
    "start_time": "2024-09-05T19:31:03.158Z"
   },
   {
    "duration": 387,
    "start_time": "2024-09-05T19:31:09.758Z"
   },
   {
    "duration": 78,
    "start_time": "2024-09-05T19:31:23.867Z"
   },
   {
    "duration": 85,
    "start_time": "2024-09-05T19:33:43.780Z"
   },
   {
    "duration": 102,
    "start_time": "2024-09-05T20:12:02.375Z"
   },
   {
    "duration": 81,
    "start_time": "2024-09-05T20:12:53.860Z"
   },
   {
    "duration": 7,
    "start_time": "2024-09-05T20:25:26.958Z"
   },
   {
    "duration": 10,
    "start_time": "2024-09-05T20:25:34.731Z"
   },
   {
    "duration": 11,
    "start_time": "2024-09-05T20:29:43.547Z"
   },
   {
    "duration": 188,
    "start_time": "2024-09-05T20:30:32.387Z"
   },
   {
    "duration": 176,
    "start_time": "2024-09-05T20:31:34.882Z"
   },
   {
    "duration": 1473,
    "start_time": "2024-09-07T12:41:57.869Z"
   },
   {
    "duration": 277,
    "start_time": "2024-09-07T12:41:59.345Z"
   },
   {
    "duration": 3,
    "start_time": "2024-09-07T12:41:59.624Z"
   },
   {
    "duration": 29,
    "start_time": "2024-09-07T12:41:59.629Z"
   },
   {
    "duration": 56,
    "start_time": "2024-09-07T12:41:59.660Z"
   },
   {
    "duration": 228,
    "start_time": "2024-09-07T12:41:59.717Z"
   },
   {
    "duration": 288,
    "start_time": "2024-09-07T12:41:59.946Z"
   },
   {
    "duration": 130,
    "start_time": "2024-09-07T12:42:00.236Z"
   },
   {
    "duration": 209,
    "start_time": "2024-09-07T12:42:00.367Z"
   },
   {
    "duration": 323,
    "start_time": "2024-09-07T12:42:00.577Z"
   },
   {
    "duration": 5,
    "start_time": "2024-09-07T12:42:00.901Z"
   },
   {
    "duration": 474,
    "start_time": "2024-09-07T12:42:00.907Z"
   },
   {
    "duration": 284,
    "start_time": "2024-09-07T12:42:01.383Z"
   },
   {
    "duration": 202,
    "start_time": "2024-09-07T12:43:59.741Z"
   },
   {
    "duration": 174,
    "start_time": "2024-09-07T12:45:39.289Z"
   },
   {
    "duration": 4,
    "start_time": "2024-09-07T12:46:04.380Z"
   },
   {
    "duration": 5,
    "start_time": "2024-09-07T12:46:15.234Z"
   },
   {
    "duration": 10,
    "start_time": "2024-09-07T12:46:33.694Z"
   },
   {
    "duration": 3,
    "start_time": "2024-09-07T12:46:40.363Z"
   },
   {
    "duration": 50,
    "start_time": "2024-09-07T12:50:23.520Z"
   },
   {
    "duration": 20,
    "start_time": "2024-09-07T12:50:56.055Z"
   },
   {
    "duration": 245,
    "start_time": "2024-09-07T12:51:33.899Z"
   },
   {
    "duration": 7,
    "start_time": "2024-09-07T12:53:49.207Z"
   },
   {
    "duration": 7,
    "start_time": "2024-09-07T12:53:53.777Z"
   },
   {
    "duration": 126,
    "start_time": "2024-09-07T12:54:04.718Z"
   },
   {
    "duration": 4,
    "start_time": "2024-09-07T12:54:32.497Z"
   },
   {
    "duration": 13,
    "start_time": "2024-09-07T12:54:38.391Z"
   },
   {
    "duration": 5,
    "start_time": "2024-09-07T12:54:48.057Z"
   },
   {
    "duration": 215,
    "start_time": "2024-09-07T12:55:25.115Z"
   },
   {
    "duration": 129,
    "start_time": "2024-09-07T12:55:44.832Z"
   },
   {
    "duration": 125,
    "start_time": "2024-09-07T12:55:53.586Z"
   },
   {
    "duration": 127,
    "start_time": "2024-09-07T12:56:21.655Z"
   },
   {
    "duration": 4,
    "start_time": "2024-09-07T12:58:17.763Z"
   },
   {
    "duration": 4,
    "start_time": "2024-09-07T12:58:21.430Z"
   },
   {
    "duration": 105,
    "start_time": "2024-09-07T12:58:38.327Z"
   },
   {
    "duration": 128,
    "start_time": "2024-09-07T12:59:07.669Z"
   },
   {
    "duration": 137,
    "start_time": "2024-09-07T13:00:09.464Z"
   },
   {
    "duration": 3,
    "start_time": "2024-09-07T13:00:44.699Z"
   },
   {
    "duration": 89,
    "start_time": "2024-09-07T13:00:47.012Z"
   },
   {
    "duration": 2,
    "start_time": "2024-09-07T13:05:20.294Z"
   },
   {
    "duration": 10176,
    "start_time": "2024-09-07T13:05:43.878Z"
   },
   {
    "duration": 8416,
    "start_time": "2024-09-07T13:06:34.977Z"
   },
   {
    "duration": 1616,
    "start_time": "2024-09-07T13:07:10.910Z"
   },
   {
    "duration": 86,
    "start_time": "2024-09-07T13:07:12.528Z"
   },
   {
    "duration": 3,
    "start_time": "2024-09-07T13:07:12.616Z"
   },
   {
    "duration": 52,
    "start_time": "2024-09-07T13:07:12.620Z"
   },
   {
    "duration": 58,
    "start_time": "2024-09-07T13:07:12.674Z"
   },
   {
    "duration": 231,
    "start_time": "2024-09-07T13:07:12.733Z"
   },
   {
    "duration": 280,
    "start_time": "2024-09-07T13:07:12.966Z"
   },
   {
    "duration": 131,
    "start_time": "2024-09-07T13:07:13.248Z"
   },
   {
    "duration": 199,
    "start_time": "2024-09-07T13:07:13.381Z"
   },
   {
    "duration": 386,
    "start_time": "2024-09-07T13:07:13.582Z"
   },
   {
    "duration": 4,
    "start_time": "2024-09-07T13:07:13.969Z"
   },
   {
    "duration": 432,
    "start_time": "2024-09-07T13:07:13.975Z"
   },
   {
    "duration": 263,
    "start_time": "2024-09-07T13:07:14.409Z"
   },
   {
    "duration": 199,
    "start_time": "2024-09-07T13:07:14.674Z"
   },
   {
    "duration": 0,
    "start_time": "2024-09-07T13:07:14.875Z"
   },
   {
    "duration": 0,
    "start_time": "2024-09-07T13:07:14.877Z"
   },
   {
    "duration": 0,
    "start_time": "2024-09-07T13:07:14.878Z"
   },
   {
    "duration": 52,
    "start_time": "2024-09-07T13:07:22.653Z"
   },
   {
    "duration": 222,
    "start_time": "2024-09-07T13:07:27.804Z"
   },
   {
    "duration": 5,
    "start_time": "2024-09-07T13:07:35.802Z"
   },
   {
    "duration": 4,
    "start_time": "2024-09-07T13:07:36.062Z"
   },
   {
    "duration": 959,
    "start_time": "2024-09-07T13:07:36.365Z"
   },
   {
    "duration": 18045,
    "start_time": "2024-09-07T13:07:46.554Z"
   },
   {
    "duration": 28,
    "start_time": "2024-09-07T13:19:36.319Z"
   },
   {
    "duration": 3,
    "start_time": "2024-09-07T13:20:24.610Z"
   },
   {
    "duration": 1507,
    "start_time": "2024-09-07T13:20:34.119Z"
   },
   {
    "duration": 91,
    "start_time": "2024-09-07T13:20:35.628Z"
   },
   {
    "duration": 4,
    "start_time": "2024-09-07T13:20:35.720Z"
   },
   {
    "duration": 56,
    "start_time": "2024-09-07T13:20:35.725Z"
   },
   {
    "duration": 67,
    "start_time": "2024-09-07T13:20:35.783Z"
   },
   {
    "duration": 219,
    "start_time": "2024-09-07T13:20:35.852Z"
   },
   {
    "duration": 286,
    "start_time": "2024-09-07T13:20:36.072Z"
   },
   {
    "duration": 129,
    "start_time": "2024-09-07T13:20:36.360Z"
   },
   {
    "duration": 214,
    "start_time": "2024-09-07T13:20:36.491Z"
   },
   {
    "duration": 394,
    "start_time": "2024-09-07T13:20:36.707Z"
   },
   {
    "duration": 4,
    "start_time": "2024-09-07T13:20:37.103Z"
   },
   {
    "duration": 396,
    "start_time": "2024-09-07T13:20:37.108Z"
   },
   {
    "duration": 256,
    "start_time": "2024-09-07T13:20:37.505Z"
   },
   {
    "duration": 131,
    "start_time": "2024-09-07T13:20:37.764Z"
   },
   {
    "duration": 5,
    "start_time": "2024-09-07T13:20:37.896Z"
   },
   {
    "duration": 25,
    "start_time": "2024-09-07T13:20:37.903Z"
   },
   {
    "duration": 9161,
    "start_time": "2024-09-07T13:20:37.929Z"
   },
   {
    "duration": 33,
    "start_time": "2024-09-07T13:20:47.092Z"
   },
   {
    "duration": 47,
    "start_time": "2024-09-07T13:21:26.105Z"
   },
   {
    "duration": 3,
    "start_time": "2024-09-07T13:21:49.623Z"
   },
   {
    "duration": 18279,
    "start_time": "2024-09-07T13:21:50.255Z"
   },
   {
    "duration": 48,
    "start_time": "2024-09-07T13:23:18.655Z"
   },
   {
    "duration": 3,
    "start_time": "2024-09-07T13:23:35.581Z"
   },
   {
    "duration": 27137,
    "start_time": "2024-09-07T13:23:37.741Z"
   },
   {
    "duration": 12,
    "start_time": "2024-09-07T13:25:11.897Z"
   },
   {
    "duration": 5,
    "start_time": "2024-09-07T13:25:27.460Z"
   },
   {
    "duration": 6,
    "start_time": "2024-09-07T13:25:43.481Z"
   },
   {
    "duration": 72,
    "start_time": "2024-09-07T13:28:24.737Z"
   },
   {
    "duration": 5,
    "start_time": "2024-09-07T13:30:07.894Z"
   },
   {
    "duration": 10,
    "start_time": "2024-09-07T13:30:11.612Z"
   },
   {
    "duration": 13,
    "start_time": "2024-09-07T13:30:21.302Z"
   },
   {
    "duration": 13,
    "start_time": "2024-09-07T13:30:26.500Z"
   },
   {
    "duration": 12,
    "start_time": "2024-09-07T13:32:13.151Z"
   },
   {
    "duration": 50,
    "start_time": "2024-09-07T13:32:33.917Z"
   },
   {
    "duration": 12,
    "start_time": "2024-09-07T13:32:41.274Z"
   },
   {
    "duration": 9,
    "start_time": "2024-09-07T13:33:15.355Z"
   },
   {
    "duration": 14,
    "start_time": "2024-09-07T13:33:19.166Z"
   },
   {
    "duration": 10,
    "start_time": "2024-09-07T13:33:55.014Z"
   },
   {
    "duration": 13,
    "start_time": "2024-09-07T13:34:07.291Z"
   },
   {
    "duration": 54,
    "start_time": "2024-09-07T13:34:54.818Z"
   },
   {
    "duration": 9,
    "start_time": "2024-09-07T13:34:59.500Z"
   },
   {
    "duration": 14,
    "start_time": "2024-09-07T13:35:56.903Z"
   },
   {
    "duration": 24,
    "start_time": "2024-09-07T13:37:20.013Z"
   },
   {
    "duration": 105,
    "start_time": "2024-09-07T13:38:50.860Z"
   },
   {
    "duration": 150,
    "start_time": "2024-09-07T13:38:58.768Z"
   },
   {
    "duration": 10,
    "start_time": "2024-09-07T13:39:09.469Z"
   },
   {
    "duration": 173,
    "start_time": "2024-09-07T13:39:45.186Z"
   },
   {
    "duration": 13,
    "start_time": "2024-09-07T13:39:57.155Z"
   },
   {
    "duration": 2,
    "start_time": "2024-09-07T13:39:57.418Z"
   },
   {
    "duration": 13,
    "start_time": "2024-09-07T13:40:11.700Z"
   },
   {
    "duration": 157,
    "start_time": "2024-09-07T13:40:34.610Z"
   },
   {
    "duration": 12,
    "start_time": "2024-09-07T13:41:49.006Z"
   },
   {
    "duration": 2,
    "start_time": "2024-09-07T13:42:31.984Z"
   },
   {
    "duration": 5,
    "start_time": "2024-09-07T13:49:54.178Z"
   },
   {
    "duration": 54,
    "start_time": "2024-09-07T13:50:32.990Z"
   },
   {
    "duration": 56,
    "start_time": "2024-09-07T13:50:52.111Z"
   },
   {
    "duration": 186,
    "start_time": "2024-09-07T13:51:04.167Z"
   },
   {
    "duration": 1502,
    "start_time": "2024-09-07T13:51:29.016Z"
   },
   {
    "duration": 87,
    "start_time": "2024-09-07T13:51:30.520Z"
   },
   {
    "duration": 3,
    "start_time": "2024-09-07T13:51:30.609Z"
   },
   {
    "duration": 47,
    "start_time": "2024-09-07T13:51:30.613Z"
   },
   {
    "duration": 65,
    "start_time": "2024-09-07T13:51:30.662Z"
   },
   {
    "duration": 247,
    "start_time": "2024-09-07T13:51:30.730Z"
   },
   {
    "duration": 270,
    "start_time": "2024-09-07T13:51:30.979Z"
   },
   {
    "duration": 143,
    "start_time": "2024-09-07T13:51:31.251Z"
   },
   {
    "duration": 223,
    "start_time": "2024-09-07T13:51:31.395Z"
   },
   {
    "duration": 403,
    "start_time": "2024-09-07T13:51:31.619Z"
   },
   {
    "duration": 5,
    "start_time": "2024-09-07T13:51:32.024Z"
   },
   {
    "duration": 404,
    "start_time": "2024-09-07T13:51:32.030Z"
   },
   {
    "duration": 301,
    "start_time": "2024-09-07T13:51:32.435Z"
   },
   {
    "duration": 131,
    "start_time": "2024-09-07T13:51:32.739Z"
   },
   {
    "duration": 5,
    "start_time": "2024-09-07T13:51:32.872Z"
   },
   {
    "duration": 4,
    "start_time": "2024-09-07T13:51:32.878Z"
   },
   {
    "duration": 10486,
    "start_time": "2024-09-07T13:51:32.884Z"
   },
   {
    "duration": 31,
    "start_time": "2024-09-07T13:51:43.372Z"
   },
   {
    "duration": 329,
    "start_time": "2024-09-07T13:51:43.405Z"
   },
   {
    "duration": 0,
    "start_time": "2024-09-07T13:51:43.736Z"
   },
   {
    "duration": 0,
    "start_time": "2024-09-07T13:51:43.738Z"
   },
   {
    "duration": 111,
    "start_time": "2024-09-07T13:52:18.413Z"
   },
   {
    "duration": 85,
    "start_time": "2024-09-07T13:52:56.735Z"
   },
   {
    "duration": 84,
    "start_time": "2024-09-07T13:53:18.278Z"
   },
   {
    "duration": 80,
    "start_time": "2024-09-07T13:53:30.394Z"
   },
   {
    "duration": 99,
    "start_time": "2024-09-07T14:34:39.809Z"
   },
   {
    "duration": 18,
    "start_time": "2024-09-07T14:35:31.714Z"
   },
   {
    "duration": 16,
    "start_time": "2024-09-07T14:36:13.035Z"
   },
   {
    "duration": 63,
    "start_time": "2024-09-07T14:37:06.507Z"
   },
   {
    "duration": 48,
    "start_time": "2024-09-07T14:37:09.727Z"
   },
   {
    "duration": 34,
    "start_time": "2024-09-07T14:37:12.817Z"
   },
   {
    "duration": 28,
    "start_time": "2024-09-07T14:37:30.114Z"
   },
   {
    "duration": 15,
    "start_time": "2024-09-07T14:37:46.944Z"
   },
   {
    "duration": 18,
    "start_time": "2024-09-07T14:39:14.154Z"
   },
   {
    "duration": 49,
    "start_time": "2024-09-07T14:39:27.534Z"
   },
   {
    "duration": 18,
    "start_time": "2024-09-07T14:39:33.931Z"
   },
   {
    "duration": 4,
    "start_time": "2024-09-07T14:39:51.029Z"
   },
   {
    "duration": 4,
    "start_time": "2024-09-07T14:40:04.858Z"
   },
   {
    "duration": 43,
    "start_time": "2024-09-07T14:40:14.771Z"
   },
   {
    "duration": 31,
    "start_time": "2024-09-07T14:40:25.164Z"
   },
   {
    "duration": 16,
    "start_time": "2024-09-07T14:40:42.932Z"
   },
   {
    "duration": 8,
    "start_time": "2024-09-07T14:42:54.606Z"
   },
   {
    "duration": 5,
    "start_time": "2024-09-07T14:43:09.850Z"
   },
   {
    "duration": 5,
    "start_time": "2024-09-07T14:43:14.697Z"
   },
   {
    "duration": 40,
    "start_time": "2024-09-07T14:43:33.102Z"
   },
   {
    "duration": 14,
    "start_time": "2024-09-07T14:43:44.340Z"
   },
   {
    "duration": 16,
    "start_time": "2024-09-07T14:43:49.974Z"
   },
   {
    "duration": 5222,
    "start_time": "2024-09-07T14:45:48.883Z"
   },
   {
    "duration": 10,
    "start_time": "2024-09-07T14:47:07.978Z"
   },
   {
    "duration": 18,
    "start_time": "2024-09-07T14:47:12.125Z"
   },
   {
    "duration": 16,
    "start_time": "2024-09-07T14:47:43.481Z"
   },
   {
    "duration": 65,
    "start_time": "2024-09-07T14:49:05.183Z"
   },
   {
    "duration": 47,
    "start_time": "2024-09-07T14:49:13.561Z"
   },
   {
    "duration": 29,
    "start_time": "2024-09-07T14:49:31.003Z"
   },
   {
    "duration": 21,
    "start_time": "2024-09-07T14:49:38.925Z"
   },
   {
    "duration": 26,
    "start_time": "2024-09-07T14:50:01.089Z"
   },
   {
    "duration": 18,
    "start_time": "2024-09-07T14:50:32.242Z"
   },
   {
    "duration": 20,
    "start_time": "2024-09-07T14:51:16.518Z"
   },
   {
    "duration": 19,
    "start_time": "2024-09-07T14:51:29.517Z"
   },
   {
    "duration": 26,
    "start_time": "2024-09-07T14:51:36.204Z"
   },
   {
    "duration": 22,
    "start_time": "2024-09-07T14:51:40.887Z"
   },
   {
    "duration": 25,
    "start_time": "2024-09-07T14:51:44.003Z"
   },
   {
    "duration": 17,
    "start_time": "2024-09-07T14:51:55.520Z"
   },
   {
    "duration": 17,
    "start_time": "2024-09-07T14:54:12.320Z"
   },
   {
    "duration": 17,
    "start_time": "2024-09-07T14:54:46.177Z"
   },
   {
    "duration": 22,
    "start_time": "2024-09-07T14:54:57.540Z"
   },
   {
    "duration": 23,
    "start_time": "2024-09-07T14:55:07.558Z"
   },
   {
    "duration": 23,
    "start_time": "2024-09-07T14:55:23.391Z"
   },
   {
    "duration": 5,
    "start_time": "2024-09-07T14:57:27.936Z"
   },
   {
    "duration": 52,
    "start_time": "2024-09-07T14:57:54.715Z"
   },
   {
    "duration": 1577,
    "start_time": "2024-09-07T14:58:01.886Z"
   },
   {
    "duration": 87,
    "start_time": "2024-09-07T14:58:03.465Z"
   },
   {
    "duration": 4,
    "start_time": "2024-09-07T14:58:03.554Z"
   },
   {
    "duration": 82,
    "start_time": "2024-09-07T14:58:03.560Z"
   },
   {
    "duration": 60,
    "start_time": "2024-09-07T14:58:03.645Z"
   },
   {
    "duration": 230,
    "start_time": "2024-09-07T14:58:03.707Z"
   },
   {
    "duration": 273,
    "start_time": "2024-09-07T14:58:03.939Z"
   },
   {
    "duration": 141,
    "start_time": "2024-09-07T14:58:04.214Z"
   },
   {
    "duration": 217,
    "start_time": "2024-09-07T14:58:04.357Z"
   },
   {
    "duration": 383,
    "start_time": "2024-09-07T14:58:04.576Z"
   },
   {
    "duration": 5,
    "start_time": "2024-09-07T14:58:04.960Z"
   },
   {
    "duration": 387,
    "start_time": "2024-09-07T14:58:04.966Z"
   },
   {
    "duration": 281,
    "start_time": "2024-09-07T14:58:05.354Z"
   },
   {
    "duration": 144,
    "start_time": "2024-09-07T14:58:05.638Z"
   },
   {
    "duration": 5,
    "start_time": "2024-09-07T14:58:05.783Z"
   },
   {
    "duration": 8,
    "start_time": "2024-09-07T14:58:05.790Z"
   },
   {
    "duration": 9526,
    "start_time": "2024-09-07T14:58:05.799Z"
   },
   {
    "duration": 14,
    "start_time": "2024-09-07T14:58:15.327Z"
   },
   {
    "duration": 400,
    "start_time": "2024-09-07T14:58:15.343Z"
   },
   {
    "duration": 24,
    "start_time": "2024-09-07T14:58:15.744Z"
   },
   {
    "duration": 6,
    "start_time": "2024-09-07T14:58:15.769Z"
   },
   {
    "duration": 8,
    "start_time": "2024-09-07T15:02:21.247Z"
   },
   {
    "duration": 137,
    "start_time": "2024-09-07T15:04:01.082Z"
   },
   {
    "duration": 11,
    "start_time": "2024-09-07T15:04:41.032Z"
   },
   {
    "duration": 8,
    "start_time": "2024-09-07T15:04:50.108Z"
   },
   {
    "duration": 11,
    "start_time": "2024-09-07T15:04:56.118Z"
   },
   {
    "duration": 126,
    "start_time": "2024-09-07T15:05:11.988Z"
   },
   {
    "duration": 5,
    "start_time": "2024-09-07T15:05:46.469Z"
   },
   {
    "duration": 5,
    "start_time": "2024-09-07T15:07:19.940Z"
   },
   {
    "duration": 6,
    "start_time": "2024-09-07T15:08:57.324Z"
   },
   {
    "duration": 17,
    "start_time": "2024-09-07T15:09:19.005Z"
   },
   {
    "duration": 12,
    "start_time": "2024-09-07T15:09:38.507Z"
   },
   {
    "duration": 10,
    "start_time": "2024-09-07T15:09:45.274Z"
   },
   {
    "duration": 10,
    "start_time": "2024-09-07T15:09:48.963Z"
   },
   {
    "duration": 12,
    "start_time": "2024-09-07T15:10:09.204Z"
   },
   {
    "duration": 8,
    "start_time": "2024-09-07T15:16:26.604Z"
   },
   {
    "duration": 7,
    "start_time": "2024-09-07T15:16:44.811Z"
   },
   {
    "duration": 7,
    "start_time": "2024-09-07T15:16:49.014Z"
   },
   {
    "duration": 7,
    "start_time": "2024-09-07T15:16:57.371Z"
   },
   {
    "duration": 6,
    "start_time": "2024-09-07T15:17:01.919Z"
   },
   {
    "duration": 14,
    "start_time": "2024-09-07T15:21:18.470Z"
   },
   {
    "duration": 18,
    "start_time": "2024-09-07T15:21:21.897Z"
   },
   {
    "duration": 79,
    "start_time": "2024-09-07T15:21:42.313Z"
   },
   {
    "duration": 17,
    "start_time": "2024-09-07T15:21:51.963Z"
   },
   {
    "duration": 17,
    "start_time": "2024-09-07T15:22:05.378Z"
   },
   {
    "duration": 21,
    "start_time": "2024-09-07T15:22:35.013Z"
   },
   {
    "duration": 19,
    "start_time": "2024-09-07T15:22:41.401Z"
   },
   {
    "duration": 4062,
    "start_time": "2024-09-07T15:24:02.715Z"
   },
   {
    "duration": 12,
    "start_time": "2024-09-07T15:25:01.916Z"
   },
   {
    "duration": 8,
    "start_time": "2024-09-07T15:25:08.889Z"
   },
   {
    "duration": 12,
    "start_time": "2024-09-07T15:25:17.128Z"
   },
   {
    "duration": 13,
    "start_time": "2024-09-07T15:25:28.696Z"
   },
   {
    "duration": 14,
    "start_time": "2024-09-07T15:27:19.357Z"
   },
   {
    "duration": 16,
    "start_time": "2024-09-07T15:28:10.260Z"
   },
   {
    "duration": 100429,
    "start_time": "2024-09-07T15:28:31.834Z"
   },
   {
    "duration": 12,
    "start_time": "2024-09-07T15:37:21.145Z"
   },
   {
    "duration": 6,
    "start_time": "2024-09-07T15:37:27.167Z"
   },
   {
    "duration": 13,
    "start_time": "2024-09-07T15:38:04.423Z"
   },
   {
    "duration": 4,
    "start_time": "2024-09-07T15:38:55.995Z"
   },
   {
    "duration": 4,
    "start_time": "2024-09-07T15:39:21.204Z"
   },
   {
    "duration": 5,
    "start_time": "2024-09-07T15:39:30.668Z"
   },
   {
    "duration": 4,
    "start_time": "2024-09-07T15:39:38.895Z"
   },
   {
    "duration": 11,
    "start_time": "2024-09-07T15:41:02.866Z"
   },
   {
    "duration": 11,
    "start_time": "2024-09-07T15:41:05.456Z"
   },
   {
    "duration": 3,
    "start_time": "2024-09-07T15:41:09.887Z"
   },
   {
    "duration": 5,
    "start_time": "2024-09-07T15:43:58.500Z"
   },
   {
    "duration": 7,
    "start_time": "2024-09-07T15:44:44.083Z"
   },
   {
    "duration": 9,
    "start_time": "2024-09-07T15:44:48.074Z"
   },
   {
    "duration": 12,
    "start_time": "2024-09-07T15:45:18.554Z"
   },
   {
    "duration": 3,
    "start_time": "2024-09-07T15:46:52.264Z"
   },
   {
    "duration": 226,
    "start_time": "2024-09-07T15:46:52.522Z"
   },
   {
    "duration": 11,
    "start_time": "2024-09-07T15:47:10.329Z"
   },
   {
    "duration": 11,
    "start_time": "2024-09-07T15:47:29.968Z"
   },
   {
    "duration": 10,
    "start_time": "2024-09-07T15:48:31.075Z"
   },
   {
    "duration": 4,
    "start_time": "2024-09-07T15:48:37.838Z"
   },
   {
    "duration": 3,
    "start_time": "2024-09-07T15:48:55.029Z"
   },
   {
    "duration": 20,
    "start_time": "2024-09-07T15:48:55.329Z"
   },
   {
    "duration": 3,
    "start_time": "2024-09-07T15:49:38.645Z"
   },
   {
    "duration": 3,
    "start_time": "2024-09-07T15:50:02.672Z"
   },
   {
    "duration": 50,
    "start_time": "2024-09-07T15:50:02.888Z"
   },
   {
    "duration": 12,
    "start_time": "2024-09-07T15:50:40.745Z"
   },
   {
    "duration": 109,
    "start_time": "2024-09-07T15:50:54.027Z"
   },
   {
    "duration": 24,
    "start_time": "2024-09-07T15:51:17.620Z"
   },
   {
    "duration": 1625,
    "start_time": "2024-09-07T15:52:08.253Z"
   },
   {
    "duration": 91,
    "start_time": "2024-09-07T15:52:09.880Z"
   },
   {
    "duration": 3,
    "start_time": "2024-09-07T15:52:09.973Z"
   },
   {
    "duration": 46,
    "start_time": "2024-09-07T15:52:09.978Z"
   },
   {
    "duration": 4,
    "start_time": "2024-09-07T15:52:10.026Z"
   },
   {
    "duration": 59,
    "start_time": "2024-09-07T15:52:10.031Z"
   },
   {
    "duration": 262,
    "start_time": "2024-09-07T15:52:10.092Z"
   },
   {
    "duration": 299,
    "start_time": "2024-09-07T15:52:10.356Z"
   },
   {
    "duration": 161,
    "start_time": "2024-09-07T15:52:10.657Z"
   },
   {
    "duration": 233,
    "start_time": "2024-09-07T15:52:10.820Z"
   },
   {
    "duration": 426,
    "start_time": "2024-09-07T15:52:11.054Z"
   },
   {
    "duration": 4,
    "start_time": "2024-09-07T15:52:11.482Z"
   },
   {
    "duration": 468,
    "start_time": "2024-09-07T15:52:11.487Z"
   },
   {
    "duration": 343,
    "start_time": "2024-09-07T15:52:11.958Z"
   },
   {
    "duration": 142,
    "start_time": "2024-09-07T15:52:12.305Z"
   },
   {
    "duration": 4,
    "start_time": "2024-09-07T15:52:12.449Z"
   },
   {
    "duration": 3,
    "start_time": "2024-09-07T15:52:12.455Z"
   },
   {
    "duration": 9765,
    "start_time": "2024-09-07T15:52:12.459Z"
   },
   {
    "duration": 14,
    "start_time": "2024-09-07T15:52:22.226Z"
   },
   {
    "duration": 462,
    "start_time": "2024-09-07T15:52:22.241Z"
   },
   {
    "duration": 29,
    "start_time": "2024-09-07T15:52:22.705Z"
   },
   {
    "duration": 235,
    "start_time": "2024-09-07T15:52:22.736Z"
   },
   {
    "duration": 26,
    "start_time": "2024-09-07T15:52:22.972Z"
   },
   {
    "duration": 18,
    "start_time": "2024-09-07T15:52:23.000Z"
   },
   {
    "duration": 14,
    "start_time": "2024-09-07T15:52:23.020Z"
   },
   {
    "duration": 8,
    "start_time": "2024-09-07T23:21:49.224Z"
   },
   {
    "duration": 43,
    "start_time": "2024-09-07T23:21:49.792Z"
   },
   {
    "duration": 1740,
    "start_time": "2024-09-07T23:21:59.223Z"
   },
   {
    "duration": 242,
    "start_time": "2024-09-07T23:22:00.965Z"
   },
   {
    "duration": 3,
    "start_time": "2024-09-07T23:22:01.208Z"
   },
   {
    "duration": 134,
    "start_time": "2024-09-07T23:22:01.213Z"
   },
   {
    "duration": 0,
    "start_time": "2024-09-07T23:22:01.350Z"
   },
   {
    "duration": 1,
    "start_time": "2024-09-07T23:22:01.350Z"
   },
   {
    "duration": 0,
    "start_time": "2024-09-07T23:22:01.353Z"
   },
   {
    "duration": 0,
    "start_time": "2024-09-07T23:22:01.354Z"
   },
   {
    "duration": 0,
    "start_time": "2024-09-07T23:22:01.355Z"
   },
   {
    "duration": 0,
    "start_time": "2024-09-07T23:22:01.356Z"
   },
   {
    "duration": 0,
    "start_time": "2024-09-07T23:22:01.357Z"
   },
   {
    "duration": 0,
    "start_time": "2024-09-07T23:22:01.358Z"
   },
   {
    "duration": 0,
    "start_time": "2024-09-07T23:22:01.359Z"
   },
   {
    "duration": 0,
    "start_time": "2024-09-07T23:22:01.360Z"
   },
   {
    "duration": 0,
    "start_time": "2024-09-07T23:22:01.361Z"
   },
   {
    "duration": 0,
    "start_time": "2024-09-07T23:22:01.362Z"
   },
   {
    "duration": 0,
    "start_time": "2024-09-07T23:22:01.363Z"
   },
   {
    "duration": 0,
    "start_time": "2024-09-07T23:22:01.364Z"
   },
   {
    "duration": 0,
    "start_time": "2024-09-07T23:22:01.365Z"
   },
   {
    "duration": 0,
    "start_time": "2024-09-07T23:22:01.366Z"
   },
   {
    "duration": 0,
    "start_time": "2024-09-07T23:22:01.367Z"
   },
   {
    "duration": 0,
    "start_time": "2024-09-07T23:22:01.368Z"
   },
   {
    "duration": 0,
    "start_time": "2024-09-07T23:22:01.369Z"
   },
   {
    "duration": 0,
    "start_time": "2024-09-07T23:22:01.370Z"
   },
   {
    "duration": 0,
    "start_time": "2024-09-07T23:22:01.371Z"
   },
   {
    "duration": 1575,
    "start_time": "2024-09-07T23:22:24.057Z"
   },
   {
    "duration": 81,
    "start_time": "2024-09-07T23:22:25.635Z"
   },
   {
    "duration": 4,
    "start_time": "2024-09-07T23:22:25.717Z"
   },
   {
    "duration": 31,
    "start_time": "2024-09-07T23:22:25.722Z"
   },
   {
    "duration": 3,
    "start_time": "2024-09-07T23:22:25.755Z"
   },
   {
    "duration": 51,
    "start_time": "2024-09-07T23:22:25.759Z"
   },
   {
    "duration": 235,
    "start_time": "2024-09-07T23:22:25.811Z"
   },
   {
    "duration": 275,
    "start_time": "2024-09-07T23:22:26.048Z"
   },
   {
    "duration": 126,
    "start_time": "2024-09-07T23:22:26.325Z"
   },
   {
    "duration": 204,
    "start_time": "2024-09-07T23:22:26.453Z"
   },
   {
    "duration": 373,
    "start_time": "2024-09-07T23:22:26.658Z"
   },
   {
    "duration": 4,
    "start_time": "2024-09-07T23:22:27.033Z"
   },
   {
    "duration": 403,
    "start_time": "2024-09-07T23:22:27.053Z"
   },
   {
    "duration": 267,
    "start_time": "2024-09-07T23:22:27.458Z"
   },
   {
    "duration": 168,
    "start_time": "2024-09-07T23:22:27.727Z"
   },
   {
    "duration": 5,
    "start_time": "2024-09-07T23:22:27.897Z"
   },
   {
    "duration": 6,
    "start_time": "2024-09-07T23:22:27.903Z"
   },
   {
    "duration": 9140,
    "start_time": "2024-09-07T23:22:27.911Z"
   },
   {
    "duration": 14,
    "start_time": "2024-09-07T23:22:37.054Z"
   },
   {
    "duration": 438,
    "start_time": "2024-09-07T23:22:37.070Z"
   },
   {
    "duration": 23,
    "start_time": "2024-09-07T23:22:37.509Z"
   },
   {
    "duration": 142,
    "start_time": "2024-09-07T23:22:37.534Z"
   },
   {
    "duration": 11,
    "start_time": "2024-09-07T23:22:37.678Z"
   },
   {
    "duration": 12,
    "start_time": "2024-09-07T23:22:37.690Z"
   },
   {
    "duration": 15,
    "start_time": "2024-09-07T23:22:37.704Z"
   },
   {
    "duration": 45,
    "start_time": "2024-09-07T23:23:10.715Z"
   },
   {
    "duration": 1520,
    "start_time": "2024-09-07T23:23:19.129Z"
   },
   {
    "duration": 83,
    "start_time": "2024-09-07T23:23:20.651Z"
   },
   {
    "duration": 4,
    "start_time": "2024-09-07T23:23:20.736Z"
   },
   {
    "duration": 28,
    "start_time": "2024-09-07T23:23:20.741Z"
   },
   {
    "duration": 16,
    "start_time": "2024-09-07T23:23:20.772Z"
   },
   {
    "duration": 60,
    "start_time": "2024-09-07T23:23:20.789Z"
   },
   {
    "duration": 224,
    "start_time": "2024-09-07T23:23:20.850Z"
   },
   {
    "duration": 292,
    "start_time": "2024-09-07T23:23:21.075Z"
   },
   {
    "duration": 139,
    "start_time": "2024-09-07T23:23:21.370Z"
   },
   {
    "duration": 193,
    "start_time": "2024-09-07T23:23:21.511Z"
   },
   {
    "duration": 365,
    "start_time": "2024-09-07T23:23:21.706Z"
   },
   {
    "duration": 4,
    "start_time": "2024-09-07T23:23:22.072Z"
   },
   {
    "duration": 377,
    "start_time": "2024-09-07T23:23:22.077Z"
   },
   {
    "duration": 253,
    "start_time": "2024-09-07T23:23:22.456Z"
   },
   {
    "duration": 124,
    "start_time": "2024-09-07T23:23:22.711Z"
   },
   {
    "duration": 5,
    "start_time": "2024-09-07T23:23:22.836Z"
   },
   {
    "duration": 12,
    "start_time": "2024-09-07T23:23:22.842Z"
   },
   {
    "duration": 8956,
    "start_time": "2024-09-07T23:23:22.855Z"
   },
   {
    "duration": 12,
    "start_time": "2024-09-07T23:23:31.813Z"
   },
   {
    "duration": 393,
    "start_time": "2024-09-07T23:23:31.853Z"
   },
   {
    "duration": 23,
    "start_time": "2024-09-07T23:23:32.248Z"
   },
   {
    "duration": 126,
    "start_time": "2024-09-07T23:23:32.272Z"
   },
   {
    "duration": 10,
    "start_time": "2024-09-07T23:23:32.401Z"
   },
   {
    "duration": 37,
    "start_time": "2024-09-07T23:23:32.412Z"
   },
   {
    "duration": 12,
    "start_time": "2024-09-07T23:23:32.450Z"
   },
   {
    "duration": 7,
    "start_time": "2024-09-07T23:32:29.523Z"
   },
   {
    "duration": 1010,
    "start_time": "2024-09-07T23:32:34.529Z"
   },
   {
    "duration": 5,
    "start_time": "2024-09-07T23:32:41.839Z"
   },
   {
    "duration": 4,
    "start_time": "2024-09-07T23:32:49.918Z"
   },
   {
    "duration": 990,
    "start_time": "2024-09-07T23:32:50.636Z"
   },
   {
    "duration": 3,
    "start_time": "2024-09-07T23:32:56.599Z"
   },
   {
    "duration": 4,
    "start_time": "2024-09-07T23:33:04.297Z"
   },
   {
    "duration": 3,
    "start_time": "2024-09-07T23:33:32.911Z"
   },
   {
    "duration": 4,
    "start_time": "2024-09-07T23:34:00.461Z"
   },
   {
    "duration": 7,
    "start_time": "2024-09-07T23:34:21.217Z"
   },
   {
    "duration": 15,
    "start_time": "2024-09-07T23:34:27.145Z"
   },
   {
    "duration": 12,
    "start_time": "2024-09-07T23:34:41.320Z"
   },
   {
    "duration": 8,
    "start_time": "2024-09-07T23:34:48.235Z"
   },
   {
    "duration": 4,
    "start_time": "2024-09-07T23:34:49.139Z"
   },
   {
    "duration": 81,
    "start_time": "2024-09-07T23:36:51.757Z"
   },
   {
    "duration": 68,
    "start_time": "2024-09-07T23:37:07.881Z"
   },
   {
    "duration": 88,
    "start_time": "2024-09-07T23:37:15.192Z"
   },
   {
    "duration": 11,
    "start_time": "2024-09-07T23:37:28.635Z"
   },
   {
    "duration": 4,
    "start_time": "2024-09-07T23:37:38.650Z"
   },
   {
    "duration": 4,
    "start_time": "2024-09-07T23:37:55.086Z"
   },
   {
    "duration": 4,
    "start_time": "2024-09-07T23:37:58.764Z"
   },
   {
    "duration": 13,
    "start_time": "2024-09-07T23:39:12.663Z"
   },
   {
    "duration": 10,
    "start_time": "2024-09-07T23:39:27.668Z"
   },
   {
    "duration": 5,
    "start_time": "2024-09-07T23:39:39.358Z"
   },
   {
    "duration": 4,
    "start_time": "2024-09-07T23:40:40.134Z"
   },
   {
    "duration": 4,
    "start_time": "2024-09-07T23:41:00.490Z"
   },
   {
    "duration": 4,
    "start_time": "2024-09-07T23:41:56.021Z"
   },
   {
    "duration": 11,
    "start_time": "2024-09-07T23:42:08.554Z"
   },
   {
    "duration": 4,
    "start_time": "2024-09-07T23:42:13.574Z"
   },
   {
    "duration": 7,
    "start_time": "2024-09-07T23:43:14.188Z"
   },
   {
    "duration": 12,
    "start_time": "2024-09-07T23:44:14.213Z"
   },
   {
    "duration": 11,
    "start_time": "2024-09-07T23:44:20.471Z"
   },
   {
    "duration": 11,
    "start_time": "2024-09-07T23:44:29.206Z"
   },
   {
    "duration": 12,
    "start_time": "2024-09-07T23:44:30.152Z"
   },
   {
    "duration": 9,
    "start_time": "2024-09-07T23:44:43.112Z"
   },
   {
    "duration": 4,
    "start_time": "2024-09-07T23:44:43.459Z"
   },
   {
    "duration": 4,
    "start_time": "2024-09-07T23:44:49.468Z"
   },
   {
    "duration": 5,
    "start_time": "2024-09-07T23:45:08.742Z"
   },
   {
    "duration": 7,
    "start_time": "2024-09-07T23:45:31.319Z"
   },
   {
    "duration": 11,
    "start_time": "2024-09-07T23:45:43.113Z"
   },
   {
    "duration": 8,
    "start_time": "2024-09-07T23:45:50.629Z"
   },
   {
    "duration": 7,
    "start_time": "2024-09-07T23:45:56.279Z"
   },
   {
    "duration": 7,
    "start_time": "2024-09-07T23:46:56.728Z"
   },
   {
    "duration": 13,
    "start_time": "2024-09-07T23:47:01.734Z"
   },
   {
    "duration": 7,
    "start_time": "2024-09-07T23:47:05.692Z"
   },
   {
    "duration": 14,
    "start_time": "2024-09-07T23:47:41.248Z"
   },
   {
    "duration": 19,
    "start_time": "2024-09-07T23:47:45.019Z"
   },
   {
    "duration": 204,
    "start_time": "2024-09-07T23:47:59.204Z"
   },
   {
    "duration": 8,
    "start_time": "2024-09-07T23:50:50.493Z"
   },
   {
    "duration": 4,
    "start_time": "2024-09-07T23:51:02.562Z"
   },
   {
    "duration": 4,
    "start_time": "2024-09-07T23:51:31.346Z"
   },
   {
    "duration": 4,
    "start_time": "2024-09-07T23:51:39.834Z"
   },
   {
    "duration": 4,
    "start_time": "2024-09-07T23:51:55.781Z"
   },
   {
    "duration": 4,
    "start_time": "2024-09-07T23:52:19.743Z"
   },
   {
    "duration": 3,
    "start_time": "2024-09-07T23:54:32.847Z"
   },
   {
    "duration": 4,
    "start_time": "2024-09-07T23:54:43.107Z"
   },
   {
    "duration": 2,
    "start_time": "2024-09-07T23:56:31.912Z"
   },
   {
    "duration": 2,
    "start_time": "2024-09-07T23:56:55.380Z"
   },
   {
    "duration": 5,
    "start_time": "2024-09-07T23:56:58.542Z"
   },
   {
    "duration": 4,
    "start_time": "2024-09-07T23:57:12.455Z"
   },
   {
    "duration": 4,
    "start_time": "2024-09-07T23:57:34.771Z"
   },
   {
    "duration": 3,
    "start_time": "2024-09-07T23:57:40.644Z"
   },
   {
    "duration": 4,
    "start_time": "2024-09-07T23:58:24.180Z"
   },
   {
    "duration": 4,
    "start_time": "2024-09-07T23:58:42.819Z"
   },
   {
    "duration": 4,
    "start_time": "2024-09-07T23:58:52.188Z"
   },
   {
    "duration": 4,
    "start_time": "2024-09-07T23:58:55.874Z"
   },
   {
    "duration": 67,
    "start_time": "2024-09-07T23:59:32.637Z"
   },
   {
    "duration": 4,
    "start_time": "2024-09-07T23:59:34.439Z"
   },
   {
    "duration": 4,
    "start_time": "2024-09-07T23:59:43.477Z"
   },
   {
    "duration": 3,
    "start_time": "2024-09-08T00:01:04.724Z"
   },
   {
    "duration": 3,
    "start_time": "2024-09-08T00:01:13.688Z"
   },
   {
    "duration": 3,
    "start_time": "2024-09-08T00:01:16.944Z"
   },
   {
    "duration": 4,
    "start_time": "2024-09-08T00:01:21.856Z"
   },
   {
    "duration": 4,
    "start_time": "2024-09-08T00:04:18.278Z"
   },
   {
    "duration": 3,
    "start_time": "2024-09-08T00:04:26.449Z"
   },
   {
    "duration": 4,
    "start_time": "2024-09-08T00:04:28.734Z"
   },
   {
    "duration": 5,
    "start_time": "2024-09-08T00:04:42.699Z"
   },
   {
    "duration": 15,
    "start_time": "2024-09-08T00:05:57.667Z"
   },
   {
    "duration": 11,
    "start_time": "2024-09-08T00:06:08.350Z"
   },
   {
    "duration": 5,
    "start_time": "2024-09-08T00:07:32.158Z"
   },
   {
    "duration": 4,
    "start_time": "2024-09-08T00:07:50.811Z"
   },
   {
    "duration": 1788,
    "start_time": "2024-09-08T11:58:34.041Z"
   },
   {
    "duration": 296,
    "start_time": "2024-09-08T11:58:35.831Z"
   },
   {
    "duration": 4,
    "start_time": "2024-09-08T11:58:36.128Z"
   },
   {
    "duration": 38,
    "start_time": "2024-09-08T11:58:36.133Z"
   },
   {
    "duration": 12,
    "start_time": "2024-09-08T11:58:36.173Z"
   },
   {
    "duration": 70,
    "start_time": "2024-09-08T11:58:36.187Z"
   },
   {
    "duration": 240,
    "start_time": "2024-09-08T11:58:36.259Z"
   },
   {
    "duration": 297,
    "start_time": "2024-09-08T11:58:36.505Z"
   },
   {
    "duration": 147,
    "start_time": "2024-09-08T11:58:36.803Z"
   },
   {
    "duration": 222,
    "start_time": "2024-09-08T11:58:36.952Z"
   },
   {
    "duration": 397,
    "start_time": "2024-09-08T11:58:37.175Z"
   },
   {
    "duration": 5,
    "start_time": "2024-09-08T11:58:37.573Z"
   },
   {
    "duration": 404,
    "start_time": "2024-09-08T11:58:37.579Z"
   },
   {
    "duration": 278,
    "start_time": "2024-09-08T11:58:37.986Z"
   },
   {
    "duration": 245,
    "start_time": "2024-09-08T11:58:38.265Z"
   },
   {
    "duration": 5,
    "start_time": "2024-09-08T11:58:38.511Z"
   },
   {
    "duration": 8,
    "start_time": "2024-09-08T11:58:38.517Z"
   },
   {
    "duration": 9677,
    "start_time": "2024-09-08T11:58:38.526Z"
   },
   {
    "duration": 14,
    "start_time": "2024-09-08T11:58:48.205Z"
   },
   {
    "duration": 418,
    "start_time": "2024-09-08T11:58:48.221Z"
   },
   {
    "duration": 21,
    "start_time": "2024-09-08T11:58:48.641Z"
   },
   {
    "duration": 134,
    "start_time": "2024-09-08T11:58:48.664Z"
   },
   {
    "duration": 32,
    "start_time": "2024-09-08T11:58:48.800Z"
   },
   {
    "duration": 0,
    "start_time": "2024-09-08T11:58:48.833Z"
   },
   {
    "duration": 0,
    "start_time": "2024-09-08T11:58:48.834Z"
   },
   {
    "duration": 0,
    "start_time": "2024-09-08T11:58:48.835Z"
   },
   {
    "duration": 0,
    "start_time": "2024-09-08T11:58:48.836Z"
   },
   {
    "duration": 0,
    "start_time": "2024-09-08T11:58:48.837Z"
   },
   {
    "duration": 0,
    "start_time": "2024-09-08T11:58:48.838Z"
   },
   {
    "duration": 0,
    "start_time": "2024-09-08T11:58:48.839Z"
   },
   {
    "duration": 0,
    "start_time": "2024-09-08T11:58:48.840Z"
   },
   {
    "duration": 0,
    "start_time": "2024-09-08T11:58:48.841Z"
   },
   {
    "duration": 0,
    "start_time": "2024-09-08T11:58:48.842Z"
   },
   {
    "duration": 12,
    "start_time": "2024-09-08T11:59:09.369Z"
   },
   {
    "duration": 9,
    "start_time": "2024-09-08T11:59:09.847Z"
   },
   {
    "duration": 5,
    "start_time": "2024-09-08T11:59:12.297Z"
   },
   {
    "duration": 4,
    "start_time": "2024-09-08T11:59:26.853Z"
   },
   {
    "duration": 4,
    "start_time": "2024-09-08T11:59:53.977Z"
   },
   {
    "duration": 6,
    "start_time": "2024-09-08T12:00:25.348Z"
   },
   {
    "duration": 14,
    "start_time": "2024-09-08T12:01:15.012Z"
   },
   {
    "duration": 8,
    "start_time": "2024-09-08T12:01:20.648Z"
   },
   {
    "duration": 5,
    "start_time": "2024-09-08T12:01:24.095Z"
   },
   {
    "duration": 4,
    "start_time": "2024-09-08T12:03:13.155Z"
   },
   {
    "duration": 3,
    "start_time": "2024-09-08T12:03:49.355Z"
   },
   {
    "duration": 5,
    "start_time": "2024-09-08T12:04:13.978Z"
   },
   {
    "duration": 4,
    "start_time": "2024-09-08T12:04:21.566Z"
   },
   {
    "duration": 4,
    "start_time": "2024-09-08T12:04:37.190Z"
   },
   {
    "duration": 5,
    "start_time": "2024-09-08T12:04:39.266Z"
   },
   {
    "duration": 5,
    "start_time": "2024-09-08T12:04:54.516Z"
   },
   {
    "duration": 4,
    "start_time": "2024-09-08T12:06:19.978Z"
   },
   {
    "duration": 13,
    "start_time": "2024-09-08T12:06:29.845Z"
   },
   {
    "duration": 13,
    "start_time": "2024-09-08T12:06:57.677Z"
   },
   {
    "duration": 12,
    "start_time": "2024-09-08T12:07:06.422Z"
   },
   {
    "duration": 5,
    "start_time": "2024-09-08T12:08:16.905Z"
   },
   {
    "duration": 5,
    "start_time": "2024-09-08T12:09:23.094Z"
   },
   {
    "duration": 4,
    "start_time": "2024-09-08T12:09:47.483Z"
   },
   {
    "duration": 3,
    "start_time": "2024-09-08T12:10:57.118Z"
   },
   {
    "duration": 4,
    "start_time": "2024-09-08T12:11:28.345Z"
   },
   {
    "duration": 5,
    "start_time": "2024-09-08T12:11:35.033Z"
   },
   {
    "duration": 4,
    "start_time": "2024-09-08T12:11:46.453Z"
   },
   {
    "duration": 53,
    "start_time": "2024-09-08T12:11:51.654Z"
   },
   {
    "duration": 5,
    "start_time": "2024-09-08T12:12:05.860Z"
   },
   {
    "duration": 4,
    "start_time": "2024-09-08T12:13:32.136Z"
   },
   {
    "duration": 5,
    "start_time": "2024-09-08T12:13:48.817Z"
   },
   {
    "duration": 5,
    "start_time": "2024-09-08T12:14:36.637Z"
   },
   {
    "duration": 5,
    "start_time": "2024-09-08T12:14:47.356Z"
   },
   {
    "duration": 6,
    "start_time": "2024-09-08T12:14:59.916Z"
   },
   {
    "duration": 4,
    "start_time": "2024-09-08T12:15:52.500Z"
   },
   {
    "duration": 53,
    "start_time": "2024-09-08T12:16:18.754Z"
   },
   {
    "duration": 42,
    "start_time": "2024-09-08T12:16:22.818Z"
   },
   {
    "duration": 43,
    "start_time": "2024-09-08T12:16:31.834Z"
   },
   {
    "duration": 8,
    "start_time": "2024-09-08T12:16:54.322Z"
   },
   {
    "duration": 8,
    "start_time": "2024-09-08T12:17:19.024Z"
   },
   {
    "duration": 11,
    "start_time": "2024-09-08T12:17:34.986Z"
   },
   {
    "duration": 7,
    "start_time": "2024-09-08T12:17:43.875Z"
   },
   {
    "duration": 7,
    "start_time": "2024-09-08T12:17:50.943Z"
   },
   {
    "duration": 48,
    "start_time": "2024-09-08T12:18:00.493Z"
   },
   {
    "duration": 5,
    "start_time": "2024-09-08T12:18:19.834Z"
   },
   {
    "duration": 93,
    "start_time": "2024-09-08T12:19:07.335Z"
   },
   {
    "duration": 43,
    "start_time": "2024-09-08T12:19:38.517Z"
   },
   {
    "duration": 44,
    "start_time": "2024-09-08T12:19:58.379Z"
   },
   {
    "duration": 46,
    "start_time": "2024-09-08T12:20:04.933Z"
   },
   {
    "duration": 46,
    "start_time": "2024-09-08T12:21:08.810Z"
   },
   {
    "duration": 59,
    "start_time": "2024-09-08T12:21:39.322Z"
   },
   {
    "duration": 62,
    "start_time": "2024-09-08T12:22:26.648Z"
   },
   {
    "duration": 54,
    "start_time": "2024-09-08T12:22:54.270Z"
   },
   {
    "duration": 165,
    "start_time": "2024-09-08T12:23:53.786Z"
   },
   {
    "duration": 3461,
    "start_time": "2024-09-08T12:24:36.929Z"
   },
   {
    "duration": 4,
    "start_time": "2024-09-08T12:27:04.582Z"
   },
   {
    "duration": 12,
    "start_time": "2024-09-08T12:27:23.186Z"
   },
   {
    "duration": 5,
    "start_time": "2024-09-08T12:29:01.685Z"
   },
   {
    "duration": 5,
    "start_time": "2024-09-08T12:30:42.334Z"
   },
   {
    "duration": 4,
    "start_time": "2024-09-08T12:35:37.333Z"
   },
   {
    "duration": 6,
    "start_time": "2024-09-08T12:35:40.686Z"
   },
   {
    "duration": 4,
    "start_time": "2024-09-08T12:35:44.790Z"
   },
   {
    "duration": 3,
    "start_time": "2024-09-08T12:35:53.801Z"
   },
   {
    "duration": 5,
    "start_time": "2024-09-08T12:36:05.223Z"
   },
   {
    "duration": 4,
    "start_time": "2024-09-08T12:36:05.607Z"
   },
   {
    "duration": 4,
    "start_time": "2024-09-08T12:37:00.117Z"
   },
   {
    "duration": 4,
    "start_time": "2024-09-08T12:37:00.780Z"
   },
   {
    "duration": 6,
    "start_time": "2024-09-08T12:37:24.790Z"
   },
   {
    "duration": 828,
    "start_time": "2024-09-08T12:37:32.880Z"
   },
   {
    "duration": 5,
    "start_time": "2024-09-08T12:37:37.428Z"
   },
   {
    "duration": 4,
    "start_time": "2024-09-08T12:37:43.825Z"
   },
   {
    "duration": 12,
    "start_time": "2024-09-08T12:39:02.285Z"
   },
   {
    "duration": 13,
    "start_time": "2024-09-08T12:39:59.919Z"
   },
   {
    "duration": 4,
    "start_time": "2024-09-08T12:40:09.574Z"
   },
   {
    "duration": 4,
    "start_time": "2024-09-08T12:40:12.473Z"
   },
   {
    "duration": 5,
    "start_time": "2024-09-08T12:43:22.979Z"
   },
   {
    "duration": 4,
    "start_time": "2024-09-08T12:43:36.354Z"
   },
   {
    "duration": 4,
    "start_time": "2024-09-08T12:44:59.811Z"
   },
   {
    "duration": 5,
    "start_time": "2024-09-08T12:47:56.533Z"
   },
   {
    "duration": 28,
    "start_time": "2024-09-08T12:48:29.028Z"
   },
   {
    "duration": 5,
    "start_time": "2024-09-08T12:49:08.827Z"
   },
   {
    "duration": 5,
    "start_time": "2024-09-08T12:49:32.731Z"
   },
   {
    "duration": 1559,
    "start_time": "2024-09-08T12:50:05.205Z"
   },
   {
    "duration": 88,
    "start_time": "2024-09-08T12:50:06.765Z"
   },
   {
    "duration": 3,
    "start_time": "2024-09-08T12:50:06.854Z"
   },
   {
    "duration": 31,
    "start_time": "2024-09-08T12:50:06.858Z"
   },
   {
    "duration": 2,
    "start_time": "2024-09-08T12:50:06.892Z"
   },
   {
    "duration": 55,
    "start_time": "2024-09-08T12:50:06.904Z"
   },
   {
    "duration": 246,
    "start_time": "2024-09-08T12:50:06.961Z"
   },
   {
    "duration": 297,
    "start_time": "2024-09-08T12:50:07.209Z"
   },
   {
    "duration": 142,
    "start_time": "2024-09-08T12:50:07.507Z"
   },
   {
    "duration": 215,
    "start_time": "2024-09-08T12:50:07.650Z"
   },
   {
    "duration": 381,
    "start_time": "2024-09-08T12:50:07.866Z"
   },
   {
    "duration": 5,
    "start_time": "2024-09-08T12:50:08.249Z"
   },
   {
    "duration": 381,
    "start_time": "2024-09-08T12:50:08.255Z"
   },
   {
    "duration": 272,
    "start_time": "2024-09-08T12:50:08.639Z"
   },
   {
    "duration": 132,
    "start_time": "2024-09-08T12:50:08.913Z"
   },
   {
    "duration": 5,
    "start_time": "2024-09-08T12:50:09.046Z"
   },
   {
    "duration": 10,
    "start_time": "2024-09-08T12:50:09.052Z"
   },
   {
    "duration": 9357,
    "start_time": "2024-09-08T12:50:09.064Z"
   },
   {
    "duration": 13,
    "start_time": "2024-09-08T12:50:18.423Z"
   },
   {
    "duration": 417,
    "start_time": "2024-09-08T12:50:18.438Z"
   },
   {
    "duration": 22,
    "start_time": "2024-09-08T12:50:18.856Z"
   },
   {
    "duration": 149,
    "start_time": "2024-09-08T12:50:18.879Z"
   },
   {
    "duration": 3,
    "start_time": "2024-09-08T12:50:19.029Z"
   },
   {
    "duration": 5,
    "start_time": "2024-09-08T12:50:19.033Z"
   },
   {
    "duration": 16,
    "start_time": "2024-09-08T12:50:19.039Z"
   },
   {
    "duration": 0,
    "start_time": "2024-09-08T12:50:19.056Z"
   },
   {
    "duration": 0,
    "start_time": "2024-09-08T12:50:19.058Z"
   },
   {
    "duration": 0,
    "start_time": "2024-09-08T12:50:19.059Z"
   },
   {
    "duration": 0,
    "start_time": "2024-09-08T12:50:19.060Z"
   },
   {
    "duration": 0,
    "start_time": "2024-09-08T12:50:19.061Z"
   },
   {
    "duration": 4,
    "start_time": "2024-09-08T12:50:44.351Z"
   },
   {
    "duration": 5,
    "start_time": "2024-09-08T12:51:10.978Z"
   },
   {
    "duration": 43,
    "start_time": "2024-09-08T12:51:16.861Z"
   },
   {
    "duration": 65,
    "start_time": "2024-09-08T12:51:21.505Z"
   },
   {
    "duration": 5,
    "start_time": "2024-09-08T12:51:41.130Z"
   },
   {
    "duration": 4,
    "start_time": "2024-09-08T12:51:41.544Z"
   },
   {
    "duration": 71,
    "start_time": "2024-09-08T12:51:42.014Z"
   },
   {
    "duration": 91,
    "start_time": "2024-09-08T12:52:06.946Z"
   },
   {
    "duration": 48,
    "start_time": "2024-09-08T12:52:12.638Z"
   },
   {
    "duration": 5,
    "start_time": "2024-09-08T12:53:56.937Z"
   },
   {
    "duration": 4,
    "start_time": "2024-09-08T12:53:57.191Z"
   },
   {
    "duration": 216,
    "start_time": "2024-09-08T12:53:57.534Z"
   },
   {
    "duration": 28,
    "start_time": "2024-09-08T12:54:41.685Z"
   },
   {
    "duration": 4,
    "start_time": "2024-09-08T12:54:51.382Z"
   },
   {
    "duration": 5,
    "start_time": "2024-09-08T12:55:02.514Z"
   },
   {
    "duration": 5,
    "start_time": "2024-09-08T12:57:57.724Z"
   },
   {
    "duration": 3,
    "start_time": "2024-09-08T12:57:58.011Z"
   },
   {
    "duration": 50,
    "start_time": "2024-09-08T12:57:58.387Z"
   },
   {
    "duration": 48,
    "start_time": "2024-09-08T12:58:15.573Z"
   },
   {
    "duration": 57,
    "start_time": "2024-09-08T12:58:40.141Z"
   },
   {
    "duration": 66,
    "start_time": "2024-09-08T12:59:04.656Z"
   },
   {
    "duration": 64,
    "start_time": "2024-09-08T12:59:22.407Z"
   },
   {
    "duration": 6,
    "start_time": "2024-09-08T12:59:56.906Z"
   },
   {
    "duration": 4,
    "start_time": "2024-09-08T12:59:57.189Z"
   },
   {
    "duration": 225,
    "start_time": "2024-09-08T13:00:02.439Z"
   },
   {
    "duration": 24,
    "start_time": "2024-09-08T13:00:44.570Z"
   },
   {
    "duration": 11,
    "start_time": "2024-09-08T13:00:56.872Z"
   },
   {
    "duration": 43,
    "start_time": "2024-09-08T13:01:31.484Z"
   },
   {
    "duration": 32,
    "start_time": "2024-09-08T13:02:17.111Z"
   },
   {
    "duration": 23,
    "start_time": "2024-09-08T13:02:24.344Z"
   },
   {
    "duration": 15,
    "start_time": "2024-09-08T13:02:34.427Z"
   },
   {
    "duration": 15,
    "start_time": "2024-09-08T13:02:47.234Z"
   },
   {
    "duration": 33,
    "start_time": "2024-09-08T13:02:54.943Z"
   },
   {
    "duration": 33,
    "start_time": "2024-09-08T13:03:07.484Z"
   },
   {
    "duration": 16,
    "start_time": "2024-09-08T13:03:15.131Z"
   },
   {
    "duration": 32,
    "start_time": "2024-09-08T13:03:22.877Z"
   },
   {
    "duration": 31,
    "start_time": "2024-09-08T13:03:28.032Z"
   },
   {
    "duration": 15,
    "start_time": "2024-09-08T13:03:43.607Z"
   },
   {
    "duration": 5,
    "start_time": "2024-09-08T13:05:17.039Z"
   },
   {
    "duration": 4,
    "start_time": "2024-09-08T13:05:17.278Z"
   },
   {
    "duration": 227,
    "start_time": "2024-09-08T13:05:18.114Z"
   },
   {
    "duration": 7,
    "start_time": "2024-09-08T13:05:25.846Z"
   },
   {
    "duration": 4,
    "start_time": "2024-09-08T13:05:26.840Z"
   },
   {
    "duration": 227,
    "start_time": "2024-09-08T13:05:27.025Z"
   },
   {
    "duration": 4,
    "start_time": "2024-09-08T13:05:52.939Z"
   },
   {
    "duration": 5,
    "start_time": "2024-09-08T13:06:24.983Z"
   },
   {
    "duration": 4,
    "start_time": "2024-09-08T13:06:38.755Z"
   },
   {
    "duration": 4,
    "start_time": "2024-09-08T13:06:47.838Z"
   },
   {
    "duration": 4,
    "start_time": "2024-09-08T13:07:14.350Z"
   },
   {
    "duration": 4,
    "start_time": "2024-09-08T13:07:46.779Z"
   },
   {
    "duration": 3,
    "start_time": "2024-09-08T13:07:49.948Z"
   },
   {
    "duration": 4,
    "start_time": "2024-09-08T13:07:58.820Z"
   },
   {
    "duration": 4,
    "start_time": "2024-09-08T13:07:59.230Z"
   },
   {
    "duration": 43,
    "start_time": "2024-09-08T13:07:59.712Z"
   },
   {
    "duration": 4,
    "start_time": "2024-09-08T13:08:05.962Z"
   },
   {
    "duration": 6,
    "start_time": "2024-09-08T13:08:51.142Z"
   },
   {
    "duration": 5,
    "start_time": "2024-09-08T13:09:36.985Z"
   },
   {
    "duration": 3,
    "start_time": "2024-09-08T13:09:37.307Z"
   },
   {
    "duration": 43,
    "start_time": "2024-09-08T13:09:37.648Z"
   },
   {
    "duration": 12,
    "start_time": "2024-09-08T13:09:38.038Z"
   },
   {
    "duration": 48,
    "start_time": "2024-09-08T13:09:46.422Z"
   },
   {
    "duration": 46,
    "start_time": "2024-09-08T13:09:57.171Z"
   },
   {
    "duration": 53,
    "start_time": "2024-09-08T13:10:36.407Z"
   },
   {
    "duration": 55,
    "start_time": "2024-09-08T13:10:42.143Z"
   },
   {
    "duration": 54,
    "start_time": "2024-09-08T13:12:00.627Z"
   },
   {
    "duration": 69,
    "start_time": "2024-09-08T13:12:05.336Z"
   },
   {
    "duration": 4,
    "start_time": "2024-09-08T13:13:43.925Z"
   },
   {
    "duration": 5,
    "start_time": "2024-09-08T13:13:57.034Z"
   },
   {
    "duration": 4,
    "start_time": "2024-09-08T13:13:57.295Z"
   },
   {
    "duration": 58,
    "start_time": "2024-09-08T13:13:57.800Z"
   },
   {
    "duration": 66,
    "start_time": "2024-09-08T13:14:04.255Z"
   },
   {
    "duration": 52,
    "start_time": "2024-09-08T13:14:17.490Z"
   },
   {
    "duration": 48,
    "start_time": "2024-09-08T13:14:26.015Z"
   },
   {
    "duration": 5,
    "start_time": "2024-09-08T13:14:35.503Z"
   },
   {
    "duration": 3,
    "start_time": "2024-09-08T13:14:35.730Z"
   },
   {
    "duration": 222,
    "start_time": "2024-09-08T13:14:36.000Z"
   },
   {
    "duration": 4,
    "start_time": "2024-09-08T13:15:51.287Z"
   },
   {
    "duration": 5,
    "start_time": "2024-09-08T13:15:51.640Z"
   },
   {
    "duration": 228,
    "start_time": "2024-09-08T13:15:52.031Z"
   },
   {
    "duration": 6,
    "start_time": "2024-09-08T13:16:13.661Z"
   },
   {
    "duration": 4,
    "start_time": "2024-09-08T13:16:14.029Z"
   },
   {
    "duration": 218,
    "start_time": "2024-09-08T13:16:14.338Z"
   },
   {
    "duration": 12,
    "start_time": "2024-09-08T13:17:28.454Z"
   },
   {
    "duration": 784,
    "start_time": "2024-09-08T13:17:41.235Z"
   },
   {
    "duration": 3,
    "start_time": "2024-09-08T13:17:47.760Z"
   },
   {
    "duration": 3,
    "start_time": "2024-09-08T13:18:04.124Z"
   },
   {
    "duration": 1603,
    "start_time": "2024-09-08T14:00:26.873Z"
   },
   {
    "duration": 90,
    "start_time": "2024-09-08T14:00:28.478Z"
   },
   {
    "duration": 3,
    "start_time": "2024-09-08T14:00:28.569Z"
   },
   {
    "duration": 40,
    "start_time": "2024-09-08T14:00:28.574Z"
   },
   {
    "duration": 3,
    "start_time": "2024-09-08T14:00:28.616Z"
   },
   {
    "duration": 53,
    "start_time": "2024-09-08T14:00:28.621Z"
   },
   {
    "duration": 253,
    "start_time": "2024-09-08T14:00:28.675Z"
   },
   {
    "duration": 280,
    "start_time": "2024-09-08T14:00:28.930Z"
   },
   {
    "duration": 137,
    "start_time": "2024-09-08T14:00:29.211Z"
   },
   {
    "duration": 216,
    "start_time": "2024-09-08T14:00:29.350Z"
   },
   {
    "duration": 393,
    "start_time": "2024-09-08T14:00:29.568Z"
   },
   {
    "duration": 5,
    "start_time": "2024-09-08T14:00:29.962Z"
   },
   {
    "duration": 430,
    "start_time": "2024-09-08T14:00:29.968Z"
   },
   {
    "duration": 215,
    "start_time": "2024-09-08T14:00:30.404Z"
   },
   {
    "duration": 132,
    "start_time": "2024-09-08T14:00:30.620Z"
   },
   {
    "duration": 5,
    "start_time": "2024-09-08T14:00:30.753Z"
   },
   {
    "duration": 69,
    "start_time": "2024-09-08T14:00:30.759Z"
   },
   {
    "duration": 9766,
    "start_time": "2024-09-08T14:00:30.830Z"
   },
   {
    "duration": 15,
    "start_time": "2024-09-08T14:00:40.605Z"
   },
   {
    "duration": 408,
    "start_time": "2024-09-08T14:00:40.622Z"
   },
   {
    "duration": 21,
    "start_time": "2024-09-08T14:00:41.031Z"
   },
   {
    "duration": 133,
    "start_time": "2024-09-08T14:00:41.054Z"
   },
   {
    "duration": 5,
    "start_time": "2024-09-08T15:08:30.128Z"
   },
   {
    "duration": 9,
    "start_time": "2024-09-08T15:11:15.525Z"
   },
   {
    "duration": 4,
    "start_time": "2024-09-08T15:12:38.005Z"
   },
   {
    "duration": 5,
    "start_time": "2024-09-08T15:12:50.646Z"
   },
   {
    "duration": 4,
    "start_time": "2024-09-08T15:13:14.367Z"
   },
   {
    "duration": 5,
    "start_time": "2024-09-08T15:13:14.603Z"
   },
   {
    "duration": 5,
    "start_time": "2024-09-08T15:13:43.710Z"
   },
   {
    "duration": 5,
    "start_time": "2024-09-08T15:13:44.008Z"
   },
   {
    "duration": 5,
    "start_time": "2024-09-08T15:14:11.382Z"
   },
   {
    "duration": 4,
    "start_time": "2024-09-08T15:14:28.339Z"
   },
   {
    "duration": 4,
    "start_time": "2024-09-08T15:15:56.824Z"
   },
   {
    "duration": 5,
    "start_time": "2024-09-08T15:16:39.774Z"
   },
   {
    "duration": 4,
    "start_time": "2024-09-08T15:16:40.108Z"
   },
   {
    "duration": 4,
    "start_time": "2024-09-08T15:17:00.831Z"
   },
   {
    "duration": 5,
    "start_time": "2024-09-08T15:17:31.556Z"
   },
   {
    "duration": 4,
    "start_time": "2024-09-08T15:17:32.338Z"
   },
   {
    "duration": 4,
    "start_time": "2024-09-08T15:17:40.060Z"
   },
   {
    "duration": 4,
    "start_time": "2024-09-08T15:18:24.832Z"
   },
   {
    "duration": 6,
    "start_time": "2024-09-08T15:18:32.448Z"
   },
   {
    "duration": 5,
    "start_time": "2024-09-08T15:18:34.058Z"
   },
   {
    "duration": 5,
    "start_time": "2024-09-08T15:18:48.502Z"
   },
   {
    "duration": 4,
    "start_time": "2024-09-08T15:18:48.772Z"
   },
   {
    "duration": 5,
    "start_time": "2024-09-08T15:20:33.933Z"
   },
   {
    "duration": 22,
    "start_time": "2024-09-08T15:20:33.939Z"
   },
   {
    "duration": 5,
    "start_time": "2024-09-08T15:23:07.318Z"
   },
   {
    "duration": 3,
    "start_time": "2024-09-08T15:23:07.667Z"
   },
   {
    "duration": 7,
    "start_time": "2024-09-08T15:23:18.182Z"
   },
   {
    "duration": 29,
    "start_time": "2024-09-08T15:23:18.429Z"
   },
   {
    "duration": 8,
    "start_time": "2024-09-08T15:23:24.058Z"
   },
   {
    "duration": 3,
    "start_time": "2024-09-08T15:23:24.519Z"
   },
   {
    "duration": 67,
    "start_time": "2024-09-08T15:23:31.957Z"
   },
   {
    "duration": 4,
    "start_time": "2024-09-08T15:23:32.261Z"
   },
   {
    "duration": 6,
    "start_time": "2024-09-08T15:23:45.869Z"
   },
   {
    "duration": 5,
    "start_time": "2024-09-08T15:24:10.128Z"
   },
   {
    "duration": 6,
    "start_time": "2024-09-08T15:24:38.952Z"
   },
   {
    "duration": 3,
    "start_time": "2024-09-08T15:24:39.399Z"
   },
   {
    "duration": 4,
    "start_time": "2024-09-08T15:24:56.352Z"
   },
   {
    "duration": 2,
    "start_time": "2024-09-08T15:24:56.598Z"
   },
   {
    "duration": 6,
    "start_time": "2024-09-08T15:25:07.454Z"
   },
   {
    "duration": 2,
    "start_time": "2024-09-08T15:25:07.749Z"
   },
   {
    "duration": 5,
    "start_time": "2024-09-08T15:25:32.834Z"
   },
   {
    "duration": 5,
    "start_time": "2024-09-08T15:26:13.701Z"
   },
   {
    "duration": 21,
    "start_time": "2024-09-08T15:26:13.917Z"
   },
   {
    "duration": 2,
    "start_time": "2024-09-08T15:26:50.758Z"
   },
   {
    "duration": 5,
    "start_time": "2024-09-08T15:27:02.622Z"
   },
   {
    "duration": 5,
    "start_time": "2024-09-08T15:27:02.813Z"
   },
   {
    "duration": 6,
    "start_time": "2024-09-08T15:27:17.653Z"
   },
   {
    "duration": 3,
    "start_time": "2024-09-08T15:27:17.865Z"
   },
   {
    "duration": 5,
    "start_time": "2024-09-08T15:27:46.491Z"
   },
   {
    "duration": 4,
    "start_time": "2024-09-08T15:27:46.888Z"
   },
   {
    "duration": 5,
    "start_time": "2024-09-08T15:27:54.970Z"
   },
   {
    "duration": 4,
    "start_time": "2024-09-08T15:27:55.261Z"
   },
   {
    "duration": 6,
    "start_time": "2024-09-08T15:28:33.780Z"
   },
   {
    "duration": 23,
    "start_time": "2024-09-08T15:28:33.788Z"
   },
   {
    "duration": 7,
    "start_time": "2024-09-08T15:41:14.188Z"
   },
   {
    "duration": 3,
    "start_time": "2024-09-08T15:41:27.056Z"
   },
   {
    "duration": 5,
    "start_time": "2024-09-08T15:42:03.123Z"
   },
   {
    "duration": 4,
    "start_time": "2024-09-08T15:42:03.341Z"
   },
   {
    "duration": 18,
    "start_time": "2024-09-08T15:47:03.141Z"
   },
   {
    "duration": 11,
    "start_time": "2024-09-08T15:47:15.079Z"
   },
   {
    "duration": 12,
    "start_time": "2024-09-08T15:47:28.554Z"
   },
   {
    "duration": 4,
    "start_time": "2024-09-08T15:47:43.681Z"
   },
   {
    "duration": 4,
    "start_time": "2024-09-08T15:47:44.490Z"
   },
   {
    "duration": 5,
    "start_time": "2024-09-08T15:47:48.829Z"
   },
   {
    "duration": 5,
    "start_time": "2024-09-08T15:48:14.623Z"
   },
   {
    "duration": 6,
    "start_time": "2024-09-08T15:48:32.370Z"
   },
   {
    "duration": 4,
    "start_time": "2024-09-08T15:48:34.818Z"
   },
   {
    "duration": 6,
    "start_time": "2024-09-08T15:48:42.048Z"
   },
   {
    "duration": 4,
    "start_time": "2024-09-08T15:48:42.862Z"
   },
   {
    "duration": 234,
    "start_time": "2024-09-08T15:49:35.668Z"
   },
   {
    "duration": 5,
    "start_time": "2024-09-08T15:55:12.984Z"
   },
   {
    "duration": 8,
    "start_time": "2024-09-08T15:55:22.668Z"
   },
   {
    "duration": 12,
    "start_time": "2024-09-08T15:55:47.411Z"
   },
   {
    "duration": 14,
    "start_time": "2024-09-08T15:58:20.492Z"
   },
   {
    "duration": 7,
    "start_time": "2024-09-08T15:58:26.242Z"
   },
   {
    "duration": 47,
    "start_time": "2024-09-08T15:59:44.240Z"
   },
   {
    "duration": 1575,
    "start_time": "2024-09-08T15:59:52.107Z"
   },
   {
    "duration": 89,
    "start_time": "2024-09-08T15:59:53.684Z"
   },
   {
    "duration": 3,
    "start_time": "2024-09-08T15:59:53.775Z"
   },
   {
    "duration": 46,
    "start_time": "2024-09-08T15:59:53.779Z"
   },
   {
    "duration": 3,
    "start_time": "2024-09-08T15:59:53.827Z"
   },
   {
    "duration": 60,
    "start_time": "2024-09-08T15:59:53.832Z"
   },
   {
    "duration": 223,
    "start_time": "2024-09-08T15:59:53.905Z"
   },
   {
    "duration": 285,
    "start_time": "2024-09-08T15:59:54.129Z"
   },
   {
    "duration": 126,
    "start_time": "2024-09-08T15:59:54.416Z"
   },
   {
    "duration": 214,
    "start_time": "2024-09-08T15:59:54.544Z"
   },
   {
    "duration": 386,
    "start_time": "2024-09-08T15:59:54.760Z"
   },
   {
    "duration": 4,
    "start_time": "2024-09-08T15:59:55.148Z"
   },
   {
    "duration": 438,
    "start_time": "2024-09-08T15:59:55.154Z"
   },
   {
    "duration": 278,
    "start_time": "2024-09-08T15:59:55.604Z"
   },
   {
    "duration": 131,
    "start_time": "2024-09-08T15:59:55.884Z"
   },
   {
    "duration": 5,
    "start_time": "2024-09-08T15:59:56.016Z"
   },
   {
    "duration": 4,
    "start_time": "2024-09-08T15:59:56.022Z"
   },
   {
    "duration": 9421,
    "start_time": "2024-09-08T15:59:56.027Z"
   },
   {
    "duration": 54,
    "start_time": "2024-09-08T16:00:05.451Z"
   },
   {
    "duration": 378,
    "start_time": "2024-09-08T16:00:05.507Z"
   },
   {
    "duration": 35,
    "start_time": "2024-09-08T16:00:05.886Z"
   },
   {
    "duration": 130,
    "start_time": "2024-09-08T16:00:05.923Z"
   },
   {
    "duration": 6,
    "start_time": "2024-09-08T16:00:06.055Z"
   },
   {
    "duration": 232,
    "start_time": "2024-09-08T16:00:06.063Z"
   },
   {
    "duration": 0,
    "start_time": "2024-09-08T16:00:06.297Z"
   },
   {
    "duration": 7,
    "start_time": "2024-09-08T16:00:18.946Z"
   },
   {
    "duration": 4,
    "start_time": "2024-09-08T16:00:49.713Z"
   },
   {
    "duration": 6,
    "start_time": "2024-09-08T16:01:56.672Z"
   },
   {
    "duration": 6,
    "start_time": "2024-09-08T16:02:01.382Z"
   },
   {
    "duration": 254,
    "start_time": "2024-09-08T16:02:01.687Z"
   },
   {
    "duration": 4,
    "start_time": "2024-09-08T16:02:16.523Z"
   },
   {
    "duration": 3,
    "start_time": "2024-09-08T16:02:25.658Z"
   },
   {
    "duration": 8,
    "start_time": "2024-09-08T16:03:28.694Z"
   },
   {
    "duration": 8,
    "start_time": "2024-09-08T16:03:46.992Z"
   },
   {
    "duration": 8,
    "start_time": "2024-09-08T16:03:54.327Z"
   },
   {
    "duration": 5,
    "start_time": "2024-09-08T16:05:40.389Z"
   },
   {
    "duration": 251,
    "start_time": "2024-09-08T16:05:40.746Z"
   },
   {
    "duration": 19,
    "start_time": "2024-09-08T16:08:27.580Z"
   },
   {
    "duration": 3,
    "start_time": "2024-09-08T16:09:07.891Z"
   },
   {
    "duration": 5,
    "start_time": "2024-09-08T16:09:11.796Z"
   },
   {
    "duration": 11,
    "start_time": "2024-09-08T16:15:04.205Z"
   },
   {
    "duration": 17,
    "start_time": "2024-09-08T16:15:09.287Z"
   },
   {
    "duration": 8,
    "start_time": "2024-09-08T16:15:14.155Z"
   },
   {
    "duration": 62,
    "start_time": "2024-09-08T16:16:03.631Z"
   },
   {
    "duration": 6,
    "start_time": "2024-09-08T16:16:18.423Z"
   },
   {
    "duration": 317,
    "start_time": "2024-09-08T16:16:19.270Z"
   },
   {
    "duration": 11,
    "start_time": "2024-09-08T22:09:05.437Z"
   },
   {
    "duration": 1805,
    "start_time": "2024-09-08T22:09:14.955Z"
   },
   {
    "duration": 250,
    "start_time": "2024-09-08T22:09:16.762Z"
   },
   {
    "duration": 3,
    "start_time": "2024-09-08T22:09:17.015Z"
   },
   {
    "duration": 27,
    "start_time": "2024-09-08T22:09:17.020Z"
   },
   {
    "duration": 4,
    "start_time": "2024-09-08T22:09:17.049Z"
   },
   {
    "duration": 58,
    "start_time": "2024-09-08T22:09:17.054Z"
   },
   {
    "duration": 223,
    "start_time": "2024-09-08T22:09:17.114Z"
   },
   {
    "duration": 265,
    "start_time": "2024-09-08T22:09:17.339Z"
   },
   {
    "duration": 133,
    "start_time": "2024-09-08T22:09:17.606Z"
   },
   {
    "duration": 200,
    "start_time": "2024-09-08T22:09:17.741Z"
   },
   {
    "duration": 388,
    "start_time": "2024-09-08T22:09:17.943Z"
   },
   {
    "duration": 5,
    "start_time": "2024-09-08T22:09:18.333Z"
   },
   {
    "duration": 439,
    "start_time": "2024-09-08T22:09:18.340Z"
   },
   {
    "duration": 272,
    "start_time": "2024-09-08T22:09:18.782Z"
   },
   {
    "duration": 179,
    "start_time": "2024-09-08T22:09:19.056Z"
   },
   {
    "duration": 6,
    "start_time": "2024-09-08T22:09:19.237Z"
   },
   {
    "duration": 4,
    "start_time": "2024-09-08T22:09:19.244Z"
   },
   {
    "duration": 9452,
    "start_time": "2024-09-08T22:09:19.264Z"
   },
   {
    "duration": 15,
    "start_time": "2024-09-08T22:09:28.718Z"
   },
   {
    "duration": 398,
    "start_time": "2024-09-08T22:09:28.735Z"
   },
   {
    "duration": 44,
    "start_time": "2024-09-08T22:09:29.134Z"
   },
   {
    "duration": 131,
    "start_time": "2024-09-08T22:09:29.180Z"
   },
   {
    "duration": 6,
    "start_time": "2024-09-08T22:09:29.312Z"
   },
   {
    "duration": 183,
    "start_time": "2024-09-08T22:09:33.880Z"
   },
   {
    "duration": 7,
    "start_time": "2024-09-08T22:09:42.863Z"
   },
   {
    "duration": 15,
    "start_time": "2024-09-08T22:09:55.995Z"
   },
   {
    "duration": 73,
    "start_time": "2024-09-08T22:10:30.886Z"
   },
   {
    "duration": 6,
    "start_time": "2024-09-08T22:10:57.536Z"
   },
   {
    "duration": 188,
    "start_time": "2024-09-08T22:10:58.016Z"
   },
   {
    "duration": 11,
    "start_time": "2024-09-08T22:10:58.844Z"
   },
   {
    "duration": 196,
    "start_time": "2024-09-08T22:11:03.688Z"
   },
   {
    "duration": 12,
    "start_time": "2024-09-08T22:11:04.437Z"
   },
   {
    "duration": 9,
    "start_time": "2024-09-08T22:11:25.980Z"
   },
   {
    "duration": 190,
    "start_time": "2024-09-08T22:11:26.302Z"
   },
   {
    "duration": 10,
    "start_time": "2024-09-08T22:11:26.686Z"
   },
   {
    "duration": 10,
    "start_time": "2024-09-08T22:11:35.948Z"
   },
   {
    "duration": 6,
    "start_time": "2024-09-08T22:11:55.376Z"
   },
   {
    "duration": 16,
    "start_time": "2024-09-08T22:15:56.370Z"
   },
   {
    "duration": 192,
    "start_time": "2024-09-08T22:16:14.718Z"
   },
   {
    "duration": 17,
    "start_time": "2024-09-08T22:16:33.749Z"
   },
   {
    "duration": 7,
    "start_time": "2024-09-08T22:17:16.139Z"
   },
   {
    "duration": 7,
    "start_time": "2024-09-08T22:17:23.526Z"
   },
   {
    "duration": 39,
    "start_time": "2024-09-08T22:18:00.995Z"
   },
   {
    "duration": 11,
    "start_time": "2024-09-08T22:18:16.948Z"
   },
   {
    "duration": 10,
    "start_time": "2024-09-08T22:18:39.209Z"
   },
   {
    "duration": 10,
    "start_time": "2024-09-08T22:19:41.123Z"
   },
   {
    "duration": 9,
    "start_time": "2024-09-08T22:19:45.478Z"
   },
   {
    "duration": 197,
    "start_time": "2024-09-08T22:19:55.513Z"
   },
   {
    "duration": 7,
    "start_time": "2024-09-08T22:20:55.533Z"
   },
   {
    "duration": 184,
    "start_time": "2024-09-08T22:20:55.874Z"
   },
   {
    "duration": 8,
    "start_time": "2024-09-08T22:22:08.571Z"
   },
   {
    "duration": 19,
    "start_time": "2024-09-08T22:23:49.883Z"
   },
   {
    "duration": 66,
    "start_time": "2024-09-08T22:26:11.621Z"
   },
   {
    "duration": 33,
    "start_time": "2024-09-08T22:27:28.020Z"
   },
   {
    "duration": 9,
    "start_time": "2024-09-08T22:28:03.232Z"
   },
   {
    "duration": 15,
    "start_time": "2024-09-08T22:28:06.435Z"
   },
   {
    "duration": 66,
    "start_time": "2024-09-08T22:28:22.161Z"
   },
   {
    "duration": 7,
    "start_time": "2024-09-08T22:33:15.581Z"
   },
   {
    "duration": 8,
    "start_time": "2024-09-08T22:35:13.381Z"
   },
   {
    "duration": 6,
    "start_time": "2024-09-08T22:35:27.505Z"
   },
   {
    "duration": 50,
    "start_time": "2024-09-08T22:35:39.868Z"
   },
   {
    "duration": 5,
    "start_time": "2024-09-08T22:38:02.373Z"
   },
   {
    "duration": 7,
    "start_time": "2024-09-08T22:38:06.700Z"
   },
   {
    "duration": 7,
    "start_time": "2024-09-08T22:38:53.234Z"
   },
   {
    "duration": 7,
    "start_time": "2024-09-08T22:43:43.413Z"
   },
   {
    "duration": 6,
    "start_time": "2024-09-08T22:43:51.136Z"
   },
   {
    "duration": 17,
    "start_time": "2024-09-08T22:43:55.710Z"
   },
   {
    "duration": 22,
    "start_time": "2024-09-08T22:44:53.088Z"
   },
   {
    "duration": 55,
    "start_time": "2024-09-08T22:45:03.455Z"
   },
   {
    "duration": 7,
    "start_time": "2024-09-08T22:45:38.032Z"
   },
   {
    "duration": 16,
    "start_time": "2024-09-08T22:45:40.928Z"
   },
   {
    "duration": 8,
    "start_time": "2024-09-08T22:45:53.250Z"
   },
   {
    "duration": 1562,
    "start_time": "2024-09-08T22:48:15.151Z"
   },
   {
    "duration": 84,
    "start_time": "2024-09-08T22:48:16.716Z"
   },
   {
    "duration": 4,
    "start_time": "2024-09-08T22:48:16.802Z"
   },
   {
    "duration": 26,
    "start_time": "2024-09-08T22:48:16.808Z"
   },
   {
    "duration": 3,
    "start_time": "2024-09-08T22:48:16.837Z"
   },
   {
    "duration": 109,
    "start_time": "2024-09-08T22:48:16.842Z"
   },
   {
    "duration": 229,
    "start_time": "2024-09-08T22:48:16.953Z"
   },
   {
    "duration": 260,
    "start_time": "2024-09-08T22:48:17.184Z"
   },
   {
    "duration": 124,
    "start_time": "2024-09-08T22:48:17.446Z"
   },
   {
    "duration": 209,
    "start_time": "2024-09-08T22:48:17.571Z"
   },
   {
    "duration": 397,
    "start_time": "2024-09-08T22:48:17.782Z"
   },
   {
    "duration": 4,
    "start_time": "2024-09-08T22:48:18.181Z"
   },
   {
    "duration": 430,
    "start_time": "2024-09-08T22:48:18.187Z"
   },
   {
    "duration": 326,
    "start_time": "2024-09-08T22:48:18.619Z"
   },
   {
    "duration": 134,
    "start_time": "2024-09-08T22:48:18.946Z"
   },
   {
    "duration": 5,
    "start_time": "2024-09-08T22:48:19.081Z"
   },
   {
    "duration": 4,
    "start_time": "2024-09-08T22:48:19.087Z"
   },
   {
    "duration": 9376,
    "start_time": "2024-09-08T22:48:19.092Z"
   },
   {
    "duration": 13,
    "start_time": "2024-09-08T22:48:28.469Z"
   },
   {
    "duration": 370,
    "start_time": "2024-09-08T22:48:28.484Z"
   },
   {
    "duration": 27,
    "start_time": "2024-09-08T22:48:28.856Z"
   },
   {
    "duration": 121,
    "start_time": "2024-09-08T22:48:28.884Z"
   },
   {
    "duration": 6,
    "start_time": "2024-09-08T22:48:29.007Z"
   },
   {
    "duration": 191,
    "start_time": "2024-09-08T22:48:29.014Z"
   },
   {
    "duration": 77,
    "start_time": "2024-09-08T22:48:29.207Z"
   },
   {
    "duration": 56,
    "start_time": "2024-09-08T22:48:29.286Z"
   },
   {
    "duration": 72,
    "start_time": "2024-09-08T22:48:29.344Z"
   },
   {
    "duration": 9,
    "start_time": "2024-09-08T22:48:29.417Z"
   },
   {
    "duration": 58,
    "start_time": "2024-09-08T22:49:35.782Z"
   },
   {
    "duration": 74,
    "start_time": "2024-09-08T22:50:08.372Z"
   },
   {
    "duration": 55,
    "start_time": "2024-09-08T22:51:21.000Z"
   },
   {
    "duration": 65,
    "start_time": "2024-09-08T22:53:37.647Z"
   },
   {
    "duration": 19,
    "start_time": "2024-09-08T22:53:58.924Z"
   },
   {
    "duration": 1824,
    "start_time": "2024-09-09T13:21:19.422Z"
   },
   {
    "duration": 267,
    "start_time": "2024-09-09T13:21:21.249Z"
   },
   {
    "duration": 3,
    "start_time": "2024-09-09T13:21:21.518Z"
   },
   {
    "duration": 29,
    "start_time": "2024-09-09T13:21:21.524Z"
   },
   {
    "duration": 3,
    "start_time": "2024-09-09T13:21:21.554Z"
   },
   {
    "duration": 97,
    "start_time": "2024-09-09T13:21:21.559Z"
   },
   {
    "duration": 264,
    "start_time": "2024-09-09T13:21:21.658Z"
   },
   {
    "duration": 314,
    "start_time": "2024-09-09T13:21:21.924Z"
   },
   {
    "duration": 147,
    "start_time": "2024-09-09T13:21:22.240Z"
   },
   {
    "duration": 224,
    "start_time": "2024-09-09T13:21:22.397Z"
   },
   {
    "duration": 423,
    "start_time": "2024-09-09T13:21:22.623Z"
   },
   {
    "duration": 5,
    "start_time": "2024-09-09T13:21:23.047Z"
   },
   {
    "duration": 525,
    "start_time": "2024-09-09T13:21:23.054Z"
   },
   {
    "duration": 277,
    "start_time": "2024-09-09T13:21:23.581Z"
   },
   {
    "duration": 235,
    "start_time": "2024-09-09T13:21:23.860Z"
   },
   {
    "duration": 6,
    "start_time": "2024-09-09T13:21:24.097Z"
   },
   {
    "duration": 5,
    "start_time": "2024-09-09T13:21:24.106Z"
   },
   {
    "duration": 10054,
    "start_time": "2024-09-09T13:21:24.112Z"
   },
   {
    "duration": 37,
    "start_time": "2024-09-09T13:21:34.168Z"
   },
   {
    "duration": 445,
    "start_time": "2024-09-09T13:21:34.207Z"
   },
   {
    "duration": 23,
    "start_time": "2024-09-09T13:21:34.654Z"
   },
   {
    "duration": 132,
    "start_time": "2024-09-09T13:21:34.698Z"
   },
   {
    "duration": 8,
    "start_time": "2024-09-09T13:21:34.833Z"
   },
   {
    "duration": 220,
    "start_time": "2024-09-09T13:21:34.844Z"
   },
   {
    "duration": 81,
    "start_time": "2024-09-09T13:21:35.066Z"
   },
   {
    "duration": 74,
    "start_time": "2024-09-09T13:21:35.149Z"
   },
   {
    "duration": 7,
    "start_time": "2024-09-09T13:23:36.624Z"
   },
   {
    "duration": 7,
    "start_time": "2024-09-09T13:23:46.866Z"
   },
   {
    "duration": 17,
    "start_time": "2024-09-09T13:24:07.311Z"
   },
   {
    "duration": 6,
    "start_time": "2024-09-09T13:25:50.827Z"
   },
   {
    "duration": 9,
    "start_time": "2024-09-09T13:31:26.972Z"
   },
   {
    "duration": 13,
    "start_time": "2024-09-09T13:33:35.956Z"
   },
   {
    "duration": 10,
    "start_time": "2024-09-09T13:33:42.520Z"
   },
   {
    "duration": 8,
    "start_time": "2024-09-09T13:33:57.814Z"
   },
   {
    "duration": 3,
    "start_time": "2024-09-09T13:34:48.138Z"
   },
   {
    "duration": 11,
    "start_time": "2024-09-09T13:35:08.705Z"
   },
   {
    "duration": 13,
    "start_time": "2024-09-09T13:35:34.341Z"
   },
   {
    "duration": 6,
    "start_time": "2024-09-09T13:35:41.221Z"
   },
   {
    "duration": 53,
    "start_time": "2024-09-09T13:38:05.556Z"
   },
   {
    "duration": 53,
    "start_time": "2024-09-09T13:38:09.211Z"
   },
   {
    "duration": 5,
    "start_time": "2024-09-09T13:38:19.298Z"
   },
   {
    "duration": 4,
    "start_time": "2024-09-09T13:38:25.479Z"
   },
   {
    "duration": 7,
    "start_time": "2024-09-09T13:39:08.826Z"
   },
   {
    "duration": 33,
    "start_time": "2024-09-09T13:39:11.867Z"
   },
   {
    "duration": 28,
    "start_time": "2024-09-09T13:39:14.470Z"
   },
   {
    "duration": 7,
    "start_time": "2024-09-09T13:39:57.024Z"
   },
   {
    "duration": 9,
    "start_time": "2024-09-09T13:41:11.123Z"
   },
   {
    "duration": 23,
    "start_time": "2024-09-09T13:41:38.044Z"
   },
   {
    "duration": 8,
    "start_time": "2024-09-09T13:41:59.321Z"
   },
   {
    "duration": 59,
    "start_time": "2024-09-09T13:42:08.484Z"
   },
   {
    "duration": 61,
    "start_time": "2024-09-09T13:44:10.141Z"
   },
   {
    "duration": 60,
    "start_time": "2024-09-09T13:44:19.991Z"
   },
   {
    "duration": 58,
    "start_time": "2024-09-09T13:44:25.384Z"
   },
   {
    "duration": 78,
    "start_time": "2024-09-09T13:44:28.390Z"
   },
   {
    "duration": 56,
    "start_time": "2024-09-09T13:44:51.393Z"
   },
   {
    "duration": 58,
    "start_time": "2024-09-09T13:44:54.397Z"
   },
   {
    "duration": 11,
    "start_time": "2024-09-09T13:45:01.449Z"
   },
   {
    "duration": 4,
    "start_time": "2024-09-09T13:45:21.554Z"
   },
   {
    "duration": 59,
    "start_time": "2024-09-09T13:45:25.587Z"
   },
   {
    "duration": 1526,
    "start_time": "2024-09-09T13:47:22.916Z"
   },
   {
    "duration": 82,
    "start_time": "2024-09-09T13:47:24.445Z"
   },
   {
    "duration": 3,
    "start_time": "2024-09-09T13:47:24.528Z"
   },
   {
    "duration": 32,
    "start_time": "2024-09-09T13:47:24.533Z"
   },
   {
    "duration": 3,
    "start_time": "2024-09-09T13:47:24.567Z"
   },
   {
    "duration": 65,
    "start_time": "2024-09-09T13:47:24.571Z"
   },
   {
    "duration": 232,
    "start_time": "2024-09-09T13:47:24.637Z"
   },
   {
    "duration": 288,
    "start_time": "2024-09-09T13:47:24.870Z"
   },
   {
    "duration": 126,
    "start_time": "2024-09-09T13:47:25.160Z"
   },
   {
    "duration": 216,
    "start_time": "2024-09-09T13:47:25.287Z"
   },
   {
    "duration": 403,
    "start_time": "2024-09-09T13:47:25.504Z"
   },
   {
    "duration": 4,
    "start_time": "2024-09-09T13:47:25.909Z"
   },
   {
    "duration": 446,
    "start_time": "2024-09-09T13:47:25.915Z"
   },
   {
    "duration": 275,
    "start_time": "2024-09-09T13:47:26.364Z"
   },
   {
    "duration": 130,
    "start_time": "2024-09-09T13:47:26.640Z"
   },
   {
    "duration": 4,
    "start_time": "2024-09-09T13:47:26.772Z"
   },
   {
    "duration": 19,
    "start_time": "2024-09-09T13:47:26.778Z"
   },
   {
    "duration": 9611,
    "start_time": "2024-09-09T13:47:26.798Z"
   },
   {
    "duration": 14,
    "start_time": "2024-09-09T13:47:36.412Z"
   },
   {
    "duration": 393,
    "start_time": "2024-09-09T13:47:36.427Z"
   },
   {
    "duration": 21,
    "start_time": "2024-09-09T13:47:36.822Z"
   },
   {
    "duration": 143,
    "start_time": "2024-09-09T13:47:36.845Z"
   },
   {
    "duration": 9,
    "start_time": "2024-09-09T13:47:36.998Z"
   },
   {
    "duration": 237,
    "start_time": "2024-09-09T13:47:37.009Z"
   },
   {
    "duration": 74,
    "start_time": "2024-09-09T13:47:37.248Z"
   },
   {
    "duration": 5,
    "start_time": "2024-09-09T13:47:37.324Z"
   },
   {
    "duration": 144,
    "start_time": "2024-09-09T13:47:37.331Z"
   },
   {
    "duration": 6,
    "start_time": "2024-09-09T13:47:37.477Z"
   },
   {
    "duration": 75,
    "start_time": "2024-09-09T13:47:37.484Z"
   },
   {
    "duration": 60,
    "start_time": "2024-09-09T13:48:56.397Z"
   },
   {
    "duration": 34,
    "start_time": "2024-09-09T13:58:43.997Z"
   },
   {
    "duration": 31,
    "start_time": "2024-09-09T13:59:01.502Z"
   },
   {
    "duration": 29,
    "start_time": "2024-09-09T13:59:18.969Z"
   },
   {
    "duration": 55,
    "start_time": "2024-09-09T13:59:25.771Z"
   },
   {
    "duration": 6,
    "start_time": "2024-09-09T14:00:10.302Z"
   },
   {
    "duration": 5,
    "start_time": "2024-09-09T14:00:40.358Z"
   },
   {
    "duration": 5,
    "start_time": "2024-09-09T14:01:06.534Z"
   },
   {
    "duration": 180,
    "start_time": "2024-09-09T14:01:34.844Z"
   },
   {
    "duration": 187,
    "start_time": "2024-09-09T14:01:39.279Z"
   },
   {
    "duration": 228,
    "start_time": "2024-09-09T14:01:48.304Z"
   },
   {
    "duration": 191,
    "start_time": "2024-09-09T14:02:12.779Z"
   },
   {
    "duration": 191,
    "start_time": "2024-09-09T14:02:33.671Z"
   },
   {
    "duration": 11,
    "start_time": "2024-09-09T14:04:15.983Z"
   },
   {
    "duration": 13,
    "start_time": "2024-09-09T14:04:32.117Z"
   },
   {
    "duration": 14,
    "start_time": "2024-09-09T14:04:44.291Z"
   },
   {
    "duration": 15,
    "start_time": "2024-09-09T14:05:09.155Z"
   },
   {
    "duration": 14,
    "start_time": "2024-09-09T14:05:19.767Z"
   },
   {
    "duration": 16,
    "start_time": "2024-09-09T14:05:59.151Z"
   },
   {
    "duration": 12,
    "start_time": "2024-09-09T14:06:07.293Z"
   },
   {
    "duration": 14,
    "start_time": "2024-09-09T14:06:11.683Z"
   },
   {
    "duration": 14,
    "start_time": "2024-09-09T14:06:30.984Z"
   },
   {
    "duration": 15,
    "start_time": "2024-09-09T14:06:59.075Z"
   },
   {
    "duration": 14,
    "start_time": "2024-09-09T14:07:03.313Z"
   },
   {
    "duration": 15,
    "start_time": "2024-09-09T14:07:09.171Z"
   },
   {
    "duration": 13,
    "start_time": "2024-09-09T14:07:30.797Z"
   },
   {
    "duration": 15,
    "start_time": "2024-09-09T14:07:35.318Z"
   },
   {
    "duration": 9,
    "start_time": "2024-09-09T14:10:47.762Z"
   },
   {
    "duration": 132,
    "start_time": "2024-09-09T14:11:46.239Z"
   },
   {
    "duration": 148,
    "start_time": "2024-09-09T16:26:33.282Z"
   },
   {
    "duration": 371,
    "start_time": "2024-09-09T16:28:23.668Z"
   },
   {
    "duration": 7,
    "start_time": "2024-09-09T16:29:54.872Z"
   },
   {
    "duration": 7,
    "start_time": "2024-09-09T16:29:58.830Z"
   },
   {
    "duration": 10,
    "start_time": "2024-09-09T16:31:19.913Z"
   },
   {
    "duration": 62,
    "start_time": "2024-09-09T16:31:40.764Z"
   },
   {
    "duration": 7,
    "start_time": "2024-09-09T16:31:47.439Z"
   },
   {
    "duration": 16,
    "start_time": "2024-09-09T16:33:57.050Z"
   },
   {
    "duration": 11,
    "start_time": "2024-09-09T16:34:04.263Z"
   },
   {
    "duration": 17,
    "start_time": "2024-09-09T16:34:06.986Z"
   },
   {
    "duration": 66,
    "start_time": "2024-09-09T16:34:47.792Z"
   },
   {
    "duration": 64,
    "start_time": "2024-09-09T16:36:45.056Z"
   },
   {
    "duration": 66,
    "start_time": "2024-09-09T16:37:02.771Z"
   },
   {
    "duration": 6,
    "start_time": "2024-09-09T16:38:26.883Z"
   },
   {
    "duration": 7,
    "start_time": "2024-09-09T16:38:45.993Z"
   },
   {
    "duration": 47,
    "start_time": "2024-09-09T16:40:46.725Z"
   },
   {
    "duration": 1572,
    "start_time": "2024-09-09T16:40:55.063Z"
   },
   {
    "duration": 88,
    "start_time": "2024-09-09T16:40:56.637Z"
   },
   {
    "duration": 4,
    "start_time": "2024-09-09T16:40:56.727Z"
   },
   {
    "duration": 40,
    "start_time": "2024-09-09T16:40:56.733Z"
   },
   {
    "duration": 24,
    "start_time": "2024-09-09T16:40:56.775Z"
   },
   {
    "duration": 61,
    "start_time": "2024-09-09T16:40:56.801Z"
   },
   {
    "duration": 262,
    "start_time": "2024-09-09T16:40:56.864Z"
   },
   {
    "duration": 302,
    "start_time": "2024-09-09T16:40:57.128Z"
   },
   {
    "duration": 156,
    "start_time": "2024-09-09T16:40:57.432Z"
   },
   {
    "duration": 264,
    "start_time": "2024-09-09T16:40:57.595Z"
   },
   {
    "duration": 412,
    "start_time": "2024-09-09T16:40:57.861Z"
   },
   {
    "duration": 6,
    "start_time": "2024-09-09T16:40:58.274Z"
   },
   {
    "duration": 468,
    "start_time": "2024-09-09T16:40:58.282Z"
   },
   {
    "duration": 321,
    "start_time": "2024-09-09T16:40:58.752Z"
   },
   {
    "duration": 157,
    "start_time": "2024-09-09T16:40:59.074Z"
   },
   {
    "duration": 6,
    "start_time": "2024-09-09T16:40:59.233Z"
   },
   {
    "duration": 6,
    "start_time": "2024-09-09T16:40:59.241Z"
   },
   {
    "duration": 9932,
    "start_time": "2024-09-09T16:40:59.249Z"
   },
   {
    "duration": 33,
    "start_time": "2024-09-09T16:41:09.184Z"
   },
   {
    "duration": 459,
    "start_time": "2024-09-09T16:41:09.219Z"
   },
   {
    "duration": 31,
    "start_time": "2024-09-09T16:41:09.680Z"
   },
   {
    "duration": 133,
    "start_time": "2024-09-09T16:41:09.713Z"
   },
   {
    "duration": 9,
    "start_time": "2024-09-09T16:41:09.848Z"
   },
   {
    "duration": 226,
    "start_time": "2024-09-09T16:41:09.859Z"
   },
   {
    "duration": 73,
    "start_time": "2024-09-09T16:41:10.087Z"
   },
   {
    "duration": 77,
    "start_time": "2024-09-09T16:41:10.161Z"
   },
   {
    "duration": 5,
    "start_time": "2024-09-09T16:41:10.240Z"
   },
   {
    "duration": 99,
    "start_time": "2024-09-09T16:41:10.249Z"
   },
   {
    "duration": 16,
    "start_time": "2024-09-09T16:41:10.350Z"
   },
   {
    "duration": 143,
    "start_time": "2024-09-09T16:41:10.368Z"
   },
   {
    "duration": 6,
    "start_time": "2024-09-09T16:41:10.513Z"
   },
   {
    "duration": 95,
    "start_time": "2024-09-09T16:41:10.521Z"
   },
   {
    "duration": 7,
    "start_time": "2024-09-09T16:41:10.619Z"
   },
   {
    "duration": 13,
    "start_time": "2024-09-09T16:50:56.722Z"
   },
   {
    "duration": 9,
    "start_time": "2024-09-09T16:51:51.113Z"
   },
   {
    "duration": 27,
    "start_time": "2024-09-09T16:53:10.735Z"
   },
   {
    "duration": 65,
    "start_time": "2024-09-09T16:53:19.573Z"
   },
   {
    "duration": 68,
    "start_time": "2024-09-09T16:55:22.168Z"
   },
   {
    "duration": 57,
    "start_time": "2024-09-09T16:58:55.919Z"
   },
   {
    "duration": 68,
    "start_time": "2024-09-09T16:59:33.728Z"
   },
   {
    "duration": 70,
    "start_time": "2024-09-09T16:59:52.942Z"
   },
   {
    "duration": 76,
    "start_time": "2024-09-09T17:01:25.469Z"
   },
   {
    "duration": 66,
    "start_time": "2024-09-09T17:02:19.759Z"
   },
   {
    "duration": 318,
    "start_time": "2024-09-09T17:06:04.446Z"
   },
   {
    "duration": 151,
    "start_time": "2024-09-09T17:06:07.465Z"
   },
   {
    "duration": 60,
    "start_time": "2024-09-09T17:12:00.614Z"
   },
   {
    "duration": 67,
    "start_time": "2024-09-09T17:16:09.196Z"
   },
   {
    "duration": 63,
    "start_time": "2024-09-09T17:17:54.186Z"
   },
   {
    "duration": 58,
    "start_time": "2024-09-09T17:18:14.944Z"
   },
   {
    "duration": 61,
    "start_time": "2024-09-09T17:19:35.861Z"
   },
   {
    "duration": 20,
    "start_time": "2024-09-09T17:43:59.899Z"
   },
   {
    "duration": 24,
    "start_time": "2024-09-09T17:44:20.279Z"
   },
   {
    "duration": 52,
    "start_time": "2024-09-09T17:44:52.271Z"
   },
   {
    "duration": 11,
    "start_time": "2024-09-09T17:45:06.274Z"
   },
   {
    "duration": 6,
    "start_time": "2024-09-09T17:45:24.052Z"
   },
   {
    "duration": 7,
    "start_time": "2024-09-09T17:45:27.162Z"
   },
   {
    "duration": 17,
    "start_time": "2024-09-09T17:45:36.711Z"
   },
   {
    "duration": 58,
    "start_time": "2024-09-09T17:45:45.536Z"
   },
   {
    "duration": 27,
    "start_time": "2024-09-09T17:46:37.365Z"
   },
   {
    "duration": 57,
    "start_time": "2024-09-09T17:47:01.118Z"
   },
   {
    "duration": 51,
    "start_time": "2024-09-09T17:47:43.200Z"
   },
   {
    "duration": 56,
    "start_time": "2024-09-09T17:50:05.969Z"
   },
   {
    "duration": 262,
    "start_time": "2024-09-09T17:50:21.812Z"
   },
   {
    "duration": 14,
    "start_time": "2024-09-09T17:53:40.092Z"
   },
   {
    "duration": 7,
    "start_time": "2024-09-09T17:53:43.616Z"
   },
   {
    "duration": 22,
    "start_time": "2024-09-09T18:03:06.026Z"
   },
   {
    "duration": 20,
    "start_time": "2024-09-09T18:03:12.260Z"
   },
   {
    "duration": 8,
    "start_time": "2024-09-09T18:03:16.106Z"
   },
   {
    "duration": 18,
    "start_time": "2024-09-09T18:03:16.307Z"
   },
   {
    "duration": 385,
    "start_time": "2024-09-09T18:03:16.493Z"
   },
   {
    "duration": 6,
    "start_time": "2024-09-09T18:03:16.880Z"
   },
   {
    "duration": 19,
    "start_time": "2024-09-09T18:04:04.319Z"
   },
   {
    "duration": 72,
    "start_time": "2024-09-09T18:04:45.636Z"
   },
   {
    "duration": 96,
    "start_time": "2024-09-09T18:04:50.870Z"
   },
   {
    "duration": 82,
    "start_time": "2024-09-09T18:05:04.263Z"
   },
   {
    "duration": 543,
    "start_time": "2024-09-09T18:06:13.819Z"
   },
   {
    "duration": 8,
    "start_time": "2024-09-09T18:07:02.454Z"
   },
   {
    "duration": 14,
    "start_time": "2024-09-09T18:07:04.165Z"
   },
   {
    "duration": 8,
    "start_time": "2024-09-09T18:08:30.218Z"
   },
   {
    "duration": 303,
    "start_time": "2024-09-09T18:08:30.627Z"
   },
   {
    "duration": 58,
    "start_time": "2024-09-09T18:08:49.271Z"
   },
   {
    "duration": 61,
    "start_time": "2024-09-09T18:10:08.155Z"
   },
   {
    "duration": 73,
    "start_time": "2024-09-09T19:14:48.217Z"
   },
   {
    "duration": 53,
    "start_time": "2024-09-09T19:17:58.814Z"
   },
   {
    "duration": 1533,
    "start_time": "2024-09-09T19:20:44.506Z"
   },
   {
    "duration": 84,
    "start_time": "2024-09-09T19:20:46.041Z"
   },
   {
    "duration": 3,
    "start_time": "2024-09-09T19:20:46.126Z"
   },
   {
    "duration": 44,
    "start_time": "2024-09-09T19:20:46.131Z"
   },
   {
    "duration": 3,
    "start_time": "2024-09-09T19:20:46.177Z"
   },
   {
    "duration": 67,
    "start_time": "2024-09-09T19:20:46.181Z"
   },
   {
    "duration": 234,
    "start_time": "2024-09-09T19:20:46.250Z"
   },
   {
    "duration": 275,
    "start_time": "2024-09-09T19:20:46.485Z"
   },
   {
    "duration": 153,
    "start_time": "2024-09-09T19:20:46.761Z"
   },
   {
    "duration": 220,
    "start_time": "2024-09-09T19:20:46.916Z"
   },
   {
    "duration": 401,
    "start_time": "2024-09-09T19:20:47.138Z"
   },
   {
    "duration": 5,
    "start_time": "2024-09-09T19:20:47.541Z"
   },
   {
    "duration": 399,
    "start_time": "2024-09-09T19:20:47.548Z"
   },
   {
    "duration": 264,
    "start_time": "2024-09-09T19:20:47.950Z"
   },
   {
    "duration": 127,
    "start_time": "2024-09-09T19:20:48.215Z"
   },
   {
    "duration": 6,
    "start_time": "2024-09-09T19:20:48.344Z"
   },
   {
    "duration": 71,
    "start_time": "2024-09-09T19:20:48.352Z"
   },
   {
    "duration": 9260,
    "start_time": "2024-09-09T19:20:48.424Z"
   },
   {
    "duration": 14,
    "start_time": "2024-09-09T19:20:57.697Z"
   },
   {
    "duration": 402,
    "start_time": "2024-09-09T19:20:57.712Z"
   },
   {
    "duration": 21,
    "start_time": "2024-09-09T19:20:58.116Z"
   },
   {
    "duration": 124,
    "start_time": "2024-09-09T19:20:58.139Z"
   },
   {
    "duration": 6,
    "start_time": "2024-09-09T19:20:58.265Z"
   },
   {
    "duration": 208,
    "start_time": "2024-09-09T19:20:58.273Z"
   },
   {
    "duration": 79,
    "start_time": "2024-09-09T19:20:58.483Z"
   },
   {
    "duration": 70,
    "start_time": "2024-09-09T19:20:58.564Z"
   },
   {
    "duration": 5,
    "start_time": "2024-09-09T19:20:58.635Z"
   },
   {
    "duration": 74,
    "start_time": "2024-09-09T19:20:58.641Z"
   },
   {
    "duration": 14,
    "start_time": "2024-09-09T19:20:58.717Z"
   },
   {
    "duration": 122,
    "start_time": "2024-09-09T19:20:58.733Z"
   },
   {
    "duration": 6,
    "start_time": "2024-09-09T19:20:58.857Z"
   },
   {
    "duration": 80,
    "start_time": "2024-09-09T19:20:58.865Z"
   },
   {
    "duration": 61,
    "start_time": "2024-09-09T19:20:58.946Z"
   },
   {
    "duration": 46,
    "start_time": "2024-09-09T19:22:17.430Z"
   },
   {
    "duration": 1519,
    "start_time": "2024-09-09T19:36:44.540Z"
   },
   {
    "duration": 87,
    "start_time": "2024-09-09T19:36:46.061Z"
   },
   {
    "duration": 5,
    "start_time": "2024-09-09T19:36:46.149Z"
   },
   {
    "duration": 34,
    "start_time": "2024-09-09T19:36:46.155Z"
   },
   {
    "duration": 7,
    "start_time": "2024-09-09T19:36:46.192Z"
   },
   {
    "duration": 54,
    "start_time": "2024-09-09T19:36:46.201Z"
   },
   {
    "duration": 249,
    "start_time": "2024-09-09T19:36:46.257Z"
   },
   {
    "duration": 291,
    "start_time": "2024-09-09T19:36:46.507Z"
   },
   {
    "duration": 140,
    "start_time": "2024-09-09T19:36:46.799Z"
   },
   {
    "duration": 221,
    "start_time": "2024-09-09T19:36:46.941Z"
   },
   {
    "duration": 402,
    "start_time": "2024-09-09T19:36:47.163Z"
   },
   {
    "duration": 5,
    "start_time": "2024-09-09T19:36:47.567Z"
   },
   {
    "duration": 406,
    "start_time": "2024-09-09T19:36:47.574Z"
   },
   {
    "duration": 274,
    "start_time": "2024-09-09T19:36:47.983Z"
   },
   {
    "duration": 124,
    "start_time": "2024-09-09T19:36:48.258Z"
   },
   {
    "duration": 5,
    "start_time": "2024-09-09T19:36:48.383Z"
   },
   {
    "duration": 61,
    "start_time": "2024-09-09T19:36:48.398Z"
   },
   {
    "duration": 11242,
    "start_time": "2024-09-09T19:36:48.463Z"
   },
   {
    "duration": 14,
    "start_time": "2024-09-09T19:36:59.706Z"
   },
   {
    "duration": 435,
    "start_time": "2024-09-09T19:36:59.721Z"
   },
   {
    "duration": 40,
    "start_time": "2024-09-09T19:37:00.159Z"
   },
   {
    "duration": 130,
    "start_time": "2024-09-09T19:37:00.200Z"
   },
   {
    "duration": 9,
    "start_time": "2024-09-09T19:37:00.332Z"
   },
   {
    "duration": 221,
    "start_time": "2024-09-09T19:37:00.343Z"
   },
   {
    "duration": 73,
    "start_time": "2024-09-09T19:37:00.566Z"
   },
   {
    "duration": 66,
    "start_time": "2024-09-09T19:37:00.641Z"
   },
   {
    "duration": 12,
    "start_time": "2024-09-09T19:37:00.708Z"
   },
   {
    "duration": 167,
    "start_time": "2024-09-09T19:37:00.722Z"
   },
   {
    "duration": 14,
    "start_time": "2024-09-09T19:37:00.891Z"
   },
   {
    "duration": 159,
    "start_time": "2024-09-09T19:37:00.907Z"
   },
   {
    "duration": 6,
    "start_time": "2024-09-09T19:37:01.067Z"
   },
   {
    "duration": 77,
    "start_time": "2024-09-09T19:37:01.074Z"
   },
   {
    "duration": 78,
    "start_time": "2024-09-09T19:37:01.153Z"
   },
   {
    "duration": 1585,
    "start_time": "2024-09-09T19:47:41.080Z"
   },
   {
    "duration": 97,
    "start_time": "2024-09-09T19:47:42.667Z"
   },
   {
    "duration": 4,
    "start_time": "2024-09-09T19:47:42.765Z"
   },
   {
    "duration": 42,
    "start_time": "2024-09-09T19:47:42.771Z"
   },
   {
    "duration": 4,
    "start_time": "2024-09-09T19:47:42.815Z"
   },
   {
    "duration": 55,
    "start_time": "2024-09-09T19:47:42.820Z"
   },
   {
    "duration": 258,
    "start_time": "2024-09-09T19:47:42.877Z"
   },
   {
    "duration": 276,
    "start_time": "2024-09-09T19:47:43.136Z"
   },
   {
    "duration": 142,
    "start_time": "2024-09-09T19:47:43.415Z"
   },
   {
    "duration": 252,
    "start_time": "2024-09-09T19:47:43.559Z"
   },
   {
    "duration": 401,
    "start_time": "2024-09-09T19:47:43.813Z"
   },
   {
    "duration": 4,
    "start_time": "2024-09-09T19:47:44.215Z"
   },
   {
    "duration": 385,
    "start_time": "2024-09-09T19:47:44.221Z"
   },
   {
    "duration": 275,
    "start_time": "2024-09-09T19:47:44.613Z"
   },
   {
    "duration": 142,
    "start_time": "2024-09-09T19:47:44.897Z"
   },
   {
    "duration": 4,
    "start_time": "2024-09-09T19:47:45.041Z"
   },
   {
    "duration": 38,
    "start_time": "2024-09-09T19:47:45.046Z"
   },
   {
    "duration": 10024,
    "start_time": "2024-09-09T19:47:45.086Z"
   },
   {
    "duration": 18,
    "start_time": "2024-09-09T19:47:55.112Z"
   },
   {
    "duration": 490,
    "start_time": "2024-09-09T19:47:55.132Z"
   },
   {
    "duration": 24,
    "start_time": "2024-09-09T19:47:55.623Z"
   },
   {
    "duration": 136,
    "start_time": "2024-09-09T19:47:55.649Z"
   },
   {
    "duration": 16,
    "start_time": "2024-09-09T19:47:55.787Z"
   },
   {
    "duration": 216,
    "start_time": "2024-09-09T19:47:55.813Z"
   },
   {
    "duration": 81,
    "start_time": "2024-09-09T19:47:56.030Z"
   },
   {
    "duration": 55,
    "start_time": "2024-09-09T19:47:56.113Z"
   },
   {
    "duration": 4,
    "start_time": "2024-09-09T19:47:56.170Z"
   },
   {
    "duration": 73,
    "start_time": "2024-09-09T19:47:56.176Z"
   },
   {
    "duration": 14,
    "start_time": "2024-09-09T19:47:56.251Z"
   },
   {
    "duration": 127,
    "start_time": "2024-09-09T19:47:56.266Z"
   },
   {
    "duration": 18,
    "start_time": "2024-09-09T19:47:56.395Z"
   },
   {
    "duration": 140,
    "start_time": "2024-09-09T19:47:56.415Z"
   },
   {
    "duration": 69,
    "start_time": "2024-09-09T19:47:56.557Z"
   },
   {
    "duration": 161,
    "start_time": "2024-09-09T21:53:41.547Z"
   },
   {
    "duration": 1777,
    "start_time": "2024-09-10T04:40:42.605Z"
   },
   {
    "duration": 276,
    "start_time": "2024-09-10T04:40:44.385Z"
   },
   {
    "duration": 3,
    "start_time": "2024-09-10T04:40:44.662Z"
   },
   {
    "duration": 28,
    "start_time": "2024-09-10T04:40:44.667Z"
   },
   {
    "duration": 3,
    "start_time": "2024-09-10T04:40:44.698Z"
   },
   {
    "duration": 101,
    "start_time": "2024-09-10T04:40:44.702Z"
   },
   {
    "duration": 289,
    "start_time": "2024-09-10T04:40:44.805Z"
   },
   {
    "duration": 293,
    "start_time": "2024-09-10T04:40:45.096Z"
   },
   {
    "duration": 131,
    "start_time": "2024-09-10T04:40:45.391Z"
   },
   {
    "duration": 212,
    "start_time": "2024-09-10T04:40:45.524Z"
   },
   {
    "duration": 433,
    "start_time": "2024-09-10T04:40:45.738Z"
   },
   {
    "duration": 5,
    "start_time": "2024-09-10T04:40:46.172Z"
   },
   {
    "duration": 1054,
    "start_time": "2024-09-10T04:40:46.179Z"
   },
   {
    "duration": 281,
    "start_time": "2024-09-10T04:40:47.237Z"
   },
   {
    "duration": 234,
    "start_time": "2024-09-10T04:40:47.520Z"
   },
   {
    "duration": 4,
    "start_time": "2024-09-10T04:40:47.756Z"
   },
   {
    "duration": 3,
    "start_time": "2024-09-10T04:40:47.762Z"
   },
   {
    "duration": 9254,
    "start_time": "2024-09-10T04:40:47.766Z"
   },
   {
    "duration": 37,
    "start_time": "2024-09-10T04:40:57.021Z"
   },
   {
    "duration": 418,
    "start_time": "2024-09-10T04:40:57.059Z"
   },
   {
    "duration": 25,
    "start_time": "2024-09-10T04:40:57.478Z"
   },
   {
    "duration": 146,
    "start_time": "2024-09-10T04:40:57.505Z"
   },
   {
    "duration": 6,
    "start_time": "2024-09-10T04:40:57.653Z"
   },
   {
    "duration": 207,
    "start_time": "2024-09-10T04:40:57.661Z"
   },
   {
    "duration": 62,
    "start_time": "2024-09-10T04:40:57.870Z"
   },
   {
    "duration": 70,
    "start_time": "2024-09-10T04:40:57.933Z"
   },
   {
    "duration": 6,
    "start_time": "2024-09-10T04:40:58.004Z"
   },
   {
    "duration": 85,
    "start_time": "2024-09-10T04:40:58.011Z"
   },
   {
    "duration": 14,
    "start_time": "2024-09-10T04:40:58.098Z"
   },
   {
    "duration": 116,
    "start_time": "2024-09-10T04:40:58.113Z"
   },
   {
    "duration": 5,
    "start_time": "2024-09-10T04:40:58.231Z"
   },
   {
    "duration": 70,
    "start_time": "2024-09-10T04:40:58.238Z"
   },
   {
    "duration": 75,
    "start_time": "2024-09-10T04:40:58.309Z"
   },
   {
    "duration": 49,
    "start_time": "2024-09-10T16:17:42.787Z"
   },
   {
    "duration": 1752,
    "start_time": "2024-09-10T16:17:50.725Z"
   },
   {
    "duration": 246,
    "start_time": "2024-09-10T16:17:52.479Z"
   },
   {
    "duration": 3,
    "start_time": "2024-09-10T16:17:52.726Z"
   },
   {
    "duration": 46,
    "start_time": "2024-09-10T16:17:52.731Z"
   },
   {
    "duration": 25,
    "start_time": "2024-09-10T16:17:52.778Z"
   },
   {
    "duration": 60,
    "start_time": "2024-09-10T16:17:52.805Z"
   },
   {
    "duration": 225,
    "start_time": "2024-09-10T16:17:52.866Z"
   },
   {
    "duration": 332,
    "start_time": "2024-09-10T16:17:53.092Z"
   },
   {
    "duration": 157,
    "start_time": "2024-09-10T16:17:53.425Z"
   },
   {
    "duration": 219,
    "start_time": "2024-09-10T16:17:53.584Z"
   },
   {
    "duration": 387,
    "start_time": "2024-09-10T16:17:53.805Z"
   },
   {
    "duration": 5,
    "start_time": "2024-09-10T16:17:54.193Z"
   },
   {
    "duration": 401,
    "start_time": "2024-09-10T16:17:54.199Z"
   },
   {
    "duration": 290,
    "start_time": "2024-09-10T16:17:54.601Z"
   },
   {
    "duration": 173,
    "start_time": "2024-09-10T16:17:54.892Z"
   },
   {
    "duration": 6,
    "start_time": "2024-09-10T16:17:55.067Z"
   },
   {
    "duration": 10,
    "start_time": "2024-09-10T16:17:55.074Z"
   },
   {
    "duration": 9781,
    "start_time": "2024-09-10T16:17:55.086Z"
   },
   {
    "duration": 14,
    "start_time": "2024-09-10T16:18:04.870Z"
   },
   {
    "duration": 436,
    "start_time": "2024-09-10T16:18:04.885Z"
   },
   {
    "duration": 22,
    "start_time": "2024-09-10T16:18:05.322Z"
   },
   {
    "duration": 221,
    "start_time": "2024-09-10T16:18:05.346Z"
   },
   {
    "duration": 6,
    "start_time": "2024-09-10T16:18:05.569Z"
   },
   {
    "duration": 202,
    "start_time": "2024-09-10T16:18:05.577Z"
   },
   {
    "duration": 81,
    "start_time": "2024-09-10T16:18:05.781Z"
   },
   {
    "duration": 64,
    "start_time": "2024-09-10T16:18:05.864Z"
   },
   {
    "duration": 4,
    "start_time": "2024-09-10T16:18:05.930Z"
   },
   {
    "duration": 62,
    "start_time": "2024-09-10T16:18:05.937Z"
   },
   {
    "duration": 31,
    "start_time": "2024-09-10T16:18:06.001Z"
   },
   {
    "duration": 153,
    "start_time": "2024-09-10T16:18:06.033Z"
   },
   {
    "duration": 5,
    "start_time": "2024-09-10T16:18:06.188Z"
   },
   {
    "duration": 76,
    "start_time": "2024-09-10T16:18:06.195Z"
   },
   {
    "duration": 61,
    "start_time": "2024-09-10T16:18:06.272Z"
   },
   {
    "duration": 59,
    "start_time": "2024-09-10T16:22:30.548Z"
   },
   {
    "duration": 9,
    "start_time": "2024-09-10T16:22:47.030Z"
   },
   {
    "duration": 9,
    "start_time": "2024-09-10T16:23:21.103Z"
   },
   {
    "duration": 9,
    "start_time": "2024-09-10T16:23:35.976Z"
   },
   {
    "duration": 8,
    "start_time": "2024-09-10T16:23:39.651Z"
   },
   {
    "duration": 13,
    "start_time": "2024-09-10T16:24:17.738Z"
   },
   {
    "duration": 9,
    "start_time": "2024-09-10T16:24:44.237Z"
   },
   {
    "duration": 49,
    "start_time": "2024-09-10T16:26:26.856Z"
   },
   {
    "duration": 72,
    "start_time": "2024-09-10T16:27:22.378Z"
   },
   {
    "duration": 8,
    "start_time": "2024-09-10T16:27:24.873Z"
   },
   {
    "duration": 15,
    "start_time": "2024-09-10T16:28:22.691Z"
   },
   {
    "duration": 13,
    "start_time": "2024-09-10T16:28:27.381Z"
   },
   {
    "duration": 10,
    "start_time": "2024-09-10T16:28:32.592Z"
   },
   {
    "duration": 14,
    "start_time": "2024-09-10T16:29:14.693Z"
   },
   {
    "duration": 14,
    "start_time": "2024-09-10T16:29:37.467Z"
   },
   {
    "duration": 8,
    "start_time": "2024-09-10T16:41:34.294Z"
   },
   {
    "duration": 28,
    "start_time": "2024-09-10T16:41:59.470Z"
   },
   {
    "duration": 243,
    "start_time": "2024-09-10T16:42:13.659Z"
   },
   {
    "duration": 1562,
    "start_time": "2024-09-10T16:42:32.853Z"
   },
   {
    "duration": 84,
    "start_time": "2024-09-10T16:42:34.418Z"
   },
   {
    "duration": 3,
    "start_time": "2024-09-10T16:42:34.504Z"
   },
   {
    "duration": 52,
    "start_time": "2024-09-10T16:42:34.509Z"
   },
   {
    "duration": 3,
    "start_time": "2024-09-10T16:42:34.563Z"
   },
   {
    "duration": 68,
    "start_time": "2024-09-10T16:42:34.567Z"
   },
   {
    "duration": 14,
    "start_time": "2024-09-10T16:42:34.637Z"
   },
   {
    "duration": 250,
    "start_time": "2024-09-10T16:42:34.652Z"
   },
   {
    "duration": 255,
    "start_time": "2024-09-10T16:42:34.904Z"
   },
   {
    "duration": 140,
    "start_time": "2024-09-10T16:42:35.164Z"
   },
   {
    "duration": 223,
    "start_time": "2024-09-10T16:42:35.305Z"
   },
   {
    "duration": 406,
    "start_time": "2024-09-10T16:42:35.530Z"
   },
   {
    "duration": 5,
    "start_time": "2024-09-10T16:42:35.938Z"
   },
   {
    "duration": 417,
    "start_time": "2024-09-10T16:42:35.946Z"
   },
   {
    "duration": 271,
    "start_time": "2024-09-10T16:42:36.365Z"
   },
   {
    "duration": 126,
    "start_time": "2024-09-10T16:42:36.638Z"
   },
   {
    "duration": 5,
    "start_time": "2024-09-10T16:42:36.765Z"
   },
   {
    "duration": 19,
    "start_time": "2024-09-10T16:42:36.771Z"
   },
   {
    "duration": 9785,
    "start_time": "2024-09-10T16:42:36.792Z"
   },
   {
    "duration": 48,
    "start_time": "2024-09-10T16:42:46.579Z"
   },
   {
    "duration": 406,
    "start_time": "2024-09-10T16:42:46.630Z"
   },
   {
    "duration": 22,
    "start_time": "2024-09-10T16:42:47.038Z"
   },
   {
    "duration": 187,
    "start_time": "2024-09-10T16:42:47.062Z"
   },
   {
    "duration": 9,
    "start_time": "2024-09-10T16:42:47.251Z"
   },
   {
    "duration": 235,
    "start_time": "2024-09-10T16:42:47.262Z"
   },
   {
    "duration": 74,
    "start_time": "2024-09-10T16:42:47.499Z"
   },
   {
    "duration": 68,
    "start_time": "2024-09-10T16:42:47.575Z"
   },
   {
    "duration": 6,
    "start_time": "2024-09-10T16:42:47.647Z"
   },
   {
    "duration": 78,
    "start_time": "2024-09-10T16:42:47.654Z"
   },
   {
    "duration": 15,
    "start_time": "2024-09-10T16:42:47.734Z"
   },
   {
    "duration": 137,
    "start_time": "2024-09-10T16:42:47.751Z"
   },
   {
    "duration": 6,
    "start_time": "2024-09-10T16:42:47.890Z"
   },
   {
    "duration": 92,
    "start_time": "2024-09-10T16:42:47.898Z"
   },
   {
    "duration": 68,
    "start_time": "2024-09-10T16:42:47.992Z"
   },
   {
    "duration": 10,
    "start_time": "2024-09-10T16:43:02.912Z"
   },
   {
    "duration": 35,
    "start_time": "2024-09-10T16:43:46.301Z"
   },
   {
    "duration": 17,
    "start_time": "2024-09-10T16:43:55.508Z"
   },
   {
    "duration": 13,
    "start_time": "2024-09-10T16:44:01.780Z"
   },
   {
    "duration": 69,
    "start_time": "2024-09-10T16:48:36.258Z"
   },
   {
    "duration": 4,
    "start_time": "2024-09-10T16:51:35.777Z"
   },
   {
    "duration": 9,
    "start_time": "2024-09-10T16:53:13.793Z"
   },
   {
    "duration": 7,
    "start_time": "2024-09-10T16:53:30.071Z"
   },
   {
    "duration": 15,
    "start_time": "2024-09-10T16:53:38.216Z"
   },
   {
    "duration": 7,
    "start_time": "2024-09-10T16:53:41.635Z"
   },
   {
    "duration": 15,
    "start_time": "2024-09-10T16:54:53.450Z"
   },
   {
    "duration": 17,
    "start_time": "2024-09-10T16:54:58.947Z"
   },
   {
    "duration": 11,
    "start_time": "2024-09-10T16:55:04.580Z"
   },
   {
    "duration": 7,
    "start_time": "2024-09-10T16:55:48.231Z"
   },
   {
    "duration": 13,
    "start_time": "2024-09-10T16:55:59.477Z"
   },
   {
    "duration": 6,
    "start_time": "2024-09-10T16:56:02.050Z"
   },
   {
    "duration": 12,
    "start_time": "2024-09-10T16:56:07.337Z"
   },
   {
    "duration": 9,
    "start_time": "2024-09-10T16:56:24.398Z"
   },
   {
    "duration": 8,
    "start_time": "2024-09-10T17:00:29.227Z"
   },
   {
    "duration": 8,
    "start_time": "2024-09-10T17:00:36.316Z"
   },
   {
    "duration": 9,
    "start_time": "2024-09-10T17:02:32.605Z"
   },
   {
    "duration": 9,
    "start_time": "2024-09-10T17:02:36.425Z"
   },
   {
    "duration": 9,
    "start_time": "2024-09-10T17:02:40.326Z"
   },
   {
    "duration": 7,
    "start_time": "2024-09-10T17:02:57.837Z"
   },
   {
    "duration": 7,
    "start_time": "2024-09-10T17:03:07.179Z"
   },
   {
    "duration": 109,
    "start_time": "2024-09-10T17:04:23.733Z"
   },
   {
    "duration": 99,
    "start_time": "2024-09-10T17:05:29.583Z"
   },
   {
    "duration": 65,
    "start_time": "2024-09-10T17:06:41.671Z"
   },
   {
    "duration": 101,
    "start_time": "2024-09-10T17:06:47.388Z"
   },
   {
    "duration": 61,
    "start_time": "2024-09-10T17:07:40.116Z"
   },
   {
    "duration": 1405,
    "start_time": "2024-09-10T17:48:22.237Z"
   },
   {
    "duration": 74,
    "start_time": "2024-09-10T17:48:23.644Z"
   },
   {
    "duration": 3,
    "start_time": "2024-09-10T17:48:23.720Z"
   },
   {
    "duration": 28,
    "start_time": "2024-09-10T17:48:23.725Z"
   },
   {
    "duration": 8,
    "start_time": "2024-09-10T17:48:23.755Z"
   },
   {
    "duration": 55,
    "start_time": "2024-09-10T17:48:23.765Z"
   },
   {
    "duration": 12,
    "start_time": "2024-09-10T17:48:23.821Z"
   },
   {
    "duration": 213,
    "start_time": "2024-09-10T17:48:23.835Z"
   },
   {
    "duration": 191,
    "start_time": "2024-09-10T17:48:24.049Z"
   },
   {
    "duration": 792,
    "start_time": "2024-09-10T17:48:24.241Z"
   },
   {
    "duration": 399,
    "start_time": "2024-09-10T17:48:25.035Z"
   },
   {
    "duration": 302,
    "start_time": "2024-09-10T17:48:25.435Z"
   },
   {
    "duration": 5,
    "start_time": "2024-09-10T17:48:25.738Z"
   },
   {
    "duration": 225,
    "start_time": "2024-09-10T17:48:25.745Z"
   },
   {
    "duration": 159,
    "start_time": "2024-09-10T17:48:25.971Z"
   },
   {
    "duration": 108,
    "start_time": "2024-09-10T17:48:26.131Z"
   },
   {
    "duration": 3,
    "start_time": "2024-09-10T17:48:26.241Z"
   },
   {
    "duration": 12,
    "start_time": "2024-09-10T17:48:26.245Z"
   },
   {
    "duration": 7838,
    "start_time": "2024-09-10T17:48:26.259Z"
   },
   {
    "duration": 15,
    "start_time": "2024-09-10T17:48:34.106Z"
   },
   {
    "duration": 435,
    "start_time": "2024-09-10T17:48:34.123Z"
   },
   {
    "duration": 20,
    "start_time": "2024-09-10T17:48:34.560Z"
   },
   {
    "duration": 116,
    "start_time": "2024-09-10T17:48:34.582Z"
   },
   {
    "duration": 8,
    "start_time": "2024-09-10T17:48:34.699Z"
   },
   {
    "duration": 254,
    "start_time": "2024-09-10T17:48:34.708Z"
   },
   {
    "duration": 55,
    "start_time": "2024-09-10T17:48:34.964Z"
   },
   {
    "duration": 47,
    "start_time": "2024-09-10T17:48:35.021Z"
   },
   {
    "duration": 4,
    "start_time": "2024-09-10T17:48:35.070Z"
   },
   {
    "duration": 74,
    "start_time": "2024-09-10T17:48:35.076Z"
   },
   {
    "duration": 12,
    "start_time": "2024-09-10T17:48:35.152Z"
   },
   {
    "duration": 109,
    "start_time": "2024-09-10T17:48:35.165Z"
   },
   {
    "duration": 7,
    "start_time": "2024-09-10T17:48:35.275Z"
   },
   {
    "duration": 67,
    "start_time": "2024-09-10T17:48:35.283Z"
   },
   {
    "duration": 98,
    "start_time": "2024-09-10T17:48:35.352Z"
   },
   {
    "duration": 194,
    "start_time": "2024-09-10T17:49:14.691Z"
   },
   {
    "duration": 50,
    "start_time": "2024-09-10T17:50:43.238Z"
   },
   {
    "duration": 10,
    "start_time": "2024-09-10T17:50:53.045Z"
   },
   {
    "duration": 1498,
    "start_time": "2024-09-26T12:48:19.430Z"
   },
   {
    "duration": 86,
    "start_time": "2024-09-26T12:48:20.930Z"
   },
   {
    "duration": 3,
    "start_time": "2024-09-26T12:48:21.018Z"
   },
   {
    "duration": 39,
    "start_time": "2024-09-26T12:48:21.022Z"
   },
   {
    "duration": 3,
    "start_time": "2024-09-26T12:48:21.063Z"
   },
   {
    "duration": 65,
    "start_time": "2024-09-26T12:48:21.067Z"
   },
   {
    "duration": 14,
    "start_time": "2024-09-26T12:48:21.133Z"
   },
   {
    "duration": 238,
    "start_time": "2024-09-26T12:48:21.149Z"
   },
   {
    "duration": 207,
    "start_time": "2024-09-26T12:48:21.389Z"
   },
   {
    "duration": 137,
    "start_time": "2024-09-26T12:48:21.598Z"
   },
   {
    "duration": 377,
    "start_time": "2024-09-26T12:48:21.736Z"
   },
   {
    "duration": 307,
    "start_time": "2024-09-26T12:48:22.114Z"
   },
   {
    "duration": 4,
    "start_time": "2024-09-26T12:48:22.423Z"
   },
   {
    "duration": 271,
    "start_time": "2024-09-26T12:48:22.430Z"
   },
   {
    "duration": 184,
    "start_time": "2024-09-26T12:48:22.703Z"
   },
   {
    "duration": 127,
    "start_time": "2024-09-26T12:48:22.888Z"
   },
   {
    "duration": 5,
    "start_time": "2024-09-26T12:48:23.016Z"
   },
   {
    "duration": 19,
    "start_time": "2024-09-26T12:48:23.022Z"
   },
   {
    "duration": 8944,
    "start_time": "2024-09-26T12:48:23.043Z"
   },
   {
    "duration": 30,
    "start_time": "2024-09-26T12:48:31.989Z"
   },
   {
    "duration": 407,
    "start_time": "2024-09-26T12:48:32.021Z"
   },
   {
    "duration": 19,
    "start_time": "2024-09-26T12:48:32.430Z"
   },
   {
    "duration": 134,
    "start_time": "2024-09-26T12:48:32.451Z"
   },
   {
    "duration": 7,
    "start_time": "2024-09-26T12:48:32.586Z"
   },
   {
    "duration": 201,
    "start_time": "2024-09-26T12:48:32.594Z"
   },
   {
    "duration": 62,
    "start_time": "2024-09-26T12:48:32.797Z"
   },
   {
    "duration": 69,
    "start_time": "2024-09-26T12:48:32.860Z"
   },
   {
    "duration": 5,
    "start_time": "2024-09-26T12:48:32.930Z"
   },
   {
    "duration": 78,
    "start_time": "2024-09-26T12:48:32.936Z"
   },
   {
    "duration": 14,
    "start_time": "2024-09-26T12:48:33.015Z"
   },
   {
    "duration": 116,
    "start_time": "2024-09-26T12:48:33.031Z"
   },
   {
    "duration": 7,
    "start_time": "2024-09-26T12:48:33.149Z"
   },
   {
    "duration": 72,
    "start_time": "2024-09-26T12:48:33.157Z"
   },
   {
    "duration": 105,
    "start_time": "2024-09-26T12:48:33.230Z"
   },
   {
    "duration": 11,
    "start_time": "2024-09-26T12:48:36.952Z"
   }
  ],
  "kernelspec": {
   "display_name": "Python 3 (ipykernel)",
   "language": "python",
   "name": "python3"
  },
  "language_info": {
   "codemirror_mode": {
    "name": "ipython",
    "version": 3
   },
   "file_extension": ".py",
   "mimetype": "text/x-python",
   "name": "python",
   "nbconvert_exporter": "python",
   "pygments_lexer": "ipython3",
   "version": "3.12.4"
  },
  "toc": {
   "base_numbering": 1,
   "nav_menu": {
    "height": "431.753px",
    "width": "636.736px"
   },
   "number_sections": true,
   "sideBar": true,
   "skip_h1_title": true,
   "title_cell": "Table of Contents",
   "title_sidebar": "Contents",
   "toc_cell": false,
   "toc_position": {
    "height": "calc(100% - 180px)",
    "left": "10px",
    "top": "150px",
    "width": "369.653px"
   },
   "toc_section_display": true,
   "toc_window_display": true
  }
 },
 "nbformat": 4,
 "nbformat_minor": 4
}
