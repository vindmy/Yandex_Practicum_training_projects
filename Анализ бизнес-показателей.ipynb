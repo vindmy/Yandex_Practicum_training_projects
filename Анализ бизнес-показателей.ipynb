{
 "cells": [
  {
   "cell_type": "markdown",
   "metadata": {},
   "source": [
    "# Проект: Анализ бизнес-показателей"
   ]
  },
  {
   "cell_type": "markdown",
   "metadata": {},
   "source": [
    "Я — маркетинговый аналитик развлекательного приложения Procrastinate Pro+. После сделанных вложений, компания терпит убытки на протяжении нескольких месяцев. Нужно разобраться в причинах и помочь компании выйти в плюс."
   ]
  },
  {
   "cell_type": "markdown",
   "metadata": {},
   "source": [
    "# Описание данных"
   ]
  },
  {
   "cell_type": "markdown",
   "metadata": {},
   "source": [
    "В распоряжении три датасета. Файл visits_info_short.csv хранит лог сервера с информацией о посещениях сайта, orders_info_short.csv — информацию о заказах, а costs_info_short.csv — информацию о расходах на рекламу.  \n",
    "Структура visits_info_short.csv:\n",
    "- User Id — уникальный идентификатор пользователя,\n",
    "- Region — страна пользователя,\n",
    "- Device — тип устройства пользователя,\n",
    "- Channel — идентификатор источника перехода,\n",
    "- Session Start — дата и время начала сессии,\n",
    "- Session End — дата и время окончания сессии.  \n",
    "\n",
    "Структура orders_info_short.csv:\n",
    "- User Id — уникальный идентификатор пользователя,\n",
    "- Event Dt — дата и время покупки,\n",
    "- Revenue — сумма заказа.  \n",
    "\n",
    "Структура costs_info_short.csv:\n",
    "- dt — дата проведения рекламной кампании,\n",
    "- Channel — идентификатор рекламного источника,\n",
    "- costs — расходы на эту кампанию."
   ]
  },
  {
   "cell_type": "markdown",
   "metadata": {},
   "source": [
    "# План работы\n",
    "**Шаг 1. Загрузка данных и подготовка к анализу  \n",
    "Шаг 2. Функции для расчёта и анализа LTV, ROI, удержания и конверсии  \n",
    "Шаг 3. Исследовательский анализ данных  \n",
    "Шаг 4. Маркетинг  \n",
    "Шаг 5. Оценка окупаемости рекламы** "
   ]
  },
  {
   "cell_type": "markdown",
   "metadata": {
    "id": "r-BO88CnWVwe"
   },
   "source": [
    "### Загрузите данные и подготовьте их к анализу"
   ]
  },
  {
   "cell_type": "markdown",
   "metadata": {
    "id": "LCZi0P80WVwj"
   },
   "source": [
    "Загрузите данные о визитах, заказах и рекламных расходах из CSV-файлов в переменные.\n",
    "\n",
    "**Пути к файлам**\n",
    "\n",
    "- визиты: `/datasets/visits_info_short.csv`. [Скачать датасет](https://code.s3.yandex.net/datasets/visits_info_short.csv);\n",
    "- заказы: `/datasets/orders_info_short.csv`. [Скачать датасет](https://code.s3.yandex.net/datasets/orders_info_short.csv);\n",
    "- расходы: `/datasets/costs_info_short.csv`. [Скачать датасет](https://code.s3.yandex.net/datasets/costs_info_short.csv).\n",
    "\n",
    "Изучите данные и выполните предобработку. Есть ли в данных пропуски и дубликаты? Убедитесь, что типы данных во всех колонках соответствуют сохранённым в них значениям. Обратите внимание на столбцы с датой и временем."
   ]
  },
  {
   "cell_type": "code",
   "execution_count": 1,
   "metadata": {
    "id": "_vsKinGUWVwk"
   },
   "outputs": [],
   "source": [
    "import pandas as pd\n",
    "from datetime import datetime, timedelta\n",
    "import seaborn as sns\n",
    "from matplotlib import pyplot as plt\n",
    "%matplotlib inline\n",
    "import numpy as np\n",
    "import warnings\n",
    "warnings.filterwarnings('ignore')"
   ]
  },
  {
   "cell_type": "code",
   "execution_count": 2,
   "metadata": {},
   "outputs": [],
   "source": [
    "def info_frames(*frames):\n",
    "    for frame in frames:\n",
    "        frame.info()\n",
    "        print()\n",
    "        print('\\033[1m' + 'Количество дубликатов в таблице:' + '\\033[0m', frame.duplicated().sum())\n",
    "        print()       "
   ]
  },
  {
   "cell_type": "code",
   "execution_count": 3,
   "metadata": {},
   "outputs": [],
   "source": [
    "visits = pd.read_csv('https://code.s3.yandex.net/datasets/visits_info_short.csv')\n",
    "orders = pd.read_csv('https://code.s3.yandex.net/datasets/orders_info_short.csv')\n",
    "costs = pd.read_csv('https://code.s3.yandex.net/datasets/costs_info_short.csv')"
   ]
  },
  {
   "cell_type": "code",
   "execution_count": 4,
   "metadata": {},
   "outputs": [
    {
     "name": "stdout",
     "output_type": "stream",
     "text": [
      "<class 'pandas.core.frame.DataFrame'>\n",
      "RangeIndex: 309901 entries, 0 to 309900\n",
      "Data columns (total 6 columns):\n",
      " #   Column         Non-Null Count   Dtype \n",
      "---  ------         --------------   ----- \n",
      " 0   User Id        309901 non-null  int64 \n",
      " 1   Region         309901 non-null  object\n",
      " 2   Device         309901 non-null  object\n",
      " 3   Channel        309901 non-null  object\n",
      " 4   Session Start  309901 non-null  object\n",
      " 5   Session End    309901 non-null  object\n",
      "dtypes: int64(1), object(5)\n",
      "memory usage: 14.2+ MB\n",
      "\n",
      "\u001b[1mКоличество дубликатов в таблице:\u001b[0m 0\n",
      "\n",
      "<class 'pandas.core.frame.DataFrame'>\n",
      "RangeIndex: 40212 entries, 0 to 40211\n",
      "Data columns (total 3 columns):\n",
      " #   Column    Non-Null Count  Dtype  \n",
      "---  ------    --------------  -----  \n",
      " 0   User Id   40212 non-null  int64  \n",
      " 1   Event Dt  40212 non-null  object \n",
      " 2   Revenue   40212 non-null  float64\n",
      "dtypes: float64(1), int64(1), object(1)\n",
      "memory usage: 942.6+ KB\n",
      "\n",
      "\u001b[1mКоличество дубликатов в таблице:\u001b[0m 0\n",
      "\n",
      "<class 'pandas.core.frame.DataFrame'>\n",
      "RangeIndex: 1800 entries, 0 to 1799\n",
      "Data columns (total 3 columns):\n",
      " #   Column   Non-Null Count  Dtype  \n",
      "---  ------   --------------  -----  \n",
      " 0   dt       1800 non-null   object \n",
      " 1   Channel  1800 non-null   object \n",
      " 2   costs    1800 non-null   float64\n",
      "dtypes: float64(1), object(2)\n",
      "memory usage: 42.3+ KB\n",
      "\n",
      "\u001b[1mКоличество дубликатов в таблице:\u001b[0m 0\n",
      "\n"
     ]
    }
   ],
   "source": [
    "info_frames(visits, orders, costs)"
   ]
  },
  {
   "cell_type": "code",
   "execution_count": 5,
   "metadata": {},
   "outputs": [
    {
     "name": "stdout",
     "output_type": "stream",
     "text": [
      "Список уникальных значений в столбце Region таблицы посещений: ['United States', 'UK', 'France', 'Germany'] \n",
      "\n",
      "Список уникальных значений в столбце Device таблицы посещений: ['iPhone', 'Mac', 'Android', 'PC'] \n",
      "\n",
      "Список уникальных значений в столбце Channel таблицы посещений: ['organic', 'TipTop', 'RocketSuperAds', 'YRabbit', 'FaceBoom', 'MediaTornado', 'AdNonSense', 'LeapBob', 'WahooNetBanner', 'OppleCreativeMedia', 'lambdaMediaAds'] \n",
      "\n",
      "Список уникальных значений в столбце Region таблицы расходов: ['FaceBoom', 'MediaTornado', 'RocketSuperAds', 'TipTop', 'YRabbit', 'AdNonSense', 'LeapBob', 'OppleCreativeMedia', 'WahooNetBanner', 'lambdaMediaAds']\n"
     ]
    }
   ],
   "source": [
    "print('Список уникальных значений в столбце Region таблицы посещений:', list(visits['Region'].unique()), '\\n')\n",
    "print('Список уникальных значений в столбце Device таблицы посещений:', list(visits['Device'].unique()), '\\n')\n",
    "print('Список уникальных значений в столбце Channel таблицы посещений:', list(visits['Channel'].unique()), '\\n')\n",
    "print('Список уникальных значений в столбце Region таблицы расходов:', list(costs['Channel'].unique()))"
   ]
  },
  {
   "cell_type": "code",
   "execution_count": 6,
   "metadata": {},
   "outputs": [],
   "source": [
    "visits.columns = visits.columns.str.lower().str.replace(' ', '_')\n",
    "orders.columns = orders.columns.str.lower().str.replace(' ', '_')\n",
    "costs.columns = costs.columns.str.lower()\n",
    "visits.session_start = pd.to_datetime(visits.session_start)\n",
    "visits.session_end = pd.to_datetime(visits.session_end)\n",
    "orders.event_dt = pd.to_datetime(orders.event_dt)\n",
    "costs.dt = pd.to_datetime(costs.dt).dt.date"
   ]
  },
  {
   "cell_type": "code",
   "execution_count": 7,
   "metadata": {},
   "outputs": [
    {
     "name": "stdout",
     "output_type": "stream",
     "text": [
      "<class 'pandas.core.frame.DataFrame'>\n",
      "RangeIndex: 309901 entries, 0 to 309900\n",
      "Data columns (total 6 columns):\n",
      " #   Column         Non-Null Count   Dtype         \n",
      "---  ------         --------------   -----         \n",
      " 0   user_id        309901 non-null  int64         \n",
      " 1   region         309901 non-null  object        \n",
      " 2   device         309901 non-null  object        \n",
      " 3   channel        309901 non-null  object        \n",
      " 4   session_start  309901 non-null  datetime64[ns]\n",
      " 5   session_end    309901 non-null  datetime64[ns]\n",
      "dtypes: datetime64[ns](2), int64(1), object(3)\n",
      "memory usage: 14.2+ MB\n",
      "\n",
      "<class 'pandas.core.frame.DataFrame'>\n",
      "RangeIndex: 40212 entries, 0 to 40211\n",
      "Data columns (total 3 columns):\n",
      " #   Column    Non-Null Count  Dtype         \n",
      "---  ------    --------------  -----         \n",
      " 0   user_id   40212 non-null  int64         \n",
      " 1   event_dt  40212 non-null  datetime64[ns]\n",
      " 2   revenue   40212 non-null  float64       \n",
      "dtypes: datetime64[ns](1), float64(1), int64(1)\n",
      "memory usage: 942.6 KB\n",
      "\n",
      "<class 'pandas.core.frame.DataFrame'>\n",
      "RangeIndex: 1800 entries, 0 to 1799\n",
      "Data columns (total 3 columns):\n",
      " #   Column   Non-Null Count  Dtype  \n",
      "---  ------   --------------  -----  \n",
      " 0   dt       1800 non-null   object \n",
      " 1   channel  1800 non-null   object \n",
      " 2   costs    1800 non-null   float64\n",
      "dtypes: float64(1), object(2)\n",
      "memory usage: 42.3+ KB\n"
     ]
    }
   ],
   "source": [
    "visits.info()\n",
    "print()\n",
    "orders.info()\n",
    "print()\n",
    "costs.info()"
   ]
  },
  {
   "cell_type": "markdown",
   "metadata": {},
   "source": [
    "**Вывод:** в данных нет ни пропусков, ни обычных и неявных дубликатов. Изменил тип данных в столбцах с датой и временем для дальнейшего удобства анализа. Привел названия столбцов к \"змеиному\" виду."
   ]
  },
  {
   "cell_type": "markdown",
   "metadata": {
    "id": "AS1eCqCpWVwk"
   },
   "source": [
    "### Задайте функции для расчёта и анализа LTV, ROI, удержания и конверсии.\n",
    "\n",
    "Разрешается использовать функции, с которыми вы познакомились в теоретических уроках.\n",
    "\n",
    "Это функции для вычисления значений метрик:\n",
    "\n",
    "- `get_profiles()` — для создания профилей пользователей,\n",
    "- `get_retention()` — для подсчёта Retention Rate,\n",
    "- `get_conversion()` — для подсчёта конверсии,\n",
    "- `get_ltv()` — для подсчёта LTV.\n",
    "\n",
    "А также функции для построения графиков:\n",
    "\n",
    "- `filter_data()` — для сглаживания данных,\n",
    "- `plot_retention()` — для построения графика Retention Rate,\n",
    "- `plot_conversion()` — для построения графика конверсии,\n",
    "- `plot_ltv_roi` — для визуализации LTV и ROI."
   ]
  },
  {
   "cell_type": "markdown",
   "metadata": {},
   "source": [
    "#### Функции для вычисления значений метрик"
   ]
  },
  {
   "cell_type": "code",
   "execution_count": 8,
   "metadata": {
    "id": "igOfMgBpWVwl"
   },
   "outputs": [],
   "source": [
    "def get_profiles(sessions, purchases, ad_costs):\n",
    "\n",
    "    # сортируем сессии по ID пользователя и дате привлечения\n",
    "    # группируем по ID и находим параметры первых посещений\n",
    "    profiles = (\n",
    "        sessions.sort_values(by=['user_id', 'session_start'])\n",
    "        .groupby('user_id')\n",
    "        .agg(\n",
    "            {\n",
    "                'session_start': 'first',\n",
    "                'channel': 'first',\n",
    "                'device': 'first',\n",
    "                'region': 'first',\n",
    "            }\n",
    "        )\n",
    "         # время первого посещения назовём first_ts\n",
    "        .rename(columns={'session_start': 'first_ts'})\n",
    "        .reset_index()  # возвращаем user_id из индекса\n",
    "    )\n",
    "\n",
    "    # для когортного анализа определяем дату первого посещения\n",
    "    # и первый день месяца, в который это посещение произошло\n",
    "    profiles['dt'] = profiles['first_ts'].dt.date\n",
    "    profiles['month'] = profiles['first_ts'].astype('datetime64[M]')\n",
    "\n",
    "    # добавляем признак платящих пользователей\n",
    "    profiles['payer'] = profiles['user_id'].isin(purchases['user_id'].unique())\n",
    "    \n",
    "    # считаем количество уникальных пользователей\n",
    "    # с одинаковыми источником и датой привлечения\n",
    "    new_users = (\n",
    "        profiles.groupby(['dt', 'channel'])\n",
    "        .agg({'user_id': 'nunique'})\n",
    "         # столбец с числом пользователей назовём unique_users\n",
    "        .rename(columns={'user_id': 'unique_users'})\n",
    "        .reset_index()  # возвращаем dt и channel из индексов\n",
    "    )\n",
    "\n",
    "    # объединяем траты на рекламу и число привлечённых пользователей\n",
    "    # по дате и каналу привлечения\n",
    "    ad_costs = ad_costs.merge(new_users, on=['dt', 'channel'], how='left')\n",
    "\n",
    "    # делим рекламные расходы на число привлечённых пользователей\n",
    "    # результаты сохраним в столбец acquisition_cost (CAC)\n",
    "    ad_costs['acquisition_cost'] = ad_costs['costs'] / ad_costs['unique_users']\n",
    "\n",
    "    # добавим стоимость привлечения в профили\n",
    "    profiles = profiles.merge(\n",
    "        ad_costs[['dt', 'channel', 'acquisition_cost']],\n",
    "        on=['dt', 'channel'],\n",
    "        how='left',\n",
    "    )\n",
    "\n",
    "    # органические пользователи не связаны с данными о рекламе,\n",
    "    # поэтому в столбце acquisition_cost у них значения NaN\n",
    "    # заменим их на ноль, ведь стоимость привлечения равна нулю\n",
    "    profiles['acquisition_cost'] = profiles['acquisition_cost'].fillna(0)\n",
    "    \n",
    "    return profiles  # возвращаем профили с CAC"
   ]
  },
  {
   "cell_type": "code",
   "execution_count": 9,
   "metadata": {},
   "outputs": [],
   "source": [
    "def get_retention(profiles, sessions, observation_date, horizon_days, dimensions = [], ignore_horizon = False):\n",
    "    \n",
    "    # добавляем столбец payer в передаваемый dimensions список\n",
    "    dimensions = ['payer'] + dimensions\n",
    "    \n",
    "    # исключаем пользователей, не «доживших» до горизонта анализа \n",
    "    # тех, которые присоединились позже, чем observation_date - horizon\n",
    "    last_suitable_acquisition_date = observation_date\n",
    "    if not ignore_horizon:\n",
    "        last_suitable_acquisition_date = observation_date - timedelta(days = horizon_days - 1)\n",
    "    result_raw = profiles.query('dt <= @last_suitable_acquisition_date')\n",
    "\n",
    "    # собираем «сырые» данные для расчёта удержания\n",
    "    result_raw = result_raw.merge(sessions[['user_id', 'session_start']], on = 'user_id', how = 'left')\n",
    "    result_raw['lifetime'] = (result_raw['session_start'] - result_raw['first_ts']).dt.days\n",
    "    \n",
    "    # функция для группировки таблицы по желаемым признакам\n",
    "    def group_by_dimensions(df, dims, horizon_days):     \n",
    "        result = df.pivot_table(index = dims, columns = 'lifetime', values = 'user_id', aggfunc = 'nunique')     # строим «треугольную таблицу» \n",
    "        cohort_sizes = df.groupby(dims).agg({'user_id': 'nunique'}).rename(columns = {'user_id': 'cohort_size'}) # определяем размеры когорт\n",
    "        result = cohort_sizes.merge(result, on = dims, how = 'left').fillna(0)                                   # присоединяем размеры когорт к «треугольной» таблице\n",
    "        result = result.div(result['cohort_size'], axis = 0)                                                     # делим каждую «ячейку» на соответствующий размер когорты и получаем retention rate\n",
    "        result = result[['cohort_size'] + list(range(horizon_days))]                                             # исключаем все лайфтаймы, превышающие горизонт анализа\n",
    "        result['cohort_size'] = cohort_sizes                                                                     # восстанавливаем размеры когорт\n",
    "        return result\n",
    "    \n",
    "    # получаем таблицу удержания\n",
    "    result_grouped = group_by_dimensions(result_raw, dimensions, horizon_days)\n",
    "    \n",
    "    # получаем таблицу динамики удержания\n",
    "    result_in_time = group_by_dimensions(result_raw, dimensions + ['dt'], horizon_days)\n",
    "    \n",
    "    # возвращаем обе таблицы и сырые данные\n",
    "    # сырые данные пригодятся, если нужно будет отыскать ошибку в расчётах\n",
    "    return result_raw, result_grouped, result_in_time"
   ]
  },
  {
   "cell_type": "code",
   "execution_count": 10,
   "metadata": {},
   "outputs": [],
   "source": [
    "def get_conversion(\n",
    "    profiles,\n",
    "    purchases,\n",
    "    observation_date,\n",
    "    horizon_days,\n",
    "    dimensions=[],\n",
    "    ignore_horizon=False,\n",
    "):\n",
    "\n",
    "    # исключаем пользователей, не «доживших» до горизонта анализа\n",
    "    last_suitable_acquisition_date = observation_date\n",
    "    if not ignore_horizon:\n",
    "        last_suitable_acquisition_date = observation_date - timedelta(\n",
    "            days=horizon_days - 1\n",
    "        )\n",
    "    result_raw = profiles.query('dt <= @last_suitable_acquisition_date')\n",
    "\n",
    "    # определяем дату и время первой покупки для каждого пользователя\n",
    "    first_purchases = (\n",
    "        purchases.sort_values(by=['user_id', 'event_dt'])\n",
    "        .groupby('user_id')\n",
    "        .agg({'event_dt': 'first'})\n",
    "        .reset_index()\n",
    "    )\n",
    "\n",
    "    # добавляем данные о покупках в профили\n",
    "    result_raw = result_raw.merge(\n",
    "        first_purchases[['user_id', 'event_dt']], on='user_id', how='left'\n",
    "    )\n",
    "\n",
    "    # рассчитываем лайфтайм для каждой покупки\n",
    "    result_raw['lifetime'] = (\n",
    "        result_raw['event_dt'] - result_raw['first_ts']\n",
    "    ).dt.days\n",
    "\n",
    "    # группируем по cohort, если в dimensions ничего нет\n",
    "    if len(dimensions) == 0:\n",
    "        result_raw['cohort'] = 'All users'\n",
    "        dimensions = dimensions + ['cohort']\n",
    "\n",
    "    # функция для группировки таблицы по желаемым признакам\n",
    "    def group_by_dimensions(df, dims, horizon_days):\n",
    "        # строим «треугольную» таблицу конверсии\n",
    "        result = df.pivot_table(\n",
    "            index=dims, columns='lifetime', values='user_id', aggfunc='nunique'\n",
    "        )\n",
    "        # считаем сумму с накоплением для каждой строки\n",
    "        result = result.fillna(0).cumsum(axis = 1)\n",
    "        # вычисляем размеры когорт\n",
    "        cohort_sizes = (\n",
    "            df.groupby(dims)\n",
    "            .agg({'user_id': 'nunique'})\n",
    "            .rename(columns={'user_id': 'cohort_size'})\n",
    "        )\n",
    "        # добавляем размеры когорт в таблицу конверсии\n",
    "        result = cohort_sizes.merge(result, on=dims, how='left').fillna(0)\n",
    "        # делим каждую «ячейку» в строке на размер когорты\n",
    "        # и получаем conversion rate\n",
    "        result = result.div(result['cohort_size'], axis=0)\n",
    "        # исключаем все лайфтаймы, превышающие горизонт анализа\n",
    "        result = result[['cohort_size'] + list(range(horizon_days))]\n",
    "        # восстанавливаем размеры когорт\n",
    "        result['cohort_size'] = cohort_sizes\n",
    "        return result\n",
    "\n",
    "    # получаем таблицу конверсии\n",
    "    result_grouped = group_by_dimensions(result_raw, dimensions, horizon_days)\n",
    "\n",
    "    # для таблицы динамики конверсии убираем 'cohort' из dimensions\n",
    "    if 'cohort' in dimensions: \n",
    "        dimensions = []\n",
    "\n",
    "    # получаем таблицу динамики конверсии\n",
    "    result_in_time = group_by_dimensions(\n",
    "        result_raw, dimensions + ['dt'], horizon_days\n",
    "    )\n",
    "\n",
    "    # возвращаем обе таблицы и сырые данные\n",
    "    return result_raw, result_grouped, result_in_time"
   ]
  },
  {
   "cell_type": "code",
   "execution_count": 11,
   "metadata": {},
   "outputs": [],
   "source": [
    "def get_ltv(\n",
    "    profiles,\n",
    "    purchases,\n",
    "    observation_date,\n",
    "    horizon_days,\n",
    "    dimensions=[],\n",
    "    ignore_horizon=False,\n",
    "):\n",
    "\n",
    "    # исключаем пользователей, не «доживших» до горизонта анализа\n",
    "    last_suitable_acquisition_date = observation_date\n",
    "    if not ignore_horizon:\n",
    "        last_suitable_acquisition_date = observation_date - timedelta(\n",
    "            days=horizon_days - 1\n",
    "        )\n",
    "    result_raw = profiles.query('dt <= @last_suitable_acquisition_date')\n",
    "    # добавляем данные о покупках в профили\n",
    "    result_raw = result_raw.merge(\n",
    "        purchases[['user_id', 'event_dt', 'revenue']], on='user_id', how='left'\n",
    "    )\n",
    "    # рассчитываем лайфтайм пользователя для каждой покупки\n",
    "    result_raw['lifetime'] = (\n",
    "        result_raw['event_dt'] - result_raw['first_ts']\n",
    "    ).dt.days\n",
    "    # группируем по cohort, если в dimensions ничего нет\n",
    "    if len(dimensions) == 0:\n",
    "        result_raw['cohort'] = 'All users'\n",
    "        dimensions = dimensions + ['cohort']\n",
    "\n",
    "    # функция группировки по желаемым признакам\n",
    "    def group_by_dimensions(df, dims, horizon_days):\n",
    "        # строим «треугольную» таблицу выручки\n",
    "        result = df.pivot_table(\n",
    "            index=dims, columns='lifetime', values='revenue', aggfunc='sum'\n",
    "        )\n",
    "        # находим сумму выручки с накоплением\n",
    "        result = result.fillna(0).cumsum(axis=1)\n",
    "        # вычисляем размеры когорт\n",
    "        cohort_sizes = (\n",
    "            df.groupby(dims)\n",
    "            .agg({'user_id': 'nunique'})\n",
    "            .rename(columns={'user_id': 'cohort_size'})\n",
    "        )\n",
    "        # объединяем размеры когорт и таблицу выручки\n",
    "        result = cohort_sizes.merge(result, on=dims, how='left').fillna(0)\n",
    "        # считаем LTV: делим каждую «ячейку» в строке на размер когорты\n",
    "        result = result.div(result['cohort_size'], axis=0)\n",
    "        # исключаем все лайфтаймы, превышающие горизонт анализа\n",
    "        result = result[['cohort_size'] + list(range(horizon_days))]\n",
    "        # восстанавливаем размеры когорт\n",
    "        result['cohort_size'] = cohort_sizes\n",
    "\n",
    "        # сохраняем в датафрейм данные пользователей и значения CAC, \n",
    "        # добавив параметры из dimensions\n",
    "        cac = df[['user_id', 'acquisition_cost'] + dims].drop_duplicates()\n",
    "\n",
    "        # считаем средний CAC по параметрам из dimensions\n",
    "        cac = (\n",
    "            cac.groupby(dims)\n",
    "            .agg({'acquisition_cost': 'mean'})\n",
    "            .rename(columns={'acquisition_cost': 'cac'})\n",
    "        )\n",
    "\n",
    "        # считаем ROI: делим LTV на CAC\n",
    "        roi = result.div(cac['cac'], axis=0)\n",
    "\n",
    "        # удаляем строки с бесконечным ROI\n",
    "        roi = roi[~roi['cohort_size'].isin([np.inf])]\n",
    "\n",
    "        # восстанавливаем размеры когорт в таблице ROI\n",
    "        roi['cohort_size'] = cohort_sizes\n",
    "\n",
    "        # добавляем CAC в таблицу ROI\n",
    "        roi['cac'] = cac['cac']\n",
    "\n",
    "        # в финальной таблице оставляем размеры когорт, CAC\n",
    "        # и ROI в лайфтаймы, не превышающие горизонт анализа\n",
    "        roi = roi[['cohort_size', 'cac'] + list(range(horizon_days))]\n",
    "\n",
    "        # возвращаем таблицы LTV и ROI\n",
    "        return result, roi\n",
    "\n",
    "    # получаем таблицы LTV и ROI\n",
    "    result_grouped, roi_grouped = group_by_dimensions(\n",
    "        result_raw, dimensions, horizon_days\n",
    "    )\n",
    "\n",
    "    # для таблиц динамики убираем 'cohort' из dimensions\n",
    "    if 'cohort' in dimensions:\n",
    "        dimensions = []\n",
    "\n",
    "    # получаем таблицы динамики LTV и ROI\n",
    "    result_in_time, roi_in_time = group_by_dimensions(\n",
    "        result_raw, dimensions + ['dt'], horizon_days\n",
    "    )\n",
    "\n",
    "    return (\n",
    "        result_raw,  # сырые данные\n",
    "        result_grouped,  # таблица LTV\n",
    "        result_in_time,  # таблица динамики LTV\n",
    "        roi_grouped,  # таблица ROI\n",
    "        roi_in_time,  # таблица динамики ROI\n",
    "    )"
   ]
  },
  {
   "cell_type": "markdown",
   "metadata": {},
   "source": [
    "#### Функции для построения графиков"
   ]
  },
  {
   "cell_type": "code",
   "execution_count": 12,
   "metadata": {},
   "outputs": [],
   "source": [
    "def filter_data(df, window):\n",
    "    # для каждого столбца применяем скользящее среднее\n",
    "    for column in df.columns.values:\n",
    "        df[column] = df[column].rolling(window).mean() \n",
    "    return df"
   ]
  },
  {
   "cell_type": "code",
   "execution_count": 13,
   "metadata": {},
   "outputs": [],
   "source": [
    "def plot_retention(retention, retention_history, horizon, window):\n",
    "\n",
    "    # задаём размер сетки для графиков\n",
    "    plt.figure(figsize=(15, 10))\n",
    "\n",
    "    # исключаем размеры когорт и удержание первого дня\n",
    "    retention = retention.drop(columns=['cohort_size', 0])\n",
    "    # в таблице динамики оставляем только нужный лайфтайм\n",
    "    retention_history = retention_history.drop(columns=['cohort_size'])[\n",
    "        [horizon - 1]\n",
    "    ]\n",
    "\n",
    "    # если в индексах таблицы удержания только payer,\n",
    "    # добавляем второй признак — cohort\n",
    "    if retention.index.nlevels == 1:\n",
    "        retention['cohort'] = 'All users'\n",
    "        retention = retention.reset_index().set_index(['cohort', 'payer'])\n",
    "\n",
    "    # в таблице графиков — два столбца и две строки, четыре ячейки\n",
    "    # в первой строим кривые удержания платящих пользователей\n",
    "    ax1 = plt.subplot(2, 2, 1)\n",
    "    retention.query('payer == True').droplevel('payer').T.plot(\n",
    "        grid=True, ax=ax1\n",
    "    )\n",
    "    plt.legend()\n",
    "    plt.xlabel('Лайфтайм')\n",
    "    plt.title('Удержание платящих пользователей')\n",
    "\n",
    "    # во второй ячейке строим кривые удержания неплатящих\n",
    "    # вертикальная ось — от графика из первой ячейки\n",
    "    ax2 = plt.subplot(2, 2, 2, sharey=ax1)\n",
    "    retention.query('payer == False').droplevel('payer').T.plot(\n",
    "        grid=True, ax=ax2\n",
    "    )\n",
    "    plt.legend()\n",
    "    plt.xlabel('Лайфтайм')\n",
    "    plt.title('Удержание неплатящих пользователей')\n",
    "\n",
    "    # в третьей ячейке — динамика удержания платящих\n",
    "    ax3 = plt.subplot(2, 2, 3)\n",
    "    # получаем названия столбцов для сводной таблицы\n",
    "    columns = [\n",
    "        name\n",
    "        for name in retention_history.index.names\n",
    "        if name not in ['dt', 'payer']\n",
    "    ]\n",
    "    # фильтруем данные и строим график\n",
    "    filtered_data = retention_history.query('payer == True').pivot_table(\n",
    "        index='dt', columns=columns, values=horizon - 1, aggfunc='mean'\n",
    "    )\n",
    "    filter_data(filtered_data, window).plot(grid=True, ax=ax3)\n",
    "    plt.xlabel('Дата привлечения')\n",
    "    plt.title(\n",
    "        'Динамика удержания платящих пользователей на {}-й день'.format(\n",
    "            horizon\n",
    "        )\n",
    "    )\n",
    "\n",
    "    # в четвёртой ячейке — динамика удержания неплатящих\n",
    "    ax4 = plt.subplot(2, 2, 4, sharey=ax3)\n",
    "    # фильтруем данные и строим график\n",
    "    filtered_data = retention_history.query('payer == False').pivot_table(\n",
    "        index='dt', columns=columns, values=horizon - 1, aggfunc='mean'\n",
    "    )\n",
    "    filter_data(filtered_data, window).plot(grid=True, ax=ax4)\n",
    "    plt.xlabel('Дата привлечения')\n",
    "    plt.title(\n",
    "        'Динамика удержания неплатящих пользователей на {}-й день'.format(\n",
    "            horizon\n",
    "        )\n",
    "    )\n",
    "    \n",
    "    plt.tight_layout()\n",
    "    plt.show()"
   ]
  },
  {
   "cell_type": "code",
   "execution_count": 14,
   "metadata": {},
   "outputs": [],
   "source": [
    "def plot_conversion(conversion, conversion_history, horizon, window):\n",
    "\n",
    "    # задаём размер сетки для графиков\n",
    "    plt.figure(figsize=(15, 5))\n",
    "\n",
    "    # исключаем размеры когорт\n",
    "    conversion = conversion.drop(columns=['cohort_size'])\n",
    "    # в таблице динамики оставляем только нужный лайфтайм\n",
    "    conversion_history = conversion_history.drop(columns=['cohort_size'])[\n",
    "        [horizon - 1]\n",
    "    ]\n",
    "\n",
    "    # первый график — кривые конверсии\n",
    "    ax1 = plt.subplot(1, 2, 1)\n",
    "    conversion.T.plot(grid=True, ax=ax1)\n",
    "    plt.legend()\n",
    "    plt.xlabel('Лайфтайм')\n",
    "    plt.title('Конверсия пользователей')\n",
    "\n",
    "    # второй график — динамика конверсии\n",
    "    ax2 = plt.subplot(1, 2, 2, sharey=ax1)\n",
    "    columns = [\n",
    "        # столбцами сводной таблицы станут все столбцы индекса, кроме даты\n",
    "        name for name in conversion_history.index.names if name not in ['dt']\n",
    "    ]\n",
    "    filtered_data = conversion_history.pivot_table(\n",
    "        index='dt', columns=columns, values=horizon - 1, aggfunc='mean'\n",
    "    )\n",
    "    filter_data(filtered_data, window).plot(grid=True, ax=ax2)\n",
    "    plt.xlabel('Дата привлечения')\n",
    "    plt.title('Динамика конверсии пользователей на {}-й день'.format(horizon))\n",
    "\n",
    "    plt.tight_layout()\n",
    "    plt.show()"
   ]
  },
  {
   "cell_type": "code",
   "execution_count": 15,
   "metadata": {},
   "outputs": [],
   "source": [
    "def plot_ltv_roi(ltv, ltv_history, roi, roi_history, horizon, window=7):\n",
    "\n",
    "    # задаём сетку отрисовки графиков\n",
    "    plt.figure(figsize=(20, 10))\n",
    "\n",
    "    # из таблицы ltv исключаем размеры когорт\n",
    "    ltv = ltv.drop(columns=['cohort_size'])\n",
    "    # в таблице динамики ltv оставляем только нужный лайфтайм\n",
    "    ltv_history = ltv_history.drop(columns=['cohort_size'])[[horizon - 1]]\n",
    "\n",
    "    # стоимость привлечения запишем в отдельный фрейм\n",
    "    cac_history = roi_history[['cac']]\n",
    "\n",
    "    # из таблицы roi исключаем размеры когорт и cac\n",
    "    roi = roi.drop(columns=['cohort_size', 'cac'])\n",
    "    # в таблице динамики roi оставляем только нужный лайфтайм\n",
    "    roi_history = roi_history.drop(columns=['cohort_size', 'cac'])[\n",
    "        [horizon - 1]\n",
    "    ]\n",
    "\n",
    "    # первый график — кривые ltv\n",
    "    ax1 = plt.subplot(2, 3, 1)\n",
    "    ltv.T.plot(grid=True, ax=ax1)\n",
    "    plt.legend()\n",
    "    plt.xlabel('Лайфтайм')\n",
    "    plt.title('LTV')\n",
    "\n",
    "    # второй график — динамика ltv\n",
    "    ax2 = plt.subplot(2, 3, 2, sharey=ax1)\n",
    "    # столбцами сводной таблицы станут все столбцы индекса, кроме даты\n",
    "    columns = [name for name in ltv_history.index.names if name not in ['dt']]\n",
    "    filtered_data = ltv_history.pivot_table(\n",
    "        index='dt', columns=columns, values=horizon - 1, aggfunc='mean'\n",
    "    )\n",
    "    filter_data(filtered_data, window).plot(grid=True, ax=ax2)\n",
    "    plt.xlabel('Дата привлечения')\n",
    "    plt.title('Динамика LTV пользователей на {}-й день'.format(horizon))\n",
    "\n",
    "    # третий график — динамика cac\n",
    "    ax3 = plt.subplot(2, 3, 3, sharey=ax1)\n",
    "    # столбцами сводной таблицы станут все столбцы индекса, кроме даты\n",
    "    columns = [name for name in cac_history.index.names if name not in ['dt']]\n",
    "    filtered_data = cac_history.pivot_table(\n",
    "        index='dt', columns=columns, values='cac', aggfunc='mean'\n",
    "    )\n",
    "    filter_data(filtered_data, window).plot(grid=True, ax=ax3)\n",
    "    plt.xlabel('Дата привлечения')\n",
    "    plt.title('Динамика стоимости привлечения пользователей')\n",
    "\n",
    "    # четвёртый график — кривые roi\n",
    "    ax4 = plt.subplot(2, 3, 4)\n",
    "    roi.T.plot(grid=True, ax=ax4)\n",
    "    plt.axhline(y=1, color='red', linestyle='--', label='Уровень окупаемости')\n",
    "    plt.legend()\n",
    "    plt.xlabel('Лайфтайм')\n",
    "    plt.title('ROI')\n",
    "\n",
    "    # пятый график — динамика roi\n",
    "    ax5 = plt.subplot(2, 3, 5, sharey=ax4)\n",
    "    # столбцами сводной таблицы станут все столбцы индекса, кроме даты\n",
    "    columns = [name for name in roi_history.index.names if name not in ['dt']]\n",
    "    filtered_data = roi_history.pivot_table(\n",
    "        index='dt', columns=columns, values=horizon - 1, aggfunc='mean'\n",
    "    )\n",
    "    filter_data(filtered_data, window).plot(grid=True, ax=ax5)\n",
    "    plt.axhline(y=1, color='red', linestyle='--', label='Уровень окупаемости')\n",
    "    plt.xlabel('Дата привлечения')\n",
    "    plt.title('Динамика ROI пользователей на {}-й день'.format(horizon))\n",
    "\n",
    "    plt.tight_layout()\n",
    "    plt.show()"
   ]
  },
  {
   "cell_type": "markdown",
   "metadata": {
    "id": "V-KBT-KMWVwl"
   },
   "source": [
    "### Исследовательский анализ данных\n",
    "\n",
    "- Составьте профили пользователей. Определите минимальную и максимальную даты привлечения пользователей.\n",
    "- Выясните, из каких стран пользователи приходят в приложение и на какую страну приходится больше всего платящих пользователей. Постройте таблицу, отражающую количество пользователей и долю платящих из каждой страны.\n",
    "- Узнайте, какими устройствами пользуются клиенты и какие устройства предпочитают платящие пользователи. Постройте таблицу, отражающую количество пользователей и долю платящих для каждого устройства.\n",
    "- Изучите рекламные источники привлечения и определите каналы, из которых пришло больше всего платящих пользователей. Постройте таблицу, отражающую количество пользователей и долю платящих для каждого канала привлечения.\n",
    "\n",
    "После каждого пункта сформулируйте выводы."
   ]
  },
  {
   "cell_type": "markdown",
   "metadata": {},
   "source": [
    "#### Составление профилей пользователей"
   ]
  },
  {
   "cell_type": "code",
   "execution_count": 16,
   "metadata": {
    "id": "oOLsbJpNWVwm"
   },
   "outputs": [
    {
     "ename": "TypeError",
     "evalue": "Cannot cast DatetimeArray to dtype datetime64[M]",
     "output_type": "error",
     "traceback": [
      "\u001b[1;31m---------------------------------------------------------------------------\u001b[0m",
      "\u001b[1;31mTypeError\u001b[0m                                 Traceback (most recent call last)",
      "Cell \u001b[1;32mIn[16], line 1\u001b[0m\n\u001b[1;32m----> 1\u001b[0m profiles \u001b[38;5;241m=\u001b[39m get_profiles(visits, orders, costs)\n\u001b[0;32m      2\u001b[0m \u001b[38;5;28mprint\u001b[39m(\u001b[38;5;124mf\u001b[39m\u001b[38;5;124m'\u001b[39m\u001b[38;5;124mМинимальная дата привлечения пользователей: \u001b[39m\u001b[38;5;132;01m{\u001b[39;00mprofiles\u001b[38;5;241m.\u001b[39mdt\u001b[38;5;241m.\u001b[39mmin()\u001b[38;5;132;01m}\u001b[39;00m\u001b[38;5;130;01m\\n\u001b[39;00m\u001b[38;5;130;01m\\\u001b[39;00m\n\u001b[0;32m      3\u001b[0m \u001b[38;5;124mМаксимальная дата привлечения пользователей: \u001b[39m\u001b[38;5;132;01m{\u001b[39;00mprofiles\u001b[38;5;241m.\u001b[39mdt\u001b[38;5;241m.\u001b[39mmax()\u001b[38;5;132;01m}\u001b[39;00m\u001b[38;5;124m'\u001b[39m)\n",
      "Cell \u001b[1;32mIn[8], line 24\u001b[0m, in \u001b[0;36mget_profiles\u001b[1;34m(sessions, purchases, ad_costs)\u001b[0m\n\u001b[0;32m     21\u001b[0m \u001b[38;5;66;03m# для когортного анализа определяем дату первого посещения\u001b[39;00m\n\u001b[0;32m     22\u001b[0m \u001b[38;5;66;03m# и первый день месяца, в который это посещение произошло\u001b[39;00m\n\u001b[0;32m     23\u001b[0m profiles[\u001b[38;5;124m'\u001b[39m\u001b[38;5;124mdt\u001b[39m\u001b[38;5;124m'\u001b[39m] \u001b[38;5;241m=\u001b[39m profiles[\u001b[38;5;124m'\u001b[39m\u001b[38;5;124mfirst_ts\u001b[39m\u001b[38;5;124m'\u001b[39m]\u001b[38;5;241m.\u001b[39mdt\u001b[38;5;241m.\u001b[39mdate\n\u001b[1;32m---> 24\u001b[0m profiles[\u001b[38;5;124m'\u001b[39m\u001b[38;5;124mmonth\u001b[39m\u001b[38;5;124m'\u001b[39m] \u001b[38;5;241m=\u001b[39m profiles[\u001b[38;5;124m'\u001b[39m\u001b[38;5;124mfirst_ts\u001b[39m\u001b[38;5;124m'\u001b[39m]\u001b[38;5;241m.\u001b[39mastype(\u001b[38;5;124m'\u001b[39m\u001b[38;5;124mdatetime64[M]\u001b[39m\u001b[38;5;124m'\u001b[39m)\n\u001b[0;32m     26\u001b[0m \u001b[38;5;66;03m# добавляем признак платящих пользователей\u001b[39;00m\n\u001b[0;32m     27\u001b[0m profiles[\u001b[38;5;124m'\u001b[39m\u001b[38;5;124mpayer\u001b[39m\u001b[38;5;124m'\u001b[39m] \u001b[38;5;241m=\u001b[39m profiles[\u001b[38;5;124m'\u001b[39m\u001b[38;5;124muser_id\u001b[39m\u001b[38;5;124m'\u001b[39m]\u001b[38;5;241m.\u001b[39misin(purchases[\u001b[38;5;124m'\u001b[39m\u001b[38;5;124muser_id\u001b[39m\u001b[38;5;124m'\u001b[39m]\u001b[38;5;241m.\u001b[39munique())\n",
      "File \u001b[1;32mC:\\Anaconda\\Lib\\site-packages\\pandas\\core\\generic.py:6643\u001b[0m, in \u001b[0;36mNDFrame.astype\u001b[1;34m(self, dtype, copy, errors)\u001b[0m\n\u001b[0;32m   6637\u001b[0m     results \u001b[38;5;241m=\u001b[39m [\n\u001b[0;32m   6638\u001b[0m         ser\u001b[38;5;241m.\u001b[39mastype(dtype, copy\u001b[38;5;241m=\u001b[39mcopy, errors\u001b[38;5;241m=\u001b[39merrors) \u001b[38;5;28;01mfor\u001b[39;00m _, ser \u001b[38;5;129;01min\u001b[39;00m \u001b[38;5;28mself\u001b[39m\u001b[38;5;241m.\u001b[39mitems()\n\u001b[0;32m   6639\u001b[0m     ]\n\u001b[0;32m   6641\u001b[0m \u001b[38;5;28;01melse\u001b[39;00m:\n\u001b[0;32m   6642\u001b[0m     \u001b[38;5;66;03m# else, only a single dtype is given\u001b[39;00m\n\u001b[1;32m-> 6643\u001b[0m     new_data \u001b[38;5;241m=\u001b[39m \u001b[38;5;28mself\u001b[39m\u001b[38;5;241m.\u001b[39m_mgr\u001b[38;5;241m.\u001b[39mastype(dtype\u001b[38;5;241m=\u001b[39mdtype, copy\u001b[38;5;241m=\u001b[39mcopy, errors\u001b[38;5;241m=\u001b[39merrors)\n\u001b[0;32m   6644\u001b[0m     res \u001b[38;5;241m=\u001b[39m \u001b[38;5;28mself\u001b[39m\u001b[38;5;241m.\u001b[39m_constructor_from_mgr(new_data, axes\u001b[38;5;241m=\u001b[39mnew_data\u001b[38;5;241m.\u001b[39maxes)\n\u001b[0;32m   6645\u001b[0m     \u001b[38;5;28;01mreturn\u001b[39;00m res\u001b[38;5;241m.\u001b[39m__finalize__(\u001b[38;5;28mself\u001b[39m, method\u001b[38;5;241m=\u001b[39m\u001b[38;5;124m\"\u001b[39m\u001b[38;5;124mastype\u001b[39m\u001b[38;5;124m\"\u001b[39m)\n",
      "File \u001b[1;32mC:\\Anaconda\\Lib\\site-packages\\pandas\\core\\internals\\managers.py:430\u001b[0m, in \u001b[0;36mBaseBlockManager.astype\u001b[1;34m(self, dtype, copy, errors)\u001b[0m\n\u001b[0;32m    427\u001b[0m \u001b[38;5;28;01melif\u001b[39;00m using_copy_on_write():\n\u001b[0;32m    428\u001b[0m     copy \u001b[38;5;241m=\u001b[39m \u001b[38;5;28;01mFalse\u001b[39;00m\n\u001b[1;32m--> 430\u001b[0m \u001b[38;5;28;01mreturn\u001b[39;00m \u001b[38;5;28mself\u001b[39m\u001b[38;5;241m.\u001b[39mapply(\n\u001b[0;32m    431\u001b[0m     \u001b[38;5;124m\"\u001b[39m\u001b[38;5;124mastype\u001b[39m\u001b[38;5;124m\"\u001b[39m,\n\u001b[0;32m    432\u001b[0m     dtype\u001b[38;5;241m=\u001b[39mdtype,\n\u001b[0;32m    433\u001b[0m     copy\u001b[38;5;241m=\u001b[39mcopy,\n\u001b[0;32m    434\u001b[0m     errors\u001b[38;5;241m=\u001b[39merrors,\n\u001b[0;32m    435\u001b[0m     using_cow\u001b[38;5;241m=\u001b[39musing_copy_on_write(),\n\u001b[0;32m    436\u001b[0m )\n",
      "File \u001b[1;32mC:\\Anaconda\\Lib\\site-packages\\pandas\\core\\internals\\managers.py:363\u001b[0m, in \u001b[0;36mBaseBlockManager.apply\u001b[1;34m(self, f, align_keys, **kwargs)\u001b[0m\n\u001b[0;32m    361\u001b[0m         applied \u001b[38;5;241m=\u001b[39m b\u001b[38;5;241m.\u001b[39mapply(f, \u001b[38;5;241m*\u001b[39m\u001b[38;5;241m*\u001b[39mkwargs)\n\u001b[0;32m    362\u001b[0m     \u001b[38;5;28;01melse\u001b[39;00m:\n\u001b[1;32m--> 363\u001b[0m         applied \u001b[38;5;241m=\u001b[39m \u001b[38;5;28mgetattr\u001b[39m(b, f)(\u001b[38;5;241m*\u001b[39m\u001b[38;5;241m*\u001b[39mkwargs)\n\u001b[0;32m    364\u001b[0m     result_blocks \u001b[38;5;241m=\u001b[39m extend_blocks(applied, result_blocks)\n\u001b[0;32m    366\u001b[0m out \u001b[38;5;241m=\u001b[39m \u001b[38;5;28mtype\u001b[39m(\u001b[38;5;28mself\u001b[39m)\u001b[38;5;241m.\u001b[39mfrom_blocks(result_blocks, \u001b[38;5;28mself\u001b[39m\u001b[38;5;241m.\u001b[39maxes)\n",
      "File \u001b[1;32mC:\\Anaconda\\Lib\\site-packages\\pandas\\core\\internals\\blocks.py:758\u001b[0m, in \u001b[0;36mBlock.astype\u001b[1;34m(self, dtype, copy, errors, using_cow, squeeze)\u001b[0m\n\u001b[0;32m    755\u001b[0m         \u001b[38;5;28;01mraise\u001b[39;00m \u001b[38;5;167;01mValueError\u001b[39;00m(\u001b[38;5;124m\"\u001b[39m\u001b[38;5;124mCan not squeeze with more than one column.\u001b[39m\u001b[38;5;124m\"\u001b[39m)\n\u001b[0;32m    756\u001b[0m     values \u001b[38;5;241m=\u001b[39m values[\u001b[38;5;241m0\u001b[39m, :]  \u001b[38;5;66;03m# type: ignore[call-overload]\u001b[39;00m\n\u001b[1;32m--> 758\u001b[0m new_values \u001b[38;5;241m=\u001b[39m astype_array_safe(values, dtype, copy\u001b[38;5;241m=\u001b[39mcopy, errors\u001b[38;5;241m=\u001b[39merrors)\n\u001b[0;32m    760\u001b[0m new_values \u001b[38;5;241m=\u001b[39m maybe_coerce_values(new_values)\n\u001b[0;32m    762\u001b[0m refs \u001b[38;5;241m=\u001b[39m \u001b[38;5;28;01mNone\u001b[39;00m\n",
      "File \u001b[1;32mC:\\Anaconda\\Lib\\site-packages\\pandas\\core\\dtypes\\astype.py:237\u001b[0m, in \u001b[0;36mastype_array_safe\u001b[1;34m(values, dtype, copy, errors)\u001b[0m\n\u001b[0;32m    234\u001b[0m     dtype \u001b[38;5;241m=\u001b[39m dtype\u001b[38;5;241m.\u001b[39mnumpy_dtype\n\u001b[0;32m    236\u001b[0m \u001b[38;5;28;01mtry\u001b[39;00m:\n\u001b[1;32m--> 237\u001b[0m     new_values \u001b[38;5;241m=\u001b[39m astype_array(values, dtype, copy\u001b[38;5;241m=\u001b[39mcopy)\n\u001b[0;32m    238\u001b[0m \u001b[38;5;28;01mexcept\u001b[39;00m (\u001b[38;5;167;01mValueError\u001b[39;00m, \u001b[38;5;167;01mTypeError\u001b[39;00m):\n\u001b[0;32m    239\u001b[0m     \u001b[38;5;66;03m# e.g. _astype_nansafe can fail on object-dtype of strings\u001b[39;00m\n\u001b[0;32m    240\u001b[0m     \u001b[38;5;66;03m#  trying to convert to float\u001b[39;00m\n\u001b[0;32m    241\u001b[0m     \u001b[38;5;28;01mif\u001b[39;00m errors \u001b[38;5;241m==\u001b[39m \u001b[38;5;124m\"\u001b[39m\u001b[38;5;124mignore\u001b[39m\u001b[38;5;124m\"\u001b[39m:\n",
      "File \u001b[1;32mC:\\Anaconda\\Lib\\site-packages\\pandas\\core\\dtypes\\astype.py:179\u001b[0m, in \u001b[0;36mastype_array\u001b[1;34m(values, dtype, copy)\u001b[0m\n\u001b[0;32m    175\u001b[0m     \u001b[38;5;28;01mreturn\u001b[39;00m values\n\u001b[0;32m    177\u001b[0m \u001b[38;5;28;01mif\u001b[39;00m \u001b[38;5;129;01mnot\u001b[39;00m \u001b[38;5;28misinstance\u001b[39m(values, np\u001b[38;5;241m.\u001b[39mndarray):\n\u001b[0;32m    178\u001b[0m     \u001b[38;5;66;03m# i.e. ExtensionArray\u001b[39;00m\n\u001b[1;32m--> 179\u001b[0m     values \u001b[38;5;241m=\u001b[39m values\u001b[38;5;241m.\u001b[39mastype(dtype, copy\u001b[38;5;241m=\u001b[39mcopy)\n\u001b[0;32m    181\u001b[0m \u001b[38;5;28;01melse\u001b[39;00m:\n\u001b[0;32m    182\u001b[0m     values \u001b[38;5;241m=\u001b[39m _astype_nansafe(values, dtype, copy\u001b[38;5;241m=\u001b[39mcopy)\n",
      "File \u001b[1;32mC:\\Anaconda\\Lib\\site-packages\\pandas\\core\\arrays\\datetimes.py:739\u001b[0m, in \u001b[0;36mDatetimeArray.astype\u001b[1;34m(self, dtype, copy)\u001b[0m\n\u001b[0;32m    737\u001b[0m \u001b[38;5;28;01melif\u001b[39;00m \u001b[38;5;28misinstance\u001b[39m(dtype, PeriodDtype):\n\u001b[0;32m    738\u001b[0m     \u001b[38;5;28;01mreturn\u001b[39;00m \u001b[38;5;28mself\u001b[39m\u001b[38;5;241m.\u001b[39mto_period(freq\u001b[38;5;241m=\u001b[39mdtype\u001b[38;5;241m.\u001b[39mfreq)\n\u001b[1;32m--> 739\u001b[0m \u001b[38;5;28;01mreturn\u001b[39;00m dtl\u001b[38;5;241m.\u001b[39mDatetimeLikeArrayMixin\u001b[38;5;241m.\u001b[39mastype(\u001b[38;5;28mself\u001b[39m, dtype, copy)\n",
      "File \u001b[1;32mC:\\Anaconda\\Lib\\site-packages\\pandas\\core\\arrays\\datetimelike.py:494\u001b[0m, in \u001b[0;36mDatetimeLikeArrayMixin.astype\u001b[1;34m(self, dtype, copy)\u001b[0m\n\u001b[0;32m    490\u001b[0m \u001b[38;5;28;01melif\u001b[39;00m (dtype\u001b[38;5;241m.\u001b[39mkind \u001b[38;5;129;01min\u001b[39;00m \u001b[38;5;124m\"\u001b[39m\u001b[38;5;124mmM\u001b[39m\u001b[38;5;124m\"\u001b[39m \u001b[38;5;129;01mand\u001b[39;00m \u001b[38;5;28mself\u001b[39m\u001b[38;5;241m.\u001b[39mdtype \u001b[38;5;241m!=\u001b[39m dtype) \u001b[38;5;129;01mor\u001b[39;00m dtype\u001b[38;5;241m.\u001b[39mkind \u001b[38;5;241m==\u001b[39m \u001b[38;5;124m\"\u001b[39m\u001b[38;5;124mf\u001b[39m\u001b[38;5;124m\"\u001b[39m:\n\u001b[0;32m    491\u001b[0m     \u001b[38;5;66;03m# disallow conversion between datetime/timedelta,\u001b[39;00m\n\u001b[0;32m    492\u001b[0m     \u001b[38;5;66;03m# and conversions for any datetimelike to float\u001b[39;00m\n\u001b[0;32m    493\u001b[0m     msg \u001b[38;5;241m=\u001b[39m \u001b[38;5;124mf\u001b[39m\u001b[38;5;124m\"\u001b[39m\u001b[38;5;124mCannot cast \u001b[39m\u001b[38;5;132;01m{\u001b[39;00m\u001b[38;5;28mtype\u001b[39m(\u001b[38;5;28mself\u001b[39m)\u001b[38;5;241m.\u001b[39m\u001b[38;5;18m__name__\u001b[39m\u001b[38;5;132;01m}\u001b[39;00m\u001b[38;5;124m to dtype \u001b[39m\u001b[38;5;132;01m{\u001b[39;00mdtype\u001b[38;5;132;01m}\u001b[39;00m\u001b[38;5;124m\"\u001b[39m\n\u001b[1;32m--> 494\u001b[0m     \u001b[38;5;28;01mraise\u001b[39;00m \u001b[38;5;167;01mTypeError\u001b[39;00m(msg)\n\u001b[0;32m    495\u001b[0m \u001b[38;5;28;01melse\u001b[39;00m:\n\u001b[0;32m    496\u001b[0m     \u001b[38;5;28;01mreturn\u001b[39;00m np\u001b[38;5;241m.\u001b[39masarray(\u001b[38;5;28mself\u001b[39m, dtype\u001b[38;5;241m=\u001b[39mdtype)\n",
      "\u001b[1;31mTypeError\u001b[0m: Cannot cast DatetimeArray to dtype datetime64[M]"
     ]
    }
   ],
   "source": [
    "profiles = get_profiles(visits, orders, costs)\n",
    "print(f'Минимальная дата привлечения пользователей: {profiles.dt.min()}\\n\\\n",
    "Максимальная дата привлечения пользователей: {profiles.dt.max()}')"
   ]
  },
  {
   "cell_type": "markdown",
   "metadata": {},
   "source": [
    "**Вывод:** пользователей привлекали с 1 мая по 27 октября 2019 года, что соответствует описанию."
   ]
  },
  {
   "cell_type": "markdown",
   "metadata": {},
   "source": [
    "#### Приход пользователей в разбивке по странам"
   ]
  },
  {
   "cell_type": "code",
   "execution_count": null,
   "metadata": {},
   "outputs": [],
   "source": [
    "def cat_profiles(category, sort = 'user_id'):\n",
    "    display(\n",
    "    profiles\n",
    "    .groupby(category).agg({'user_id': 'count', 'payer': 'mean'})\n",
    "    .sort_values(sort, ascending=False)\n",
    "    .style.format({'payer': '{:.3f}'})\n",
    "    )"
   ]
  },
  {
   "cell_type": "code",
   "execution_count": null,
   "metadata": {},
   "outputs": [],
   "source": [
    "cat_profiles('region')"
   ]
  },
  {
   "cell_type": "markdown",
   "metadata": {},
   "source": [
    "**Вывод:** Больше всего пользователей привлекли из США, на них же приходится самая большая доля платящих пользователей. Из Великобритании и Франции примерно одинаковое число клиентов и доли платящих. Из Германии меньше всего пользователей, однако количество платящих пользоватлей выше, чем в Великобритании и Франции."
   ]
  },
  {
   "cell_type": "markdown",
   "metadata": {},
   "source": [
    "#### Приход пользователей в разбивке по устройствам"
   ]
  },
  {
   "cell_type": "code",
   "execution_count": null,
   "metadata": {},
   "outputs": [],
   "source": [
    "cat_profiles('device')"
   ]
  },
  {
   "cell_type": "markdown",
   "metadata": {},
   "source": [
    "**Вывод:** Больше всего пользователей было привлечено с iPhone, меньше всего с Mac. Хоть и число клиентов с Mac привлечено меньше всего, однако у них самая большая доля платящих. На последнем месте PC."
   ]
  },
  {
   "cell_type": "markdown",
   "metadata": {},
   "source": [
    "#### Приход пользователей в разбивке по каналам привлечения"
   ]
  },
  {
   "cell_type": "code",
   "execution_count": null,
   "metadata": {},
   "outputs": [],
   "source": [
    "cat_profiles('channel', sort = 'payer')"
   ]
  },
  {
   "cell_type": "markdown",
   "metadata": {},
   "source": [
    "**Вывод:** Больше всего пользователей пришло самостоятельно, на последнем месте из источника lambdaMediaAds. По доля платящих пользователей на первом месте FaceBoom, на последнем пришедшие естественным образом. "
   ]
  },
  {
   "cell_type": "markdown",
   "metadata": {
    "id": "80LRB5-eWVwm"
   },
   "source": [
    "### Маркетинг\n",
    "\n",
    "- Посчитайте общую сумму расходов на маркетинг.\n",
    "- Выясните, как траты распределены по рекламным источникам, то есть сколько денег потратили на каждый источник.\n",
    "- Постройте график с визуализацией динамики изменения расходов во времени по неделям по каждому источнику. Затем на другом графике визуализируйте динамику изменения расходов во времени по месяцам по каждому источнику.\n",
    "- Узнайте, сколько в среднем стоило привлечение одного пользователя (CAC) из каждого источника. Используйте профили пользователей.\n",
    "\n",
    "Напишите промежуточные выводы."
   ]
  },
  {
   "cell_type": "code",
   "execution_count": null,
   "metadata": {
    "id": "DQE9emXqWVwm",
    "scrolled": true
   },
   "outputs": [],
   "source": [
    "print(costs.costs.sum())\n",
    "channel_costs = (\n",
    "    costs.pivot_table(index='channel', values='costs', aggfunc='sum')\n",
    "    .sort_values('costs', ascending=False)\n",
    "    .reset_index()\n",
    ")\n",
    "channel_costs['Доля'] = round(channel_costs.costs / costs.costs.sum(), 3)\n",
    "channel_costs.columns= ['Канал привлечения', 'Стоимость', 'Доля']\n",
    "display(channel_costs)"
   ]
  },
  {
   "cell_type": "code",
   "execution_count": null,
   "metadata": {},
   "outputs": [],
   "source": [
    "advanced_costs = costs.copy()\n",
    "advanced_costs['week'] = pd.to_datetime(advanced_costs['dt']).dt.week\n",
    "advanced_costs['month'] = pd.to_datetime(advanced_costs['dt']).dt.month\n",
    "plt.figure(figsize=(15, 10));\n",
    "ax1 = plt.subplot(1, 2, 1)\n",
    "(\n",
    "    advanced_costs\n",
    "    .pivot_table(index='week', columns='channel', values='costs', aggfunc='sum')\n",
    "    .plot(grid=True, ax=ax1)\n",
    ");\n",
    "plt.xlabel('Неделя привлечения');\n",
    "plt.ylabel('Сумма расходов');\n",
    "plt.title('Динамика изменения расходов во времени по неделям');\n",
    "ax2 = plt.subplot(1, 2, 2, sharey=ax1)\n",
    "(\n",
    "    advanced_costs\n",
    "    .pivot_table(index='month', columns='channel', values='costs', aggfunc='sum')\n",
    "    .plot(grid=True, ax=ax2)\n",
    ");\n",
    "plt.xlabel('Месяц привлечения');\n",
    "plt.title('Динамика изменения расходов во времени по месяцам');"
   ]
  },
  {
   "cell_type": "code",
   "execution_count": null,
   "metadata": {
    "scrolled": true
   },
   "outputs": [],
   "source": [
    "per_user = (\n",
    "    profiles\n",
    "    .pivot_table(index='channel', values='acquisition_cost', aggfunc='mean')\n",
    "    .reset_index()\n",
    "    .sort_values('acquisition_cost', ascending=False)\n",
    ")\n",
    "per_user.columns= ['Канал привлечения', 'Среедняя стоимость привлечения одного пользователя']\n",
    "per_user.style.format({'Среедняя стоимость привлечения одного пользователя': '{:.2f}'})"
   ]
  },
  {
   "cell_type": "markdown",
   "metadata": {},
   "source": [
    "**Вывод:** общая сумма расходов на маркетинг составила 105497. 2/3 из этой суммы ушло на каналы привлечения TipTop и Faceboom. На все, кроме двух рекламных источников, было потрачено, в динамике по неделям и месяцам, средств равномерно. Расходы на TipTop и FaceBoom в разбивке по неделям росли куда более заметно, нежели остальные, с просадками в некоторых неделях. В разбивке по месяцам на FaceBoom выделялись значительные средства до 9 месяца, на TipTop до 8, далее они пошли на незначительный спад. Самые большие затраты в пересчёте на пользователя уходили на TipTop и FaceBoom, однако стоимость привлечения пользоователя с канала AdNonSense приближенно равна FaceBoom."
   ]
  },
  {
   "cell_type": "markdown",
   "metadata": {
    "id": "poDjrQVHWVwn"
   },
   "source": [
    "### Оцените окупаемость рекламы\n",
    "\n",
    "Используя графики LTV, ROI и CAC, проанализируйте окупаемость рекламы. Считайте, что на календаре 1 ноября 2019 года, а в бизнес-плане заложено, что пользователи должны окупаться не позднее чем через две недели после привлечения. Необходимость включения в анализ органических пользователей определите самостоятельно.\n",
    "\n",
    "- Проанализируйте окупаемость рекламы c помощью графиков LTV и ROI, а также графики динамики LTV, CAC и ROI.\n",
    "- Проверьте конверсию пользователей и динамику её изменения. То же самое сделайте с удержанием пользователей. Постройте и изучите графики конверсии и удержания.\n",
    "- Проанализируйте окупаемость рекламы с разбивкой по устройствам. Постройте графики LTV и ROI, а также графики динамики LTV, CAC и ROI.\n",
    "- Проанализируйте окупаемость рекламы с разбивкой по странам. Постройте графики LTV и ROI, а также графики динамики LTV, CAC и ROI.\n",
    "- Проанализируйте окупаемость рекламы с разбивкой по рекламным каналам. Постройте графики LTV и ROI, а также графики динамики LTV, CAC и ROI.\n",
    "- Ответьте на такие вопросы:\n",
    "    - Окупается ли реклама, направленная на привлечение пользователей в целом?\n",
    "    - Какие устройства, страны и рекламные каналы могут оказывать негативное влияние на окупаемость рекламы?\n",
    "    - Чем могут быть вызваны проблемы окупаемости?\n",
    "\n",
    "Напишите вывод, опишите возможные причины обнаруженных проблем и промежуточные рекомендации для рекламного отдела."
   ]
  },
  {
   "cell_type": "markdown",
   "metadata": {},
   "source": [
    "#### Графики окупаемости рекламы для всех пользователей"
   ]
  },
  {
   "cell_type": "code",
   "execution_count": null,
   "metadata": {
    "id": "hbNu9EXeWVwo"
   },
   "outputs": [],
   "source": [
    "horizon_days = 14\n",
    "observation_date = datetime(2019, 11, 1).date()\n",
    "new_profiles = profiles.query('channel != \"organic\"')\n",
    "raw_data, ltv, ltv_history, roi, roi_history = get_ltv(\n",
    "    new_profiles, orders, observation_date, horizon_days)\n",
    "plot_ltv_roi(ltv, ltv_history, roi, roi_history, horizon_days)"
   ]
  },
  {
   "cell_type": "markdown",
   "metadata": {},
   "source": [
    "**Вывод:** LTV растёт, как и ожидалось, в динамике 14-ого дня стабилен. CAC растёт с каждым месяцем. ROI в конце второй недели на уровне 80%, то есть реклама не отбивается, в динамике 14-ого дня окупаемость с каждым месяцем падает, но в течении каждого имеются увеличения, относительно начала, кроме последнего."
   ]
  },
  {
   "cell_type": "markdown",
   "metadata": {},
   "source": [
    "#### Графики удержания пользователей"
   ]
  },
  {
   "cell_type": "code",
   "execution_count": null,
   "metadata": {},
   "outputs": [],
   "source": [
    "result_raw, retention, retention_history = get_retention(new_profiles, visits, observation_date, horizon_days)\n",
    "plot_retention(retention, retention_history, horizon_days, 7)"
   ]
  },
  {
   "cell_type": "markdown",
   "metadata": {},
   "source": [
    "**Вывод:** Кривая удержания платящих выше, чем не платящих. Обе кривые уходят вниз. В динамике всё стабильно."
   ]
  },
  {
   "cell_type": "code",
   "execution_count": null,
   "metadata": {},
   "outputs": [],
   "source": [
    "result_raw, retention_device, retention_history_device = get_retention(\n",
    "    new_profiles, visits, observation_date, horizon_days, dimensions=['device'])\n",
    "plot_retention(retention_device, retention_history_device, horizon_days, 7)"
   ]
  },
  {
   "cell_type": "markdown",
   "metadata": {},
   "source": [
    "**Вывод:** Кривая удержания платящих выше, чем не платящих. Обе кривые уходят вниз. Пользователи Mac и iPhone удерживаются немногим хуже. В динамике всё стабильно."
   ]
  },
  {
   "cell_type": "code",
   "execution_count": null,
   "metadata": {},
   "outputs": [],
   "source": [
    "result_raw, retention_region, retention_history_region = get_retention(\n",
    "    new_profiles, visits, observation_date, horizon_days, dimensions=['region'])\n",
    "plot_retention(retention_region, retention_history_region, horizon_days, 7)"
   ]
  },
  {
   "cell_type": "markdown",
   "metadata": {},
   "source": [
    "**Вывод:** Кривая удержания платящих выше, чем не платящих. Обе кривые уходят вниз. Пользователи из Америки удерживаются хуже. В динамике всё стабильно."
   ]
  },
  {
   "cell_type": "code",
   "execution_count": null,
   "metadata": {},
   "outputs": [],
   "source": [
    "result_raw, retention_channel, retention_history_channel = get_retention(\n",
    "    new_profiles, visits, observation_date, horizon_days, dimensions=['channel'])\n",
    "plot_retention(retention_channel, retention_history_channel, horizon_days, 7)"
   ]
  },
  {
   "cell_type": "markdown",
   "metadata": {},
   "source": [
    "**Вывод:** Кривая удержания платящих выше, чем не платящих, за исключением пользователей привлечённых из каналов FaceBoom и AdNonSense. Обе кривые уходят вниз. В динамике всё стабильно."
   ]
  },
  {
   "cell_type": "markdown",
   "metadata": {},
   "source": [
    "#### Графики конверсии пользователей"
   ]
  },
  {
   "cell_type": "code",
   "execution_count": null,
   "metadata": {
    "scrolled": true
   },
   "outputs": [],
   "source": [
    "result_raw, conversion, conversion_history = get_conversion(new_profiles, orders, observation_date, horizon_days)\n",
    "plot_conversion(conversion, conversion_history, horizon_days, 7)"
   ]
  },
  {
   "cell_type": "markdown",
   "metadata": {},
   "source": [
    "**Вывод:** Кривая конверсии не падает, стремится к единице. В динамике всё стабильно."
   ]
  },
  {
   "cell_type": "code",
   "execution_count": null,
   "metadata": {},
   "outputs": [],
   "source": [
    "result_raw, conversion_device, conversion_history_device = get_conversion(\n",
    "    new_profiles, orders, observation_date, horizon_days, dimensions=['device'])\n",
    "plot_conversion(conversion_device, conversion_history_device, horizon_days, 7)"
   ]
  },
  {
   "cell_type": "markdown",
   "metadata": {},
   "source": [
    "**Вывод:** Кривые конверсии не падают, стремятся к единице. В динамике всё стабильно. Пользователи iPhone хуже конвертируются, чем остальные."
   ]
  },
  {
   "cell_type": "code",
   "execution_count": null,
   "metadata": {},
   "outputs": [],
   "source": [
    "result_raw, conversion_region, conversion_history_region = get_conversion(\n",
    "    new_profiles, orders, observation_date, horizon_days, dimensions=['region'])\n",
    "plot_conversion(conversion_region, conversion_history_region, horizon_days, 7)"
   ]
  },
  {
   "cell_type": "markdown",
   "metadata": {},
   "source": [
    "**Вывод:** Кривые конверсии не падают, стремятся к единице. В динамике всё стабильно. Пользователи из Америки гораздо лучше остальных совершают покупки."
   ]
  },
  {
   "cell_type": "code",
   "execution_count": null,
   "metadata": {},
   "outputs": [],
   "source": [
    "result_raw, conversion_channel, conversion_history_channel = get_conversion(\n",
    "    new_profiles, orders, observation_date, horizon_days, dimensions=['channel'])\n",
    "plot_conversion(conversion_channel, conversion_history_channel, horizon_days, 7)"
   ]
  },
  {
   "cell_type": "markdown",
   "metadata": {},
   "source": [
    "**Вывод:** Кривые конверсии не падают, стремятся к единице. В динамике всё стабильно."
   ]
  },
  {
   "cell_type": "markdown",
   "metadata": {},
   "source": [
    "#### Графики окупаемости в разбивке по устройствам"
   ]
  },
  {
   "cell_type": "code",
   "execution_count": null,
   "metadata": {
    "scrolled": true
   },
   "outputs": [],
   "source": [
    "raw_data, ltv_device, ltv_history_device, roi_device, roi_history_device = (\n",
    "    get_ltv(new_profiles, orders, observation_date, horizon_days, dimensions=['device'])\n",
    ")\n",
    "plot_ltv_roi(ltv_device, ltv_history_device, roi_device, roi_history_device, horizon_days)"
   ]
  },
  {
   "cell_type": "markdown",
   "metadata": {},
   "source": [
    "**Вывод:** \"Пожизненная\" стоимость клиентов PC ниже, чем у остальных. Стоимость привлечения пользователей с PC и Android дешевли, нежели с Mac и iPhone. Только на 11 день пользователи, привлечённых с PC, приносят больше, чем на них было затрачено. В динамике все клиенты перестали окупаться."
   ]
  },
  {
   "cell_type": "markdown",
   "metadata": {},
   "source": [
    "#### Графики окупаемости в разбивке по странам"
   ]
  },
  {
   "cell_type": "code",
   "execution_count": null,
   "metadata": {
    "scrolled": true
   },
   "outputs": [],
   "source": [
    "raw_data, ltv_region, ltv_history_region, roi_region, roi_history_region = (\n",
    "    get_ltv(new_profiles, orders, observation_date, horizon_days, dimensions=['region'])\n",
    ")\n",
    "plot_ltv_roi(ltv_region, ltv_history_region, roi_region, roi_history_region, horizon_days)"
   ]
  },
  {
   "cell_type": "markdown",
   "metadata": {},
   "source": [
    "**Вывод:** \"Пожизненная\" стоимость клиентов из Америки выше, чем у остальных. С мая по июнь наблюдается значительный рост расходов на привлечение из Америки, в свою очередь на другие страны выделяется меньше. Американские пользователи не окупаются, хотя с мая по июнь и с июня по июль заметен выход в плюс."
   ]
  },
  {
   "cell_type": "markdown",
   "metadata": {},
   "source": [
    "#### Графики окупаемости в разбивке по каналам привлечения"
   ]
  },
  {
   "cell_type": "code",
   "execution_count": null,
   "metadata": {
    "scrolled": true
   },
   "outputs": [],
   "source": [
    "raw_data, ltv_channel, ltv_history_channel, roi_channel, roi_history_channel = (\n",
    "    get_ltv(new_profiles, orders, observation_date, horizon_days, dimensions=['channel'])\n",
    ")\n",
    "plot_ltv_roi(ltv_channel, ltv_history_channel, roi_channel, roi_history_channel, horizon_days)"
   ]
  },
  {
   "cell_type": "markdown",
   "metadata": {},
   "source": [
    "**Вывод:** \"Пожизненная\" стоимость клиентов привлечённых из AdNonSense и TipTop выше, чем у остальных. Динамика стоимости привлечения пользователей из TipTop росла с каждым месяц, на остальные каналы денег тратилось без изменений. TipTop, FaceBoom, AdNonSense не окупаются. В динамике только AdNonSense удаётся изредка выходить в плюс."
   ]
  },
  {
   "cell_type": "markdown",
   "metadata": {},
   "source": [
    "**Вывод:**\n",
    "1. В целом реклама, направленная на привлечение пользователей не окупается. \n",
    "2. Негативные влияния на окупаемость рекламы оказывают устройства iPhone и Mac. Относительно стран, это Америка, также 3 канала привлечения: TipTop, FaceBoom, AdNonSense.\n",
    "3. Проблемы с оккупаемостью могут быть связаны с возросшей стоимость привлечения клиентов.\n",
    "\n",
    "На общем графике для всех пользователей наблюдается значительный рост трат на привлечения клиентов с конца мая, в связи с чем динамика окупаемости последнего дня падает с небольшими отскоками. Такая же ситуация в разбивке для устройств Mac и iPhone. Все вышесказанное связано с огромными вложениями в привлечение пользователей из Америки, относительно других стран. Также больше чем в три раза увеличились затраты на канал привлечения TipTop. Данные конверсии и удержания аномалий не содержат. Предлагаю сократить расходы на привлечения в некоторых областях."
   ]
  },
  {
   "cell_type": "markdown",
   "metadata": {
    "id": "Jn9XBfZCWVwo"
   },
   "source": [
    "### Напишите выводы\n",
    "\n",
    "- Выделите причины неэффективности привлечения пользователей.\n",
    "- Сформулируйте рекомендации для отдела маркетинга."
   ]
  },
  {
   "cell_type": "markdown",
   "metadata": {},
   "source": [
    "Не смотря на то, что больше всего пользователей пришло из Америки и на их долю приходится самая большая доля платящих пользоватлей, затраты на их привлечение не окупаются. Также они удерживаются куда хуже остальных. Клиенты, привлечённые из каналов FaceBoom и AdNonSense, удерживаются сильно хуже, однако занимают первые места по конверсии. Пользователи из канала TipTop обходятся компании дороже всего, хотя и занимают вторую строчку по числу привлечённых клиентов, тем не менее они с трудом окупаются даже в половину.   \n",
    "Я считаю, что нужно оптимизировать расходы на превлечения и сместить фокус с канала TipTop, а также переориентировааться с каналов привлекающих людей из Амереки на равномерное привлечение пользоватлей из других стран. Рекомендую больше инвестировать в канал lambdaMediaAds. У него высокие показатели окупаемости со средними показателями на расходы. Хорошие коэффиценты конверсии и удержания."
   ]
  }
 ],
 "metadata": {
  "ExecuteTimeLog": [
   {
    "duration": 432,
    "start_time": "2024-05-11T10:08:26.878Z"
   },
   {
    "duration": 1639,
    "start_time": "2024-05-11T10:08:58.726Z"
   },
   {
    "duration": 626,
    "start_time": "2024-05-11T10:09:03.017Z"
   },
   {
    "duration": 805,
    "start_time": "2024-05-11T10:09:30.758Z"
   },
   {
    "duration": 633,
    "start_time": "2024-05-11T10:09:34.819Z"
   },
   {
    "duration": 742,
    "start_time": "2024-05-11T10:10:02.494Z"
   },
   {
    "duration": 723,
    "start_time": "2024-05-11T10:10:05.108Z"
   },
   {
    "duration": 683,
    "start_time": "2024-05-11T10:10:08.839Z"
   },
   {
    "duration": 646,
    "start_time": "2024-05-11T10:10:34.060Z"
   },
   {
    "duration": 755,
    "start_time": "2024-05-11T10:10:46.364Z"
   },
   {
    "duration": 4,
    "start_time": "2024-05-11T10:10:56.456Z"
   },
   {
    "duration": 757,
    "start_time": "2024-05-11T10:10:59.041Z"
   },
   {
    "duration": 734,
    "start_time": "2024-05-11T10:11:16.940Z"
   },
   {
    "duration": 208,
    "start_time": "2024-05-11T10:14:01.809Z"
   },
   {
    "duration": 212,
    "start_time": "2024-05-11T10:14:06.874Z"
   },
   {
    "duration": 214,
    "start_time": "2024-05-11T10:15:24.004Z"
   },
   {
    "duration": 206,
    "start_time": "2024-05-11T10:15:40.726Z"
   },
   {
    "duration": 232,
    "start_time": "2024-05-11T10:15:45.973Z"
   },
   {
    "duration": 207,
    "start_time": "2024-05-11T10:15:50.872Z"
   },
   {
    "duration": 203,
    "start_time": "2024-05-11T10:15:54.923Z"
   },
   {
    "duration": 213,
    "start_time": "2024-05-11T10:15:58.522Z"
   },
   {
    "duration": 68,
    "start_time": "2024-05-11T10:16:08.101Z"
   },
   {
    "duration": 211,
    "start_time": "2024-05-11T10:16:11.157Z"
   },
   {
    "duration": 230,
    "start_time": "2024-05-11T10:16:40.124Z"
   },
   {
    "duration": 215,
    "start_time": "2024-05-11T10:16:45.577Z"
   },
   {
    "duration": 234,
    "start_time": "2024-05-11T10:16:50.180Z"
   },
   {
    "duration": 229,
    "start_time": "2024-05-11T10:17:35.031Z"
   },
   {
    "duration": 226,
    "start_time": "2024-05-11T10:17:43.476Z"
   },
   {
    "duration": 7,
    "start_time": "2024-05-11T10:18:54.997Z"
   },
   {
    "duration": 4,
    "start_time": "2024-05-11T10:20:13.412Z"
   },
   {
    "duration": 4,
    "start_time": "2024-05-11T10:20:26.783Z"
   },
   {
    "duration": 248,
    "start_time": "2024-05-11T10:20:35.010Z"
   },
   {
    "duration": 4,
    "start_time": "2024-05-11T10:20:52.137Z"
   },
   {
    "duration": 400,
    "start_time": "2024-05-11T10:20:57.903Z"
   },
   {
    "duration": 725,
    "start_time": "2024-05-11T10:20:58.305Z"
   },
   {
    "duration": 239,
    "start_time": "2024-05-11T10:20:59.032Z"
   },
   {
    "duration": 3,
    "start_time": "2024-05-11T10:20:59.273Z"
   },
   {
    "duration": 18,
    "start_time": "2024-05-11T10:21:38.871Z"
   },
   {
    "duration": 73,
    "start_time": "2024-05-11T10:22:12.020Z"
   },
   {
    "duration": 6,
    "start_time": "2024-05-11T10:22:57.587Z"
   },
   {
    "duration": 12,
    "start_time": "2024-05-11T10:22:59.339Z"
   },
   {
    "duration": 4,
    "start_time": "2024-05-11T10:23:25.597Z"
   },
   {
    "duration": 10,
    "start_time": "2024-05-11T10:23:29.107Z"
   },
   {
    "duration": 111,
    "start_time": "2024-05-11T10:25:07.893Z"
   },
   {
    "duration": 116,
    "start_time": "2024-05-11T10:25:38.822Z"
   },
   {
    "duration": 12,
    "start_time": "2024-05-11T10:25:47.968Z"
   },
   {
    "duration": 25,
    "start_time": "2024-05-11T10:26:10.297Z"
   },
   {
    "duration": 53,
    "start_time": "2024-05-11T10:26:14.453Z"
   },
   {
    "duration": 11,
    "start_time": "2024-05-11T10:26:25.675Z"
   },
   {
    "duration": 7,
    "start_time": "2024-05-11T10:26:45.975Z"
   },
   {
    "duration": 42,
    "start_time": "2024-05-11T10:27:04.067Z"
   },
   {
    "duration": 68,
    "start_time": "2024-05-11T10:27:06.204Z"
   },
   {
    "duration": 31,
    "start_time": "2024-05-11T10:27:25.082Z"
   },
   {
    "duration": 5,
    "start_time": "2024-05-11T10:27:26.827Z"
   },
   {
    "duration": 10,
    "start_time": "2024-05-11T10:27:30.705Z"
   },
   {
    "duration": 7,
    "start_time": "2024-05-11T10:27:34.658Z"
   },
   {
    "duration": 9,
    "start_time": "2024-05-11T10:27:36.541Z"
   },
   {
    "duration": 14,
    "start_time": "2024-05-11T10:27:38.527Z"
   },
   {
    "duration": 34,
    "start_time": "2024-05-11T10:27:43.764Z"
   },
   {
    "duration": 9,
    "start_time": "2024-05-11T10:27:55.352Z"
   },
   {
    "duration": 73,
    "start_time": "2024-05-11T10:28:04.662Z"
   },
   {
    "duration": 10,
    "start_time": "2024-05-11T10:28:06.831Z"
   },
   {
    "duration": 5,
    "start_time": "2024-05-11T10:28:12.438Z"
   },
   {
    "duration": 43,
    "start_time": "2024-05-11T10:28:36.252Z"
   },
   {
    "duration": 5,
    "start_time": "2024-05-11T10:28:36.790Z"
   },
   {
    "duration": 11,
    "start_time": "2024-05-11T10:28:40.691Z"
   },
   {
    "duration": 29,
    "start_time": "2024-05-11T10:30:56.651Z"
   },
   {
    "duration": 415,
    "start_time": "2024-05-11T10:31:02.283Z"
   },
   {
    "duration": 780,
    "start_time": "2024-05-11T10:31:02.699Z"
   },
   {
    "duration": 249,
    "start_time": "2024-05-11T10:31:03.480Z"
   },
   {
    "duration": 172,
    "start_time": "2024-05-11T10:31:03.731Z"
   },
   {
    "duration": 10,
    "start_time": "2024-05-11T10:31:03.905Z"
   },
   {
    "duration": 16,
    "start_time": "2024-05-11T10:31:15.757Z"
   },
   {
    "duration": 67,
    "start_time": "2024-05-11T10:31:23.298Z"
   },
   {
    "duration": 11,
    "start_time": "2024-05-11T10:31:23.630Z"
   },
   {
    "duration": 58,
    "start_time": "2024-05-11T10:31:48.826Z"
   },
   {
    "duration": 8,
    "start_time": "2024-05-11T11:16:42.803Z"
   },
   {
    "duration": 73,
    "start_time": "2024-05-11T11:17:39.637Z"
   },
   {
    "duration": 9,
    "start_time": "2024-05-11T11:18:11.886Z"
   },
   {
    "duration": 499,
    "start_time": "2024-05-11T11:18:15.110Z"
   },
   {
    "duration": 7,
    "start_time": "2024-05-11T11:19:49.555Z"
   },
   {
    "duration": 8,
    "start_time": "2024-05-11T11:20:27.732Z"
   },
   {
    "duration": 7,
    "start_time": "2024-05-11T11:21:06.467Z"
   },
   {
    "duration": 10,
    "start_time": "2024-05-11T11:23:19.126Z"
   },
   {
    "duration": 12,
    "start_time": "2024-05-11T11:23:34.611Z"
   },
   {
    "duration": 11,
    "start_time": "2024-05-11T11:23:55.031Z"
   },
   {
    "duration": 5,
    "start_time": "2024-05-11T11:24:54.949Z"
   },
   {
    "duration": 10,
    "start_time": "2024-05-11T11:25:07.452Z"
   },
   {
    "duration": 3,
    "start_time": "2024-05-11T11:26:53.582Z"
   },
   {
    "duration": 46,
    "start_time": "2024-05-12T18:43:19.703Z"
   },
   {
    "duration": 375,
    "start_time": "2024-05-12T18:43:26.388Z"
   },
   {
    "duration": 1487,
    "start_time": "2024-05-12T18:43:26.765Z"
   },
   {
    "duration": 223,
    "start_time": "2024-05-12T18:43:28.253Z"
   },
   {
    "duration": 165,
    "start_time": "2024-05-12T18:43:28.477Z"
   },
   {
    "duration": 63,
    "start_time": "2024-05-12T18:43:28.643Z"
   },
   {
    "duration": 16,
    "start_time": "2024-05-12T18:43:28.707Z"
   },
   {
    "duration": 6,
    "start_time": "2024-05-12T18:43:28.724Z"
   },
   {
    "duration": 17,
    "start_time": "2024-05-12T18:43:28.732Z"
   },
   {
    "duration": 27,
    "start_time": "2024-05-12T18:43:28.750Z"
   },
   {
    "duration": 22,
    "start_time": "2024-05-12T18:43:28.778Z"
   },
   {
    "duration": 14,
    "start_time": "2024-05-12T18:43:28.801Z"
   },
   {
    "duration": 8,
    "start_time": "2024-05-12T18:43:28.816Z"
   },
   {
    "duration": 10,
    "start_time": "2024-05-12T18:43:28.826Z"
   },
   {
    "duration": 11,
    "start_time": "2024-05-12T18:43:28.839Z"
   },
   {
    "duration": 448,
    "start_time": "2024-05-12T18:46:43.830Z"
   },
   {
    "duration": 446,
    "start_time": "2024-05-12T18:51:02.166Z"
   },
   {
    "duration": 448,
    "start_time": "2024-05-12T18:51:18.861Z"
   },
   {
    "duration": 412,
    "start_time": "2024-05-12T18:51:28.316Z"
   },
   {
    "duration": 418,
    "start_time": "2024-05-12T18:51:42.247Z"
   },
   {
    "duration": 427,
    "start_time": "2024-05-12T18:51:50.797Z"
   },
   {
    "duration": 433,
    "start_time": "2024-05-12T18:52:43.902Z"
   },
   {
    "duration": 427,
    "start_time": "2024-05-12T18:54:00.546Z"
   },
   {
    "duration": 15,
    "start_time": "2024-05-12T18:56:12.773Z"
   },
   {
    "duration": 10,
    "start_time": "2024-05-12T18:56:20.552Z"
   },
   {
    "duration": 36,
    "start_time": "2024-05-12T19:03:06.871Z"
   },
   {
    "duration": 42,
    "start_time": "2024-05-12T19:03:44.270Z"
   },
   {
    "duration": 14,
    "start_time": "2024-05-12T19:03:56.807Z"
   },
   {
    "duration": 17,
    "start_time": "2024-05-12T19:04:00.325Z"
   },
   {
    "duration": 27,
    "start_time": "2024-05-12T19:04:11.757Z"
   },
   {
    "duration": 18,
    "start_time": "2024-05-12T19:04:17.774Z"
   },
   {
    "duration": 19,
    "start_time": "2024-05-12T19:04:31.487Z"
   },
   {
    "duration": 20,
    "start_time": "2024-05-12T19:05:02.569Z"
   },
   {
    "duration": 19,
    "start_time": "2024-05-12T19:05:12.948Z"
   },
   {
    "duration": 18,
    "start_time": "2024-05-12T19:05:51.557Z"
   },
   {
    "duration": 13,
    "start_time": "2024-05-12T19:31:40.407Z"
   },
   {
    "duration": 19,
    "start_time": "2024-05-12T19:33:46.011Z"
   },
   {
    "duration": 20,
    "start_time": "2024-05-12T19:34:06.400Z"
   },
   {
    "duration": 41,
    "start_time": "2024-05-12T19:36:31.002Z"
   },
   {
    "duration": 20,
    "start_time": "2024-05-12T19:37:23.355Z"
   },
   {
    "duration": 38,
    "start_time": "2024-05-12T19:40:00.955Z"
   },
   {
    "duration": 11,
    "start_time": "2024-05-12T19:41:13.284Z"
   },
   {
    "duration": 3,
    "start_time": "2024-05-12T19:41:21.238Z"
   },
   {
    "duration": 10,
    "start_time": "2024-05-12T19:41:56.764Z"
   },
   {
    "duration": 13,
    "start_time": "2024-05-12T19:42:48.868Z"
   },
   {
    "duration": 14,
    "start_time": "2024-05-12T19:43:00.024Z"
   },
   {
    "duration": 502,
    "start_time": "2024-05-12T19:43:41.579Z"
   },
   {
    "duration": 75,
    "start_time": "2024-05-12T19:43:54.232Z"
   },
   {
    "duration": 196,
    "start_time": "2024-05-12T19:44:01.880Z"
   },
   {
    "duration": 124,
    "start_time": "2024-05-12T19:44:06.084Z"
   },
   {
    "duration": 13,
    "start_time": "2024-05-12T19:45:37.859Z"
   },
   {
    "duration": 776,
    "start_time": "2024-05-13T13:37:49.666Z"
   },
   {
    "duration": 3,
    "start_time": "2024-05-13T13:41:04.773Z"
   },
   {
    "duration": 100,
    "start_time": "2024-05-13T13:42:10.050Z"
   },
   {
    "duration": 576,
    "start_time": "2024-05-13T13:42:18.418Z"
   },
   {
    "duration": 1491,
    "start_time": "2024-05-13T13:42:18.996Z"
   },
   {
    "duration": 256,
    "start_time": "2024-05-13T13:42:20.488Z"
   },
   {
    "duration": 192,
    "start_time": "2024-05-13T13:42:20.747Z"
   },
   {
    "duration": 65,
    "start_time": "2024-05-13T13:42:20.941Z"
   },
   {
    "duration": 7,
    "start_time": "2024-05-13T13:42:21.008Z"
   },
   {
    "duration": 28,
    "start_time": "2024-05-13T13:42:21.017Z"
   },
   {
    "duration": 26,
    "start_time": "2024-05-13T13:42:21.046Z"
   },
   {
    "duration": 32,
    "start_time": "2024-05-13T13:42:21.073Z"
   },
   {
    "duration": 21,
    "start_time": "2024-05-13T13:42:21.107Z"
   },
   {
    "duration": 13,
    "start_time": "2024-05-13T13:42:21.130Z"
   },
   {
    "duration": 9,
    "start_time": "2024-05-13T13:42:21.144Z"
   },
   {
    "duration": 12,
    "start_time": "2024-05-13T13:42:21.155Z"
   },
   {
    "duration": 523,
    "start_time": "2024-05-13T13:42:21.170Z"
   },
   {
    "duration": 23,
    "start_time": "2024-05-13T13:42:21.694Z"
   },
   {
    "duration": 20,
    "start_time": "2024-05-13T13:42:21.719Z"
   },
   {
    "duration": 38,
    "start_time": "2024-05-13T13:42:21.740Z"
   },
   {
    "duration": 11,
    "start_time": "2024-05-13T13:42:21.779Z"
   },
   {
    "duration": 167,
    "start_time": "2024-05-13T13:42:21.792Z"
   },
   {
    "duration": 15,
    "start_time": "2024-05-13T13:42:39.838Z"
   },
   {
    "duration": 4,
    "start_time": "2024-05-13T13:43:38.540Z"
   },
   {
    "duration": 11,
    "start_time": "2024-05-13T13:43:43.010Z"
   },
   {
    "duration": 71,
    "start_time": "2024-05-13T13:44:08.308Z"
   },
   {
    "duration": 4,
    "start_time": "2024-05-13T13:44:22.117Z"
   },
   {
    "duration": 15,
    "start_time": "2024-05-13T13:44:26.991Z"
   },
   {
    "duration": 7,
    "start_time": "2024-05-13T13:44:32.042Z"
   },
   {
    "duration": 8,
    "start_time": "2024-05-13T13:44:50.591Z"
   },
   {
    "duration": 9,
    "start_time": "2024-05-13T13:44:59.232Z"
   },
   {
    "duration": 109,
    "start_time": "2024-05-13T13:45:22.300Z"
   },
   {
    "duration": 18,
    "start_time": "2024-05-13T13:45:27.791Z"
   },
   {
    "duration": 71,
    "start_time": "2024-05-13T13:45:33.753Z"
   },
   {
    "duration": 33,
    "start_time": "2024-05-13T13:46:11.169Z"
   },
   {
    "duration": 60,
    "start_time": "2024-05-13T13:46:12.315Z"
   },
   {
    "duration": 28,
    "start_time": "2024-05-13T13:46:19.193Z"
   },
   {
    "duration": 9,
    "start_time": "2024-05-13T13:46:28.304Z"
   },
   {
    "duration": 9,
    "start_time": "2024-05-13T13:46:41.665Z"
   },
   {
    "duration": 12,
    "start_time": "2024-05-13T13:46:47.293Z"
   },
   {
    "duration": 11,
    "start_time": "2024-05-13T13:46:53.190Z"
   },
   {
    "duration": 626,
    "start_time": "2024-05-13T13:47:07.676Z"
   },
   {
    "duration": 754,
    "start_time": "2024-05-13T13:47:08.304Z"
   },
   {
    "duration": 245,
    "start_time": "2024-05-13T13:47:09.060Z"
   },
   {
    "duration": 172,
    "start_time": "2024-05-13T13:47:09.307Z"
   },
   {
    "duration": 62,
    "start_time": "2024-05-13T13:47:09.481Z"
   },
   {
    "duration": 15,
    "start_time": "2024-05-13T13:47:09.544Z"
   },
   {
    "duration": 7,
    "start_time": "2024-05-13T13:47:09.561Z"
   },
   {
    "duration": 28,
    "start_time": "2024-05-13T13:47:09.569Z"
   },
   {
    "duration": 11,
    "start_time": "2024-05-13T13:47:09.598Z"
   },
   {
    "duration": 7,
    "start_time": "2024-05-13T13:47:09.611Z"
   },
   {
    "duration": 8,
    "start_time": "2024-05-13T13:47:09.620Z"
   },
   {
    "duration": 8,
    "start_time": "2024-05-13T13:47:09.629Z"
   },
   {
    "duration": 23,
    "start_time": "2024-05-13T13:47:09.638Z"
   },
   {
    "duration": 495,
    "start_time": "2024-05-13T13:47:09.664Z"
   },
   {
    "duration": 0,
    "start_time": "2024-05-13T13:47:10.160Z"
   },
   {
    "duration": 0,
    "start_time": "2024-05-13T13:47:10.161Z"
   },
   {
    "duration": 0,
    "start_time": "2024-05-13T13:47:10.162Z"
   },
   {
    "duration": 0,
    "start_time": "2024-05-13T13:47:10.163Z"
   },
   {
    "duration": 0,
    "start_time": "2024-05-13T13:47:10.164Z"
   },
   {
    "duration": 34,
    "start_time": "2024-05-13T13:48:02.273Z"
   },
   {
    "duration": 84,
    "start_time": "2024-05-13T13:48:04.476Z"
   },
   {
    "duration": 31,
    "start_time": "2024-05-13T13:48:07.166Z"
   },
   {
    "duration": 679,
    "start_time": "2024-05-13T13:48:13.717Z"
   },
   {
    "duration": 785,
    "start_time": "2024-05-13T13:48:14.398Z"
   },
   {
    "duration": 264,
    "start_time": "2024-05-13T13:48:15.185Z"
   },
   {
    "duration": 175,
    "start_time": "2024-05-13T13:48:15.456Z"
   },
   {
    "duration": 74,
    "start_time": "2024-05-13T13:48:15.633Z"
   },
   {
    "duration": 9,
    "start_time": "2024-05-13T13:48:15.709Z"
   },
   {
    "duration": 10,
    "start_time": "2024-05-13T13:48:15.720Z"
   },
   {
    "duration": 24,
    "start_time": "2024-05-13T13:48:15.732Z"
   },
   {
    "duration": 19,
    "start_time": "2024-05-13T13:48:15.758Z"
   },
   {
    "duration": 11,
    "start_time": "2024-05-13T13:48:15.779Z"
   },
   {
    "duration": 8,
    "start_time": "2024-05-13T13:48:15.792Z"
   },
   {
    "duration": 10,
    "start_time": "2024-05-13T13:48:15.802Z"
   },
   {
    "duration": 12,
    "start_time": "2024-05-13T13:48:15.814Z"
   },
   {
    "duration": 483,
    "start_time": "2024-05-13T13:48:15.828Z"
   },
   {
    "duration": 23,
    "start_time": "2024-05-13T13:48:16.312Z"
   },
   {
    "duration": 32,
    "start_time": "2024-05-13T13:48:16.337Z"
   },
   {
    "duration": 21,
    "start_time": "2024-05-13T13:48:16.370Z"
   },
   {
    "duration": 15,
    "start_time": "2024-05-13T13:48:16.392Z"
   },
   {
    "duration": 93,
    "start_time": "2024-05-13T13:48:16.409Z"
   },
   {
    "duration": 7,
    "start_time": "2024-05-13T13:48:27.487Z"
   },
   {
    "duration": 11,
    "start_time": "2024-05-13T13:48:36.745Z"
   },
   {
    "duration": 10,
    "start_time": "2024-05-13T13:49:42.043Z"
   },
   {
    "duration": 631,
    "start_time": "2024-05-13T13:51:30.960Z"
   },
   {
    "duration": 778,
    "start_time": "2024-05-13T13:51:31.593Z"
   },
   {
    "duration": 246,
    "start_time": "2024-05-13T13:51:32.373Z"
   },
   {
    "duration": 171,
    "start_time": "2024-05-13T13:51:32.621Z"
   },
   {
    "duration": 66,
    "start_time": "2024-05-13T13:51:32.793Z"
   },
   {
    "duration": 7,
    "start_time": "2024-05-13T13:51:32.862Z"
   },
   {
    "duration": 21,
    "start_time": "2024-05-13T13:51:32.870Z"
   },
   {
    "duration": 32,
    "start_time": "2024-05-13T13:51:32.893Z"
   },
   {
    "duration": 11,
    "start_time": "2024-05-13T13:51:32.927Z"
   },
   {
    "duration": 22,
    "start_time": "2024-05-13T13:51:32.940Z"
   },
   {
    "duration": 20,
    "start_time": "2024-05-13T13:51:32.963Z"
   },
   {
    "duration": 8,
    "start_time": "2024-05-13T13:51:32.985Z"
   },
   {
    "duration": 10,
    "start_time": "2024-05-13T13:51:32.995Z"
   },
   {
    "duration": 499,
    "start_time": "2024-05-13T13:51:33.008Z"
   },
   {
    "duration": 0,
    "start_time": "2024-05-13T13:51:33.509Z"
   },
   {
    "duration": 0,
    "start_time": "2024-05-13T13:51:33.510Z"
   },
   {
    "duration": 0,
    "start_time": "2024-05-13T13:51:33.511Z"
   },
   {
    "duration": 0,
    "start_time": "2024-05-13T13:51:33.512Z"
   },
   {
    "duration": 0,
    "start_time": "2024-05-13T13:51:33.513Z"
   },
   {
    "duration": 632,
    "start_time": "2024-05-13T13:52:05.221Z"
   },
   {
    "duration": 775,
    "start_time": "2024-05-13T13:52:05.855Z"
   },
   {
    "duration": 273,
    "start_time": "2024-05-13T13:52:06.631Z"
   },
   {
    "duration": 168,
    "start_time": "2024-05-13T13:52:06.905Z"
   },
   {
    "duration": 58,
    "start_time": "2024-05-13T13:52:07.075Z"
   },
   {
    "duration": 7,
    "start_time": "2024-05-13T13:52:07.135Z"
   },
   {
    "duration": 8,
    "start_time": "2024-05-13T13:52:07.156Z"
   },
   {
    "duration": 9,
    "start_time": "2024-05-13T13:52:07.166Z"
   },
   {
    "duration": 8,
    "start_time": "2024-05-13T13:52:07.177Z"
   },
   {
    "duration": 7,
    "start_time": "2024-05-13T13:52:07.186Z"
   },
   {
    "duration": 8,
    "start_time": "2024-05-13T13:52:07.194Z"
   },
   {
    "duration": 7,
    "start_time": "2024-05-13T13:52:07.203Z"
   },
   {
    "duration": 9,
    "start_time": "2024-05-13T13:52:07.212Z"
   },
   {
    "duration": 489,
    "start_time": "2024-05-13T13:52:07.223Z"
   },
   {
    "duration": 23,
    "start_time": "2024-05-13T13:52:07.714Z"
   },
   {
    "duration": 28,
    "start_time": "2024-05-13T13:52:07.738Z"
   },
   {
    "duration": 21,
    "start_time": "2024-05-13T13:52:07.768Z"
   },
   {
    "duration": 15,
    "start_time": "2024-05-13T13:52:07.790Z"
   },
   {
    "duration": 105,
    "start_time": "2024-05-13T13:52:07.807Z"
   },
   {
    "duration": 32,
    "start_time": "2024-05-13T13:53:21.153Z"
   },
   {
    "duration": 58,
    "start_time": "2024-05-13T13:53:21.509Z"
   },
   {
    "duration": 581,
    "start_time": "2024-05-13T13:53:29.212Z"
   },
   {
    "duration": 745,
    "start_time": "2024-05-13T13:53:29.795Z"
   },
   {
    "duration": 271,
    "start_time": "2024-05-13T13:53:30.542Z"
   },
   {
    "duration": 215,
    "start_time": "2024-05-13T13:53:30.814Z"
   },
   {
    "duration": 74,
    "start_time": "2024-05-13T13:53:31.031Z"
   },
   {
    "duration": 7,
    "start_time": "2024-05-13T13:53:31.107Z"
   },
   {
    "duration": 61,
    "start_time": "2024-05-13T13:53:31.116Z"
   },
   {
    "duration": 77,
    "start_time": "2024-05-13T13:53:31.179Z"
   },
   {
    "duration": 18,
    "start_time": "2024-05-13T13:53:31.257Z"
   },
   {
    "duration": 17,
    "start_time": "2024-05-13T13:53:31.277Z"
   },
   {
    "duration": 24,
    "start_time": "2024-05-13T13:53:31.296Z"
   },
   {
    "duration": 44,
    "start_time": "2024-05-13T13:53:31.322Z"
   },
   {
    "duration": 29,
    "start_time": "2024-05-13T13:53:31.368Z"
   },
   {
    "duration": 540,
    "start_time": "2024-05-13T13:53:31.400Z"
   },
   {
    "duration": 0,
    "start_time": "2024-05-13T13:53:31.942Z"
   },
   {
    "duration": 0,
    "start_time": "2024-05-13T13:53:31.943Z"
   },
   {
    "duration": 0,
    "start_time": "2024-05-13T13:53:31.945Z"
   },
   {
    "duration": 0,
    "start_time": "2024-05-13T13:53:31.946Z"
   },
   {
    "duration": 0,
    "start_time": "2024-05-13T13:53:31.947Z"
   },
   {
    "duration": 35,
    "start_time": "2024-05-13T13:59:38.269Z"
   },
   {
    "duration": 642,
    "start_time": "2024-05-13T13:59:47.583Z"
   },
   {
    "duration": 803,
    "start_time": "2024-05-13T13:59:48.227Z"
   },
   {
    "duration": 254,
    "start_time": "2024-05-13T13:59:49.032Z"
   },
   {
    "duration": 178,
    "start_time": "2024-05-13T13:59:49.288Z"
   },
   {
    "duration": 59,
    "start_time": "2024-05-13T13:59:49.469Z"
   },
   {
    "duration": 7,
    "start_time": "2024-05-13T13:59:49.530Z"
   },
   {
    "duration": 6,
    "start_time": "2024-05-13T13:59:49.556Z"
   },
   {
    "duration": 11,
    "start_time": "2024-05-13T13:59:49.564Z"
   },
   {
    "duration": 11,
    "start_time": "2024-05-13T13:59:49.577Z"
   },
   {
    "duration": 16,
    "start_time": "2024-05-13T13:59:49.590Z"
   },
   {
    "duration": 12,
    "start_time": "2024-05-13T13:59:49.608Z"
   },
   {
    "duration": 12,
    "start_time": "2024-05-13T13:59:49.622Z"
   },
   {
    "duration": 28,
    "start_time": "2024-05-13T13:59:49.636Z"
   },
   {
    "duration": 510,
    "start_time": "2024-05-13T13:59:49.666Z"
   },
   {
    "duration": 27,
    "start_time": "2024-05-13T13:59:50.178Z"
   },
   {
    "duration": 23,
    "start_time": "2024-05-13T13:59:50.207Z"
   },
   {
    "duration": 47,
    "start_time": "2024-05-13T13:59:50.232Z"
   },
   {
    "duration": 17,
    "start_time": "2024-05-13T13:59:50.280Z"
   },
   {
    "duration": 86,
    "start_time": "2024-05-13T13:59:50.298Z"
   },
   {
    "duration": 12,
    "start_time": "2024-05-13T14:00:42.766Z"
   },
   {
    "duration": 12,
    "start_time": "2024-05-13T14:01:07.974Z"
   },
   {
    "duration": 9,
    "start_time": "2024-05-13T14:01:27.455Z"
   },
   {
    "duration": 16,
    "start_time": "2024-05-13T14:01:32.174Z"
   },
   {
    "duration": 15,
    "start_time": "2024-05-13T14:01:57.727Z"
   },
   {
    "duration": 23,
    "start_time": "2024-05-13T14:02:05.466Z"
   },
   {
    "duration": 10,
    "start_time": "2024-05-13T14:02:31.276Z"
   },
   {
    "duration": 16,
    "start_time": "2024-05-13T14:02:38.657Z"
   },
   {
    "duration": 10,
    "start_time": "2024-05-13T14:02:49.566Z"
   },
   {
    "duration": 15,
    "start_time": "2024-05-13T14:02:56.362Z"
   },
   {
    "duration": 10,
    "start_time": "2024-05-13T14:04:59.673Z"
   },
   {
    "duration": 21,
    "start_time": "2024-05-13T14:05:03.695Z"
   },
   {
    "duration": 14,
    "start_time": "2024-05-13T14:05:45.561Z"
   },
   {
    "duration": 9,
    "start_time": "2024-05-13T14:05:55.023Z"
   },
   {
    "duration": 23,
    "start_time": "2024-05-13T14:06:00.074Z"
   },
   {
    "duration": 54,
    "start_time": "2024-05-13T14:07:06.585Z"
   },
   {
    "duration": 315,
    "start_time": "2024-05-13T14:07:53.636Z"
   },
   {
    "duration": 281,
    "start_time": "2024-05-13T14:08:22.709Z"
   },
   {
    "duration": 268,
    "start_time": "2024-05-13T14:08:28.417Z"
   },
   {
    "duration": 419,
    "start_time": "2024-05-13T14:09:24.305Z"
   },
   {
    "duration": 291,
    "start_time": "2024-05-13T14:09:47.869Z"
   },
   {
    "duration": 287,
    "start_time": "2024-05-13T14:09:53.998Z"
   },
   {
    "duration": 283,
    "start_time": "2024-05-13T14:10:38.642Z"
   },
   {
    "duration": 275,
    "start_time": "2024-05-13T14:10:41.811Z"
   },
   {
    "duration": 530,
    "start_time": "2024-05-13T14:11:35.568Z"
   },
   {
    "duration": 517,
    "start_time": "2024-05-13T14:12:26.918Z"
   },
   {
    "duration": 513,
    "start_time": "2024-05-13T14:12:38.813Z"
   },
   {
    "duration": 488,
    "start_time": "2024-05-13T14:12:44.716Z"
   },
   {
    "duration": 461,
    "start_time": "2024-05-13T14:12:50.697Z"
   },
   {
    "duration": 474,
    "start_time": "2024-05-13T14:13:18.511Z"
   },
   {
    "duration": 478,
    "start_time": "2024-05-13T14:13:21.795Z"
   },
   {
    "duration": 457,
    "start_time": "2024-05-13T14:13:26.365Z"
   },
   {
    "duration": 539,
    "start_time": "2024-05-13T14:14:03.949Z"
   },
   {
    "duration": 489,
    "start_time": "2024-05-13T14:14:08.787Z"
   },
   {
    "duration": 486,
    "start_time": "2024-05-13T14:15:19.041Z"
   },
   {
    "duration": 508,
    "start_time": "2024-05-13T14:15:51.538Z"
   },
   {
    "duration": 506,
    "start_time": "2024-05-13T14:16:02.104Z"
   },
   {
    "duration": 553,
    "start_time": "2024-05-13T14:16:16.322Z"
   },
   {
    "duration": 566,
    "start_time": "2024-05-13T14:16:24.017Z"
   },
   {
    "duration": 26,
    "start_time": "2024-05-13T14:17:53.947Z"
   },
   {
    "duration": 32,
    "start_time": "2024-05-13T14:18:27.867Z"
   },
   {
    "duration": 178,
    "start_time": "2024-05-13T14:19:19.663Z"
   },
   {
    "duration": 19,
    "start_time": "2024-05-13T14:19:27.400Z"
   },
   {
    "duration": 40,
    "start_time": "2024-05-13T14:19:43.697Z"
   },
   {
    "duration": 24,
    "start_time": "2024-05-13T14:19:59.626Z"
   },
   {
    "duration": 23,
    "start_time": "2024-05-13T14:21:24.525Z"
   },
   {
    "duration": 27,
    "start_time": "2024-05-13T14:21:29.307Z"
   },
   {
    "duration": 31,
    "start_time": "2024-05-13T14:23:28.652Z"
   },
   {
    "duration": 29,
    "start_time": "2024-05-13T14:23:36.791Z"
   },
   {
    "duration": 52,
    "start_time": "2024-05-14T17:02:20.057Z"
   },
   {
    "duration": 1496,
    "start_time": "2024-05-14T17:03:40.015Z"
   },
   {
    "duration": 6,
    "start_time": "2024-05-14T17:03:49.096Z"
   },
   {
    "duration": 70,
    "start_time": "2024-05-14T17:04:23.590Z"
   },
   {
    "duration": 1195,
    "start_time": "2024-05-14T17:04:29.442Z"
   },
   {
    "duration": 1593,
    "start_time": "2024-05-14T17:04:30.639Z"
   },
   {
    "duration": 281,
    "start_time": "2024-05-14T17:04:32.234Z"
   },
   {
    "duration": 202,
    "start_time": "2024-05-14T17:04:32.516Z"
   },
   {
    "duration": 68,
    "start_time": "2024-05-14T17:04:32.720Z"
   },
   {
    "duration": 34,
    "start_time": "2024-05-14T17:04:32.790Z"
   },
   {
    "duration": 62,
    "start_time": "2024-05-14T17:04:32.826Z"
   },
   {
    "duration": 94,
    "start_time": "2024-05-14T17:04:32.890Z"
   },
   {
    "duration": 49,
    "start_time": "2024-05-14T17:04:32.985Z"
   },
   {
    "duration": 32,
    "start_time": "2024-05-14T17:04:33.036Z"
   },
   {
    "duration": 66,
    "start_time": "2024-05-14T17:04:33.070Z"
   },
   {
    "duration": 34,
    "start_time": "2024-05-14T17:04:33.138Z"
   },
   {
    "duration": 26,
    "start_time": "2024-05-14T17:04:33.174Z"
   },
   {
    "duration": 553,
    "start_time": "2024-05-14T17:04:33.203Z"
   },
   {
    "duration": 27,
    "start_time": "2024-05-14T17:04:33.758Z"
   },
   {
    "duration": 45,
    "start_time": "2024-05-14T17:04:33.788Z"
   },
   {
    "duration": 23,
    "start_time": "2024-05-14T17:04:33.834Z"
   },
   {
    "duration": 18,
    "start_time": "2024-05-14T17:04:33.858Z"
   },
   {
    "duration": 618,
    "start_time": "2024-05-14T17:04:33.878Z"
   },
   {
    "duration": 46,
    "start_time": "2024-05-14T17:04:34.498Z"
   },
   {
    "duration": 239,
    "start_time": "2024-05-14T17:04:34.546Z"
   },
   {
    "duration": 266,
    "start_time": "2024-05-14T17:04:40.368Z"
   },
   {
    "duration": 11,
    "start_time": "2024-05-14T17:07:03.679Z"
   },
   {
    "duration": 275,
    "start_time": "2024-05-14T17:07:40.949Z"
   },
   {
    "duration": 5,
    "start_time": "2024-05-14T17:08:02.885Z"
   },
   {
    "duration": 354,
    "start_time": "2024-05-14T17:08:09.842Z"
   },
   {
    "duration": 314,
    "start_time": "2024-05-14T17:08:14.200Z"
   },
   {
    "duration": 1340,
    "start_time": "2024-05-14T17:10:24.589Z"
   },
   {
    "duration": 300,
    "start_time": "2024-05-14T17:13:04.253Z"
   },
   {
    "duration": 1320,
    "start_time": "2024-05-14T17:13:04.555Z"
   },
   {
    "duration": 51,
    "start_time": "2024-05-19T17:42:30.576Z"
   },
   {
    "duration": 1351,
    "start_time": "2024-05-19T17:42:36.987Z"
   },
   {
    "duration": 1570,
    "start_time": "2024-05-19T17:42:38.340Z"
   },
   {
    "duration": 317,
    "start_time": "2024-05-19T17:42:39.912Z"
   },
   {
    "duration": 184,
    "start_time": "2024-05-19T17:42:40.231Z"
   },
   {
    "duration": 65,
    "start_time": "2024-05-19T17:42:40.417Z"
   },
   {
    "duration": 11,
    "start_time": "2024-05-19T17:42:40.484Z"
   },
   {
    "duration": 8,
    "start_time": "2024-05-19T17:42:40.497Z"
   },
   {
    "duration": 25,
    "start_time": "2024-05-19T17:42:40.507Z"
   },
   {
    "duration": 14,
    "start_time": "2024-05-19T17:42:40.534Z"
   },
   {
    "duration": 12,
    "start_time": "2024-05-19T17:42:40.549Z"
   },
   {
    "duration": 11,
    "start_time": "2024-05-19T17:42:40.562Z"
   },
   {
    "duration": 24,
    "start_time": "2024-05-19T17:42:40.575Z"
   },
   {
    "duration": 12,
    "start_time": "2024-05-19T17:42:40.601Z"
   },
   {
    "duration": 533,
    "start_time": "2024-05-19T17:42:40.616Z"
   },
   {
    "duration": 25,
    "start_time": "2024-05-19T17:42:41.150Z"
   },
   {
    "duration": 21,
    "start_time": "2024-05-19T17:42:41.176Z"
   },
   {
    "duration": 44,
    "start_time": "2024-05-19T17:42:41.199Z"
   },
   {
    "duration": 24,
    "start_time": "2024-05-19T17:42:41.245Z"
   },
   {
    "duration": 577,
    "start_time": "2024-05-19T17:42:41.271Z"
   },
   {
    "duration": 47,
    "start_time": "2024-05-19T17:42:41.850Z"
   },
   {
    "duration": 334,
    "start_time": "2024-05-19T17:42:41.899Z"
   },
   {
    "duration": 1289,
    "start_time": "2024-05-19T17:42:42.235Z"
   },
   {
    "duration": 133,
    "start_time": "2024-05-19T17:42:43.525Z"
   },
   {
    "duration": 371,
    "start_time": "2024-05-19T17:43:45.897Z"
   },
   {
    "duration": 354,
    "start_time": "2024-05-19T17:43:51.023Z"
   },
   {
    "duration": 388,
    "start_time": "2024-05-19T17:44:59.543Z"
   },
   {
    "duration": 1291,
    "start_time": "2024-05-19T17:45:07.925Z"
   },
   {
    "duration": 1242,
    "start_time": "2024-05-19T17:45:14.733Z"
   },
   {
    "duration": 1312,
    "start_time": "2024-05-19T17:47:09.143Z"
   },
   {
    "duration": 1281,
    "start_time": "2024-05-19T17:47:39.427Z"
   },
   {
    "duration": 1445,
    "start_time": "2024-05-19T17:47:49.292Z"
   },
   {
    "duration": 229,
    "start_time": "2024-05-19T17:48:36.209Z"
   },
   {
    "duration": 687,
    "start_time": "2024-05-19T17:48:56.756Z"
   },
   {
    "duration": 1445,
    "start_time": "2024-05-19T17:50:02.138Z"
   },
   {
    "duration": 1908,
    "start_time": "2024-05-19T17:52:08.376Z"
   },
   {
    "duration": 1882,
    "start_time": "2024-05-19T17:53:12.743Z"
   },
   {
    "duration": 2347,
    "start_time": "2024-05-19T17:53:58.707Z"
   },
   {
    "duration": 1501,
    "start_time": "2024-05-27T12:46:43.188Z"
   },
   {
    "duration": 2094,
    "start_time": "2024-05-27T12:46:44.691Z"
   },
   {
    "duration": 299,
    "start_time": "2024-05-27T12:46:46.787Z"
   },
   {
    "duration": 232,
    "start_time": "2024-05-27T12:46:47.088Z"
   },
   {
    "duration": 75,
    "start_time": "2024-05-27T12:46:47.323Z"
   },
   {
    "duration": 8,
    "start_time": "2024-05-27T12:46:47.399Z"
   },
   {
    "duration": 25,
    "start_time": "2024-05-27T12:46:47.409Z"
   },
   {
    "duration": 10,
    "start_time": "2024-05-27T12:46:47.436Z"
   },
   {
    "duration": 42,
    "start_time": "2024-05-27T12:46:47.448Z"
   },
   {
    "duration": 32,
    "start_time": "2024-05-27T12:46:47.492Z"
   },
   {
    "duration": 13,
    "start_time": "2024-05-27T12:46:47.527Z"
   },
   {
    "duration": 36,
    "start_time": "2024-05-27T12:46:47.542Z"
   },
   {
    "duration": 21,
    "start_time": "2024-05-27T12:46:47.580Z"
   },
   {
    "duration": 566,
    "start_time": "2024-05-27T12:46:47.604Z"
   },
   {
    "duration": 36,
    "start_time": "2024-05-27T12:46:48.175Z"
   },
   {
    "duration": 25,
    "start_time": "2024-05-27T12:46:48.213Z"
   },
   {
    "duration": 44,
    "start_time": "2024-05-27T12:46:48.239Z"
   },
   {
    "duration": 18,
    "start_time": "2024-05-27T12:46:48.284Z"
   },
   {
    "duration": 626,
    "start_time": "2024-05-27T12:46:48.305Z"
   },
   {
    "duration": 55,
    "start_time": "2024-05-27T12:46:48.933Z"
   },
   {
    "duration": 1794,
    "start_time": "2024-05-27T12:46:48.989Z"
   },
   {
    "duration": 1548,
    "start_time": "2024-05-27T12:46:50.785Z"
   },
   {
    "duration": 783,
    "start_time": "2024-05-27T12:46:52.335Z"
   },
   {
    "duration": 2073,
    "start_time": "2024-05-27T12:46:53.120Z"
   },
   {
    "duration": 2156,
    "start_time": "2024-05-27T12:46:55.194Z"
   },
   {
    "duration": 2646,
    "start_time": "2024-05-27T12:46:57.352Z"
   },
   {
    "duration": 24,
    "start_time": "2024-05-27T12:47:00.001Z"
   },
   {
    "duration": 22,
    "start_time": "2024-05-27T13:14:22.594Z"
   },
   {
    "duration": 22,
    "start_time": "2024-05-27T15:37:09.623Z"
   },
   {
    "duration": 687,
    "start_time": "2024-05-27T15:48:59.844Z"
   },
   {
    "duration": 543,
    "start_time": "2024-05-27T15:49:11.443Z"
   },
   {
    "duration": 512,
    "start_time": "2024-05-27T15:49:46.549Z"
   },
   {
    "duration": 1148,
    "start_time": "2024-05-27T16:23:34.998Z"
   },
   {
    "duration": 731,
    "start_time": "2024-05-27T16:23:36.148Z"
   },
   {
    "duration": 242,
    "start_time": "2024-05-27T16:23:36.881Z"
   },
   {
    "duration": 163,
    "start_time": "2024-05-27T16:23:37.126Z"
   },
   {
    "duration": 60,
    "start_time": "2024-05-27T16:23:37.291Z"
   },
   {
    "duration": 7,
    "start_time": "2024-05-27T16:23:37.352Z"
   },
   {
    "duration": 6,
    "start_time": "2024-05-27T16:23:37.360Z"
   },
   {
    "duration": 8,
    "start_time": "2024-05-27T16:23:37.367Z"
   },
   {
    "duration": 10,
    "start_time": "2024-05-27T16:23:37.400Z"
   },
   {
    "duration": 4,
    "start_time": "2024-05-27T16:23:37.412Z"
   },
   {
    "duration": 10,
    "start_time": "2024-05-27T16:23:37.418Z"
   },
   {
    "duration": 6,
    "start_time": "2024-05-27T16:23:37.430Z"
   },
   {
    "duration": 10,
    "start_time": "2024-05-27T16:23:37.438Z"
   },
   {
    "duration": 460,
    "start_time": "2024-05-27T16:23:37.450Z"
   },
   {
    "duration": 23,
    "start_time": "2024-05-27T16:23:37.911Z"
   },
   {
    "duration": 19,
    "start_time": "2024-05-27T16:23:37.935Z"
   },
   {
    "duration": 19,
    "start_time": "2024-05-27T16:23:37.955Z"
   },
   {
    "duration": 35,
    "start_time": "2024-05-27T16:23:37.976Z"
   },
   {
    "duration": 502,
    "start_time": "2024-05-27T16:23:38.013Z"
   },
   {
    "duration": 42,
    "start_time": "2024-05-27T16:23:38.517Z"
   },
   {
    "duration": 1365,
    "start_time": "2024-05-27T16:23:38.561Z"
   },
   {
    "duration": 1182,
    "start_time": "2024-05-27T16:23:39.927Z"
   },
   {
    "duration": 614,
    "start_time": "2024-05-27T16:23:41.111Z"
   },
   {
    "duration": 1596,
    "start_time": "2024-05-27T16:23:41.727Z"
   },
   {
    "duration": 1658,
    "start_time": "2024-05-27T16:23:43.324Z"
   },
   {
    "duration": 2111,
    "start_time": "2024-05-27T16:23:44.983Z"
   },
   {
    "duration": 1192,
    "start_time": "2024-05-27T20:55:38.032Z"
   },
   {
    "duration": 783,
    "start_time": "2024-05-27T20:55:39.226Z"
   },
   {
    "duration": 268,
    "start_time": "2024-05-27T20:55:40.011Z"
   },
   {
    "duration": 177,
    "start_time": "2024-05-27T20:55:40.281Z"
   },
   {
    "duration": 65,
    "start_time": "2024-05-27T20:55:40.461Z"
   },
   {
    "duration": 7,
    "start_time": "2024-05-27T20:55:40.528Z"
   },
   {
    "duration": 12,
    "start_time": "2024-05-27T20:55:40.537Z"
   },
   {
    "duration": 32,
    "start_time": "2024-05-27T20:55:40.551Z"
   },
   {
    "duration": 15,
    "start_time": "2024-05-27T20:55:40.585Z"
   },
   {
    "duration": 5,
    "start_time": "2024-05-27T20:55:40.602Z"
   },
   {
    "duration": 12,
    "start_time": "2024-05-27T20:55:40.610Z"
   },
   {
    "duration": 7,
    "start_time": "2024-05-27T20:55:40.624Z"
   },
   {
    "duration": 16,
    "start_time": "2024-05-27T20:55:40.633Z"
   },
   {
    "duration": 504,
    "start_time": "2024-05-27T20:55:40.680Z"
   },
   {
    "duration": 27,
    "start_time": "2024-05-27T20:55:41.186Z"
   },
   {
    "duration": 19,
    "start_time": "2024-05-27T20:55:41.214Z"
   },
   {
    "duration": 21,
    "start_time": "2024-05-27T20:55:41.235Z"
   },
   {
    "duration": 36,
    "start_time": "2024-05-27T20:55:41.257Z"
   },
   {
    "duration": 528,
    "start_time": "2024-05-27T20:55:41.294Z"
   },
   {
    "duration": 46,
    "start_time": "2024-05-27T20:55:41.823Z"
   },
   {
    "duration": 1470,
    "start_time": "2024-05-27T20:55:41.871Z"
   },
   {
    "duration": 1286,
    "start_time": "2024-05-27T20:55:43.342Z"
   },
   {
    "duration": 654,
    "start_time": "2024-05-27T20:55:44.629Z"
   },
   {
    "duration": 1797,
    "start_time": "2024-05-27T20:55:45.285Z"
   },
   {
    "duration": 2007,
    "start_time": "2024-05-27T20:55:47.084Z"
   },
   {
    "duration": 2262,
    "start_time": "2024-05-27T20:55:49.093Z"
   },
   {
    "duration": 1496,
    "start_time": "2024-05-27T21:30:09.189Z"
   },
   {
    "duration": 1126,
    "start_time": "2024-05-27T21:32:56.997Z"
   },
   {
    "duration": 784,
    "start_time": "2024-05-27T21:32:58.125Z"
   },
   {
    "duration": 259,
    "start_time": "2024-05-27T21:32:58.911Z"
   },
   {
    "duration": 174,
    "start_time": "2024-05-27T21:32:59.171Z"
   },
   {
    "duration": 64,
    "start_time": "2024-05-27T21:32:59.347Z"
   },
   {
    "duration": 6,
    "start_time": "2024-05-27T21:32:59.413Z"
   },
   {
    "duration": 13,
    "start_time": "2024-05-27T21:32:59.421Z"
   },
   {
    "duration": 9,
    "start_time": "2024-05-27T21:32:59.436Z"
   },
   {
    "duration": 10,
    "start_time": "2024-05-27T21:32:59.447Z"
   },
   {
    "duration": 5,
    "start_time": "2024-05-27T21:32:59.481Z"
   },
   {
    "duration": 10,
    "start_time": "2024-05-27T21:32:59.488Z"
   },
   {
    "duration": 21,
    "start_time": "2024-05-27T21:32:59.499Z"
   },
   {
    "duration": 28,
    "start_time": "2024-05-27T21:32:59.522Z"
   },
   {
    "duration": 494,
    "start_time": "2024-05-27T21:32:59.553Z"
   },
   {
    "duration": 33,
    "start_time": "2024-05-27T21:33:00.048Z"
   },
   {
    "duration": 40,
    "start_time": "2024-05-27T21:33:00.083Z"
   },
   {
    "duration": 21,
    "start_time": "2024-05-27T21:33:00.124Z"
   },
   {
    "duration": 17,
    "start_time": "2024-05-27T21:33:00.146Z"
   },
   {
    "duration": 569,
    "start_time": "2024-05-27T21:33:00.180Z"
   },
   {
    "duration": 45,
    "start_time": "2024-05-27T21:33:00.751Z"
   },
   {
    "duration": 1531,
    "start_time": "2024-05-27T21:33:00.798Z"
   },
   {
    "duration": 1357,
    "start_time": "2024-05-27T21:33:02.331Z"
   },
   {
    "duration": 694,
    "start_time": "2024-05-27T21:33:03.689Z"
   },
   {
    "duration": 1728,
    "start_time": "2024-05-27T21:33:04.385Z"
   },
   {
    "duration": 1941,
    "start_time": "2024-05-27T21:33:06.115Z"
   },
   {
    "duration": 2251,
    "start_time": "2024-05-27T21:33:08.058Z"
   },
   {
    "duration": 1391,
    "start_time": "2024-05-29T16:13:23.253Z"
   },
   {
    "duration": 2029,
    "start_time": "2024-05-29T16:13:24.646Z"
   },
   {
    "duration": 288,
    "start_time": "2024-05-29T16:13:26.678Z"
   },
   {
    "duration": 185,
    "start_time": "2024-05-29T16:13:26.968Z"
   },
   {
    "duration": 70,
    "start_time": "2024-05-29T16:13:27.154Z"
   },
   {
    "duration": 7,
    "start_time": "2024-05-29T16:13:27.225Z"
   },
   {
    "duration": 23,
    "start_time": "2024-05-29T16:13:27.234Z"
   },
   {
    "duration": 13,
    "start_time": "2024-05-29T16:13:27.259Z"
   },
   {
    "duration": 15,
    "start_time": "2024-05-29T16:13:27.274Z"
   },
   {
    "duration": 20,
    "start_time": "2024-05-29T16:13:27.291Z"
   },
   {
    "duration": 15,
    "start_time": "2024-05-29T16:13:27.313Z"
   },
   {
    "duration": 9,
    "start_time": "2024-05-29T16:13:27.330Z"
   },
   {
    "duration": 20,
    "start_time": "2024-05-29T16:13:27.341Z"
   },
   {
    "duration": 554,
    "start_time": "2024-05-29T16:13:27.365Z"
   },
   {
    "duration": 34,
    "start_time": "2024-05-29T16:13:27.920Z"
   },
   {
    "duration": 27,
    "start_time": "2024-05-29T16:13:27.956Z"
   },
   {
    "duration": 23,
    "start_time": "2024-05-29T16:13:27.985Z"
   },
   {
    "duration": 47,
    "start_time": "2024-05-29T16:13:28.011Z"
   },
   {
    "duration": 528,
    "start_time": "2024-05-29T16:13:28.060Z"
   },
   {
    "duration": 66,
    "start_time": "2024-05-29T16:13:28.591Z"
   },
   {
    "duration": 1821,
    "start_time": "2024-05-29T16:13:28.659Z"
   },
   {
    "duration": 1388,
    "start_time": "2024-05-29T16:13:30.482Z"
   },
   {
    "duration": 685,
    "start_time": "2024-05-29T16:13:31.872Z"
   },
   {
    "duration": 1809,
    "start_time": "2024-05-29T16:13:32.559Z"
   },
   {
    "duration": 1978,
    "start_time": "2024-05-29T16:13:34.370Z"
   },
   {
    "duration": 2228,
    "start_time": "2024-05-29T16:13:36.350Z"
   },
   {
    "duration": 3,
    "start_time": "2024-05-29T16:14:27.422Z"
   },
   {
    "duration": 113,
    "start_time": "2024-05-29T16:14:49.326Z"
   },
   {
    "duration": 3,
    "start_time": "2024-05-29T16:19:13.584Z"
   },
   {
    "duration": 68,
    "start_time": "2024-05-29T16:19:30.044Z"
   },
   {
    "duration": 57,
    "start_time": "2024-05-29T16:20:55.173Z"
   },
   {
    "duration": 3,
    "start_time": "2024-05-29T16:21:04.843Z"
   },
   {
    "duration": 175,
    "start_time": "2024-05-29T16:21:08.073Z"
   },
   {
    "duration": 713,
    "start_time": "2024-05-29T16:21:15.601Z"
   },
   {
    "duration": 3,
    "start_time": "2024-05-29T16:21:40.363Z"
   },
   {
    "duration": 311,
    "start_time": "2024-05-29T16:21:41.800Z"
   },
   {
    "duration": 3,
    "start_time": "2024-05-29T16:21:46.114Z"
   },
   {
    "duration": 731,
    "start_time": "2024-05-29T16:21:46.392Z"
   },
   {
    "duration": 321,
    "start_time": "2024-05-29T16:21:47.126Z"
   },
   {
    "duration": 3,
    "start_time": "2024-05-29T16:23:22.805Z"
   },
   {
    "duration": 702,
    "start_time": "2024-05-29T16:23:23.243Z"
   },
   {
    "duration": 96,
    "start_time": "2024-05-29T16:23:23.947Z"
   },
   {
    "duration": 101,
    "start_time": "2024-05-29T16:23:27.313Z"
   },
   {
    "duration": 3,
    "start_time": "2024-05-29T16:23:54.760Z"
   },
   {
    "duration": 680,
    "start_time": "2024-05-29T16:23:55.208Z"
   },
   {
    "duration": 314,
    "start_time": "2024-05-29T16:23:55.889Z"
   },
   {
    "duration": 4,
    "start_time": "2024-05-29T16:25:30.795Z"
   },
   {
    "duration": 700,
    "start_time": "2024-05-29T16:25:32.007Z"
   },
   {
    "duration": 335,
    "start_time": "2024-05-29T16:25:32.709Z"
   },
   {
    "duration": 3,
    "start_time": "2024-05-29T16:26:15.828Z"
   },
   {
    "duration": 716,
    "start_time": "2024-05-29T16:26:16.669Z"
   },
   {
    "duration": 336,
    "start_time": "2024-05-29T16:26:17.387Z"
   },
   {
    "duration": 3,
    "start_time": "2024-05-29T16:26:35.742Z"
   },
   {
    "duration": 680,
    "start_time": "2024-05-29T16:26:36.094Z"
   },
   {
    "duration": 307,
    "start_time": "2024-05-29T16:26:36.776Z"
   },
   {
    "duration": 3,
    "start_time": "2024-05-29T16:27:15.825Z"
   },
   {
    "duration": 675,
    "start_time": "2024-05-29T16:27:16.792Z"
   },
   {
    "duration": 305,
    "start_time": "2024-05-29T16:27:17.469Z"
   },
   {
    "duration": 3,
    "start_time": "2024-05-29T16:27:26.533Z"
   },
   {
    "duration": 696,
    "start_time": "2024-05-29T16:27:27.873Z"
   },
   {
    "duration": 331,
    "start_time": "2024-05-29T16:27:28.571Z"
   },
   {
    "duration": 21,
    "start_time": "2024-05-29T16:28:07.153Z"
   },
   {
    "duration": 5,
    "start_time": "2024-05-29T16:28:47.426Z"
   },
   {
    "duration": 671,
    "start_time": "2024-05-29T16:28:47.734Z"
   },
   {
    "duration": 331,
    "start_time": "2024-05-29T16:28:48.407Z"
   },
   {
    "duration": 54,
    "start_time": "2024-05-29T16:58:52.841Z"
   },
   {
    "duration": 51,
    "start_time": "2024-05-29T16:58:57.952Z"
   },
   {
    "duration": 20,
    "start_time": "2024-05-29T16:59:04.311Z"
   },
   {
    "duration": 40,
    "start_time": "2024-05-29T16:59:15.215Z"
   },
   {
    "duration": 20,
    "start_time": "2024-05-29T16:59:24.784Z"
   },
   {
    "duration": 56,
    "start_time": "2024-05-29T16:59:57.851Z"
   },
   {
    "duration": 54,
    "start_time": "2024-05-29T17:00:38.687Z"
   },
   {
    "duration": 61,
    "start_time": "2024-05-29T17:00:47.431Z"
   },
   {
    "duration": 60,
    "start_time": "2024-05-29T17:01:42.618Z"
   },
   {
    "duration": 57,
    "start_time": "2024-05-29T17:02:00.715Z"
   },
   {
    "duration": 54,
    "start_time": "2024-05-29T17:02:27.295Z"
   },
   {
    "duration": 53,
    "start_time": "2024-05-29T17:02:36.885Z"
   },
   {
    "duration": 55,
    "start_time": "2024-05-29T17:02:49.289Z"
   },
   {
    "duration": 1170,
    "start_time": "2024-05-29T17:02:58.576Z"
   },
   {
    "duration": 6,
    "start_time": "2024-05-29T17:02:59.748Z"
   },
   {
    "duration": 762,
    "start_time": "2024-05-29T17:02:59.756Z"
   },
   {
    "duration": 377,
    "start_time": "2024-05-29T17:03:00.520Z"
   },
   {
    "duration": 75,
    "start_time": "2024-05-29T17:03:00.899Z"
   },
   {
    "duration": 192,
    "start_time": "2024-05-29T17:03:00.975Z"
   },
   {
    "duration": 67,
    "start_time": "2024-05-29T17:03:01.169Z"
   },
   {
    "duration": 48,
    "start_time": "2024-05-29T17:03:01.238Z"
   },
   {
    "duration": 64,
    "start_time": "2024-05-29T17:03:01.288Z"
   },
   {
    "duration": 46,
    "start_time": "2024-05-29T17:03:01.354Z"
   },
   {
    "duration": 182,
    "start_time": "2024-05-29T17:03:01.402Z"
   },
   {
    "duration": 68,
    "start_time": "2024-05-29T17:03:01.586Z"
   },
   {
    "duration": 54,
    "start_time": "2024-05-29T17:03:01.656Z"
   },
   {
    "duration": 53,
    "start_time": "2024-05-29T17:03:01.713Z"
   },
   {
    "duration": 42,
    "start_time": "2024-05-29T17:03:01.768Z"
   },
   {
    "duration": 542,
    "start_time": "2024-05-29T17:03:01.812Z"
   },
   {
    "duration": 25,
    "start_time": "2024-05-29T17:03:02.356Z"
   },
   {
    "duration": 21,
    "start_time": "2024-05-29T17:03:02.383Z"
   },
   {
    "duration": 33,
    "start_time": "2024-05-29T17:03:02.405Z"
   },
   {
    "duration": 28,
    "start_time": "2024-05-29T17:03:02.439Z"
   },
   {
    "duration": 567,
    "start_time": "2024-05-29T17:03:02.469Z"
   },
   {
    "duration": 49,
    "start_time": "2024-05-29T17:03:03.039Z"
   },
   {
    "duration": 1557,
    "start_time": "2024-05-29T17:03:03.089Z"
   },
   {
    "duration": 1334,
    "start_time": "2024-05-29T17:03:04.652Z"
   },
   {
    "duration": 677,
    "start_time": "2024-05-29T17:03:05.988Z"
   },
   {
    "duration": 1800,
    "start_time": "2024-05-29T17:03:06.667Z"
   },
   {
    "duration": 1972,
    "start_time": "2024-05-29T17:03:08.469Z"
   },
   {
    "duration": 2380,
    "start_time": "2024-05-29T17:03:10.443Z"
   },
   {
    "duration": 1216,
    "start_time": "2024-05-30T13:04:08.098Z"
   },
   {
    "duration": 3,
    "start_time": "2024-05-30T13:04:09.315Z"
   },
   {
    "duration": 1342,
    "start_time": "2024-05-30T13:04:09.320Z"
   },
   {
    "duration": 320,
    "start_time": "2024-05-30T13:04:10.664Z"
   },
   {
    "duration": 63,
    "start_time": "2024-05-30T13:04:10.985Z"
   },
   {
    "duration": 175,
    "start_time": "2024-05-30T13:04:11.050Z"
   },
   {
    "duration": 62,
    "start_time": "2024-05-30T13:04:11.227Z"
   },
   {
    "duration": 7,
    "start_time": "2024-05-30T13:04:11.290Z"
   },
   {
    "duration": 41,
    "start_time": "2024-05-30T13:04:11.298Z"
   },
   {
    "duration": 32,
    "start_time": "2024-05-30T13:04:11.342Z"
   },
   {
    "duration": 32,
    "start_time": "2024-05-30T13:04:11.375Z"
   },
   {
    "duration": 48,
    "start_time": "2024-05-30T13:04:11.409Z"
   },
   {
    "duration": 26,
    "start_time": "2024-05-30T13:04:11.459Z"
   },
   {
    "duration": 21,
    "start_time": "2024-05-30T13:04:11.487Z"
   },
   {
    "duration": 32,
    "start_time": "2024-05-30T13:04:11.510Z"
   },
   {
    "duration": 474,
    "start_time": "2024-05-30T13:04:11.544Z"
   },
   {
    "duration": 30,
    "start_time": "2024-05-30T13:04:12.019Z"
   },
   {
    "duration": 38,
    "start_time": "2024-05-30T13:04:12.050Z"
   },
   {
    "duration": 38,
    "start_time": "2024-05-30T13:04:12.089Z"
   },
   {
    "duration": 18,
    "start_time": "2024-05-30T13:04:12.129Z"
   },
   {
    "duration": 494,
    "start_time": "2024-05-30T13:04:12.148Z"
   },
   {
    "duration": 40,
    "start_time": "2024-05-30T13:04:12.644Z"
   },
   {
    "duration": 1488,
    "start_time": "2024-05-30T13:04:12.686Z"
   },
   {
    "duration": 1200,
    "start_time": "2024-05-30T13:04:14.175Z"
   },
   {
    "duration": 646,
    "start_time": "2024-05-30T13:04:15.376Z"
   },
   {
    "duration": 1649,
    "start_time": "2024-05-30T13:04:16.023Z"
   },
   {
    "duration": 1798,
    "start_time": "2024-05-30T13:04:17.673Z"
   },
   {
    "duration": 2110,
    "start_time": "2024-05-30T13:04:19.473Z"
   },
   {
    "duration": 51,
    "start_time": "2024-05-30T13:08:42.951Z"
   },
   {
    "duration": 19,
    "start_time": "2024-05-30T13:08:48.386Z"
   },
   {
    "duration": 18,
    "start_time": "2024-05-30T13:09:08.592Z"
   },
   {
    "duration": 19,
    "start_time": "2024-05-30T13:09:17.260Z"
   },
   {
    "duration": 23,
    "start_time": "2024-05-30T13:09:23.238Z"
   },
   {
    "duration": 27,
    "start_time": "2024-05-30T13:09:27.208Z"
   },
   {
    "duration": 3,
    "start_time": "2024-05-30T13:15:26.376Z"
   },
   {
    "duration": 3,
    "start_time": "2024-05-30T13:15:36.674Z"
   },
   {
    "duration": 3,
    "start_time": "2024-05-30T13:16:21.384Z"
   },
   {
    "duration": 17,
    "start_time": "2024-05-30T13:16:28.591Z"
   },
   {
    "duration": 19,
    "start_time": "2024-05-30T13:16:39.486Z"
   },
   {
    "duration": 3,
    "start_time": "2024-05-30T13:16:46.159Z"
   },
   {
    "duration": 16,
    "start_time": "2024-05-30T13:16:46.459Z"
   },
   {
    "duration": 2,
    "start_time": "2024-05-30T13:16:50.907Z"
   },
   {
    "duration": 18,
    "start_time": "2024-05-30T13:16:51.459Z"
   },
   {
    "duration": 3,
    "start_time": "2024-05-30T13:17:07.155Z"
   },
   {
    "duration": 17,
    "start_time": "2024-05-30T13:17:07.960Z"
   },
   {
    "duration": 18,
    "start_time": "2024-05-30T13:17:37.057Z"
   },
   {
    "duration": 3,
    "start_time": "2024-05-30T13:18:06.174Z"
   },
   {
    "duration": 18,
    "start_time": "2024-05-30T13:18:06.577Z"
   },
   {
    "duration": 20,
    "start_time": "2024-05-30T13:18:14.670Z"
   },
   {
    "duration": 18,
    "start_time": "2024-05-30T13:18:14.846Z"
   },
   {
    "duration": 19,
    "start_time": "2024-05-30T13:18:38.821Z"
   },
   {
    "duration": 4,
    "start_time": "2024-05-30T13:19:40.228Z"
   },
   {
    "duration": 17,
    "start_time": "2024-05-30T13:19:40.559Z"
   },
   {
    "duration": 17,
    "start_time": "2024-05-30T13:19:44.016Z"
   },
   {
    "duration": 18,
    "start_time": "2024-05-30T13:19:54.607Z"
   },
   {
    "duration": 1071,
    "start_time": "2024-05-30T13:20:05.770Z"
   },
   {
    "duration": 3,
    "start_time": "2024-05-30T13:20:06.844Z"
   },
   {
    "duration": 884,
    "start_time": "2024-05-30T13:20:06.848Z"
   },
   {
    "duration": 329,
    "start_time": "2024-05-30T13:20:07.734Z"
   },
   {
    "duration": 55,
    "start_time": "2024-05-30T13:20:08.064Z"
   },
   {
    "duration": 180,
    "start_time": "2024-05-30T13:20:08.120Z"
   },
   {
    "duration": 61,
    "start_time": "2024-05-30T13:20:08.301Z"
   },
   {
    "duration": 6,
    "start_time": "2024-05-30T13:20:08.364Z"
   },
   {
    "duration": 14,
    "start_time": "2024-05-30T13:20:08.371Z"
   },
   {
    "duration": 10,
    "start_time": "2024-05-30T13:20:08.387Z"
   },
   {
    "duration": 10,
    "start_time": "2024-05-30T13:20:08.398Z"
   },
   {
    "duration": 11,
    "start_time": "2024-05-30T13:20:08.409Z"
   },
   {
    "duration": 14,
    "start_time": "2024-05-30T13:20:08.421Z"
   },
   {
    "duration": 6,
    "start_time": "2024-05-30T13:20:08.444Z"
   },
   {
    "duration": 19,
    "start_time": "2024-05-30T13:20:08.451Z"
   },
   {
    "duration": 477,
    "start_time": "2024-05-30T13:20:08.472Z"
   },
   {
    "duration": 4,
    "start_time": "2024-05-30T13:20:08.957Z"
   },
   {
    "duration": 61,
    "start_time": "2024-05-30T13:20:08.963Z"
   },
   {
    "duration": 24,
    "start_time": "2024-05-30T13:20:09.025Z"
   },
   {
    "duration": 18,
    "start_time": "2024-05-30T13:20:09.051Z"
   },
   {
    "duration": 19,
    "start_time": "2024-05-30T13:20:09.070Z"
   },
   {
    "duration": 520,
    "start_time": "2024-05-30T13:20:09.090Z"
   },
   {
    "duration": 42,
    "start_time": "2024-05-30T13:20:09.612Z"
   },
   {
    "duration": 1436,
    "start_time": "2024-05-30T13:20:09.656Z"
   },
   {
    "duration": 1212,
    "start_time": "2024-05-30T13:20:11.094Z"
   },
   {
    "duration": 611,
    "start_time": "2024-05-30T13:20:12.308Z"
   },
   {
    "duration": 1616,
    "start_time": "2024-05-30T13:20:12.921Z"
   },
   {
    "duration": 1770,
    "start_time": "2024-05-30T13:20:14.538Z"
   },
   {
    "duration": 2110,
    "start_time": "2024-05-30T13:20:16.310Z"
   },
   {
    "duration": 104,
    "start_time": "2024-05-30T13:24:03.187Z"
   },
   {
    "duration": 18,
    "start_time": "2024-05-30T13:24:20.290Z"
   },
   {
    "duration": 18,
    "start_time": "2024-05-30T13:24:25.862Z"
   },
   {
    "duration": 18,
    "start_time": "2024-05-30T13:24:30.098Z"
   },
   {
    "duration": 12,
    "start_time": "2024-05-30T13:24:44.901Z"
   },
   {
    "duration": 17,
    "start_time": "2024-05-30T13:24:46.827Z"
   },
   {
    "duration": 531,
    "start_time": "2024-05-30T13:25:25.905Z"
   },
   {
    "duration": 477,
    "start_time": "2024-05-30T13:25:33.825Z"
   },
   {
    "duration": 485,
    "start_time": "2024-05-30T13:25:42.308Z"
   },
   {
    "duration": 455,
    "start_time": "2024-05-30T13:25:47.406Z"
   },
   {
    "duration": 27,
    "start_time": "2024-05-30T13:26:20.741Z"
   },
   {
    "duration": 23,
    "start_time": "2024-05-30T13:26:58.894Z"
   },
   {
    "duration": 25,
    "start_time": "2024-05-30T13:27:47.390Z"
   },
   {
    "duration": 24,
    "start_time": "2024-05-30T13:28:08.519Z"
   },
   {
    "duration": 26,
    "start_time": "2024-05-30T13:29:29.626Z"
   },
   {
    "duration": 24,
    "start_time": "2024-05-30T13:29:33.316Z"
   },
   {
    "duration": 25,
    "start_time": "2024-05-30T13:29:35.682Z"
   },
   {
    "duration": 24,
    "start_time": "2024-05-30T13:29:49.586Z"
   },
   {
    "duration": 23,
    "start_time": "2024-05-30T13:29:58.446Z"
   },
   {
    "duration": 23,
    "start_time": "2024-05-30T13:30:10.337Z"
   },
   {
    "duration": 23,
    "start_time": "2024-05-30T13:30:21.544Z"
   },
   {
    "duration": 49,
    "start_time": "2024-05-31T13:05:15.183Z"
   },
   {
    "duration": 1244,
    "start_time": "2024-05-31T13:05:20.859Z"
   },
   {
    "duration": 3,
    "start_time": "2024-05-31T13:05:22.105Z"
   },
   {
    "duration": 1262,
    "start_time": "2024-05-31T13:05:22.112Z"
   },
   {
    "duration": 314,
    "start_time": "2024-05-31T13:05:23.376Z"
   },
   {
    "duration": 69,
    "start_time": "2024-05-31T13:05:23.692Z"
   },
   {
    "duration": 174,
    "start_time": "2024-05-31T13:05:23.763Z"
   },
   {
    "duration": 49,
    "start_time": "2024-05-31T13:05:23.938Z"
   },
   {
    "duration": 7,
    "start_time": "2024-05-31T13:05:23.989Z"
   },
   {
    "duration": 22,
    "start_time": "2024-05-31T13:05:23.997Z"
   },
   {
    "duration": 9,
    "start_time": "2024-05-31T13:05:24.021Z"
   },
   {
    "duration": 13,
    "start_time": "2024-05-31T13:05:24.031Z"
   },
   {
    "duration": 17,
    "start_time": "2024-05-31T13:05:24.045Z"
   },
   {
    "duration": 11,
    "start_time": "2024-05-31T13:05:24.064Z"
   },
   {
    "duration": 6,
    "start_time": "2024-05-31T13:05:24.078Z"
   },
   {
    "duration": 10,
    "start_time": "2024-05-31T13:05:24.085Z"
   },
   {
    "duration": 459,
    "start_time": "2024-05-31T13:05:24.112Z"
   },
   {
    "duration": 3,
    "start_time": "2024-05-31T13:05:24.573Z"
   },
   {
    "duration": 67,
    "start_time": "2024-05-31T13:05:24.578Z"
   },
   {
    "duration": 17,
    "start_time": "2024-05-31T13:05:24.646Z"
   },
   {
    "duration": 18,
    "start_time": "2024-05-31T13:05:24.665Z"
   },
   {
    "duration": 35,
    "start_time": "2024-05-31T13:05:24.685Z"
   },
   {
    "duration": 501,
    "start_time": "2024-05-31T13:05:24.721Z"
   },
   {
    "duration": 46,
    "start_time": "2024-05-31T13:05:25.224Z"
   },
   {
    "duration": 1479,
    "start_time": "2024-05-31T13:05:25.272Z"
   },
   {
    "duration": 1182,
    "start_time": "2024-05-31T13:05:26.752Z"
   },
   {
    "duration": 649,
    "start_time": "2024-05-31T13:05:27.936Z"
   },
   {
    "duration": 1615,
    "start_time": "2024-05-31T13:05:28.587Z"
   },
   {
    "duration": 1776,
    "start_time": "2024-05-31T13:05:30.203Z"
   },
   {
    "duration": 2101,
    "start_time": "2024-05-31T13:05:31.981Z"
   },
   {
    "duration": 17,
    "start_time": "2024-05-31T13:06:06.842Z"
   },
   {
    "duration": 11,
    "start_time": "2024-05-31T13:06:16.049Z"
   },
   {
    "duration": 26,
    "start_time": "2024-05-31T13:06:44.816Z"
   },
   {
    "duration": 26,
    "start_time": "2024-05-31T13:06:57.220Z"
   },
   {
    "duration": 1247,
    "start_time": "2024-05-31T13:07:06.176Z"
   },
   {
    "duration": 1157,
    "start_time": "2024-05-31T13:07:28.749Z"
   },
   {
    "duration": 1104,
    "start_time": "2024-05-31T13:10:43.512Z"
   },
   {
    "duration": 3,
    "start_time": "2024-05-31T13:10:44.618Z"
   },
   {
    "duration": 584,
    "start_time": "2024-05-31T13:10:44.623Z"
   },
   {
    "duration": 295,
    "start_time": "2024-05-31T13:10:45.209Z"
   },
   {
    "duration": 63,
    "start_time": "2024-05-31T13:10:45.512Z"
   },
   {
    "duration": 182,
    "start_time": "2024-05-31T13:10:45.577Z"
   },
   {
    "duration": 56,
    "start_time": "2024-05-31T13:10:45.761Z"
   },
   {
    "duration": 7,
    "start_time": "2024-05-31T13:10:45.818Z"
   },
   {
    "duration": 16,
    "start_time": "2024-05-31T13:10:45.826Z"
   },
   {
    "duration": 36,
    "start_time": "2024-05-31T13:10:45.843Z"
   },
   {
    "duration": 15,
    "start_time": "2024-05-31T13:10:45.881Z"
   },
   {
    "duration": 25,
    "start_time": "2024-05-31T13:10:45.898Z"
   },
   {
    "duration": 28,
    "start_time": "2024-05-31T13:10:45.925Z"
   },
   {
    "duration": 19,
    "start_time": "2024-05-31T13:10:45.956Z"
   },
   {
    "duration": 17,
    "start_time": "2024-05-31T13:10:45.977Z"
   },
   {
    "duration": 459,
    "start_time": "2024-05-31T13:10:45.995Z"
   },
   {
    "duration": 3,
    "start_time": "2024-05-31T13:10:46.455Z"
   },
   {
    "duration": 69,
    "start_time": "2024-05-31T13:10:46.459Z"
   },
   {
    "duration": 18,
    "start_time": "2024-05-31T13:10:46.529Z"
   },
   {
    "duration": 19,
    "start_time": "2024-05-31T13:10:46.549Z"
   },
   {
    "duration": 19,
    "start_time": "2024-05-31T13:10:46.569Z"
   },
   {
    "duration": 525,
    "start_time": "2024-05-31T13:10:46.589Z"
   },
   {
    "duration": 42,
    "start_time": "2024-05-31T13:10:47.115Z"
   },
   {
    "duration": 1257,
    "start_time": "2024-05-31T13:10:47.158Z"
   },
   {
    "duration": 1212,
    "start_time": "2024-05-31T13:10:48.417Z"
   },
   {
    "duration": 655,
    "start_time": "2024-05-31T13:10:49.631Z"
   },
   {
    "duration": 1671,
    "start_time": "2024-05-31T13:10:50.287Z"
   },
   {
    "duration": 1793,
    "start_time": "2024-05-31T13:10:51.960Z"
   },
   {
    "duration": 2013,
    "start_time": "2024-05-31T13:10:53.754Z"
   },
   {
    "duration": 1188,
    "start_time": "2024-05-31T13:12:54.538Z"
   },
   {
    "duration": 1011,
    "start_time": "2024-05-31T13:13:02.549Z"
   },
   {
    "duration": 597,
    "start_time": "2024-05-31T13:13:33.204Z"
   },
   {
    "duration": 1005,
    "start_time": "2024-05-31T13:13:36.664Z"
   },
   {
    "duration": 1223,
    "start_time": "2024-05-31T13:13:44.814Z"
   },
   {
    "duration": 1567,
    "start_time": "2024-05-31T13:15:07.924Z"
   },
   {
    "duration": 1686,
    "start_time": "2024-05-31T13:15:32.708Z"
   },
   {
    "duration": 1883,
    "start_time": "2024-05-31T13:15:54.059Z"
   },
   {
    "duration": 1097,
    "start_time": "2024-05-31T13:39:53.715Z"
   },
   {
    "duration": 1195,
    "start_time": "2024-05-31T13:42:06.463Z"
   },
   {
    "duration": 1180,
    "start_time": "2024-05-31T13:43:00.031Z"
   },
   {
    "duration": 1618,
    "start_time": "2024-05-31T13:43:46.786Z"
   },
   {
    "duration": 549,
    "start_time": "2024-05-31T19:36:06.550Z"
   },
   {
    "duration": 700,
    "start_time": "2024-05-31T19:37:12.480Z"
   },
   {
    "duration": 682,
    "start_time": "2024-05-31T19:37:38.588Z"
   },
   {
    "duration": 643,
    "start_time": "2024-05-31T19:38:20.128Z"
   },
   {
    "duration": 642,
    "start_time": "2024-05-31T19:38:26.859Z"
   },
   {
    "duration": 861,
    "start_time": "2024-05-31T19:39:00.416Z"
   },
   {
    "duration": 1181,
    "start_time": "2024-05-31T19:40:06.645Z"
   },
   {
    "duration": 21,
    "start_time": "2024-05-31T19:48:40.872Z"
   },
   {
    "duration": 55,
    "start_time": "2024-05-31T19:59:10.256Z"
   },
   {
    "duration": 15,
    "start_time": "2024-05-31T20:24:51.005Z"
   },
   {
    "duration": 21,
    "start_time": "2024-05-31T20:26:03.695Z"
   },
   {
    "duration": 33,
    "start_time": "2024-05-31T20:26:21.089Z"
   },
   {
    "duration": 15,
    "start_time": "2024-05-31T20:27:25.748Z"
   },
   {
    "duration": 14,
    "start_time": "2024-05-31T20:30:33.830Z"
   },
   {
    "duration": 21,
    "start_time": "2024-05-31T20:31:22.022Z"
   },
   {
    "duration": 15,
    "start_time": "2024-05-31T20:31:51.733Z"
   },
   {
    "duration": 16,
    "start_time": "2024-05-31T20:32:02.095Z"
   },
   {
    "duration": 1097,
    "start_time": "2024-05-31T21:49:52.591Z"
   },
   {
    "duration": 3,
    "start_time": "2024-05-31T21:49:53.690Z"
   },
   {
    "duration": 1444,
    "start_time": "2024-05-31T21:49:53.694Z"
   },
   {
    "duration": 343,
    "start_time": "2024-05-31T21:49:55.141Z"
   },
   {
    "duration": 57,
    "start_time": "2024-05-31T21:49:55.486Z"
   },
   {
    "duration": 188,
    "start_time": "2024-05-31T21:49:55.544Z"
   },
   {
    "duration": 60,
    "start_time": "2024-05-31T21:49:55.733Z"
   },
   {
    "duration": 6,
    "start_time": "2024-05-31T21:49:55.795Z"
   },
   {
    "duration": 21,
    "start_time": "2024-05-31T21:49:55.803Z"
   },
   {
    "duration": 14,
    "start_time": "2024-05-31T21:49:55.826Z"
   },
   {
    "duration": 24,
    "start_time": "2024-05-31T21:49:55.841Z"
   },
   {
    "duration": 13,
    "start_time": "2024-05-31T21:49:55.868Z"
   },
   {
    "duration": 14,
    "start_time": "2024-05-31T21:49:55.882Z"
   },
   {
    "duration": 27,
    "start_time": "2024-05-31T21:49:55.897Z"
   },
   {
    "duration": 35,
    "start_time": "2024-05-31T21:49:55.926Z"
   },
   {
    "duration": 474,
    "start_time": "2024-05-31T21:49:55.963Z"
   },
   {
    "duration": 4,
    "start_time": "2024-05-31T21:49:56.438Z"
   },
   {
    "duration": 65,
    "start_time": "2024-05-31T21:49:56.444Z"
   },
   {
    "duration": 17,
    "start_time": "2024-05-31T21:49:56.510Z"
   },
   {
    "duration": 37,
    "start_time": "2024-05-31T21:49:56.529Z"
   },
   {
    "duration": 21,
    "start_time": "2024-05-31T21:49:56.567Z"
   },
   {
    "duration": 519,
    "start_time": "2024-05-31T21:49:56.589Z"
   },
   {
    "duration": 40,
    "start_time": "2024-05-31T21:49:57.109Z"
   },
   {
    "duration": 1230,
    "start_time": "2024-05-31T21:49:57.150Z"
   },
   {
    "duration": 1132,
    "start_time": "2024-05-31T21:49:58.382Z"
   },
   {
    "duration": 1284,
    "start_time": "2024-05-31T21:49:59.516Z"
   },
   {
    "duration": 1314,
    "start_time": "2024-05-31T21:50:00.802Z"
   },
   {
    "duration": 1664,
    "start_time": "2024-05-31T21:50:02.119Z"
   },
   {
    "duration": 581,
    "start_time": "2024-05-31T21:50:03.784Z"
   },
   {
    "duration": 756,
    "start_time": "2024-05-31T21:50:04.367Z"
   },
   {
    "duration": 701,
    "start_time": "2024-05-31T21:50:05.124Z"
   },
   {
    "duration": 998,
    "start_time": "2024-05-31T21:50:05.827Z"
   },
   {
    "duration": 1579,
    "start_time": "2024-05-31T21:50:06.826Z"
   },
   {
    "duration": 1795,
    "start_time": "2024-05-31T21:50:08.406Z"
   },
   {
    "duration": 2003,
    "start_time": "2024-05-31T21:50:10.203Z"
   },
   {
    "duration": 1135,
    "start_time": "2024-05-31T23:02:19.375Z"
   },
   {
    "duration": 3,
    "start_time": "2024-05-31T23:02:20.512Z"
   },
   {
    "duration": 686,
    "start_time": "2024-05-31T23:02:20.517Z"
   },
   {
    "duration": 353,
    "start_time": "2024-05-31T23:02:21.206Z"
   },
   {
    "duration": 57,
    "start_time": "2024-05-31T23:02:21.565Z"
   },
   {
    "duration": 207,
    "start_time": "2024-05-31T23:02:21.624Z"
   },
   {
    "duration": 70,
    "start_time": "2024-05-31T23:02:21.833Z"
   },
   {
    "duration": 81,
    "start_time": "2024-05-31T23:02:21.905Z"
   },
   {
    "duration": 41,
    "start_time": "2024-05-31T23:02:21.988Z"
   },
   {
    "duration": 33,
    "start_time": "2024-05-31T23:02:22.032Z"
   },
   {
    "duration": 23,
    "start_time": "2024-05-31T23:02:22.067Z"
   },
   {
    "duration": 32,
    "start_time": "2024-05-31T23:02:22.092Z"
   },
   {
    "duration": 37,
    "start_time": "2024-05-31T23:02:22.126Z"
   },
   {
    "duration": 27,
    "start_time": "2024-05-31T23:02:22.165Z"
   },
   {
    "duration": 15,
    "start_time": "2024-05-31T23:02:22.194Z"
   },
   {
    "duration": 471,
    "start_time": "2024-05-31T23:02:22.211Z"
   },
   {
    "duration": 4,
    "start_time": "2024-05-31T23:02:22.684Z"
   },
   {
    "duration": 76,
    "start_time": "2024-05-31T23:02:22.689Z"
   },
   {
    "duration": 18,
    "start_time": "2024-05-31T23:02:22.767Z"
   },
   {
    "duration": 26,
    "start_time": "2024-05-31T23:02:22.787Z"
   },
   {
    "duration": 21,
    "start_time": "2024-05-31T23:02:22.815Z"
   },
   {
    "duration": 511,
    "start_time": "2024-05-31T23:02:22.837Z"
   },
   {
    "duration": 48,
    "start_time": "2024-05-31T23:02:23.350Z"
   },
   {
    "duration": 1329,
    "start_time": "2024-05-31T23:02:23.399Z"
   },
   {
    "duration": 1202,
    "start_time": "2024-05-31T23:02:24.730Z"
   },
   {
    "duration": 1280,
    "start_time": "2024-05-31T23:02:25.934Z"
   },
   {
    "duration": 1241,
    "start_time": "2024-05-31T23:02:27.215Z"
   },
   {
    "duration": 1623,
    "start_time": "2024-05-31T23:02:28.459Z"
   },
   {
    "duration": 615,
    "start_time": "2024-05-31T23:02:30.084Z"
   },
   {
    "duration": 733,
    "start_time": "2024-05-31T23:02:30.701Z"
   },
   {
    "duration": 718,
    "start_time": "2024-05-31T23:02:31.436Z"
   },
   {
    "duration": 981,
    "start_time": "2024-05-31T23:02:32.156Z"
   },
   {
    "duration": 1635,
    "start_time": "2024-05-31T23:02:33.139Z"
   },
   {
    "duration": 1698,
    "start_time": "2024-05-31T23:02:34.776Z"
   },
   {
    "duration": 1970,
    "start_time": "2024-05-31T23:02:36.475Z"
   },
   {
    "duration": 57,
    "start_time": "2024-06-01T16:32:18.792Z"
   },
   {
    "duration": 1575,
    "start_time": "2024-06-01T16:32:24.947Z"
   },
   {
    "duration": 3,
    "start_time": "2024-06-01T16:32:26.525Z"
   },
   {
    "duration": 2147,
    "start_time": "2024-06-01T16:32:26.529Z"
   },
   {
    "duration": 404,
    "start_time": "2024-06-01T16:32:28.687Z"
   },
   {
    "duration": 98,
    "start_time": "2024-06-01T16:32:29.099Z"
   },
   {
    "duration": 197,
    "start_time": "2024-06-01T16:32:29.199Z"
   },
   {
    "duration": 84,
    "start_time": "2024-06-01T16:32:29.399Z"
   },
   {
    "duration": 16,
    "start_time": "2024-06-01T16:32:29.492Z"
   },
   {
    "duration": 12,
    "start_time": "2024-06-01T16:32:29.510Z"
   },
   {
    "duration": 15,
    "start_time": "2024-06-01T16:32:29.524Z"
   },
   {
    "duration": 11,
    "start_time": "2024-06-01T16:32:29.541Z"
   },
   {
    "duration": 19,
    "start_time": "2024-06-01T16:32:29.554Z"
   },
   {
    "duration": 15,
    "start_time": "2024-06-01T16:32:29.582Z"
   },
   {
    "duration": 7,
    "start_time": "2024-06-01T16:32:29.600Z"
   },
   {
    "duration": 12,
    "start_time": "2024-06-01T16:32:29.608Z"
   },
   {
    "duration": 595,
    "start_time": "2024-06-01T16:32:29.622Z"
   },
   {
    "duration": 5,
    "start_time": "2024-06-01T16:32:30.220Z"
   },
   {
    "duration": 123,
    "start_time": "2024-06-01T16:32:30.228Z"
   },
   {
    "duration": 34,
    "start_time": "2024-06-01T16:32:30.352Z"
   },
   {
    "duration": 47,
    "start_time": "2024-06-01T16:32:30.389Z"
   },
   {
    "duration": 74,
    "start_time": "2024-06-01T16:32:30.438Z"
   },
   {
    "duration": 782,
    "start_time": "2024-06-01T16:32:30.514Z"
   },
   {
    "duration": 57,
    "start_time": "2024-06-01T16:32:31.298Z"
   },
   {
    "duration": 1662,
    "start_time": "2024-06-01T16:32:31.356Z"
   },
   {
    "duration": 1406,
    "start_time": "2024-06-01T16:32:33.020Z"
   },
   {
    "duration": 1714,
    "start_time": "2024-06-01T16:32:34.428Z"
   },
   {
    "duration": 1959,
    "start_time": "2024-06-01T16:32:36.144Z"
   },
   {
    "duration": 2164,
    "start_time": "2024-06-01T16:32:38.104Z"
   },
   {
    "duration": 751,
    "start_time": "2024-06-01T16:32:40.279Z"
   },
   {
    "duration": 905,
    "start_time": "2024-06-01T16:32:41.031Z"
   },
   {
    "duration": 973,
    "start_time": "2024-06-01T16:32:41.937Z"
   },
   {
    "duration": 1233,
    "start_time": "2024-06-01T16:32:42.912Z"
   },
   {
    "duration": 2084,
    "start_time": "2024-06-01T16:32:44.148Z"
   },
   {
    "duration": 2179,
    "start_time": "2024-06-01T16:32:46.234Z"
   },
   {
    "duration": 2482,
    "start_time": "2024-06-01T16:32:48.414Z"
   },
   {
    "duration": 2248,
    "start_time": "2024-06-01T16:32:50.899Z"
   },
   {
    "duration": 1258,
    "start_time": "2024-06-01T19:39:41.138Z"
   },
   {
    "duration": 3,
    "start_time": "2024-06-01T19:39:42.398Z"
   },
   {
    "duration": 1261,
    "start_time": "2024-06-01T19:39:42.403Z"
   },
   {
    "duration": 291,
    "start_time": "2024-06-01T19:39:43.666Z"
   },
   {
    "duration": 72,
    "start_time": "2024-06-01T19:39:43.958Z"
   },
   {
    "duration": 166,
    "start_time": "2024-06-01T19:39:44.032Z"
   },
   {
    "duration": 49,
    "start_time": "2024-06-01T19:39:44.200Z"
   },
   {
    "duration": 6,
    "start_time": "2024-06-01T19:39:44.251Z"
   },
   {
    "duration": 7,
    "start_time": "2024-06-01T19:39:44.258Z"
   },
   {
    "duration": 14,
    "start_time": "2024-06-01T19:39:44.268Z"
   },
   {
    "duration": 9,
    "start_time": "2024-06-01T19:39:44.283Z"
   },
   {
    "duration": 18,
    "start_time": "2024-06-01T19:39:44.294Z"
   },
   {
    "duration": 17,
    "start_time": "2024-06-01T19:39:44.313Z"
   },
   {
    "duration": 20,
    "start_time": "2024-06-01T19:39:44.332Z"
   },
   {
    "duration": 11,
    "start_time": "2024-06-01T19:39:44.354Z"
   },
   {
    "duration": 453,
    "start_time": "2024-06-01T19:39:44.367Z"
   },
   {
    "duration": 3,
    "start_time": "2024-06-01T19:39:44.821Z"
   },
   {
    "duration": 56,
    "start_time": "2024-06-01T19:39:44.825Z"
   },
   {
    "duration": 33,
    "start_time": "2024-06-01T19:39:44.882Z"
   },
   {
    "duration": 18,
    "start_time": "2024-06-01T19:39:44.916Z"
   },
   {
    "duration": 18,
    "start_time": "2024-06-01T19:39:44.936Z"
   },
   {
    "duration": 519,
    "start_time": "2024-06-01T19:39:44.955Z"
   },
   {
    "duration": 42,
    "start_time": "2024-06-01T19:39:45.475Z"
   },
   {
    "duration": 1321,
    "start_time": "2024-06-01T19:39:45.519Z"
   },
   {
    "duration": 1101,
    "start_time": "2024-06-01T19:39:46.841Z"
   },
   {
    "duration": 1231,
    "start_time": "2024-06-01T19:39:47.943Z"
   },
   {
    "duration": 1211,
    "start_time": "2024-06-01T19:39:49.176Z"
   },
   {
    "duration": 1541,
    "start_time": "2024-06-01T19:39:50.390Z"
   },
   {
    "duration": 565,
    "start_time": "2024-06-01T19:39:51.932Z"
   },
   {
    "duration": 721,
    "start_time": "2024-06-01T19:39:52.499Z"
   },
   {
    "duration": 726,
    "start_time": "2024-06-01T19:39:53.221Z"
   },
   {
    "duration": 919,
    "start_time": "2024-06-01T19:39:53.949Z"
   },
   {
    "duration": 1601,
    "start_time": "2024-06-01T19:39:54.870Z"
   },
   {
    "duration": 1719,
    "start_time": "2024-06-01T19:39:56.472Z"
   },
   {
    "duration": 1946,
    "start_time": "2024-06-01T19:39:58.192Z"
   },
   {
    "duration": 1115,
    "start_time": "2024-06-01T20:37:12.289Z"
   },
   {
    "duration": 2,
    "start_time": "2024-06-01T20:37:13.406Z"
   },
   {
    "duration": 620,
    "start_time": "2024-06-01T20:37:13.411Z"
   },
   {
    "duration": 291,
    "start_time": "2024-06-01T20:37:14.033Z"
   },
   {
    "duration": 60,
    "start_time": "2024-06-01T20:37:14.326Z"
   },
   {
    "duration": 180,
    "start_time": "2024-06-01T20:37:14.388Z"
   },
   {
    "duration": 64,
    "start_time": "2024-06-01T20:37:14.570Z"
   },
   {
    "duration": 6,
    "start_time": "2024-06-01T20:37:14.636Z"
   },
   {
    "duration": 17,
    "start_time": "2024-06-01T20:37:14.643Z"
   },
   {
    "duration": 10,
    "start_time": "2024-06-01T20:37:14.662Z"
   },
   {
    "duration": 10,
    "start_time": "2024-06-01T20:37:14.674Z"
   },
   {
    "duration": 7,
    "start_time": "2024-06-01T20:37:14.685Z"
   },
   {
    "duration": 8,
    "start_time": "2024-06-01T20:37:14.694Z"
   },
   {
    "duration": 5,
    "start_time": "2024-06-01T20:37:14.712Z"
   },
   {
    "duration": 10,
    "start_time": "2024-06-01T20:37:14.718Z"
   },
   {
    "duration": 473,
    "start_time": "2024-06-01T20:37:14.729Z"
   },
   {
    "duration": 3,
    "start_time": "2024-06-01T20:37:15.203Z"
   },
   {
    "duration": 54,
    "start_time": "2024-06-01T20:37:15.211Z"
   },
   {
    "duration": 18,
    "start_time": "2024-06-01T20:37:15.266Z"
   },
   {
    "duration": 45,
    "start_time": "2024-06-01T20:37:15.285Z"
   },
   {
    "duration": 27,
    "start_time": "2024-06-01T20:37:15.331Z"
   },
   {
    "duration": 495,
    "start_time": "2024-06-01T20:37:15.359Z"
   },
   {
    "duration": 41,
    "start_time": "2024-06-01T20:37:15.855Z"
   },
   {
    "duration": 1229,
    "start_time": "2024-06-01T20:37:15.897Z"
   },
   {
    "duration": 1093,
    "start_time": "2024-06-01T20:37:17.128Z"
   },
   {
    "duration": 1222,
    "start_time": "2024-06-01T20:37:18.223Z"
   },
   {
    "duration": 1209,
    "start_time": "2024-06-01T20:37:19.446Z"
   },
   {
    "duration": 1567,
    "start_time": "2024-06-01T20:37:20.658Z"
   },
   {
    "duration": 579,
    "start_time": "2024-06-01T20:37:22.227Z"
   },
   {
    "duration": 749,
    "start_time": "2024-06-01T20:37:22.808Z"
   },
   {
    "duration": 701,
    "start_time": "2024-06-01T20:37:23.559Z"
   },
   {
    "duration": 909,
    "start_time": "2024-06-01T20:37:24.262Z"
   },
   {
    "duration": 1590,
    "start_time": "2024-06-01T20:37:25.172Z"
   },
   {
    "duration": 1633,
    "start_time": "2024-06-01T20:37:26.764Z"
   },
   {
    "duration": 1938,
    "start_time": "2024-06-01T20:37:28.398Z"
   },
   {
    "duration": 1077,
    "start_time": "2024-06-01T20:38:08.843Z"
   },
   {
    "duration": 3,
    "start_time": "2024-06-01T20:38:09.922Z"
   },
   {
    "duration": 577,
    "start_time": "2024-06-01T20:38:09.928Z"
   },
   {
    "duration": 294,
    "start_time": "2024-06-01T20:38:10.506Z"
   },
   {
    "duration": 63,
    "start_time": "2024-06-01T20:38:10.802Z"
   },
   {
    "duration": 174,
    "start_time": "2024-06-01T20:38:10.866Z"
   },
   {
    "duration": 49,
    "start_time": "2024-06-01T20:38:11.042Z"
   },
   {
    "duration": 5,
    "start_time": "2024-06-01T20:38:11.093Z"
   },
   {
    "duration": 13,
    "start_time": "2024-06-01T20:38:11.112Z"
   },
   {
    "duration": 8,
    "start_time": "2024-06-01T20:38:11.127Z"
   },
   {
    "duration": 9,
    "start_time": "2024-06-01T20:38:11.136Z"
   },
   {
    "duration": 5,
    "start_time": "2024-06-01T20:38:11.147Z"
   },
   {
    "duration": 14,
    "start_time": "2024-06-01T20:38:11.154Z"
   },
   {
    "duration": 13,
    "start_time": "2024-06-01T20:38:11.170Z"
   },
   {
    "duration": 18,
    "start_time": "2024-06-01T20:38:11.185Z"
   },
   {
    "duration": 460,
    "start_time": "2024-06-01T20:38:11.204Z"
   },
   {
    "duration": 3,
    "start_time": "2024-06-01T20:38:11.666Z"
   },
   {
    "duration": 61,
    "start_time": "2024-06-01T20:38:11.670Z"
   },
   {
    "duration": 18,
    "start_time": "2024-06-01T20:38:11.732Z"
   },
   {
    "duration": 19,
    "start_time": "2024-06-01T20:38:11.751Z"
   },
   {
    "duration": 28,
    "start_time": "2024-06-01T20:38:11.771Z"
   },
   {
    "duration": 479,
    "start_time": "2024-06-01T20:38:11.811Z"
   },
   {
    "duration": 41,
    "start_time": "2024-06-01T20:38:12.292Z"
   },
   {
    "duration": 1311,
    "start_time": "2024-06-01T20:38:12.334Z"
   },
   {
    "duration": 1080,
    "start_time": "2024-06-01T20:38:13.646Z"
   },
   {
    "duration": 1198,
    "start_time": "2024-06-01T20:38:14.728Z"
   },
   {
    "duration": 1170,
    "start_time": "2024-06-01T20:38:15.929Z"
   },
   {
    "duration": 1595,
    "start_time": "2024-06-01T20:38:17.100Z"
   },
   {
    "duration": 591,
    "start_time": "2024-06-01T20:38:18.697Z"
   },
   {
    "duration": 690,
    "start_time": "2024-06-01T20:38:19.289Z"
   },
   {
    "duration": 1181,
    "start_time": "2024-06-01T20:38:19.980Z"
   },
   {
    "duration": 1047,
    "start_time": "2024-06-01T20:38:21.212Z"
   },
   {
    "duration": 2035,
    "start_time": "2024-06-01T20:38:22.261Z"
   },
   {
    "duration": 1704,
    "start_time": "2024-06-01T20:38:24.298Z"
   },
   {
    "duration": 2208,
    "start_time": "2024-06-01T20:38:26.004Z"
   }
  ],
  "colab": {
   "provenance": []
  },
  "kernelspec": {
   "display_name": "Python 3 (ipykernel)",
   "language": "python",
   "name": "python3"
  },
  "language_info": {
   "codemirror_mode": {
    "name": "ipython",
    "version": 3
   },
   "file_extension": ".py",
   "mimetype": "text/x-python",
   "name": "python",
   "nbconvert_exporter": "python",
   "pygments_lexer": "ipython3",
   "version": "3.12.4"
  },
  "toc": {
   "base_numbering": 1,
   "nav_menu": {
    "height": "169.757px",
    "width": "493.351px"
   },
   "number_sections": true,
   "sideBar": true,
   "skip_h1_title": true,
   "title_cell": "Table of Contents",
   "title_sidebar": "Contents",
   "toc_cell": false,
   "toc_position": {},
   "toc_section_display": true,
   "toc_window_display": false
  }
 },
 "nbformat": 4,
 "nbformat_minor": 4
}
